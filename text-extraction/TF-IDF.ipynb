{
 "cells": [
  {
   "cell_type": "code",
   "execution_count": 2,
   "metadata": {
    "collapsed": true,
    "pycharm": {
     "is_executing": false
    }
   },
   "outputs": [],
   "source": [
    "import pandas as pd \n",
    "import re \n",
    "import numpy as np \n",
    "import pysrt \n",
    "import seaborn as sns"
   ]
  },
  {
   "cell_type": "markdown",
   "source": [
    "## Extract the labels and the data and create a dataframe from it"
   ],
   "metadata": {
    "collapsed": false
   }
  },
  {
   "cell_type": "code",
   "execution_count": 3,
   "outputs": [],
   "source": [
    "document = pysrt.open(path='EasyMovie/text-eng.srt')"
   ],
   "metadata": {
    "collapsed": false,
    "pycharm": {
     "name": "#%%\n",
     "is_executing": false
    }
   }
  },
  {
   "cell_type": "code",
   "execution_count": 4,
   "outputs": [
    {
     "data": {
      "text/plain": "'This week we are going one step further into the product teams organization'"
     },
     "metadata": {},
     "output_type": "execute_result",
     "execution_count": 4
    }
   ],
   "source": [
    "document[0].text"
   ],
   "metadata": {
    "collapsed": false,
    "pycharm": {
     "name": "#%%\n",
     "is_executing": false
    }
   }
  },
  {
   "cell_type": "markdown",
   "source": [
    "We need  to convert the text in list of texte or raw document format \n",
    "exp : [\"text\", \"text\", \"text\"]"
   ],
   "metadata": {
    "collapsed": false
   }
  },
  {
   "cell_type": "code",
   "execution_count": 5,
   "outputs": [],
   "source": [
    "text = [doc.text for doc in document]"
   ],
   "metadata": {
    "collapsed": false,
    "pycharm": {
     "name": "#%%\n",
     "is_executing": false
    }
   }
  },
  {
   "cell_type": "code",
   "execution_count": 6,
   "outputs": [
    {
     "name": "stdout",
     "text": [
      "['This week we are going one step further into the product teams organization', 'with first, the video that will follow, and', 'and weekly meetings for each product teams.', 'So this week with the CREATE team we have been focusing on', 'the graphical charts', 'redesign and we will begin next week with a', 'technical redesign.', 'On the MANAGE team, we focused on the hierarchy between accounts', 'and this is the start of the work on organizing accounts', 'in EasyMovie. I really need you CSMs so', 'so answer my questions on Slack.', 'so this week for the PROMOTE team it was the beginning of', \"this week's project about Dr Quinn video so stay\", 'Stay tuned!', 'Hi guys my priority of the week was to try and create a new process for the product team', 'to establish the product roadmap', 'so that it’s a more collaborative process with the CSMs.', 'so CSMs, you’ll be hearing from me very soon.']\n"
     ],
     "output_type": "stream"
    }
   ],
   "source": [
    "print(text)\n",
    "\n"
   ],
   "metadata": {
    "collapsed": false,
    "pycharm": {
     "name": "#%%\n",
     "is_executing": false
    }
   }
  },
  {
   "cell_type": "code",
   "execution_count": 7,
   "outputs": [],
   "source": [
    "df = pd.DataFrame(data={'name':['W42'], 'text':[text], 'template':[\"Product Weekly News\"]})"
   ],
   "metadata": {
    "collapsed": false,
    "pycharm": {
     "name": "#%%\n",
     "is_executing": false
    }
   }
  },
  {
   "cell_type": "code",
   "execution_count": 8,
   "outputs": [
    {
     "data": {
      "text/plain": "  name                                               text             template\n0  W42  [This week we are going one step further into ...  Product Weekly News",
      "text/html": "<div>\n<style scoped>\n    .dataframe tbody tr th:only-of-type {\n        vertical-align: middle;\n    }\n\n    .dataframe tbody tr th {\n        vertical-align: top;\n    }\n\n    .dataframe thead th {\n        text-align: right;\n    }\n</style>\n<table border=\"1\" class=\"dataframe\">\n  <thead>\n    <tr style=\"text-align: right;\">\n      <th></th>\n      <th>name</th>\n      <th>text</th>\n      <th>template</th>\n    </tr>\n  </thead>\n  <tbody>\n    <tr>\n      <td>0</td>\n      <td>W42</td>\n      <td>[This week we are going one step further into ...</td>\n      <td>Product Weekly News</td>\n    </tr>\n  </tbody>\n</table>\n</div>"
     },
     "metadata": {},
     "output_type": "execute_result",
     "execution_count": 8
    }
   ],
   "source": [
    "\n",
    "df.head()\n",
    "\n",
    "\n"
   ],
   "metadata": {
    "collapsed": false,
    "pycharm": {
     "name": "#%%\n",
     "is_executing": false
    }
   }
  },
  {
   "cell_type": "markdown",
   "source": [
    "\n",
    "For this vieo I don't use the rtf format that contains all the metadata because I don't know if we are going\n",
    "to use it in the future. \n",
    "* If it's the case we need to know if the data will be store in a directory by template ? \n",
    "* If it's \"srt\" format the data must be split in directory by template type. (I think)\n",
    "* If it's \"srt\" format the name of the video should be the name of the file."
   ],
   "metadata": {
    "collapsed": false
   }
  },
  {
   "cell_type": "markdown",
   "source": [
    "\n",
    "# Feature extraction"
   ],
   "metadata": {
    "collapsed": false
   }
  },
  {
   "cell_type": "code",
   "execution_count": 9,
   "outputs": [],
   "source": [
    "from sklearn.feature_extraction.text import CountVectorizer"
   ],
   "metadata": {
    "collapsed": false,
    "pycharm": {
     "name": "#%%\n",
     "is_executing": false
    }
   }
  },
  {
   "cell_type": "markdown",
   "source": [
    "With the count vectorizer we extract the vocabulary from of the texe "
   ],
   "metadata": {
    "collapsed": false
   }
  },
  {
   "cell_type": "code",
   "execution_count": 10,
   "outputs": [
    {
     "data": {
      "text/plain": "<18x85 sparse matrix of type '<class 'numpy.int64'>'\n\twith 148 stored elements in Compressed Sparse Row format>"
     },
     "metadata": {},
     "output_type": "execute_result",
     "execution_count": 10
    }
   ],
   "source": [
    "text_studied = df.iloc[0, 1]\n",
    "count_vec = CountVectorizer()\n",
    "count_vec._validate_vocabulary()\n",
    "text_vectized = count_vec.fit_transform(text_studied)\n",
    "text_vectized"
   ],
   "metadata": {
    "collapsed": false,
    "pycharm": {
     "name": "#%%\n",
     "is_executing": false
    }
   }
  },
  {
   "cell_type": "code",
   "execution_count": 11,
   "outputs": [
    {
     "data": {
      "text/plain": "['about',\n 'accounts',\n 'and',\n 'answer',\n 'are',\n 'be',\n 'been',\n 'begin',\n 'beginning',\n 'between',\n 'charts',\n 'collaborative',\n 'create',\n 'csms',\n 'dr',\n 'each',\n 'easymovie',\n 'establish',\n 'first',\n 'focused',\n 'focusing',\n 'follow',\n 'for',\n 'from',\n 'further',\n 'going',\n 'graphical',\n 'guys',\n 'have',\n 'hearing',\n 'hi',\n 'hierarchy',\n 'in',\n 'into',\n 'is',\n 'it',\n 'll',\n 'manage',\n 'me',\n 'meetings',\n 'more',\n 'my',\n 'need',\n 'new',\n 'next',\n 'of',\n 'on',\n 'one',\n 'organization',\n 'organizing',\n 'priority',\n 'process',\n 'product',\n 'project',\n 'promote',\n 'questions',\n 'quinn',\n 'really',\n 'redesign',\n 'roadmap',\n 'slack',\n 'so',\n 'soon',\n 'start',\n 'stay',\n 'step',\n 'team',\n 'teams',\n 'technical',\n 'that',\n 'the',\n 'this',\n 'to',\n 'try',\n 'tuned',\n 'very',\n 'video',\n 'was',\n 'we',\n 'week',\n 'weekly',\n 'will',\n 'with',\n 'work',\n 'you']"
     },
     "metadata": {},
     "output_type": "execute_result",
     "execution_count": 11
    }
   ],
   "source": [
    "count_vec.get_feature_names()\n"
   ],
   "metadata": {
    "collapsed": false,
    "pycharm": {
     "name": "#%%\n",
     "is_executing": false
    }
   }
  },
  {
   "cell_type": "code",
   "execution_count": 12,
   "outputs": [
    {
     "data": {
      "text/plain": "{'about': 0,\n 'accounts': 1,\n 'and': 2,\n 'answer': 3,\n 'are': 4,\n 'be': 5,\n 'been': 6,\n 'begin': 7,\n 'beginning': 8,\n 'between': 9,\n 'charts': 10,\n 'collaborative': 11,\n 'create': 12,\n 'csms': 13,\n 'dr': 14,\n 'each': 15,\n 'easymovie': 16,\n 'establish': 17,\n 'first': 18,\n 'focused': 19,\n 'focusing': 20,\n 'follow': 21,\n 'for': 22,\n 'from': 23,\n 'further': 24,\n 'going': 25,\n 'graphical': 26,\n 'guys': 27,\n 'have': 28,\n 'hearing': 29,\n 'hi': 30,\n 'hierarchy': 31,\n 'in': 32,\n 'into': 33,\n 'is': 34,\n 'it': 35,\n 'll': 36,\n 'manage': 37,\n 'me': 38,\n 'meetings': 39,\n 'more': 40,\n 'my': 41,\n 'need': 42,\n 'new': 43,\n 'next': 44,\n 'of': 45,\n 'on': 46,\n 'one': 47,\n 'organization': 48,\n 'organizing': 49,\n 'priority': 50,\n 'process': 51,\n 'product': 52,\n 'project': 53,\n 'promote': 54,\n 'questions': 55,\n 'quinn': 56,\n 'really': 57,\n 'redesign': 58,\n 'roadmap': 59,\n 'slack': 60,\n 'so': 61,\n 'soon': 62,\n 'start': 63,\n 'stay': 64,\n 'step': 65,\n 'team': 66,\n 'teams': 67,\n 'technical': 68,\n 'that': 69,\n 'the': 70,\n 'this': 71,\n 'to': 72,\n 'try': 73,\n 'tuned': 74,\n 'very': 75,\n 'video': 76,\n 'was': 77,\n 'we': 78,\n 'week': 79,\n 'weekly': 80,\n 'will': 81,\n 'with': 82,\n 'work': 83,\n 'you': 84}"
     },
     "metadata": {},
     "output_type": "execute_result",
     "execution_count": 12
    }
   ],
   "source": [
    "count_vec.vocabulary_"
   ],
   "metadata": {
    "collapsed": false,
    "pycharm": {
     "name": "#%%\n",
     "is_executing": false
    }
   }
  },
  {
   "cell_type": "markdown",
   "source": [
    "\n",
    "# TF-IDF\n",
    "\n",
    "we need to compute the frequency of word in the document and give more importance meaningful term  reduce \n",
    "the importance of words like 'the', 'of'. \n",
    "\n",
    "TF-IDF \n",
    "\n",
    "* compute TF = 1 / terme-frequency \n",
    "* IDF = log(total_number_of_document / frequncy_of_word_in_document)\n",
    "* tf-idf = TF * IDF "
   ],
   "metadata": {
    "collapsed": false
   }
  },
  {
   "cell_type": "code",
   "execution_count": 13,
   "outputs": [],
   "source": [
    "from sklearn.feature_extraction.text import TfidfVectorizer\n",
    "\n",
    "tfidf_vectorizer = TfidfVectorizer()\n",
    "tfidf_features = tfidf_vectorizer.fit_transform(text)"
   ],
   "metadata": {
    "collapsed": false,
    "pycharm": {
     "name": "#%%\n",
     "is_executing": false
    }
   }
  },
  {
   "cell_type": "code",
   "execution_count": 14,
   "outputs": [
    {
     "data": {
      "text/plain": "                                                       about  accounts  \\\nThis week we are going one step further into th...  0.000000  0.000000   \nwith first, the video that will follow, and         0.000000  0.000000   \nand weekly meetings for each product teams.         0.000000  0.000000   \nSo this week with the CREATE team we have been ...  0.000000  0.000000   \nthe graphical charts                                0.000000  0.000000   \nredesign and we will begin next week with a         0.000000  0.000000   \ntechnical redesign.                                 0.000000  0.000000   \nOn the MANAGE team, we focused on the hierarchy...  0.000000  0.295635   \nand this is the start of the work on organizing...  0.000000  0.315786   \nin EasyMovie. I really need you CSMs so             0.000000  0.000000   \nso answer my questions on Slack.                    0.000000  0.000000   \nso this week for the PROMOTE team it was the be...  0.000000  0.000000   \nthis week's project about Dr Quinn video so stay    0.386983  0.000000   \nStay tuned!                                         0.000000  0.000000   \nHi guys my priority of the week was to try and ...  0.000000  0.000000   \nto establish the product roadmap                    0.000000  0.000000   \nso that it’s a more collaborative process with ...  0.000000  0.000000   \nso CSMs, you’ll be hearing from me very soon.       0.000000  0.000000   \n\n                                                         and    answer  \\\nThis week we are going one step further into th...  0.000000  0.000000   \nwith first, the video that will follow, and         0.282865  0.000000   \nand weekly meetings for each product teams.         0.286536  0.000000   \nSo this week with the CREATE team we have been ...  0.000000  0.000000   \nthe graphical charts                                0.000000  0.000000   \nredesign and we will begin next week with a         0.285450  0.000000   \ntechnical redesign.                                 0.000000  0.000000   \nOn the MANAGE team, we focused on the hierarchy...  0.000000  0.000000   \nand this is the start of the work on organizing...  0.238871  0.000000   \nin EasyMovie. I really need you CSMs so             0.000000  0.000000   \nso answer my questions on Slack.                    0.000000  0.465699   \nso this week for the PROMOTE team it was the be...  0.000000  0.000000   \nthis week's project about Dr Quinn video so stay    0.000000  0.000000   \nStay tuned!                                         0.000000  0.000000   \nHi guys my priority of the week was to try and ...  0.184906  0.000000   \nto establish the product roadmap                    0.000000  0.000000   \nso that it’s a more collaborative process with ...  0.000000  0.000000   \nso CSMs, you’ll be hearing from me very soon.       0.000000  0.000000   \n\n                                                         are        be  \\\nThis week we are going one step further into th...  0.318786  0.000000   \nwith first, the video that will follow, and         0.000000  0.000000   \nand weekly meetings for each product teams.         0.000000  0.000000   \nSo this week with the CREATE team we have been ...  0.000000  0.000000   \nthe graphical charts                                0.000000  0.000000   \nredesign and we will begin next week with a         0.000000  0.000000   \ntechnical redesign.                                 0.000000  0.000000   \nOn the MANAGE team, we focused on the hierarchy...  0.000000  0.000000   \nand this is the start of the work on organizing...  0.000000  0.000000   \nin EasyMovie. I really need you CSMs so             0.000000  0.000000   \nso answer my questions on Slack.                    0.000000  0.000000   \nso this week for the PROMOTE team it was the be...  0.000000  0.000000   \nthis week's project about Dr Quinn video so stay    0.000000  0.000000   \nStay tuned!                                         0.000000  0.000000   \nHi guys my priority of the week was to try and ...  0.000000  0.000000   \nto establish the product roadmap                    0.000000  0.000000   \nso that it’s a more collaborative process with ...  0.000000  0.000000   \nso CSMs, you’ll be hearing from me very soon.       0.000000  0.338755   \n\n                                                        been     begin  \\\nThis week we are going one step further into th...  0.000000  0.000000   \nwith first, the video that will follow, and         0.000000  0.000000   \nand weekly meetings for each product teams.         0.000000  0.000000   \nSo this week with the CREATE team we have been ...  0.372658  0.000000   \nthe graphical charts                                0.000000  0.000000   \nredesign and we will begin next week with a         0.000000  0.431129   \ntechnical redesign.                                 0.000000  0.000000   \nOn the MANAGE team, we focused on the hierarchy...  0.000000  0.000000   \nand this is the start of the work on organizing...  0.000000  0.000000   \nin EasyMovie. I really need you CSMs so             0.000000  0.000000   \nso answer my questions on Slack.                    0.000000  0.000000   \nso this week for the PROMOTE team it was the be...  0.000000  0.000000   \nthis week's project about Dr Quinn video so stay    0.000000  0.000000   \nStay tuned!                                         0.000000  0.000000   \nHi guys my priority of the week was to try and ...  0.000000  0.000000   \nto establish the product roadmap                    0.000000  0.000000   \nso that it’s a more collaborative process with ...  0.000000  0.000000   \nso CSMs, you’ll be hearing from me very soon.       0.000000  0.000000   \n\n                                                    beginning   between  ...  \\\nThis week we are going one step further into th...   0.000000  0.000000  ...   \nwith first, the video that will follow, and          0.000000  0.000000  ...   \nand weekly meetings for each product teams.          0.000000  0.000000  ...   \nSo this week with the CREATE team we have been ...   0.000000  0.000000  ...   \nthe graphical charts                                 0.000000  0.000000  ...   \nredesign and we will begin next week with a          0.000000  0.000000  ...   \ntechnical redesign.                                  0.000000  0.000000  ...   \nOn the MANAGE team, we focused on the hierarchy...   0.000000  0.337756  ...   \nand this is the start of the work on organizing...   0.000000  0.000000  ...   \nin EasyMovie. I really need you CSMs so              0.000000  0.000000  ...   \nso answer my questions on Slack.                     0.000000  0.000000  ...   \nso this week for the PROMOTE team it was the be...   0.369195  0.000000  ...   \nthis week's project about Dr Quinn video so stay     0.000000  0.000000  ...   \nStay tuned!                                          0.000000  0.000000  ...   \nHi guys my priority of the week was to try and ...   0.000000  0.000000  ...   \nto establish the product roadmap                     0.000000  0.000000  ...   \nso that it’s a more collaborative process with ...   0.000000  0.000000  ...   \nso CSMs, you’ll be hearing from me very soon.        0.000000  0.000000  ...   \n\n                                                        very     video  \\\nThis week we are going one step further into th...  0.000000  0.000000   \nwith first, the video that will follow, and         0.000000  0.373946   \nand weekly meetings for each product teams.         0.000000  0.000000   \nSo this week with the CREATE team we have been ...  0.000000  0.000000   \nthe graphical charts                                0.000000  0.000000   \nredesign and we will begin next week with a         0.000000  0.000000   \ntechnical redesign.                                 0.000000  0.000000   \nOn the MANAGE team, we focused on the hierarchy...  0.000000  0.000000   \nand this is the start of the work on organizing...  0.000000  0.000000   \nin EasyMovie. I really need you CSMs so             0.000000  0.000000   \nso answer my questions on Slack.                    0.000000  0.000000   \nso this week for the PROMOTE team it was the be...  0.000000  0.000000   \nthis week's project about Dr Quinn video so stay    0.000000  0.338723   \nStay tuned!                                         0.000000  0.000000   \nHi guys my priority of the week was to try and ...  0.000000  0.000000   \nto establish the product roadmap                    0.000000  0.000000   \nso that it’s a more collaborative process with ...  0.000000  0.000000   \nso CSMs, you’ll be hearing from me very soon.       0.338755  0.000000   \n\n                                                         was        we  \\\nThis week we are going one step further into th...  0.000000  0.228944   \nwith first, the video that will follow, and         0.000000  0.000000   \nand weekly meetings for each product teams.         0.000000  0.000000   \nSo this week with the CREATE team we have been ...  0.000000  0.267634   \nthe graphical charts                                0.000000  0.000000   \nredesign and we will begin next week with a         0.000000  0.309627   \ntechnical redesign.                                 0.000000  0.000000   \nOn the MANAGE team, we focused on the hierarchy...  0.000000  0.242568   \nand this is the start of the work on organizing...  0.000000  0.000000   \nin EasyMovie. I really need you CSMs so             0.000000  0.000000   \nso answer my questions on Slack.                    0.000000  0.000000   \nso this week for the PROMOTE team it was the be...  0.323153  0.000000   \nthis week's project about Dr Quinn video so stay    0.000000  0.000000   \nStay tuned!                                         0.000000  0.000000   \nHi guys my priority of the week was to try and ...  0.244445  0.000000   \nto establish the product roadmap                    0.000000  0.000000   \nso that it’s a more collaborative process with ...  0.000000  0.000000   \nso CSMs, you’ll be hearing from me very soon.       0.000000  0.000000   \n\n                                                        week    weekly  \\\nThis week we are going one step further into th...  0.195954  0.000000   \nwith first, the video that will follow, and         0.000000  0.000000   \nand weekly meetings for each product teams.         0.000000  0.432768   \nSo this week with the CREATE team we have been ...  0.229068  0.000000   \nthe graphical charts                                0.000000  0.000000   \nredesign and we will begin next week with a         0.265010  0.000000   \ntechnical redesign.                                 0.000000  0.000000   \nOn the MANAGE team, we focused on the hierarchy...  0.000000  0.000000   \nand this is the start of the work on organizing...  0.000000  0.000000   \nin EasyMovie. I really need you CSMs so             0.000000  0.000000   \nso answer my questions on Slack.                    0.000000  0.000000   \nso this week for the PROMOTE team it was the be...  0.226940  0.000000   \nthis week's project about Dr Quinn video so stay    0.237874  0.000000   \nStay tuned!                                         0.000000  0.000000   \nHi guys my priority of the week was to try and ...  0.171665  0.000000   \nto establish the product roadmap                    0.000000  0.000000   \nso that it’s a more collaborative process with ...  0.000000  0.000000   \nso CSMs, you’ll be hearing from me very soon.       0.000000  0.000000   \n\n                                                        will      with  \\\nThis week we are going one step further into th...  0.000000  0.000000   \nwith first, the video that will follow, and         0.373946  0.306823   \nand weekly meetings for each product teams.         0.000000  0.000000   \nSo this week with the CREATE team we have been ...  0.000000  0.267634   \nthe graphical charts                                0.000000  0.000000   \nredesign and we will begin next week with a         0.377363  0.309627   \ntechnical redesign.                                 0.000000  0.000000   \nOn the MANAGE team, we focused on the hierarchy...  0.000000  0.000000   \nand this is the start of the work on organizing...  0.000000  0.000000   \nin EasyMovie. I really need you CSMs so             0.000000  0.000000   \nso answer my questions on Slack.                    0.000000  0.000000   \nso this week for the PROMOTE team it was the be...  0.000000  0.000000   \nthis week's project about Dr Quinn video so stay    0.000000  0.000000   \nStay tuned!                                         0.000000  0.000000   \nHi guys my priority of the week was to try and ...  0.000000  0.000000   \nto establish the product roadmap                    0.000000  0.000000   \nso that it’s a more collaborative process with ...  0.000000  0.293474   \nso CSMs, you’ll be hearing from me very soon.       0.000000  0.000000   \n\n                                                        work       you  \nThis week we are going one step further into th...  0.000000  0.000000  \nwith first, the video that will follow, and         0.000000  0.000000  \nand weekly meetings for each product teams.         0.000000  0.000000  \nSo this week with the CREATE team we have been ...  0.000000  0.000000  \nthe graphical charts                                0.000000  0.000000  \nredesign and we will begin next week with a         0.000000  0.000000  \ntechnical redesign.                                 0.000000  0.000000  \nOn the MANAGE team, we focused on the hierarchy...  0.000000  0.000000  \nand this is the start of the work on organizing...  0.360779  0.000000  \nin EasyMovie. I really need you CSMs so             0.000000  0.366162  \nso answer my questions on Slack.                    0.000000  0.000000  \nso this week for the PROMOTE team it was the be...  0.000000  0.000000  \nthis week's project about Dr Quinn video so stay    0.000000  0.000000  \nStay tuned!                                         0.000000  0.000000  \nHi guys my priority of the week was to try and ...  0.000000  0.000000  \nto establish the product roadmap                    0.000000  0.000000  \nso that it’s a more collaborative process with ...  0.000000  0.000000  \nso CSMs, you’ll be hearing from me very soon.       0.000000  0.296509  \n\n[18 rows x 85 columns]",
      "text/html": "<div>\n<style scoped>\n    .dataframe tbody tr th:only-of-type {\n        vertical-align: middle;\n    }\n\n    .dataframe tbody tr th {\n        vertical-align: top;\n    }\n\n    .dataframe thead th {\n        text-align: right;\n    }\n</style>\n<table border=\"1\" class=\"dataframe\">\n  <thead>\n    <tr style=\"text-align: right;\">\n      <th></th>\n      <th>about</th>\n      <th>accounts</th>\n      <th>and</th>\n      <th>answer</th>\n      <th>are</th>\n      <th>be</th>\n      <th>been</th>\n      <th>begin</th>\n      <th>beginning</th>\n      <th>between</th>\n      <th>...</th>\n      <th>very</th>\n      <th>video</th>\n      <th>was</th>\n      <th>we</th>\n      <th>week</th>\n      <th>weekly</th>\n      <th>will</th>\n      <th>with</th>\n      <th>work</th>\n      <th>you</th>\n    </tr>\n  </thead>\n  <tbody>\n    <tr>\n      <td>This week we are going one step further into the product teams organization</td>\n      <td>0.000000</td>\n      <td>0.000000</td>\n      <td>0.000000</td>\n      <td>0.000000</td>\n      <td>0.318786</td>\n      <td>0.000000</td>\n      <td>0.000000</td>\n      <td>0.000000</td>\n      <td>0.000000</td>\n      <td>0.000000</td>\n      <td>...</td>\n      <td>0.000000</td>\n      <td>0.000000</td>\n      <td>0.000000</td>\n      <td>0.228944</td>\n      <td>0.195954</td>\n      <td>0.000000</td>\n      <td>0.000000</td>\n      <td>0.000000</td>\n      <td>0.000000</td>\n      <td>0.000000</td>\n    </tr>\n    <tr>\n      <td>with first, the video that will follow, and</td>\n      <td>0.000000</td>\n      <td>0.000000</td>\n      <td>0.282865</td>\n      <td>0.000000</td>\n      <td>0.000000</td>\n      <td>0.000000</td>\n      <td>0.000000</td>\n      <td>0.000000</td>\n      <td>0.000000</td>\n      <td>0.000000</td>\n      <td>...</td>\n      <td>0.000000</td>\n      <td>0.373946</td>\n      <td>0.000000</td>\n      <td>0.000000</td>\n      <td>0.000000</td>\n      <td>0.000000</td>\n      <td>0.373946</td>\n      <td>0.306823</td>\n      <td>0.000000</td>\n      <td>0.000000</td>\n    </tr>\n    <tr>\n      <td>and weekly meetings for each product teams.</td>\n      <td>0.000000</td>\n      <td>0.000000</td>\n      <td>0.286536</td>\n      <td>0.000000</td>\n      <td>0.000000</td>\n      <td>0.000000</td>\n      <td>0.000000</td>\n      <td>0.000000</td>\n      <td>0.000000</td>\n      <td>0.000000</td>\n      <td>...</td>\n      <td>0.000000</td>\n      <td>0.000000</td>\n      <td>0.000000</td>\n      <td>0.000000</td>\n      <td>0.000000</td>\n      <td>0.432768</td>\n      <td>0.000000</td>\n      <td>0.000000</td>\n      <td>0.000000</td>\n      <td>0.000000</td>\n    </tr>\n    <tr>\n      <td>So this week with the CREATE team we have been focusing on</td>\n      <td>0.000000</td>\n      <td>0.000000</td>\n      <td>0.000000</td>\n      <td>0.000000</td>\n      <td>0.000000</td>\n      <td>0.000000</td>\n      <td>0.372658</td>\n      <td>0.000000</td>\n      <td>0.000000</td>\n      <td>0.000000</td>\n      <td>...</td>\n      <td>0.000000</td>\n      <td>0.000000</td>\n      <td>0.000000</td>\n      <td>0.267634</td>\n      <td>0.229068</td>\n      <td>0.000000</td>\n      <td>0.000000</td>\n      <td>0.267634</td>\n      <td>0.000000</td>\n      <td>0.000000</td>\n    </tr>\n    <tr>\n      <td>the graphical charts</td>\n      <td>0.000000</td>\n      <td>0.000000</td>\n      <td>0.000000</td>\n      <td>0.000000</td>\n      <td>0.000000</td>\n      <td>0.000000</td>\n      <td>0.000000</td>\n      <td>0.000000</td>\n      <td>0.000000</td>\n      <td>0.000000</td>\n      <td>...</td>\n      <td>0.000000</td>\n      <td>0.000000</td>\n      <td>0.000000</td>\n      <td>0.000000</td>\n      <td>0.000000</td>\n      <td>0.000000</td>\n      <td>0.000000</td>\n      <td>0.000000</td>\n      <td>0.000000</td>\n      <td>0.000000</td>\n    </tr>\n    <tr>\n      <td>redesign and we will begin next week with a</td>\n      <td>0.000000</td>\n      <td>0.000000</td>\n      <td>0.285450</td>\n      <td>0.000000</td>\n      <td>0.000000</td>\n      <td>0.000000</td>\n      <td>0.000000</td>\n      <td>0.431129</td>\n      <td>0.000000</td>\n      <td>0.000000</td>\n      <td>...</td>\n      <td>0.000000</td>\n      <td>0.000000</td>\n      <td>0.000000</td>\n      <td>0.309627</td>\n      <td>0.265010</td>\n      <td>0.000000</td>\n      <td>0.377363</td>\n      <td>0.309627</td>\n      <td>0.000000</td>\n      <td>0.000000</td>\n    </tr>\n    <tr>\n      <td>technical redesign.</td>\n      <td>0.000000</td>\n      <td>0.000000</td>\n      <td>0.000000</td>\n      <td>0.000000</td>\n      <td>0.000000</td>\n      <td>0.000000</td>\n      <td>0.000000</td>\n      <td>0.000000</td>\n      <td>0.000000</td>\n      <td>0.000000</td>\n      <td>...</td>\n      <td>0.000000</td>\n      <td>0.000000</td>\n      <td>0.000000</td>\n      <td>0.000000</td>\n      <td>0.000000</td>\n      <td>0.000000</td>\n      <td>0.000000</td>\n      <td>0.000000</td>\n      <td>0.000000</td>\n      <td>0.000000</td>\n    </tr>\n    <tr>\n      <td>On the MANAGE team, we focused on the hierarchy between accounts</td>\n      <td>0.000000</td>\n      <td>0.295635</td>\n      <td>0.000000</td>\n      <td>0.000000</td>\n      <td>0.000000</td>\n      <td>0.000000</td>\n      <td>0.000000</td>\n      <td>0.000000</td>\n      <td>0.000000</td>\n      <td>0.337756</td>\n      <td>...</td>\n      <td>0.000000</td>\n      <td>0.000000</td>\n      <td>0.000000</td>\n      <td>0.242568</td>\n      <td>0.000000</td>\n      <td>0.000000</td>\n      <td>0.000000</td>\n      <td>0.000000</td>\n      <td>0.000000</td>\n      <td>0.000000</td>\n    </tr>\n    <tr>\n      <td>and this is the start of the work on organizing accounts</td>\n      <td>0.000000</td>\n      <td>0.315786</td>\n      <td>0.238871</td>\n      <td>0.000000</td>\n      <td>0.000000</td>\n      <td>0.000000</td>\n      <td>0.000000</td>\n      <td>0.000000</td>\n      <td>0.000000</td>\n      <td>0.000000</td>\n      <td>...</td>\n      <td>0.000000</td>\n      <td>0.000000</td>\n      <td>0.000000</td>\n      <td>0.000000</td>\n      <td>0.000000</td>\n      <td>0.000000</td>\n      <td>0.000000</td>\n      <td>0.000000</td>\n      <td>0.360779</td>\n      <td>0.000000</td>\n    </tr>\n    <tr>\n      <td>in EasyMovie. I really need you CSMs so</td>\n      <td>0.000000</td>\n      <td>0.000000</td>\n      <td>0.000000</td>\n      <td>0.000000</td>\n      <td>0.000000</td>\n      <td>0.000000</td>\n      <td>0.000000</td>\n      <td>0.000000</td>\n      <td>0.000000</td>\n      <td>0.000000</td>\n      <td>...</td>\n      <td>0.000000</td>\n      <td>0.000000</td>\n      <td>0.000000</td>\n      <td>0.000000</td>\n      <td>0.000000</td>\n      <td>0.000000</td>\n      <td>0.000000</td>\n      <td>0.000000</td>\n      <td>0.000000</td>\n      <td>0.366162</td>\n    </tr>\n    <tr>\n      <td>so answer my questions on Slack.</td>\n      <td>0.000000</td>\n      <td>0.000000</td>\n      <td>0.000000</td>\n      <td>0.465699</td>\n      <td>0.000000</td>\n      <td>0.000000</td>\n      <td>0.000000</td>\n      <td>0.000000</td>\n      <td>0.000000</td>\n      <td>0.000000</td>\n      <td>...</td>\n      <td>0.000000</td>\n      <td>0.000000</td>\n      <td>0.000000</td>\n      <td>0.000000</td>\n      <td>0.000000</td>\n      <td>0.000000</td>\n      <td>0.000000</td>\n      <td>0.000000</td>\n      <td>0.000000</td>\n      <td>0.000000</td>\n    </tr>\n    <tr>\n      <td>so this week for the PROMOTE team it was the beginning of</td>\n      <td>0.000000</td>\n      <td>0.000000</td>\n      <td>0.000000</td>\n      <td>0.000000</td>\n      <td>0.000000</td>\n      <td>0.000000</td>\n      <td>0.000000</td>\n      <td>0.000000</td>\n      <td>0.369195</td>\n      <td>0.000000</td>\n      <td>...</td>\n      <td>0.000000</td>\n      <td>0.000000</td>\n      <td>0.323153</td>\n      <td>0.000000</td>\n      <td>0.226940</td>\n      <td>0.000000</td>\n      <td>0.000000</td>\n      <td>0.000000</td>\n      <td>0.000000</td>\n      <td>0.000000</td>\n    </tr>\n    <tr>\n      <td>this week's project about Dr Quinn video so stay</td>\n      <td>0.386983</td>\n      <td>0.000000</td>\n      <td>0.000000</td>\n      <td>0.000000</td>\n      <td>0.000000</td>\n      <td>0.000000</td>\n      <td>0.000000</td>\n      <td>0.000000</td>\n      <td>0.000000</td>\n      <td>0.000000</td>\n      <td>...</td>\n      <td>0.000000</td>\n      <td>0.338723</td>\n      <td>0.000000</td>\n      <td>0.000000</td>\n      <td>0.237874</td>\n      <td>0.000000</td>\n      <td>0.000000</td>\n      <td>0.000000</td>\n      <td>0.000000</td>\n      <td>0.000000</td>\n    </tr>\n    <tr>\n      <td>Stay tuned!</td>\n      <td>0.000000</td>\n      <td>0.000000</td>\n      <td>0.000000</td>\n      <td>0.000000</td>\n      <td>0.000000</td>\n      <td>0.000000</td>\n      <td>0.000000</td>\n      <td>0.000000</td>\n      <td>0.000000</td>\n      <td>0.000000</td>\n      <td>...</td>\n      <td>0.000000</td>\n      <td>0.000000</td>\n      <td>0.000000</td>\n      <td>0.000000</td>\n      <td>0.000000</td>\n      <td>0.000000</td>\n      <td>0.000000</td>\n      <td>0.000000</td>\n      <td>0.000000</td>\n      <td>0.000000</td>\n    </tr>\n    <tr>\n      <td>Hi guys my priority of the week was to try and create a new process for the product team</td>\n      <td>0.000000</td>\n      <td>0.000000</td>\n      <td>0.184906</td>\n      <td>0.000000</td>\n      <td>0.000000</td>\n      <td>0.000000</td>\n      <td>0.000000</td>\n      <td>0.000000</td>\n      <td>0.000000</td>\n      <td>0.000000</td>\n      <td>...</td>\n      <td>0.000000</td>\n      <td>0.000000</td>\n      <td>0.244445</td>\n      <td>0.000000</td>\n      <td>0.171665</td>\n      <td>0.000000</td>\n      <td>0.000000</td>\n      <td>0.000000</td>\n      <td>0.000000</td>\n      <td>0.000000</td>\n    </tr>\n    <tr>\n      <td>to establish the product roadmap</td>\n      <td>0.000000</td>\n      <td>0.000000</td>\n      <td>0.000000</td>\n      <td>0.000000</td>\n      <td>0.000000</td>\n      <td>0.000000</td>\n      <td>0.000000</td>\n      <td>0.000000</td>\n      <td>0.000000</td>\n      <td>0.000000</td>\n      <td>...</td>\n      <td>0.000000</td>\n      <td>0.000000</td>\n      <td>0.000000</td>\n      <td>0.000000</td>\n      <td>0.000000</td>\n      <td>0.000000</td>\n      <td>0.000000</td>\n      <td>0.000000</td>\n      <td>0.000000</td>\n      <td>0.000000</td>\n    </tr>\n    <tr>\n      <td>so that it’s a more collaborative process with the CSMs.</td>\n      <td>0.000000</td>\n      <td>0.000000</td>\n      <td>0.000000</td>\n      <td>0.000000</td>\n      <td>0.000000</td>\n      <td>0.000000</td>\n      <td>0.000000</td>\n      <td>0.000000</td>\n      <td>0.000000</td>\n      <td>0.000000</td>\n      <td>...</td>\n      <td>0.000000</td>\n      <td>0.000000</td>\n      <td>0.000000</td>\n      <td>0.000000</td>\n      <td>0.000000</td>\n      <td>0.000000</td>\n      <td>0.000000</td>\n      <td>0.293474</td>\n      <td>0.000000</td>\n      <td>0.000000</td>\n    </tr>\n    <tr>\n      <td>so CSMs, you’ll be hearing from me very soon.</td>\n      <td>0.000000</td>\n      <td>0.000000</td>\n      <td>0.000000</td>\n      <td>0.000000</td>\n      <td>0.000000</td>\n      <td>0.338755</td>\n      <td>0.000000</td>\n      <td>0.000000</td>\n      <td>0.000000</td>\n      <td>0.000000</td>\n      <td>...</td>\n      <td>0.338755</td>\n      <td>0.000000</td>\n      <td>0.000000</td>\n      <td>0.000000</td>\n      <td>0.000000</td>\n      <td>0.000000</td>\n      <td>0.000000</td>\n      <td>0.000000</td>\n      <td>0.000000</td>\n      <td>0.296509</td>\n    </tr>\n  </tbody>\n</table>\n<p>18 rows × 85 columns</p>\n</div>"
     },
     "metadata": {},
     "output_type": "execute_result",
     "execution_count": 14
    }
   ],
   "source": [
    "columns = [corpus for corpus in text_studied]\n",
    "features = tfidf_vectorizer.get_feature_names()\n",
    "\n",
    "df = pd.DataFrame(tfidf_features.todense(), index=columns, columns=features)\n",
    "df"
   ],
   "metadata": {
    "collapsed": false,
    "pycharm": {
     "name": "#%%\n",
     "is_executing": false
    }
   }
  },
  {
   "cell_type": "code",
   "source": [
    "## Latent derichelet allocation \n",
    "\n"
   ],
   "metadata": {
    "collapsed": false,
    "pycharm": {
     "name": "#%% md \n",
     "is_executing": false
    }
   },
   "execution_count": 15,
   "outputs": []
  },
  {
   "cell_type": "code",
   "execution_count": 16,
   "outputs": [
    {
     "data": {
      "text/plain": "LatentDirichletAllocation(batch_size=128, doc_topic_prior=None,\n                          evaluate_every=-1, learning_decay=0.7,\n                          learning_method='batch', learning_offset=10.0,\n                          max_doc_update_iter=100, max_iter=10,\n                          mean_change_tol=0.001, n_components=7, n_jobs=None,\n                          perp_tol=0.1, random_state=42, topic_word_prior=None,\n                          total_samples=1000000.0, verbose=0)"
     },
     "metadata": {},
     "output_type": "execute_result",
     "execution_count": 16
    }
   ],
   "source": [
    "from sklearn.decomposition import LatentDirichletAllocation\n",
    "\n",
    "LDA = LatentDirichletAllocation(n_components=7, random_state=42)\n",
    "\n",
    "LDA.fit(text_vectized)\n",
    "\n",
    " "
   ],
   "metadata": {
    "collapsed": false,
    "pycharm": {
     "name": "#%%\n",
     "is_executing": false
    }
   }
  },
  {
   "cell_type": "code",
   "execution_count": 17,
   "outputs": [
    {
     "data": {
      "text/plain": "numpy.ndarray"
     },
     "metadata": {},
     "output_type": "execute_result",
     "execution_count": 17
    }
   ],
   "source": [
    "topic = LDA.components_[0]\n",
    "\n",
    "type(topic)"
   ],
   "metadata": {
    "collapsed": false,
    "pycharm": {
     "name": "#%%\n",
     "is_executing": false
    }
   }
  },
  {
   "cell_type": "code",
   "execution_count": 18,
   "outputs": [
    {
     "data": {
      "text/plain": "array([ 1, 83, 63, 49, 34, 71, 45,  2, 46, 70])"
     },
     "metadata": {},
     "output_type": "execute_result",
     "execution_count": 18
    }
   ],
   "source": [
    "# sorted from least to most important word \n",
    "sortedIndex = topic.argsort()[-10: ]\n",
    "sortedIndex"
   ],
   "metadata": {
    "collapsed": false,
    "pycharm": {
     "name": "#%%\n",
     "is_executing": false
    }
   }
  },
  {
   "cell_type": "code",
   "execution_count": 19,
   "outputs": [
    {
     "name": "stdout",
     "text": [
      "accounts\nwork\nstart\norganizing\nis\nthis\nof\nand\non\nthe\n"
     ],
     "output_type": "stream"
    }
   ],
   "source": [
    "for index in sortedIndex:\n",
    "    print(count_vec.get_feature_names()[index])"
   ],
   "metadata": {
    "collapsed": false,
    "pycharm": {
     "name": "#%%\n",
     "is_executing": false
    }
   }
  },
  {
   "cell_type": "code",
   "execution_count": 20,
   "outputs": [
    {
     "name": "stdout",
     "text": [
      "\u001b[38;5;2m✔ Download and installation successful\u001b[0m\nYou can now load the model via spacy.load('en_core_web_sm')\n"
     ],
     "output_type": "stream"
    }
   ],
   "source": [
    "import spacy \n",
    "import spacy.cli\n",
    "spacy.cli.download(\"en_core_web_sm\")\n",
    "spacy_nlp = spacy.load('en_core_web_sm')"
   ],
   "metadata": {
    "collapsed": false,
    "pycharm": {
     "name": "#%%\n",
     "is_executing": false
    }
   }
  },
  {
   "cell_type": "code",
   "execution_count": 21,
   "outputs": [],
   "source": [
    "string = \"\"\n",
    "for doc in document:\n",
    "    string += doc.text\n",
    "doc = spacy_nlp(string)\n",
    "features_with_no_stop_word = [word.text for word in doc if not (word.is_stop or word.is_punct)]"
   ],
   "metadata": {
    "collapsed": false,
    "pycharm": {
     "name": "#%%\n",
     "is_executing": false
    }
   }
  },
  {
   "cell_type": "code",
   "execution_count": 22,
   "outputs": [
    {
     "data": {
      "text/plain": "['week',\n 'going',\n 'step',\n 'product',\n 'teams',\n 'organizationwith',\n 'video',\n 'follow',\n 'andand',\n 'weekly',\n 'meetings',\n 'product',\n 'teams',\n 'week',\n 'CREATE',\n 'team',\n 'focusing',\n 'onthe',\n 'graphical',\n 'chartsredesign',\n 'begin',\n 'week',\n 'atechnical',\n 'redesign',\n 'MANAGE',\n 'team',\n 'focused',\n 'hierarchy',\n 'accountsand',\n 'start',\n 'work',\n 'organizing',\n 'accountsin',\n 'EasyMovie',\n 'need',\n 'CSMs',\n 'soso',\n 'answer',\n 'questions',\n 'Slack.so',\n 'week',\n 'PROMOTE',\n 'team',\n 'beginning',\n 'ofthis',\n 'week',\n 'project',\n 'Dr',\n 'Quinn',\n 'video',\n 'stayStay',\n 'tuned!Hi',\n 'guys',\n 'priority',\n 'week',\n 'try',\n 'create',\n 'new',\n 'process',\n 'product',\n 'teamto',\n 'establish',\n 'product',\n 'roadmapso',\n 'collaborative',\n 'process',\n 'CSMs.so',\n 'CSMs',\n 'hearing',\n 'soon']"
     },
     "metadata": {},
     "output_type": "execute_result",
     "execution_count": 22
    }
   ],
   "source": [
    "features_with_no_stop_word\n"
   ],
   "metadata": {
    "collapsed": false,
    "pycharm": {
     "name": "#%%\n",
     "is_executing": false
    }
   }
  },
  {
   "cell_type": "code",
   "execution_count": 23,
   "outputs": [],
   "source": [
    "article_with_no_stop = \"\"\n",
    "for word in features_with_no_stop_word:\n",
    "    article_with_no_stop += \" {}\".format(word) \n",
    "\n",
    "article_with_no_stop = [article_with_no_stop]"
   ],
   "metadata": {
    "collapsed": false,
    "pycharm": {
     "name": "#%%\n",
     "is_executing": false
    }
   }
  },
  {
   "cell_type": "code",
   "execution_count": 24,
   "outputs": [],
   "source": [
    "article_vectorized = count_vec.fit_transform(article_with_no_stop)"
   ],
   "metadata": {
    "collapsed": false,
    "pycharm": {
     "name": "#%%\n",
     "is_executing": false
    }
   }
  },
  {
   "cell_type": "code",
   "execution_count": 25,
   "outputs": [
    {
     "data": {
      "text/plain": "<1x56 sparse matrix of type '<class 'numpy.int64'>'\n\twith 56 stored elements in Compressed Sparse Row format>"
     },
     "metadata": {},
     "output_type": "execute_result",
     "execution_count": 25
    }
   ],
   "source": [
    "article_vectorized"
   ],
   "metadata": {
    "collapsed": false,
    "pycharm": {
     "name": "#%%\n",
     "is_executing": false
    }
   }
  },
  {
   "cell_type": "code",
   "execution_count": 29,
   "outputs": [
    {
     "data": {
      "text/plain": "LatentDirichletAllocation(batch_size=128, doc_topic_prior=None,\n                          evaluate_every=-1, learning_decay=0.7,\n                          learning_method='batch', learning_offset=10.0,\n                          max_doc_update_iter=100, max_iter=10,\n                          mean_change_tol=0.001, n_components=7, n_jobs=None,\n                          perp_tol=0.1, random_state=42, topic_word_prior=None,\n                          total_samples=1000000.0, verbose=0)"
     },
     "metadata": {},
     "output_type": "execute_result",
     "execution_count": 29
    }
   ],
   "source": [
    "LDA.fit(article_vectorized)"
   ],
   "metadata": {
    "collapsed": false,
    "pycharm": {
     "name": "#%%\n",
     "is_executing": false
    }
   }
  },
  {
   "cell_type": "code",
   "execution_count": 37,
   "outputs": [],
   "source": [
    "sortedIndex = LDA.components_[4].argsort()[-10:]"
   ],
   "metadata": {
    "collapsed": false,
    "pycharm": {
     "name": "#%%\n",
     "is_executing": false
    }
   }
  },
  {
   "cell_type": "code",
   "execution_count": 38,
   "outputs": [
    {
     "name": "stdout",
     "text": [
      "guys\nhearing\nhi\nhierarchy\nmanage\nmeetings\nneed\nnew\nfocusing\nwork\n"
     ],
     "output_type": "stream"
    },
    {
     "data": {
      "text/plain": "0.14285714285714285"
     },
     "metadata": {},
     "output_type": "execute_result",
     "execution_count": 38
    }
   ],
   "source": [
    "for index in sortedIndex:\n",
    "    print(count_vec.get_feature_names()[index])"
   ],
   "metadata": {
    "collapsed": false,
    "pycharm": {
     "name": "#%%\n",
     "is_executing": false
    }
   }
  }
 ],
 "metadata": {
  "kernelspec": {
   "display_name": "Python 3",
   "language": "python",
   "name": "python3"
  },
  "language_info": {
   "codemirror_mode": {
    "name": "ipython",
    "version": 2
   },
   "file_extension": ".py",
   "mimetype": "text/x-python",
   "name": "python",
   "nbconvert_exporter": "python",
   "pygments_lexer": "ipython2",
   "version": "2.7.6"
  },
  "pycharm": {
   "stem_cell": {
    "cell_type": "raw",
    "source": [],
    "metadata": {
     "collapsed": false
    }
   }
  }
 },
 "nbformat": 4,
 "nbformat_minor": 0
}