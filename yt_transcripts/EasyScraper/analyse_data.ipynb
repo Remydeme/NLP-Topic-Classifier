{
 "cells": [
  {
   "cell_type": "code",
   "execution_count": 239,
   "outputs": [
    {
     "name": "stdout",
     "text": [
      "_______________________ Analyzing dataset ppentreprise_data.csv ___________________________________\n   Unnamed: 0         link                                              title  \\\n0           0    PAeQD_64x                   Présentation Entreprise Rousseau   \n1           1   QfCHZX1PnP              Présentation de l'entreprise Boréalie   \n2           2  MWsdG52R9uQ   Brasserie Lambelin: Présentation de l'entreprise   \n3           3   D264CLOFKE                   Présentation de l'entreprise DBC   \n4           4  gVmZc9hx7X8  Film institutionnel de présentation du groupe ...   \n\n                                         description                 category  \\\n0  Fondée en 1976, Rousseau est une entreprise de...  présentation entreprise   \n1  Présentation de l'entreprise Boréalie cosmétiq...  présentation entreprise   \n2  Présentation de \"Brasserie Lambelin\" à l'occas...  présentation entreprise   \n3  Visite de la société DBC, spécialiste de l'usi...  présentation entreprise   \n4  Découvrez notre premier rapport intégré sur \\n...  présentation entreprise   \n\n                                      transcriptions  \n0                                                     \n1                                                     \n2  [Musique] la brasserie lamblin c'est une entre...  \n3                                                     \n4  Créée par des entrepreneurs\\npour des entrepre...  \n_______________________ Analyzing dataset presentation_produit_data.csv ___________________________________\n   Unnamed: 0  Unnamed: 0.1         link  \\\n0           1             1  gVSYaW-PI2A   \n1           2             2  TZdv50yboq4   \n2           7             7  LxhtlATHkn0   \n3           8             8  XGgy0p1dW30   \n4          11            11  Pl2vL9Se__E   \n\n                                               title  \\\n0          EXEMPLE VIDEO SOIREE LANCEMENT DE PRODUIT   \n1  Présentation par Jean-Marc Chignard du nouveau...   \n2  KUHN HR + VENTA - Herse rotative et Semoir - C...   \n3                                                NaN   \n4                                                NaN   \n\n                                         description              category  \\\n0  EXEMPLE VIDEO SOIREE LANCEMENT DE PRODUIT\\nRéa...  presentation produit   \n1  BRACELET D'APPRENTISSAGE DEVAUX ALF DVX\\n\\nUn ...  presentation produit   \n2                    Retrouvez nous sur www.kuhn.com  presentation produit   \n3                                                NaN  presentation produit   \n4  Leroy Merlin vous présente le retrait marchand...  presentation produit   \n\n                                      transcriptions  \n0  Nous avons le plaisir de lancer ce soir qui pe...  \n1  [Musique] je vais vous présenter aujourd'hui l...  \n2  bonjour je m'appelle julien north je suis resp...  \n3  je vous présente la scoop elle 100% freestyle ...  \n4    Je m'appelle Florent Carlier, je travaille a...  \n_______________________ Analyzing dataset offre_emploie_data.csv ___________________________________\n    Id         link                                              title  \\\n0  103  92fZqrgn5l0                                                NaN   \n1  104   _KZsdo2oXk  Les 12 offres d'emploi du 09 Octobre 2019 au S...   \n2  105  1Irno56NI0U  Monster a fait le plein d'offres d'emploi, vie...   \n3  106  Oe1UMy3Bhhk                                                NaN   \n4  107    fOtRvhFOI  Offre d'emploi Business Developers H/F - OpenS...   \n\n                                         description       category  \\\n0  Offres d'emploi Genève : https://geneve-job.ch...  offre emploie   \n1  Les 12 offres d'emploi du 09 Octobre 2019 au S...  offre emploie   \n2                                                NaN  offre emploie   \n3  société cherche dessinateur maitrise du logici...  offre emploie   \n4  Pour postuler : https://opensourcing.com/offre...  offre emploie   \n\n                                      transcriptions  \n0  Bonjour et bienvenue sur la chaîne de geneve-j...  \n1                                                     \n2                                                     \n3                                                     \n4                                                     \n_______________________ Analyzing dataset presentation_metier_data.csv ___________________________________\n",
      "   Unnamed: 0  Unnamed: 0.1         link  \\\n0          24            24  V0TXJR1EeUk   \n1          52            52  lcPS72DqmA0   \n2          74            74  CVxEudtUt5M   \n3          97            97  LMU4FAmOPZY   \n4         122           122  lwnjnjv4I8I   \n\n                                               title  \\\n0  [TUTORIEL] Le b. a.-ba : les finitions et les ...   \n1  Renault SCENIC - TUTORIEL - INTRODUCTION AU R-...   \n2  TUTORIEL : Astuces pour monter ses vidéos de v...   \n3              Renault CLIO - TUTORIEL - LE MODE ÉCO   \n4       Renault CLIO - TUTORIEL - LE TABLEAU DE BORD   \n\n                                         description             category  \\\n0  Vous êtes couturière débutante ? Retrouvez nos...  presentation metier   \n1  Dans cette vidéo nous allons vous introduire à...  presentation metier   \n2  Comment monter ses vidéos de voyage ? Le monta...  presentation metier   \n3  Dans cette vidéo nous allons vous apprendre à ...  presentation metier   \n4  Dans cette vidéo nous allons vous apprendre à ...  presentation metier   \n\n                                      transcriptions  \n0    Bonjour! Burda style vous propose dans ses v...  \n1    [Musique] erling 2 est un système multimédia...  \n2    [Musique] et bonjour alors aujourd'hui on a ...  \n3    [Musique] le mode eco est une fonction qui o...  \n4    [Musique] le tableau de bord répertorie les ...  \n_______________________ Analyzing dataset temoignage_clients_data.csv ___________________________________\n   Unnamed: 0  Unnamed: 0.1         link  \\\n0           0             0  QVksLWO2yvQ   \n1           6             6  k7Pgi8u-jeE   \n2           8             8  7JC_iWn1Me4   \n3           9             9  20RzM3GdAFk   \n4          19            19  rWKjjoQteQE   \n\n                                               title  \\\n0                Témoignage client Michel & Augustin   \n1             Témoignage client Maisons Ericlor (86)   \n2                              Témoignage client EBP   \n3  Dropbox change les pratiques collaboratives de...   \n4                                                NaN   \n\n                                         description    category  \\\n0  Le groupe Avril par le biais de sa filiale Ovo...  temoignage   \n1  Reportage chez Frédéric et Malika qui nous par...  temoignage   \n2  Découvrez comment l’éditeur de logiciels EBP a...  temoignage   \n3  Créée en 2010, l'agence de communication digit...  temoignage   \n4                                                NaN  temoignage   \n\n                                      transcriptions  \n0    [Musique] alors je m'appelle marion ça fait ...  \n1    [Musique] les lions et les couleurs j'ai ren...  \n2    e [Musique] le groupe bp est un éditeur de l...  \n3    on a créé castor et pollux en 2010 c'est don...  \n4    ici on est aguer ces petits villages qui est...  \n_______________________ Analyzing dataset tuto_data.csv ___________________________________\n",
      "   Unnamed: 0  Unnamed: 0.1         link  \\\n0          22            22  R5ZXEX8FagM   \n1          40            40  NO7j6F3nM0E   \n2         109           109  SpYVJ4xC4R0   \n3         112           112  kINZMjys3O4   \n4         116           116  gYnKBKeaGXk   \n\n                                               title  \\\n0              Mavic Pro tutoriel - Le focus peaking   \n1                        tutoriel make up effet nude   \n2  MAFIOSA - Le tutoriel de Sandra Paoli - CANAL+...   \n3        Faire un nœud de cravate - tutoriel cravate   \n4    Roue libre vtt - Conseils et tutoriel pro - 299   \n\n                                         description  category  \\\n0  Dji Go 4 offre une fonction de focus peaking. ...  tutoriel   \n1  vive le maquillage qui dégouline..partage tes ...  tutoriel   \n2  Qui d'autre que Sandra Paoli pour donner les m...  tutoriel   \n3  Faire un nœud de cravate - apprenez grâce au t...  tutoriel   \n4  Tutoriel roue libre vtt - Comment démonter sa ...  tutoriel   \n\n                                      transcriptions  \n0    bonjour à tous bienvenue sur cette vidéo de ...  \n1    bonjour ,(rire) aujourd'hui avec croco on a ...  \n2    je t'ai dit que c'était une femme et tumoral...  \n3    bonjour tout le monde en cette période de fê...  \n4    bonjour cyril merci de me recevoir ici chez ...  \n"
     ],
     "output_type": "stream"
    }
   ],
   "source": [
    "import pandas as pd\n",
    "\n",
    "dataset_path = {'pent':'ppentreprise_data.csv', 'pproduit':'presentation_produit_data.csv', 'oemploie':'offre_emploie_data.csv', 'pmetier':'presentation_metier_data.csv', 'temoignage':'temoignage_clients_data.csv', 'tuto':'tuto_data.csv'}\n",
    "\n",
    "dfs = {}\n",
    "\n",
    "for key, path in dataset_path.items():\n",
    "    print(f'_______________________ Analyzing dataset {path} ___________________________________')\n",
    "    dfs[key] = pd.read_csv('./cleaned_dataset/' + path, delimiter=';')\n",
    "    print(dfs[key].head())\n",
    "\n",
    "# we are going to concatenate all the data \n",
    "concat_df = pd.concat([dfs['pent'], dfs['pproduit'],  dfs['pmetier'], dfs['temoignage'], dfs['tuto'], dfs['oemploie']], axis=0, sort=True)\n"
   ],
   "metadata": {
    "collapsed": false,
    "pycharm": {
     "name": "#%%\n",
     "is_executing": false
    }
   }
  },
  {
   "cell_type": "code",
   "execution_count": 240,
   "outputs": [
    {
     "data": {
      "text/plain": "(2218, 8)"
     },
     "metadata": {},
     "output_type": "execute_result",
     "execution_count": 240
    }
   ],
   "source": [
    "concat_df.shape\n"
   ],
   "metadata": {
    "collapsed": false,
    "pycharm": {
     "name": "#%% \n",
     "is_executing": false
    }
   }
  },
  {
   "cell_type": "code",
   "execution_count": 241,
   "outputs": [
    {
     "data": {
      "text/plain": "(1599, 8)"
     },
     "metadata": {},
     "output_type": "execute_result",
     "execution_count": 241
    }
   ],
   "source": [
    "concat_df = concat_df[concat_df['transcriptions'] != ' ']\n",
    "concat_df.shape"
   ],
   "metadata": {
    "collapsed": false,
    "pycharm": {
     "name": "#%%\n",
     "is_executing": false
    }
   }
  },
  {
   "cell_type": "code",
   "execution_count": 242,
   "outputs": [],
   "source": [
    "x_train = concat_df['transcriptions'].values"
   ],
   "metadata": {
    "collapsed": false,
    "pycharm": {
     "name": "#%%\n",
     "is_executing": false
    }
   }
  },
  {
   "cell_type": "code",
   "execution_count": 243,
   "outputs": [
    {
     "data": {
      "text/plain": "presentation metier        619\ntemoignage                 280\noffre emploie              223\ntutoriel                   183\nprésentation entreprise    150\npresentation produit       144\nName: category, dtype: int64"
     },
     "metadata": {},
     "output_type": "execute_result",
     "execution_count": 243
    }
   ],
   "source": [
    "concat_df['category'].value_counts()"
   ],
   "metadata": {
    "collapsed": false,
    "pycharm": {
     "name": "#%%\n",
     "is_executing": false
    }
   }
  },
  {
   "cell_type": "code",
   "execution_count": 244,
   "outputs": [
    {
     "data": {
      "text/plain": "count                    1599\nunique                      6\ntop       presentation metier\nfreq                      619\nName: category, dtype: object"
     },
     "metadata": {},
     "output_type": "execute_result",
     "execution_count": 244
    }
   ],
   "source": [
    "concat_df['category'].describe()\n"
   ],
   "metadata": {
    "collapsed": false,
    "pycharm": {
     "name": "#%%\n",
     "is_executing": false
    }
   }
  },
  {
   "cell_type": "code",
   "execution_count": 260,
   "outputs": [],
   "source": [
    "concat_df.to_csv('cleaned_dataset/easyMovieCategory_dataset.csv', sep=';', header=True,  mode='w')"
   ],
   "metadata": {
    "collapsed": false,
    "pycharm": {
     "name": "#%%\n",
     "is_executing": false
    }
   }
  },
  {
   "cell_type": "markdown",
   "source": [
    "We are going to train a TF-IDF+LinearSVC model on it. But first we need to clean the data.\n",
    "We use the previously build pipline to clean and train the model. "
   ],
   "metadata": {
    "collapsed": false
   }
  },
  {
   "cell_type": "markdown",
   "source": [
    "The dataset is not well balanced."
   ],
   "metadata": {
    "collapsed": false
   }
  },
  {
   "cell_type": "markdown",
   "source": [
    "# Clean the data \n",
    "\n",
    "The first step we are going to use spacy to clean the data by :\n",
    "\n",
    "* lower all the word to avoid that word like : Hello HELLO or hello are \n",
    "considered as 3 differents words.\n",
    "* removing stop words \n",
    "* removing punctuation \n",
    "* lemming \n",
    "\n",
    "\n",
    "Note : In the second part we will do the same without lemming to see the performance.\n"
   ],
   "metadata": {
    "collapsed": false
   }
  },
  {
   "cell_type": "code",
   "execution_count": 289,
   "outputs": [],
   "source": [
    "# create a copy of the dataset \n",
    "x = concat_df['transcriptions'].values\n",
    "target = concat_df['category'].values"
   ],
   "metadata": {
    "collapsed": false,
    "pycharm": {
     "name": "#%%\n",
     "is_executing": false
    }
   }
  },
  {
   "cell_type": "code",
   "execution_count": 248,
   "outputs": [],
   "source": [
    "import numpy as np\n",
    "\n",
    "category = np.unique(concat_df['category'].values)"
   ],
   "metadata": {
    "collapsed": false,
    "pycharm": {
     "name": "#%%\n",
     "is_executing": false
    }
   }
  },
  {
   "cell_type": "code",
   "execution_count": 290,
   "outputs": [],
   "source": [
    "from sklearn.preprocessing import LabelEncoder\n",
    "\n",
    "encodage = LabelEncoder()\n",
    "target = encodage.fit_transform(target)"
   ],
   "metadata": {
    "collapsed": false,
    "pycharm": {
     "name": "#%%\n",
     "is_executing": false
    }
   }
  },
  {
   "cell_type": "code",
   "execution_count": 291,
   "outputs": [],
   "source": [
    "category = encodage.fit_transform(category)"
   ],
   "metadata": {
    "collapsed": false,
    "pycharm": {
     "name": "#%%\n",
     "is_executing": false
    }
   }
  },
  {
   "cell_type": "code",
   "execution_count": 292,
   "outputs": [],
   "source": [
    "from sklearn.model_selection import train_test_split\n",
    "\n",
    "x_train, x_test, y_train, y_test = train_test_split(x, target, random_state=42, test_size=0.3, shuffle=True)"
   ],
   "metadata": {
    "collapsed": false,
    "pycharm": {
     "name": "#%%\n",
     "is_executing": false
    }
   }
  },
  {
   "cell_type": "markdown",
   "source": [
    "We will implement the same function but without lemming. We could add a boolean variable to indicate if we do lemming or not but for performance reason I prefer to implement an other function.\n",
    "\n",
    "Let's test this one \n"
   ],
   "metadata": {
    "collapsed": false
   }
  },
  {
   "cell_type": "code",
   "execution_count": 252,
   "outputs": [
    {
     "data": {
      "text/plain": "(1119,)"
     },
     "metadata": {},
     "output_type": "execute_result",
     "execution_count": 252
    }
   ],
   "source": [
    "x_train.shape\n"
   ],
   "metadata": {
    "collapsed": false,
    "pycharm": {
     "name": "#%%\n",
     "is_executing": false
    }
   }
  },
  {
   "cell_type": "code",
   "execution_count": 253,
   "outputs": [],
   "source": [
    "from sklearn.svm import LinearSVC"
   ],
   "metadata": {
    "collapsed": false,
    "pycharm": {
     "name": "#%%\n",
     "is_executing": false
    }
   }
  },
  {
   "cell_type": "code",
   "execution_count": 254,
   "outputs": [],
   "source": [
    "from sklearn.feature_extraction.text import CountVectorizer\n",
    "from sklearn.feature_extraction.text import TfidfTransformer\n",
    "from sklearn.svm import LinearSVC\n",
    "\n",
    "from sklearn.pipeline import Pipeline\n",
    "\n",
    "linear_clf = Pipeline([('vect', CountVectorizer()),\n",
    "                      ('tfidf', TfidfTransformer()),\n",
    "                      ('clf', LinearSVC())])"
   ],
   "metadata": {
    "collapsed": false,
    "pycharm": {
     "name": "#%%\n",
     "is_executing": false
    }
   }
  },
  {
   "cell_type": "code",
   "execution_count": 255,
   "outputs": [
    {
     "data": {
      "text/plain": "Pipeline(memory=None,\n     steps=[('vect', CountVectorizer(analyzer='word', binary=False, decode_error='strict',\n        dtype=<class 'numpy.int64'>, encoding='utf-8', input='content',\n        lowercase=True, max_df=1.0, max_features=None, min_df=1,\n        ngram_range=(1, 1), preprocessor=None, stop_words=None,\n        strip...ax_iter=1000,\n     multi_class='ovr', penalty='l2', random_state=None, tol=0.0001,\n     verbose=0))])"
     },
     "metadata": {},
     "output_type": "execute_result",
     "execution_count": 255
    }
   ],
   "source": [
    "linear_clf.fit(x_train, y_train)"
   ],
   "metadata": {
    "collapsed": false,
    "pycharm": {
     "name": "#%%\n",
     "is_executing": false
    }
   }
  },
  {
   "cell_type": "code",
   "execution_count": 256,
   "outputs": [],
   "source": [
    "predicted = linear_clf.predict(x_test)"
   ],
   "metadata": {
    "collapsed": false,
    "pycharm": {
     "name": "#%%\n",
     "is_executing": false
    }
   }
  },
  {
   "cell_type": "code",
   "execution_count": 257,
   "outputs": [
    {
     "data": {
      "text/plain": "(0.8432075345619748, 0.84375, 0.840136126556823, None)"
     },
     "metadata": {},
     "output_type": "execute_result",
     "execution_count": 257
    }
   ],
   "source": [
    "from sklearn.metrics import precision_recall_fscore_support\n",
    "\n",
    "precision_recall_fscore_support(y_test, predicted, average='weighted')"
   ],
   "metadata": {
    "collapsed": false,
    "pycharm": {
     "name": "#%%\n",
     "is_executing": false
    }
   }
  },
  {
   "cell_type": "code",
   "execution_count": 258,
   "outputs": [],
   "source": [
    "from sklearn.metrics import classification_report\n",
    "\n",
    "score = classification_report(y_pred=predicted, y_true=y_test, labels=category)"
   ],
   "metadata": {
    "collapsed": false,
    "pycharm": {
     "name": "#%%\n",
     "is_executing": false
    }
   }
  },
  {
   "cell_type": "code",
   "execution_count": 259,
   "outputs": [
    {
     "name": "stdout",
     "text": [
      "              precision    recall  f1-score   support\n\n           0       0.96      0.77      0.86        62\n           1       0.85      0.95      0.90       186\n           2       0.70      0.60      0.64        47\n           3       0.76      0.63      0.69        41\n           4       0.87      0.87      0.87        76\n           5       0.82      0.90      0.86        68\n\n   micro avg       0.84      0.84      0.84       480\n   macro avg       0.83      0.79      0.80       480\nweighted avg       0.84      0.84      0.84       480\n\n"
     ],
     "output_type": "stream"
    }
   ],
   "source": [
    "print(score)\n",
    "\n"
   ],
   "metadata": {
    "collapsed": false,
    "pycharm": {
     "name": "#%%\n",
     "is_executing": false
    }
   }
  },
  {
   "cell_type": "code",
   "execution_count": 295,
   "outputs": [
    {
     "name": "stderr",
     "text": [
      "/Users/remy.d.w/Library/Python/3.6/lib/python/site-packages/sklearn/model_selection/_split.py:2053: FutureWarning: You should specify a value for 'cv' instead of relying on the default value. The default value will change from 3 to 5 in version 0.22.\n  warnings.warn(CV_WARNING, FutureWarning)\n[Parallel(n_jobs=-1)]: Using backend LokyBackend with 4 concurrent workers.\n",
      "[Parallel(n_jobs=-1)]: Done   3 out of   3 | elapsed:    5.3s finished\n"
     ],
     "output_type": "stream"
    }
   ],
   "source": [
    "# cross validation\n",
    "from sklearn.model_selection import cross_validate\n",
    "\n",
    "cross_model = Pipeline([('vect', CountVectorizer()),\n",
    "                      ('tfidf', TfidfTransformer()),\n",
    "                      ('clf', LinearSVC())])\n",
    "score = cross_validate(cross_model, x_train, y_train, n_jobs=-1, verbose=1)"
   ],
   "metadata": {
    "collapsed": false,
    "pycharm": {
     "name": "#%%\n",
     "is_executing": false
    }
   }
  },
  {
   "cell_type": "code",
   "execution_count": 305,
   "outputs": [
    {
     "name": "stderr",
     "text": [
      "/Users/remy.d.w/Library/Python/3.6/lib/python/site-packages/sklearn/utils/deprecation.py:125: FutureWarning: You are accessing a training score ('train_score'), which will not be available by default any more in 0.21. If you need training scores, please set return_train_score=True\n  warnings.warn(*warn_args, **warn_kwargs)\n"
     ],
     "output_type": "stream"
    }
   ],
   "source": [
    "import seaborn as sns \n",
    "\n",
    "cross_val_score_df = pd.DataFrame(score)\n",
    "cross_val_score_df['step'] = [1, 2, 3]"
   ],
   "metadata": {
    "collapsed": false,
    "pycharm": {
     "name": "#%%\n",
     "is_executing": false
    }
   }
  },
  {
   "cell_type": "code",
   "execution_count": 306,
   "outputs": [
    {
     "data": {
      "text/plain": "   fit_time  score_time  test_score  train_score  step\n0  0.432111    0.156821    0.811170     0.998654     1\n1  0.462586    0.135756    0.801075     0.995984     2\n2  0.454912    0.174283    0.816712     0.994652     3",
      "text/html": "<div>\n<style scoped>\n    .dataframe tbody tr th:only-of-type {\n        vertical-align: middle;\n    }\n\n    .dataframe tbody tr th {\n        vertical-align: top;\n    }\n\n    .dataframe thead th {\n        text-align: right;\n    }\n</style>\n<table border=\"1\" class=\"dataframe\">\n  <thead>\n    <tr style=\"text-align: right;\">\n      <th></th>\n      <th>fit_time</th>\n      <th>score_time</th>\n      <th>test_score</th>\n      <th>train_score</th>\n      <th>step</th>\n    </tr>\n  </thead>\n  <tbody>\n    <tr>\n      <th>0</th>\n      <td>0.432111</td>\n      <td>0.156821</td>\n      <td>0.811170</td>\n      <td>0.998654</td>\n      <td>1</td>\n    </tr>\n    <tr>\n      <th>1</th>\n      <td>0.462586</td>\n      <td>0.135756</td>\n      <td>0.801075</td>\n      <td>0.995984</td>\n      <td>2</td>\n    </tr>\n    <tr>\n      <th>2</th>\n      <td>0.454912</td>\n      <td>0.174283</td>\n      <td>0.816712</td>\n      <td>0.994652</td>\n      <td>3</td>\n    </tr>\n  </tbody>\n</table>\n</div>"
     },
     "metadata": {},
     "output_type": "execute_result",
     "execution_count": 306
    }
   ],
   "source": [
    "cross_val_score_df.head()"
   ],
   "metadata": {
    "collapsed": false,
    "pycharm": {
     "name": "#%%\n",
     "is_executing": false
    }
   }
  },
  {
   "cell_type": "code",
   "execution_count": 308,
   "outputs": [
    {
     "data": {
      "text/plain": "<matplotlib.axes._subplots.AxesSubplot at 0x12b2ff128>"
     },
     "metadata": {},
     "output_type": "execute_result",
     "execution_count": 308
    },
    {
     "data": {
      "text/plain": "<Figure size 1440x720 with 1 Axes>",
      "image/png": "[encoded data removed]"
     },
     "metadata": {
      "needs_background": "light"
     },
     "output_type": "display_data"
    }
   ],
   "source": [
    "sns.scatterplot(x='step', y='test_score', data=cross_val_score_df,)"
   ],
   "metadata": {
    "collapsed": false,
    "pycharm": {
     "name": "#%%\n",
     "is_executing": false
    }
   }
  },
  {
   "cell_type": "markdown",
   "source": [
    "\n",
    "# Doc2Vec"
   ],
   "metadata": {
    "collapsed": false
   }
  },
  {
   "cell_type": "code",
   "execution_count": null,
   "outputs": [],
   "source": [
    "import spacy\n",
    "from spacy.lang.fr import French\n",
    "spacy.cli.download(\"fr_core_news_sm\")\n",
    "\n",
    "spacy_nlp = spacy.load('fr_core_news_sm')"
   ],
   "metadata": {
    "collapsed": false,
    "pycharm": {
     "name": "#%%\n"
    }
   }
  },
  {
   "cell_type": "code",
   "execution_count": null,
   "outputs": [],
   "source": [
    "from spacy.lang.fr.stop_words import STOP_WORDS\n",
    "stop_words = STOP_WORDS\n",
    "punctuations = spacy.lang.punctuation.PUNCT\n"
   ],
   "metadata": {
    "collapsed": false,
    "pycharm": {
     "name": "#%%\n"
    }
   }
  },
  {
   "cell_type": "code",
   "execution_count": null,
   "outputs": [],
   "source": [
    "def prepareText(text):\n",
    "  \"\"\"\n",
    "  This function clean the text. \n",
    "  \"\"\"\n",
    "\n",
    "  processing = spacy_nlp(text)\n",
    "  \n",
    "  # lowering words and lemming \n",
    "  # strip space \n",
    "  # don't apply lemming if the word is a pronoun because spacy convert the word in \"-PRON-\" and we need all the word \n",
    "  processing = [ word.lemma_.lower() if word.lemma_ != \"-PRON-\" else word.lower_ for word in processing ] \n",
    "\n",
    "  # remove stop words and punctuation \n",
    "\n",
    "  processing = [word  for word in processing if (word not in stop_words and punctuations)]\n",
    "\n",
    "  return processing  "
   ],
   "metadata": {
    "collapsed": false,
    "pycharm": {
     "name": "#%%\n"
    }
   }
  },
  {
   "cell_type": "code",
   "execution_count": 261,
   "outputs": [],
   "source": [
    "# create a copy of x \n",
    "\n",
    "x_doc = x.copy()"
   ],
   "metadata": {
    "collapsed": false,
    "pycharm": {
     "name": "#%%\n",
     "is_executing": false
    }
   }
  },
  {
   "cell_type": "code",
   "execution_count": 262,
   "outputs": [
    {
     "data": {
      "text/plain": "['[',\n 'musiqu',\n ']',\n 'brasserie',\n 'lamblin',\n 'entreprise',\n 'familial',\n 'créer',\n '150',\n 'an',\n 'alexis',\n 'génération',\n 'poursuivre',\n 'aventuré',\n 'métier',\n 'métier',\n 'approvisionner',\n 'client',\n 'café',\n 'bar',\n 'brasseries',\n 'région',\n 'livrer',\n 'boisson',\n 'consommateur',\n 'final',\n 'pouvoir',\n 'passer',\n 'moment',\n 'agréable',\n '[',\n 'musiqu',\n ']',\n 'ambition',\n 'brasserie',\n 'lambelin',\n 'acteur',\n 'important',\n 'chance',\n 'jour',\n 'croiser',\n 'camion',\n 'sillonner',\n 'nord',\n 'calais',\n 'aller',\n 'servir',\n '1000',\n 'client',\n 'client',\n 'ambition',\n 'faire',\n 'vivre',\n 'tissu',\n 'régional',\n 'travailler',\n 'effectivement',\n 'prestataire',\n 'local',\n 'fournisseur',\n 'local',\n 'mettre',\n 'permettre',\n 'contribuer',\n 'développemer',\n 'région',\n 'origine',\n 'avoisiner',\n 'récupère',\n 'fois',\n 'fût',\n 'caisse',\n 'emballage',\n 'consigner',\n 'grand',\n 'nouveauté',\n 'mettre',\n 'place',\n 'yer',\n 'an',\n 'recyclage',\n 'verre',\n 'convaincre',\n 'année',\n 'venir',\n 'sujet',\n 'important',\n 'permettre',\n 'développer',\n 'région',\n 'continuer',\n 'prendre',\n 'soin',\n 'environnement',\n '[',\n 'musiqu',\n ']',\n 'convaincre',\n 'équipe',\n 'brasserie',\n 'main',\n 'compétence',\n 'implication',\n 'sourire',\n 'aller',\n 'pouvoir',\n 'satisfair',\n 'chose',\n 'écrire',\n 'fort',\n '150',\n 'an',\n 'expérience',\n 'volonté',\n 'énergie',\n 'aller',\n 'relever',\n 'challenge',\n 'aventuré',\n 'poursuivre',\n '[',\n 'musiqu',\n ']']"
     },
     "metadata": {},
     "output_type": "execute_result",
     "execution_count": 262
    }
   ],
   "source": [
    "for i in range(0, len(x_doc)) :\n",
    "  x_doc[i] = prepareText(x_doc[i])\n",
    "\n",
    "x_doc[0]\n"
   ],
   "metadata": {
    "collapsed": false,
    "pycharm": {
     "name": "#%%\n",
     "is_executing": false
    }
   }
  },
  {
   "cell_type": "code",
   "execution_count": 263,
   "outputs": [],
   "source": [
    "x_doc_train, x_doc_test, y_doc_train, y_doc_test = train_test_split(x_doc, target, random_state=42, test_size=0.25, shuffle=True)"
   ],
   "metadata": {
    "collapsed": false,
    "pycharm": {
     "name": "#%%\n",
     "is_executing": false
    }
   }
  },
  {
   "cell_type": "code",
   "execution_count": 264,
   "outputs": [],
   "source": [
    "from gensim.models.doc2vec import TaggedDocument\n",
    "# create a tagged object \n",
    "taggedDocument = [TaggedDocument(doc, [tag]) for doc, tag in zip(x_doc_train, y_doc_train)]"
   ],
   "metadata": {
    "collapsed": false,
    "pycharm": {
     "name": "#%%\n",
     "is_executing": false
    }
   }
  },
  {
   "cell_type": "code",
   "execution_count": 265,
   "outputs": [
    {
     "data": {
      "text/plain": "[1]"
     },
     "metadata": {},
     "output_type": "execute_result",
     "execution_count": 265
    }
   ],
   "source": [
    "taggedDocument[0].tags\n",
    "\n"
   ],
   "metadata": {
    "collapsed": false,
    "pycharm": {
     "name": "#%%\n",
     "is_executing": false
    }
   }
  },
  {
   "cell_type": "code",
   "execution_count": 266,
   "outputs": [],
   "source": [
    "from gensim.models.doc2vec import Doc2Vec\n",
    "import multiprocessing\n",
    "cores = multiprocessing.cpu_count()\n",
    "\n",
    "doc2vec = Doc2Vec(dm=1, vector_size=400, window=20, min_count=2, negative=5, hs=0, sample=0, workers=cores)\n"
   ],
   "metadata": {
    "collapsed": false,
    "pycharm": {
     "name": "#%%\n",
     "is_executing": false
    }
   }
  },
  {
   "cell_type": "code",
   "execution_count": 267,
   "outputs": [],
   "source": [
    "doc2vec.build_vocab(taggedDocument)\n"
   ],
   "metadata": {
    "collapsed": false,
    "pycharm": {
     "name": "#%%\n",
     "is_executing": false
    }
   }
  },
  {
   "cell_type": "code",
   "execution_count": 270,
   "outputs": [],
   "source": [
    "from tqdm import tqdm\n",
    "\n",
    "max_epochs = 30\n",
    "\n",
    "for epoch in tqdm(range(max_epochs)):\n",
    "  doc2vec.train(taggedDocument, total_examples=len(taggedDocument), epochs=1)\n",
    "  doc2vec.alpha -= 0.0002\n",
    "  doc2vec.min_alpha = doc2vec.alpha\n"
   ],
   "metadata": {
    "collapsed": false,
    "pycharm": {
     "name": "#%%\n",
     "is_executing": false
    }
   }
  },
  {
   "cell_type": "code",
   "execution_count": 271,
   "outputs": [],
   "source": [
    "def vec_for_learning(doc2vec_model, tagged_docs):\n",
    "    targets, regressors = zip(*[(doc.tags[0], doc2vec_model.infer_vector(doc.words, steps=20)) for doc in tqdm(tagged_docs)])\n",
    "    return targets, regressors"
   ],
   "metadata": {
    "collapsed": false,
    "pycharm": {
     "name": "#%%\n",
     "is_executing": false
    }
   }
  },
  {
   "cell_type": "code",
   "execution_count": 272,
   "outputs": [],
   "source": [
    "from gensim.models.doc2vec import TaggedDocument\n",
    "# create a tagged object \n",
    "taggedDocument_test = [TaggedDocument(doc, [tag]) for doc, tag in zip(x_doc_test, y_doc_test)]\n",
    "\n"
   ],
   "metadata": {
    "collapsed": false,
    "pycharm": {
     "name": "#%%\n",
     "is_executing": false
    }
   }
  },
  {
   "cell_type": "code",
   "execution_count": 273,
   "outputs": [
    {
     "name": "stderr",
     "text": [
      "\r  0%|          | 0/1199 [00:00<?, ?it/s]",
      "\r  1%|          | 6/1199 [00:00<00:20, 58.75it/s]",
      "\r  1%|▏         | 16/1199 [00:00<00:17, 65.99it/s]",
      "\r  2%|▏         | 22/1199 [00:00<00:20, 58.64it/s]",
      "\r  2%|▏         | 29/1199 [00:00<00:19, 61.44it/s]",
      "\r  3%|▎         | 35/1199 [00:00<00:19, 58.27it/s]",
      "\r  3%|▎         | 41/1199 [00:00<00:20, 56.09it/s]",
      "\r  4%|▍         | 47/1199 [00:00<00:21, 53.33it/s]",
      "\r  4%|▍         | 53/1199 [00:00<00:21, 54.40it/s]",
      "\r  5%|▌         | 61/1199 [00:01<00:19, 58.76it/s]",
      "\r  6%|▌         | 67/1199 [00:01<00:25, 44.77it/s]",
      "\r  6%|▌         | 73/1199 [00:01<00:23, 47.98it/s]",
      "\r  7%|▋         | 81/1199 [00:01<00:21, 52.93it/s]",
      "\r  7%|▋         | 87/1199 [00:01<00:21, 52.57it/s]",
      "\r  8%|▊         | 93/1199 [00:01<00:24, 45.32it/s]",
      "\r  8%|▊         | 100/1199 [00:01<00:22, 49.20it/s]",
      "\r  9%|▉         | 106/1199 [00:01<00:21, 51.95it/s]",
      "\r  9%|▉         | 112/1199 [00:02<00:27, 39.79it/s]",
      "\r 10%|▉         | 117/1199 [00:02<00:26, 40.24it/s]",
      "\r 10%|█         | 123/1199 [00:02<00:24, 43.32it/s]",
      "\r 11%|█         | 130/1199 [00:02<00:22, 48.46it/s]",
      "\r 11%|█▏        | 136/1199 [00:02<00:30, 35.35it/s]",
      "\r 12%|█▏        | 144/1199 [00:02<00:24, 42.24it/s]",
      "\r 13%|█▎        | 150/1199 [00:03<00:22, 45.81it/s]",
      "\r 13%|█▎        | 159/1199 [00:03<00:23, 43.72it/s]",
      "\r 14%|█▍        | 165/1199 [00:03<00:22, 46.20it/s]",
      "\r 14%|█▍        | 171/1199 [00:03<00:21, 48.47it/s]",
      "\r 15%|█▍        | 179/1199 [00:03<00:18, 54.24it/s]",
      "\r 15%|█▌        | 185/1199 [00:03<00:27, 36.71it/s]",
      "\r 16%|█▌        | 192/1199 [00:03<00:23, 42.10it/s]",
      "\r 17%|█▋        | 205/1199 [00:04<00:18, 52.35it/s]",
      "\r 18%|█▊        | 214/1199 [00:04<00:16, 58.97it/s]",
      "\r 19%|█▊        | 222/1199 [00:04<00:19, 50.39it/s]",
      "\r 19%|█▉        | 229/1199 [00:04<00:19, 50.71it/s]",
      "\r 20%|█▉        | 236/1199 [00:04<00:17, 54.28it/s]",
      "\r 20%|██        | 245/1199 [00:04<00:15, 60.37it/s]",
      "\r 21%|██        | 252/1199 [00:04<00:18, 51.95it/s]",
      "\r 22%|██▏       | 260/1199 [00:05<00:16, 57.91it/s]",
      "\r 22%|██▏       | 268/1199 [00:05<00:17, 54.08it/s]",
      "\r 23%|██▎       | 275/1199 [00:05<00:16, 57.06it/s]",
      "\r 24%|██▎       | 284/1199 [00:05<00:14, 63.57it/s]",
      "\r 24%|██▍       | 291/1199 [00:05<00:15, 60.26it/s]",
      "\r 25%|██▍       | 298/1199 [00:05<00:15, 56.40it/s]",
      "\r 26%|██▌       | 306/1199 [00:05<00:14, 61.56it/s]",
      "\r 26%|██▌       | 313/1199 [00:05<00:14, 60.41it/s]",
      "\r 27%|██▋       | 320/1199 [00:06<00:15, 56.86it/s]",
      "\r 27%|██▋       | 329/1199 [00:06<00:13, 63.56it/s]",
      "\r 28%|██▊       | 336/1199 [00:06<00:14, 58.65it/s]",
      "\r 29%|██▊       | 343/1199 [00:06<00:15, 55.46it/s]",
      "\r 29%|██▉       | 351/1199 [00:06<00:14, 60.31it/s]",
      "\r 30%|██▉       | 359/1199 [00:06<00:14, 58.66it/s]",
      "\r 31%|███       | 366/1199 [00:06<00:15, 53.37it/s]",
      "\r 31%|███       | 372/1199 [00:06<00:15, 53.22it/s]",
      "\r 32%|███▏      | 378/1199 [00:07<00:18, 43.32it/s]",
      "\r 32%|███▏      | 384/1199 [00:07<00:17, 47.04it/s]",
      "\r 33%|███▎      | 394/1199 [00:07<00:14, 55.67it/s]",
      "\r 34%|███▎      | 404/1199 [00:07<00:12, 64.04it/s]",
      "\r 35%|███▍      | 414/1199 [00:07<00:11, 71.21it/s]",
      "\r 35%|███▌      | 423/1199 [00:07<00:12, 60.77it/s]",
      "\r 36%|███▌      | 431/1199 [00:07<00:12, 63.63it/s]",
      "\r 37%|███▋      | 439/1199 [00:08<00:13, 58.34it/s]",
      "\r 37%|███▋      | 446/1199 [00:08<00:12, 59.43it/s]",
      "\r 38%|███▊      | 453/1199 [00:08<00:12, 60.70it/s]",
      "\r 38%|███▊      | 460/1199 [00:08<00:13, 52.97it/s]",
      "\r 39%|███▉      | 467/1199 [00:08<00:13, 56.23it/s]",
      "\r 40%|███▉      | 474/1199 [00:08<00:12, 59.18it/s]",
      "\r 40%|████      | 481/1199 [00:08<00:13, 52.48it/s]",
      "\r 41%|████      | 490/1199 [00:08<00:11, 59.82it/s]",
      "\r 42%|████▏     | 499/1199 [00:09<00:10, 65.23it/s]",
      "\r 42%|████▏     | 507/1199 [00:09<00:14, 46.27it/s]",
      "\r 43%|████▎     | 513/1199 [00:09<00:13, 49.12it/s]",
      "\r 44%|████▎     | 522/1199 [00:09<00:12, 56.16it/s]",
      "\r 44%|████▍     | 531/1199 [00:09<00:11, 59.46it/s]",
      "\r 45%|████▍     | 538/1199 [00:09<00:12, 51.53it/s]",
      "\r 45%|████▌     | 544/1199 [00:09<00:12, 53.72it/s]",
      "\r 46%|████▌     | 551/1199 [00:10<00:11, 56.87it/s]",
      "\r 47%|████▋     | 558/1199 [00:10<00:11, 56.78it/s]",
      "\r 47%|████▋     | 567/1199 [00:10<00:10, 63.01it/s]",
      "\r 48%|████▊     | 574/1199 [00:10<00:11, 56.76it/s]",
      "\r 49%|████▊     | 583/1199 [00:10<00:09, 63.53it/s]",
      "\r 49%|████▉     | 591/1199 [00:10<00:09, 65.96it/s]",
      "\r 50%|████▉     | 599/1199 [00:10<00:10, 58.77it/s]",
      "\r 51%|█████     | 608/1199 [00:10<00:09, 64.99it/s]",
      "\r 51%|█████▏    | 616/1199 [00:11<00:09, 59.89it/s]",
      "\r 52%|█████▏    | 623/1199 [00:11<00:09, 60.30it/s]",
      "\r 53%|█████▎    | 632/1199 [00:11<00:08, 65.93it/s]",
      "\r 53%|█████▎    | 640/1199 [00:11<00:08, 65.70it/s]",
      "\r 54%|█████▍    | 647/1199 [00:11<00:09, 59.62it/s]",
      "\r 55%|█████▍    | 658/1199 [00:11<00:08, 67.37it/s]",
      "\r 56%|█████▌    | 666/1199 [00:11<00:08, 59.52it/s]",
      "\r 56%|█████▌    | 673/1199 [00:11<00:09, 58.24it/s]",
      "\r 57%|█████▋    | 681/1199 [00:12<00:08, 61.73it/s]",
      "\r 57%|█████▋    | 689/1199 [00:12<00:07, 65.77it/s]",
      "\r 58%|█████▊    | 696/1199 [00:12<00:07, 63.20it/s]",
      "\r 59%|█████▉    | 705/1199 [00:12<00:07, 68.17it/s]",
      "\r 59%|█████▉    | 713/1199 [00:12<00:07, 63.86it/s]",
      "\r 60%|██████    | 720/1199 [00:12<00:07, 63.42it/s]",
      "\r 61%|██████    | 729/1199 [00:12<00:06, 69.29it/s]",
      "\r 62%|██████▏   | 740/1199 [00:12<00:06, 66.83it/s]",
      "\r 62%|██████▏   | 747/1199 [00:13<00:07, 61.30it/s]",
      "\r 63%|██████▎   | 754/1199 [00:13<00:07, 59.42it/s]",
      "\r 63%|██████▎   | 761/1199 [00:13<00:09, 44.26it/s]",
      "\r 64%|██████▍   | 767/1199 [00:13<00:09, 47.76it/s]",
      "\r 65%|██████▍   | 775/1199 [00:13<00:07, 53.79it/s]",
      "\r 65%|██████▌   | 782/1199 [00:13<00:07, 57.59it/s]",
      "\r 66%|██████▌   | 789/1199 [00:13<00:08, 47.69it/s]",
      "\r 67%|██████▋   | 802/1199 [00:14<00:06, 58.77it/s]",
      "\r 68%|██████▊   | 810/1199 [00:14<00:06, 60.57it/s]",
      "\r 68%|██████▊   | 818/1199 [00:14<00:07, 52.99it/s]",
      "\r 69%|██████▉   | 826/1199 [00:14<00:06, 58.56it/s]",
      "\r 70%|██████▉   | 834/1199 [00:14<00:05, 62.72it/s]",
      "\r 70%|███████   | 843/1199 [00:14<00:05, 68.51it/s]",
      "\r 71%|███████   | 851/1199 [00:14<00:06, 56.41it/s]",
      "\r 72%|███████▏  | 859/1199 [00:15<00:05, 60.18it/s]",
      "\r 72%|███████▏  | 866/1199 [00:15<00:08, 40.49it/s]",
      "\r 73%|███████▎  | 872/1199 [00:15<00:08, 40.60it/s]",
      "\r 73%|███████▎  | 877/1199 [00:15<00:07, 42.54it/s]",
      "\r 74%|███████▎  | 882/1199 [00:15<00:08, 39.05it/s]",
      "\r 74%|███████▍  | 888/1199 [00:15<00:07, 42.60it/s]",
      "\r 75%|███████▍  | 894/1199 [00:15<00:06, 44.63it/s]",
      "\r 75%|███████▌  | 903/1199 [00:16<00:05, 50.88it/s]",
      "\r 76%|███████▌  | 909/1199 [00:16<00:05, 51.63it/s]",
      "\r 76%|███████▋  | 915/1199 [00:16<00:07, 35.96it/s]",
      "\r 77%|███████▋  | 924/1199 [00:16<00:06, 43.59it/s]",
      "\r 78%|███████▊  | 934/1199 [00:16<00:05, 51.80it/s]",
      "\r 79%|███████▉  | 947/1199 [00:16<00:04, 63.00it/s]",
      "\r 80%|███████▉  | 956/1199 [00:17<00:04, 51.75it/s]",
      "\r 80%|████████  | 964/1199 [00:17<00:04, 56.50it/s]",
      "\r 81%|████████  | 972/1199 [00:17<00:04, 56.09it/s]",
      "\r 82%|████████▏ | 981/1199 [00:17<00:03, 58.59it/s]",
      "\r 82%|████████▏ | 988/1199 [00:17<00:03, 55.41it/s]",
      "\r 83%|████████▎ | 995/1199 [00:17<00:03, 57.49it/s]",
      "\r 84%|████████▎ | 1002/1199 [00:17<00:04, 41.90it/s]",
      "\r 84%|████████▍ | 1008/1199 [00:18<00:04, 42.84it/s]",
      "\r 85%|████████▍ | 1018/1199 [00:18<00:03, 51.52it/s]",
      "\r 85%|████████▌ | 1025/1199 [00:18<00:04, 35.58it/s]",
      "\r 86%|████████▌ | 1031/1199 [00:18<00:04, 39.50it/s]",
      "\r 87%|████████▋ | 1038/1199 [00:18<00:03, 45.09it/s]",
      "\r 87%|████████▋ | 1044/1199 [00:19<00:04, 32.42it/s]",
      "\r 87%|████████▋ | 1049/1199 [00:19<00:04, 34.89it/s]",
      "\r 88%|████████▊ | 1055/1199 [00:19<00:03, 38.76it/s]",
      "\r 88%|████████▊ | 1061/1199 [00:19<00:03, 39.15it/s]",
      "\r 89%|████████▉ | 1066/1199 [00:19<00:03, 36.11it/s]",
      "\r 89%|████████▉ | 1072/1199 [00:19<00:03, 39.54it/s]",
      "\r 90%|████████▉ | 1077/1199 [00:20<00:06, 19.27it/s]",
      "\r 90%|█████████ | 1081/1199 [00:21<00:17,  6.59it/s]",
      "\r 91%|█████████ | 1090/1199 [00:21<00:11,  9.10it/s]",
      "\r 92%|█████████▏| 1098/1199 [00:22<00:08, 12.38it/s]",
      "\r 92%|█████████▏| 1105/1199 [00:22<00:05, 16.35it/s]",
      "\r 93%|█████████▎| 1111/1199 [00:22<00:04, 20.17it/s]",
      "\r 93%|█████████▎| 1120/1199 [00:22<00:03, 26.15it/s]",
      "\r 94%|█████████▍| 1127/1199 [00:22<00:02, 27.79it/s]",
      "\r 95%|█████████▍| 1134/1199 [00:22<00:01, 33.86it/s]",
      "\r 95%|█████████▌| 1142/1199 [00:22<00:01, 40.80it/s]",
      "\r 96%|█████████▌| 1150/1199 [00:22<00:01, 47.62it/s]",
      "\r 96%|█████████▋| 1157/1199 [00:23<00:01, 39.65it/s]",
      "\r 97%|█████████▋| 1163/1199 [00:23<00:00, 36.62it/s]",
      "\r 98%|█████████▊| 1170/1199 [00:23<00:00, 42.44it/s]",
      "\r 98%|█████████▊| 1176/1199 [00:23<00:00, 39.34it/s]",
      "\r 98%|█████████▊| 1181/1199 [00:23<00:00, 28.63it/s]",
      "\r 99%|█████████▉| 1189/1199 [00:24<00:00, 35.10it/s]",
      "\r100%|█████████▉| 1197/1199 [00:24<00:00, 41.81it/s]",
      "\r100%|██████████| 1199/1199 [00:24<00:00, 49.70it/s]",
      "\n\r  0%|          | 0/400 [00:00<?, ?it/s]",
      "\r  1%|          | 4/400 [00:00<00:21, 18.40it/s]",
      "\r  2%|▏         | 9/400 [00:00<00:17, 22.63it/s]",
      "\r  6%|▌         | 23/400 [00:00<00:12, 30.16it/s]",
      "\r  9%|▉         | 35/400 [00:00<00:09, 38.63it/s]",
      "\r 11%|█         | 43/400 [00:00<00:10, 33.09it/s]",
      "\r 13%|█▎        | 52/400 [00:00<00:08, 40.20it/s]",
      "\r 15%|█▌        | 60/400 [00:01<00:07, 47.06it/s]",
      "\r 18%|█▊        | 70/400 [00:01<00:06, 51.42it/s]",
      "\r 20%|██        | 80/400 [00:01<00:05, 59.16it/s]",
      "\r 22%|██▏       | 88/400 [00:01<00:05, 60.21it/s]",
      "\r 25%|██▍       | 99/400 [00:01<00:04, 65.18it/s]",
      "\r 27%|██▋       | 107/400 [00:01<00:04, 65.01it/s]",
      "\r 29%|██▉       | 115/400 [00:01<00:05, 48.03it/s]",
      "\r 30%|███       | 122/400 [00:02<00:05, 52.27it/s]",
      "\r 32%|███▎      | 130/400 [00:02<00:04, 58.25it/s]",
      "\r 35%|███▌      | 140/400 [00:02<00:03, 65.03it/s]",
      "\r 37%|███▋      | 148/400 [00:02<00:04, 54.02it/s]",
      "\r 40%|███▉      | 158/400 [00:02<00:03, 61.85it/s]",
      "\r 42%|████▏     | 169/400 [00:02<00:03, 71.13it/s]",
      "\r 44%|████▍     | 178/400 [00:02<00:03, 69.37it/s]",
      "\r 47%|████▋     | 187/400 [00:02<00:02, 73.22it/s]",
      "\r 49%|████▉     | 196/400 [00:03<00:02, 77.18it/s]",
      "\r 52%|█████▏    | 208/400 [00:03<00:02, 86.36it/s]",
      "\r 55%|█████▍    | 218/400 [00:03<00:02, 65.85it/s]",
      "\r 57%|█████▊    | 230/400 [00:03<00:02, 75.32it/s]",
      "\r 60%|██████    | 241/400 [00:03<00:01, 81.56it/s]",
      "\r 63%|██████▎   | 251/400 [00:03<00:01, 85.56it/s]",
      "\r 65%|██████▌   | 261/400 [00:03<00:02, 66.36it/s]",
      "\r 68%|██████▊   | 270/400 [00:04<00:01, 71.20it/s]",
      "\r 70%|███████   | 281/400 [00:04<00:01, 78.87it/s]",
      "\r 73%|███████▎  | 292/400 [00:04<00:01, 84.61it/s]",
      "\r 76%|███████▌  | 302/400 [00:04<00:01, 65.07it/s]",
      "\r 78%|███████▊  | 311/400 [00:04<00:01, 69.16it/s]",
      "\r 80%|████████  | 322/400 [00:04<00:01, 75.99it/s]",
      "\r 83%|████████▎ | 331/400 [00:04<00:01, 58.29it/s]",
      "\r 85%|████████▌ | 340/400 [00:05<00:00, 64.56it/s]",
      "\r 88%|████████▊ | 350/400 [00:05<00:00, 72.00it/s]",
      "\r 90%|█████████ | 360/400 [00:05<00:00, 77.67it/s]",
      "\r 92%|█████████▏| 369/400 [00:05<00:00, 52.62it/s]",
      "\r 94%|█████████▍| 378/400 [00:05<00:00, 59.28it/s]",
      "\r 97%|█████████▋| 387/400 [00:05<00:00, 65.91it/s]",
      "\r 99%|█████████▉| 397/400 [00:05<00:00, 64.32it/s]",
      "\r100%|██████████| 400/400 [00:05<00:00, 66.78it/s]",
      "\n"
     ],
     "output_type": "stream"
    }
   ],
   "source": [
    "y_tagged_doc_train, x_tagged_doc_train = vec_for_learning(doc2vec, taggedDocument)\n",
    "y_tagged_doc_test, x_tagged_doc_test = vec_for_learning(doc2vec, taggedDocument_test)"
   ],
   "metadata": {
    "collapsed": false,
    "pycharm": {
     "name": "#%%\n",
     "is_executing": false
    }
   }
  },
  {
   "cell_type": "code",
   "execution_count": 274,
   "outputs": [
    {
     "name": "stdout",
     "text": [
      "Modele : tuto score :               precision    recall  f1-score   support\n\n           0       0.55      0.34      0.42        88\n           1       0.47      0.73      0.57       100\n           2       0.30      0.22      0.25        50\n           3       0.45      0.42      0.43        36\n           4       0.67      0.56      0.61        77\n           5       0.44      0.51      0.47        49\n\n   micro avg       0.49      0.49      0.49       400\n   macro avg       0.48      0.46      0.46       400\nweighted avg       0.50      0.49      0.48       400\n\n"
     ],
     "output_type": "stream"
    },
    {
     "name": "stderr",
     "text": [
      "/Users/remy.d.w/Library/Python/3.6/lib/python/site-packages/sklearn/svm/base.py:931: ConvergenceWarning: Liblinear failed to converge, increase the number of iterations.\n  \"the number of iterations.\", ConvergenceWarning)\n"
     ],
     "output_type": "stream"
    }
   ],
   "source": [
    "model = LinearSVC()\n",
    "\n",
    "model.fit(x_tagged_doc_train, y_tagged_doc_train)  \n",
    "  \n",
    "predicted = model.predict(x_tagged_doc_test)\n",
    "\n",
    "# F1-Score & Recall & Precision \n",
    "score = classification_report(predicted, y_tagged_doc_test, labels=category)\n",
    "\n",
    "print(f\"Modele : {key} score : {score}\")"
   ],
   "metadata": {
    "collapsed": false,
    "pycharm": {
     "name": "#%%\n",
     "is_executing": false
    }
   }
  },
  {
   "cell_type": "code",
   "execution_count": null,
   "outputs": [],
   "source": [
    "from sklearn.manifold import TSNE\n",
    "tsne = TSNE(n_components=2)"
   ],
   "metadata": {
    "collapsed": false,
    "pycharm": {
     "name": "#%%\n"
    }
   }
  },
  {
   "cell_type": "code",
   "execution_count": 277,
   "outputs": [
    {
     "data": {
      "text/plain": "                                           documents  tags\n0  [0.14775851, -0.60166067, 0.5370192, 0.7919182...     1\n1  [0.22108231, -0.23361762, 0.08218013, 0.849419...     1\n2  [0.6152724, -0.5414209, 0.29280955, 0.8376238,...     4\n3  [0.31837204, -0.22011542, 0.36869735, 0.596127...     1\n4  [0.03411482, -0.14625444, 0.31684896, 0.682640...     1",
      "text/html": "<div>\n<style scoped>\n    .dataframe tbody tr th:only-of-type {\n        vertical-align: middle;\n    }\n\n    .dataframe tbody tr th {\n        vertical-align: top;\n    }\n\n    .dataframe thead th {\n        text-align: right;\n    }\n</style>\n<table border=\"1\" class=\"dataframe\">\n  <thead>\n    <tr style=\"text-align: right;\">\n      <th></th>\n      <th>documents</th>\n      <th>tags</th>\n    </tr>\n  </thead>\n  <tbody>\n    <tr>\n      <th>0</th>\n      <td>[0.14775851, -0.60166067, 0.5370192, 0.7919182...</td>\n      <td>1</td>\n    </tr>\n    <tr>\n      <th>1</th>\n      <td>[0.22108231, -0.23361762, 0.08218013, 0.849419...</td>\n      <td>1</td>\n    </tr>\n    <tr>\n      <th>2</th>\n      <td>[0.6152724, -0.5414209, 0.29280955, 0.8376238,...</td>\n      <td>4</td>\n    </tr>\n    <tr>\n      <th>3</th>\n      <td>[0.31837204, -0.22011542, 0.36869735, 0.596127...</td>\n      <td>1</td>\n    </tr>\n    <tr>\n      <th>4</th>\n      <td>[0.03411482, -0.14625444, 0.31684896, 0.682640...</td>\n      <td>1</td>\n    </tr>\n  </tbody>\n</table>\n</div>"
     },
     "metadata": {},
     "output_type": "execute_result",
     "execution_count": 277
    }
   ],
   "source": [
    "doc_df = pd.DataFrame({'documents':x_tagged_doc_train, 'tags':y_tagged_doc_train})\n",
    "doc_df.head()"
   ],
   "metadata": {
    "collapsed": false,
    "pycharm": {
     "name": "#%%\n",
     "is_executing": false
    }
   }
  },
  {
   "cell_type": "code",
   "execution_count": 281,
   "outputs": [
    {
     "data": {
      "text/plain": "    Id  Unnamed: 0  Unnamed: 0.1                 category  \\\n2  NaN         2.0           NaN  présentation entreprise   \n4  NaN         4.0           NaN  présentation entreprise   \n6  NaN         6.0           NaN  présentation entreprise   \n10 NaN        10.0           NaN  présentation entreprise   \n12 NaN        12.0           NaN  présentation entreprise   \n\n                                          description         link  \\\n2   Présentation de \"Brasserie Lambelin\" à l'occas...  MWsdG52R9uQ   \n4   Découvrez notre premier rapport intégré sur \\n...  gVmZc9hx7X8   \n6                                                 NaN  9y6MHBWb_A8   \n10  Découvrez les étapes de fabrication des portai...  N0ugA8uAHfA   \n12  RENZ _ fabricant de boites aux lettres et boit...  RLhvTYjlBVA   \n\n                                                title  \\\n2    Brasserie Lambelin: Présentation de l'entreprise   \n4   Film institutionnel de présentation du groupe ...   \n6                 RTBF : présentation de l'entreprise   \n10       TSCHOEPPE - Présentation d'entreprise - 2018   \n12  Renz - présentation entreprise - Soirée entrep...   \n\n                                       transcriptions  \n2   [Musique] la brasserie lamblin c'est une entre...  \n4   Créée par des entrepreneurs\\npour des entrepre...  \n6   jusqu'à 9 heures viva week-end philippe tu sai...  \n10  [Musique] bonjour je suis philippe je paie act...  \n12  bienvenue chez rain's les boîtes aux lettres i...  ",
      "text/html": "<div>\n<style scoped>\n    .dataframe tbody tr th:only-of-type {\n        vertical-align: middle;\n    }\n\n    .dataframe tbody tr th {\n        vertical-align: top;\n    }\n\n    .dataframe thead th {\n        text-align: right;\n    }\n</style>\n<table border=\"1\" class=\"dataframe\">\n  <thead>\n    <tr style=\"text-align: right;\">\n      <th></th>\n      <th>Id</th>\n      <th>Unnamed: 0</th>\n      <th>Unnamed: 0.1</th>\n      <th>category</th>\n      <th>description</th>\n      <th>link</th>\n      <th>title</th>\n      <th>transcriptions</th>\n    </tr>\n  </thead>\n  <tbody>\n    <tr>\n      <th>2</th>\n      <td>NaN</td>\n      <td>2.0</td>\n      <td>NaN</td>\n      <td>présentation entreprise</td>\n      <td>Présentation de \"Brasserie Lambelin\" à l'occas...</td>\n      <td>MWsdG52R9uQ</td>\n      <td>Brasserie Lambelin: Présentation de l'entreprise</td>\n      <td>[Musique] la brasserie lamblin c'est une entre...</td>\n    </tr>\n    <tr>\n      <th>4</th>\n      <td>NaN</td>\n      <td>4.0</td>\n      <td>NaN</td>\n      <td>présentation entreprise</td>\n      <td>Découvrez notre premier rapport intégré sur \\n...</td>\n      <td>gVmZc9hx7X8</td>\n      <td>Film institutionnel de présentation du groupe ...</td>\n      <td>Créée par des entrepreneurs\\npour des entrepre...</td>\n    </tr>\n    <tr>\n      <th>6</th>\n      <td>NaN</td>\n      <td>6.0</td>\n      <td>NaN</td>\n      <td>présentation entreprise</td>\n      <td>NaN</td>\n      <td>9y6MHBWb_A8</td>\n      <td>RTBF : présentation de l'entreprise</td>\n      <td>jusqu'à 9 heures viva week-end philippe tu sai...</td>\n    </tr>\n    <tr>\n      <th>10</th>\n      <td>NaN</td>\n      <td>10.0</td>\n      <td>NaN</td>\n      <td>présentation entreprise</td>\n      <td>Découvrez les étapes de fabrication des portai...</td>\n      <td>N0ugA8uAHfA</td>\n      <td>TSCHOEPPE - Présentation d'entreprise - 2018</td>\n      <td>[Musique] bonjour je suis philippe je paie act...</td>\n    </tr>\n    <tr>\n      <th>12</th>\n      <td>NaN</td>\n      <td>12.0</td>\n      <td>NaN</td>\n      <td>présentation entreprise</td>\n      <td>RENZ _ fabricant de boites aux lettres et boit...</td>\n      <td>RLhvTYjlBVA</td>\n      <td>Renz - présentation entreprise - Soirée entrep...</td>\n      <td>bienvenue chez rain's les boîtes aux lettres i...</td>\n    </tr>\n  </tbody>\n</table>\n</div>"
     },
     "metadata": {},
     "output_type": "execute_result",
     "execution_count": 281
    }
   ],
   "source": [
    "concat_df.head()"
   ],
   "metadata": {
    "collapsed": false,
    "pycharm": {
     "name": "#%%\n",
     "is_executing": false
    }
   }
  },
  {
   "cell_type": "code",
   "execution_count": 283,
   "outputs": [],
   "source": [
    "X = doc2vec[target]\n",
    "reduced_embedding = tsne.fit_transform(X)"
   ],
   "metadata": {
    "collapsed": false,
    "pycharm": {
     "name": "#%%\n",
     "is_executing": false
    }
   }
  },
  {
   "cell_type": "code",
   "execution_count": 284,
   "outputs": [],
   "source": [
    "x_values = [vector[0] for vector in reduced_embedding]\n",
    "y_values = [vector[1] for vector in reduced_embedding]\n",
    "target_names = concat_df['category'].values"
   ],
   "metadata": {
    "collapsed": false,
    "pycharm": {
     "name": "#%%\n",
     "is_executing": false
    }
   }
  },
  {
   "cell_type": "code",
   "execution_count": 285,
   "outputs": [
    {
     "data": {
      "text/plain": "           x          y                     tags\n0  23.305052 -23.093597  présentation entreprise\n1  24.078497 -22.200068  présentation entreprise\n2  24.078497 -22.200068  présentation entreprise\n3  22.874569 -24.317190  présentation entreprise\n4  24.078497 -22.200068  présentation entreprise",
      "text/html": "<div>\n<style scoped>\n    .dataframe tbody tr th:only-of-type {\n        vertical-align: middle;\n    }\n\n    .dataframe tbody tr th {\n        vertical-align: top;\n    }\n\n    .dataframe thead th {\n        text-align: right;\n    }\n</style>\n<table border=\"1\" class=\"dataframe\">\n  <thead>\n    <tr style=\"text-align: right;\">\n      <th></th>\n      <th>x</th>\n      <th>y</th>\n      <th>tags</th>\n    </tr>\n  </thead>\n  <tbody>\n    <tr>\n      <th>0</th>\n      <td>23.305052</td>\n      <td>-23.093597</td>\n      <td>présentation entreprise</td>\n    </tr>\n    <tr>\n      <th>1</th>\n      <td>24.078497</td>\n      <td>-22.200068</td>\n      <td>présentation entreprise</td>\n    </tr>\n    <tr>\n      <th>2</th>\n      <td>24.078497</td>\n      <td>-22.200068</td>\n      <td>présentation entreprise</td>\n    </tr>\n    <tr>\n      <th>3</th>\n      <td>22.874569</td>\n      <td>-24.317190</td>\n      <td>présentation entreprise</td>\n    </tr>\n    <tr>\n      <th>4</th>\n      <td>24.078497</td>\n      <td>-22.200068</td>\n      <td>présentation entreprise</td>\n    </tr>\n  </tbody>\n</table>\n</div>"
     },
     "metadata": {},
     "output_type": "execute_result",
     "execution_count": 285
    }
   ],
   "source": [
    "tnse_doc_df = pd.DataFrame({'x':x_values, 'y':y_values, 'tags':target_names})\n",
    "tnse_doc_df.head()"
   ],
   "metadata": {
    "collapsed": false,
    "pycharm": {
     "name": "#%%\n",
     "is_executing": false
    }
   }
  },
  {
   "cell_type": "code",
   "execution_count": 287,
   "outputs": [
    {
     "data": {
      "text/plain": "<matplotlib.axes._subplots.AxesSubplot at 0x12b27f128>"
     },
     "metadata": {},
     "output_type": "execute_result",
     "execution_count": 287
    },
    {
     "data": {
      "text/plain": "<Figure size 1440x720 with 1 Axes>",
      "image/png": "[encoded data removed]"
     },
     "metadata": {
      "needs_background": "light"
     },
     "output_type": "display_data"
    }
   ],
   "source": [
    "import matplotlib.pyplot as plt \n",
    "import seaborn as sns\n",
    "\n",
    "\n",
    "plt.rcParams['figure.figsize']=20,10\n",
    "sns.scatterplot(x='x', y='y', data=tnse_doc_df, hue='category')"
   ],
   "metadata": {
    "collapsed": false,
    "pycharm": {
     "name": "#%%\n",
     "is_executing": false
    }
   }
  }
 ],
 "metadata": {
  "language_info": {
   "codemirror_mode": {
    "name": "ipython",
    "version": 2
   },
   "file_extension": ".py",
   "mimetype": "text/x-python",
   "name": "python",
   "nbconvert_exporter": "python",
   "pygments_lexer": "ipython2",
   "version": "2.7.6"
  },
  "kernelspec": {
   "name": "python3",
   "language": "python",
   "display_name": "Python 3"
  },
  "pycharm": {
   "stem_cell": {
    "cell_type": "raw",
    "source": [],
    "metadata": {
     "collapsed": false
    }
   }
  }
 },
 "nbformat": 4,
 "nbformat_minor": 0
}