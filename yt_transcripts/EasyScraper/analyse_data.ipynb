{
 "cells": [
  {
   "cell_type": "code",
   "execution_count": 239,
   "outputs": [
    {
     "name": "stdout",
     "text": [
      "_______________________ Analyzing dataset ppentreprise_data.csv ___________________________________\n   Unnamed: 0         link                                              title  \\\n0           0    PAeQD_64x                   Présentation Entreprise Rousseau   \n1           1   QfCHZX1PnP              Présentation de l'entreprise Boréalie   \n2           2  MWsdG52R9uQ   Brasserie Lambelin: Présentation de l'entreprise   \n3           3   D264CLOFKE                   Présentation de l'entreprise DBC   \n4           4  gVmZc9hx7X8  Film institutionnel de présentation du groupe ...   \n\n                                         description                 category  \\\n0  Fondée en 1976, Rousseau est une entreprise de...  présentation entreprise   \n1  Présentation de l'entreprise Boréalie cosmétiq...  présentation entreprise   \n2  Présentation de \"Brasserie Lambelin\" à l'occas...  présentation entreprise   \n3  Visite de la société DBC, spécialiste de l'usi...  présentation entreprise   \n4  Découvrez notre premier rapport intégré sur \\n...  présentation entreprise   \n\n                                      transcriptions  \n0                                                     \n1                                                     \n2  [Musique] la brasserie lamblin c'est une entre...  \n3                                                     \n4  Créée par des entrepreneurs\\npour des entrepre...  \n_______________________ Analyzing dataset presentation_produit_data.csv ___________________________________\n   Unnamed: 0  Unnamed: 0.1         link  \\\n0           1             1  gVSYaW-PI2A   \n1           2             2  TZdv50yboq4   \n2           7             7  LxhtlATHkn0   \n3           8             8  XGgy0p1dW30   \n4          11            11  Pl2vL9Se__E   \n\n                                               title  \\\n0          EXEMPLE VIDEO SOIREE LANCEMENT DE PRODUIT   \n1  Présentation par Jean-Marc Chignard du nouveau...   \n2  KUHN HR + VENTA - Herse rotative et Semoir - C...   \n3                                                NaN   \n4                                                NaN   \n\n                                         description              category  \\\n0  EXEMPLE VIDEO SOIREE LANCEMENT DE PRODUIT\\nRéa...  presentation produit   \n1  BRACELET D'APPRENTISSAGE DEVAUX ALF DVX\\n\\nUn ...  presentation produit   \n2                    Retrouvez nous sur www.kuhn.com  presentation produit   \n3                                                NaN  presentation produit   \n4  Leroy Merlin vous présente le retrait marchand...  presentation produit   \n\n                                      transcriptions  \n0  Nous avons le plaisir de lancer ce soir qui pe...  \n1  [Musique] je vais vous présenter aujourd'hui l...  \n2  bonjour je m'appelle julien north je suis resp...  \n3  je vous présente la scoop elle 100% freestyle ...  \n4    Je m'appelle Florent Carlier, je travaille a...  \n_______________________ Analyzing dataset offre_emploie_data.csv ___________________________________\n    Id         link                                              title  \\\n0  103  92fZqrgn5l0                                                NaN   \n1  104   _KZsdo2oXk  Les 12 offres d'emploi du 09 Octobre 2019 au S...   \n2  105  1Irno56NI0U  Monster a fait le plein d'offres d'emploi, vie...   \n3  106  Oe1UMy3Bhhk                                                NaN   \n4  107    fOtRvhFOI  Offre d'emploi Business Developers H/F - OpenS...   \n\n                                         description       category  \\\n0  Offres d'emploi Genève : https://geneve-job.ch...  offre emploie   \n1  Les 12 offres d'emploi du 09 Octobre 2019 au S...  offre emploie   \n2                                                NaN  offre emploie   \n3  société cherche dessinateur maitrise du logici...  offre emploie   \n4  Pour postuler : https://opensourcing.com/offre...  offre emploie   \n\n                                      transcriptions  \n0  Bonjour et bienvenue sur la chaîne de geneve-j...  \n1                                                     \n2                                                     \n3                                                     \n4                                                     \n_______________________ Analyzing dataset presentation_metier_data.csv ___________________________________\n",
      "   Unnamed: 0  Unnamed: 0.1         link  \\\n0          24            24  V0TXJR1EeUk   \n1          52            52  lcPS72DqmA0   \n2          74            74  CVxEudtUt5M   \n3          97            97  LMU4FAmOPZY   \n4         122           122  lwnjnjv4I8I   \n\n                                               title  \\\n0  [TUTORIEL] Le b. a.-ba : les finitions et les ...   \n1  Renault SCENIC - TUTORIEL - INTRODUCTION AU R-...   \n2  TUTORIEL : Astuces pour monter ses vidéos de v...   \n3              Renault CLIO - TUTORIEL - LE MODE ÉCO   \n4       Renault CLIO - TUTORIEL - LE TABLEAU DE BORD   \n\n                                         description             category  \\\n0  Vous êtes couturière débutante ? Retrouvez nos...  presentation metier   \n1  Dans cette vidéo nous allons vous introduire à...  presentation metier   \n2  Comment monter ses vidéos de voyage ? Le monta...  presentation metier   \n3  Dans cette vidéo nous allons vous apprendre à ...  presentation metier   \n4  Dans cette vidéo nous allons vous apprendre à ...  presentation metier   \n\n                                      transcriptions  \n0    Bonjour! Burda style vous propose dans ses v...  \n1    [Musique] erling 2 est un système multimédia...  \n2    [Musique] et bonjour alors aujourd'hui on a ...  \n3    [Musique] le mode eco est une fonction qui o...  \n4    [Musique] le tableau de bord répertorie les ...  \n_______________________ Analyzing dataset temoignage_clients_data.csv ___________________________________\n   Unnamed: 0  Unnamed: 0.1         link  \\\n0           0             0  QVksLWO2yvQ   \n1           6             6  k7Pgi8u-jeE   \n2           8             8  7JC_iWn1Me4   \n3           9             9  20RzM3GdAFk   \n4          19            19  rWKjjoQteQE   \n\n                                               title  \\\n0                Témoignage client Michel & Augustin   \n1             Témoignage client Maisons Ericlor (86)   \n2                              Témoignage client EBP   \n3  Dropbox change les pratiques collaboratives de...   \n4                                                NaN   \n\n                                         description    category  \\\n0  Le groupe Avril par le biais de sa filiale Ovo...  temoignage   \n1  Reportage chez Frédéric et Malika qui nous par...  temoignage   \n2  Découvrez comment l’éditeur de logiciels EBP a...  temoignage   \n3  Créée en 2010, l'agence de communication digit...  temoignage   \n4                                                NaN  temoignage   \n\n                                      transcriptions  \n0    [Musique] alors je m'appelle marion ça fait ...  \n1    [Musique] les lions et les couleurs j'ai ren...  \n2    e [Musique] le groupe bp est un éditeur de l...  \n3    on a créé castor et pollux en 2010 c'est don...  \n4    ici on est aguer ces petits villages qui est...  \n_______________________ Analyzing dataset tuto_data.csv ___________________________________\n",
      "   Unnamed: 0  Unnamed: 0.1         link  \\\n0          22            22  R5ZXEX8FagM   \n1          40            40  NO7j6F3nM0E   \n2         109           109  SpYVJ4xC4R0   \n3         112           112  kINZMjys3O4   \n4         116           116  gYnKBKeaGXk   \n\n                                               title  \\\n0              Mavic Pro tutoriel - Le focus peaking   \n1                        tutoriel make up effet nude   \n2  MAFIOSA - Le tutoriel de Sandra Paoli - CANAL+...   \n3        Faire un nœud de cravate - tutoriel cravate   \n4    Roue libre vtt - Conseils et tutoriel pro - 299   \n\n                                         description  category  \\\n0  Dji Go 4 offre une fonction de focus peaking. ...  tutoriel   \n1  vive le maquillage qui dégouline..partage tes ...  tutoriel   \n2  Qui d'autre que Sandra Paoli pour donner les m...  tutoriel   \n3  Faire un nœud de cravate - apprenez grâce au t...  tutoriel   \n4  Tutoriel roue libre vtt - Comment démonter sa ...  tutoriel   \n\n                                      transcriptions  \n0    bonjour à tous bienvenue sur cette vidéo de ...  \n1    bonjour ,(rire) aujourd'hui avec croco on a ...  \n2    je t'ai dit que c'était une femme et tumoral...  \n3    bonjour tout le monde en cette période de fê...  \n4    bonjour cyril merci de me recevoir ici chez ...  \n"
     ],
     "output_type": "stream"
    }
   ],
   "source": [
    "import pandas as pd\n",
    "\n",
    "dataset_path = {'pent':'ppentreprise_data.csv', 'pproduit':'presentation_produit_data.csv', 'oemploie':'offre_emploie_data.csv', 'pmetier':'presentation_metier_data.csv', 'temoignage':'temoignage_clients_data.csv', 'tuto':'tuto_data.csv'}\n",
    "\n",
    "dfs = {}\n",
    "\n",
    "for key, path in dataset_path.items():\n",
    "    print(f'_______________________ Analyzing dataset {path} ___________________________________')\n",
    "    dfs[key] = pd.read_csv('./cleaned_dataset/' + path, delimiter=';')\n",
    "    print(dfs[key].head())\n",
    "\n",
    "# we are going to concatenate all the data \n",
    "concat_df = pd.concat([dfs['pent'], dfs['pproduit'],  dfs['pmetier'], dfs['temoignage'], dfs['tuto'], dfs['oemploie']], axis=0, sort=True)\n"
   ],
   "metadata": {
    "collapsed": false,
    "pycharm": {
     "name": "#%%\n",
     "is_executing": false
    }
   }
  },
  {
   "cell_type": "code",
   "execution_count": 240,
   "outputs": [
    {
     "data": {
      "text/plain": "(2218, 8)"
     },
     "metadata": {},
     "output_type": "execute_result",
     "execution_count": 240
    }
   ],
   "source": [
    "concat_df.shape\n"
   ],
   "metadata": {
    "collapsed": false,
    "pycharm": {
     "name": "#%% \n",
     "is_executing": false
    }
   }
  },
  {
   "cell_type": "code",
   "execution_count": 241,
   "outputs": [
    {
     "data": {
      "text/plain": "(1599, 8)"
     },
     "metadata": {},
     "output_type": "execute_result",
     "execution_count": 241
    }
   ],
   "source": [
    "concat_df = concat_df[concat_df['transcriptions'] != ' ']\n",
    "concat_df.shape"
   ],
   "metadata": {
    "collapsed": false,
    "pycharm": {
     "name": "#%%\n",
     "is_executing": false
    }
   }
  },
  {
   "cell_type": "code",
   "execution_count": 242,
   "outputs": [],
   "source": [
    "x_train = concat_df['transcriptions'].values"
   ],
   "metadata": {
    "collapsed": false,
    "pycharm": {
     "name": "#%%\n",
     "is_executing": false
    }
   }
  },
  {
   "cell_type": "code",
   "execution_count": 243,
   "outputs": [
    {
     "data": {
      "text/plain": "presentation metier        619\ntemoignage                 280\noffre emploie              223\ntutoriel                   183\nprésentation entreprise    150\npresentation produit       144\nName: category, dtype: int64"
     },
     "metadata": {},
     "output_type": "execute_result",
     "execution_count": 243
    }
   ],
   "source": [
    "concat_df['category'].value_counts()"
   ],
   "metadata": {
    "collapsed": false,
    "pycharm": {
     "name": "#%%\n",
     "is_executing": false
    }
   }
  },
  {
   "cell_type": "code",
   "execution_count": 244,
   "outputs": [
    {
     "data": {
      "text/plain": "count                    1599\nunique                      6\ntop       presentation metier\nfreq                      619\nName: category, dtype: object"
     },
     "metadata": {},
     "output_type": "execute_result",
     "execution_count": 244
    }
   ],
   "source": [
    "concat_df['category'].describe()\n"
   ],
   "metadata": {
    "collapsed": false,
    "pycharm": {
     "name": "#%%\n",
     "is_executing": false
    }
   }
  },
  {
   "cell_type": "code",
   "execution_count": 260,
   "outputs": [],
   "source": [
    "concat_df.to_csv('cleaned_dataset/easyMovieCategory_dataset.csv', sep=';', header=True,  mode='w')"
   ],
   "metadata": {
    "collapsed": false,
    "pycharm": {
     "name": "#%%\n",
     "is_executing": false
    }
   }
  },
  {
   "cell_type": "markdown",
   "source": [
    "We are going to train a TF-IDF+LinearSVC model on it. But first we need to clean the data.\n",
    "We use the previously build pipline to clean and train the model. "
   ],
   "metadata": {
    "collapsed": false
   }
  },
  {
   "cell_type": "markdown",
   "source": [
    "The dataset is not well balanced."
   ],
   "metadata": {
    "collapsed": false
   }
  },
  {
   "cell_type": "markdown",
   "source": [
    "# Clean the data \n",
    "\n",
    "The first step we are going to use spacy to clean the data by :\n",
    "\n",
    "* lower all the word to avoid that word like : Hello HELLO or hello are \n",
    "considered as 3 differents words.\n",
    "* removing stop words \n",
    "* removing punctuation \n",
    "* lemming \n",
    "\n",
    "\n",
    "Note : In the second part we will do the same without lemming to see the performance."
   ],
   "metadata": {
    "collapsed": false
   }
  },
  {
   "cell_type": "code",
   "execution_count": 245,
   "outputs": [
    {
     "name": "stdout",
     "text": [
      "\u001b[38;5;2m✔ Download and installation successful\u001b[0m\nYou can now load the model via spacy.load('fr_core_news_sm')\n"
     ],
     "output_type": "stream"
    }
   ],
   "source": [
    "import spacy\n",
    "from spacy.lang.fr import French\n",
    "spacy.cli.download(\"fr_core_news_sm\")\n",
    "\n",
    "spacy_nlp = spacy.load('fr_core_news_sm')"
   ],
   "metadata": {
    "collapsed": false,
    "pycharm": {
     "name": "#%%\n",
     "is_executing": false
    }
   }
  },
  {
   "cell_type": "code",
   "execution_count": 246,
   "outputs": [],
   "source": [
    "from spacy.lang.fr.stop_words import STOP_WORDS\n",
    "stop_words = STOP_WORDS\n",
    "punctuations = spacy.lang.punctuation.PUNCT"
   ],
   "metadata": {
    "collapsed": false,
    "pycharm": {
     "name": "#%%\n",
     "is_executing": false
    }
   }
  },
  {
   "cell_type": "code",
   "execution_count": 247,
   "outputs": [],
   "source": [
    "# create a copy of the dataset \n",
    "x = concat_df['transcriptions'].values\n",
    "target = concat_df['category'].values"
   ],
   "metadata": {
    "collapsed": false,
    "pycharm": {
     "name": "#%%\n",
     "is_executing": false
    }
   }
  },
  {
   "cell_type": "code",
   "execution_count": 248,
   "outputs": [],
   "source": [
    "import numpy as np\n",
    "\n",
    "category = np.unique(concat_df['category'].values)"
   ],
   "metadata": {
    "collapsed": false,
    "pycharm": {
     "name": "#%%\n",
     "is_executing": false
    }
   }
  },
  {
   "cell_type": "code",
   "execution_count": 249,
   "outputs": [],
   "source": [
    "from sklearn.preprocessing import LabelEncoder\n",
    "\n",
    "encodage = LabelEncoder()\n",
    "target = encodage.fit_transform(target)"
   ],
   "metadata": {
    "collapsed": false,
    "pycharm": {
     "name": "#%%\n",
     "is_executing": false
    }
   }
  },
  {
   "cell_type": "code",
   "execution_count": 250,
   "outputs": [],
   "source": [
    "category = encodage.fit_transform(category)"
   ],
   "metadata": {
    "collapsed": false,
    "pycharm": {
     "name": "#%%\n",
     "is_executing": false
    }
   }
  },
  {
   "cell_type": "code",
   "execution_count": 251,
   "outputs": [],
   "source": [
    "from sklearn.model_selection import train_test_split\n",
    "\n",
    "x_train, x_test, y_train, y_test = train_test_split(x, target, random_state=42, test_size=0.3, shuffle=True)"
   ],
   "metadata": {
    "collapsed": false,
    "pycharm": {
     "name": "#%%\n",
     "is_executing": false
    }
   }
  },
  {
   "cell_type": "markdown",
   "source": [
    "We will implement the same function but without lemming. We could add a boolean variable to indicate if we do lemming or not but for performance reason I prefer to implement an other function.\n",
    "\n",
    "Let's test this one \n"
   ],
   "metadata": {
    "collapsed": false
   }
  },
  {
   "cell_type": "code",
   "execution_count": 252,
   "outputs": [
    {
     "data": {
      "text/plain": "(1119,)"
     },
     "metadata": {},
     "output_type": "execute_result",
     "execution_count": 252
    }
   ],
   "source": [
    "x_train.shape\n"
   ],
   "metadata": {
    "collapsed": false,
    "pycharm": {
     "name": "#%%\n",
     "is_executing": false
    }
   }
  },
  {
   "cell_type": "code",
   "execution_count": 253,
   "outputs": [],
   "source": [
    "from sklearn.svm import LinearSVC"
   ],
   "metadata": {
    "collapsed": false,
    "pycharm": {
     "name": "#%%\n",
     "is_executing": false
    }
   }
  },
  {
   "cell_type": "code",
   "execution_count": 254,
   "outputs": [],
   "source": [
    "from sklearn.feature_extraction.text import CountVectorizer\n",
    "from sklearn.feature_extraction.text import TfidfTransformer\n",
    "from sklearn.svm import LinearSVC\n",
    "\n",
    "from sklearn.pipeline import Pipeline\n",
    "\n",
    "linear_clf = Pipeline([('vect', CountVectorizer()),\n",
    "                      ('tfidf', TfidfTransformer()),\n",
    "                      ('clf', LinearSVC())])"
   ],
   "metadata": {
    "collapsed": false,
    "pycharm": {
     "name": "#%%\n",
     "is_executing": false
    }
   }
  },
  {
   "cell_type": "code",
   "execution_count": 255,
   "outputs": [
    {
     "data": {
      "text/plain": "Pipeline(memory=None,\n     steps=[('vect', CountVectorizer(analyzer='word', binary=False, decode_error='strict',\n        dtype=<class 'numpy.int64'>, encoding='utf-8', input='content',\n        lowercase=True, max_df=1.0, max_features=None, min_df=1,\n        ngram_range=(1, 1), preprocessor=None, stop_words=None,\n        strip...ax_iter=1000,\n     multi_class='ovr', penalty='l2', random_state=None, tol=0.0001,\n     verbose=0))])"
     },
     "metadata": {},
     "output_type": "execute_result",
     "execution_count": 255
    }
   ],
   "source": [
    "linear_clf.fit(x_train, y_train)"
   ],
   "metadata": {
    "collapsed": false,
    "pycharm": {
     "name": "#%%\n",
     "is_executing": false
    }
   }
  },
  {
   "cell_type": "code",
   "execution_count": 256,
   "outputs": [],
   "source": [
    "predicted = linear_clf.predict(x_test)"
   ],
   "metadata": {
    "collapsed": false,
    "pycharm": {
     "name": "#%%\n",
     "is_executing": false
    }
   }
  },
  {
   "cell_type": "code",
   "execution_count": 257,
   "outputs": [
    {
     "data": {
      "text/plain": "(0.8432075345619748, 0.84375, 0.840136126556823, None)"
     },
     "metadata": {},
     "output_type": "execute_result",
     "execution_count": 257
    }
   ],
   "source": [
    "from sklearn.metrics import precision_recall_fscore_support\n",
    "\n",
    "precision_recall_fscore_support(y_test, predicted, average='weighted')"
   ],
   "metadata": {
    "collapsed": false,
    "pycharm": {
     "name": "#%%\n",
     "is_executing": false
    }
   }
  },
  {
   "cell_type": "code",
   "execution_count": 258,
   "outputs": [],
   "source": [
    "from sklearn.metrics import classification_report\n",
    "\n",
    "score = classification_report(y_pred=predicted, y_true=y_test, labels=category)"
   ],
   "metadata": {
    "collapsed": false,
    "pycharm": {
     "name": "#%%\n",
     "is_executing": false
    }
   }
  },
  {
   "cell_type": "code",
   "execution_count": 259,
   "outputs": [
    {
     "name": "stdout",
     "text": [
      "              precision    recall  f1-score   support\n\n           0       0.96      0.77      0.86        62\n           1       0.85      0.95      0.90       186\n           2       0.70      0.60      0.64        47\n           3       0.76      0.63      0.69        41\n           4       0.87      0.87      0.87        76\n           5       0.82      0.90      0.86        68\n\n   micro avg       0.84      0.84      0.84       480\n   macro avg       0.83      0.79      0.80       480\nweighted avg       0.84      0.84      0.84       480\n\n"
     ],
     "output_type": "stream"
    }
   ],
   "source": [
    "print(score)"
   ],
   "metadata": {
    "collapsed": false,
    "pycharm": {
     "name": "#%%\n",
     "is_executing": false
    }
   }
  }
 ],
 "metadata": {
  "language_info": {
   "codemirror_mode": {
    "name": "ipython",
    "version": 2
   },
   "file_extension": ".py",
   "mimetype": "text/x-python",
   "name": "python",
   "nbconvert_exporter": "python",
   "pygments_lexer": "ipython2",
   "version": "2.7.6"
  },
  "kernelspec": {
   "name": "python3",
   "language": "python",
   "display_name": "Python 3"
  },
  "pycharm": {
   "stem_cell": {
    "cell_type": "raw",
    "source": [],
    "metadata": {
     "collapsed": false
    }
   }
  }
 },
 "nbformat": 4,
 "nbformat_minor": 0
}