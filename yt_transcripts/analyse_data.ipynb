{
 "cells": [
  {
   "cell_type": "code",
   "execution_count": 3,
   "metadata": {
    "collapsed": true,
    "pycharm": {
     "is_executing": false,
     "name": "#%%\n"
    }
   },
   "outputs": [
    {
     "name": "stdout",
     "text": [
      "_______________________ Analyzing dataset ppentreprise_data.csv ___________________________________\n   Unnamed: 0         link                                              title  \\\n0           0    PAeQD_64x                   Présentation Entreprise Rousseau   \n1           1   QfCHZX1PnP              Présentation de l'entreprise Boréalie   \n2           2  MWsdG52R9uQ   Brasserie Lambelin: Présentation de l'entreprise   \n3           3   D264CLOFKE                   Présentation de l'entreprise DBC   \n4           4  gVmZc9hx7X8  Film institutionnel de présentation du groupe ...   \n\n                                         description                 category  \\\n0  Fondée en 1976, Rousseau est une entreprise de...  présentation entreprise   \n1  Présentation de l'entreprise Boréalie cosmétiq...  présentation entreprise   \n2  Présentation de \"Brasserie Lambelin\" à l'occas...  présentation entreprise   \n3  Visite de la société DBC, spécialiste de l'usi...  présentation entreprise   \n4  Découvrez notre premier rapport intégré sur \\n...  présentation entreprise   \n\n                                      transcriptions  \n0                                                     \n1                                                     \n2    [Musique] la brasserie lamblin c'est une ent...  \n3                                                     \n4    Créée par des entrepreneurs\\npour des entrep...  \n_______________________ Analyzing dataset pproduit_data.csv ___________________________________\n   Unnamed: 0         link                                              title  \\\n0           0  1_SQUOyGLyk                  FAST & GO Présentation du produit   \n1           1  gVSYaW-PI2A          EXEMPLE VIDEO SOIREE LANCEMENT DE PRODUIT   \n2           2  TZdv50yboq4  Présentation par Jean-Marc Chignard du nouveau...   \n3           3  iUDBLFfeDYU  Juwel Hellialux Spectrum - Vidéo de présentati...   \n4           4   X_Lb7UNmx0                                                NaN   \n\n                                         description              category  \\\n0  Découvrez la première vidéo de notre concept i...  presentation produit   \n1  EXEMPLE VIDEO SOIREE LANCEMENT DE PRODUIT\\nRéa...  presentation produit   \n2  BRACELET D'APPRENTISSAGE DEVAUX ALF DVX\\n\\nUn ...  presentation produit   \n3  Que diriez-vous de sublimer vos plantes 🤭? De ...  presentation produit   \n4                                                NaN  presentation produit   \n\n                                      transcriptions  \n0                                                     \n1    il a faire en sorte que les gens n'investiss...  \n2    [Musique] je vais vous présenter aujourd'hui...  \n3                                                     \n4                                                     \n_______________________ Analyzing dataset toffre_emploie_data.csv ___________________________________\n   Unnamed: 0         link                                              title  \\\n0           0  UmrMz_dqvgY                                                NaN   \n1           1   3rBnvO9CPY  Tutoriel : Tour de Magie facile - Faire dispar...   \n2           2  XFnJusUUOi8        Réaliser une couverture de livre - Tutoriel   \n3           3  Feuuw4tdZy4  Tutoriel et cours Access n° 5 : Importer des d...   \n4           4    9FuTKzmS9  Tutoriel Plongée UCPA N°3 : Comment réaliser u...   \n\n                                         description       category  \\\n0  Page Facebook: http://www.facebook.com/LeSadPa...  offre emploie   \n1  Tutoriel : Tour de Magie facile - Faire dispar...  offre emploie   \n2  Ce tutoriel présente une manière simple, rapid...  offre emploie   \n3  Cette vidéo montre comment importer un fichier...  offre emploie   \n4  Tous les séjours plongée à l'UCPA : http://bit...  offre emploie   \n\n                                      transcriptions  \n0    bonjour et bienvenue dans ce nouvel épisode ...  \n1                                                     \n2                                                     \n3    bonjour à toutes et à tous et bienvenue sur ...  \n4                                                     \n_______________________ Analyzing dataset tpresentation_metier_data.csv ___________________________________\n   Unnamed: 0         link                                              title  \\\n0           0  UmrMz_dqvgY                                                NaN   \n1           1   3rBnvO9CPY                                                NaN   \n2           2  XFnJusUUOi8        Réaliser une couverture de livre - Tutoriel   \n3           3  Feuuw4tdZy4                                                NaN   \n4           4    9FuTKzmS9  Tutoriel Plongée UCPA N°3 : Comment réaliser u...   \n\n                                         description             category  \\\n0  Page Facebook: http://www.facebook.com/LeSadPa...  presentation metier   \n1  Tutoriel : Tour de Magie facile - Faire dispar...  presentation metier   \n2  Ce tutoriel présente une manière simple, rapid...  presentation metier   \n3  Cette vidéo montre comment importer un fichier...  presentation metier   \n4  Tous les séjours plongée à l'UCPA : http://bit...  presentation metier   \n\n                                      transcriptions  \n0    bonjour et bienvenue dans ce nouvel épisode ...  \n1                                                     \n2                                                     \n3    bonjour à toutes et à tous et bienvenue sur ...  \n4                                                     \n_______________________ Analyzing dataset ttemoignage_client_data.csv ___________________________________\n",
      "   Unnamed: 0         link                                              title  \\\n0           0  UmrMz_dqvgY               Tutoriel: Comment utiliser un verre?   \n1           1   3rBnvO9CPY  Tutoriel : Tour de Magie facile - Faire dispar...   \n2           2  XFnJusUUOi8        Réaliser une couverture de livre - Tutoriel   \n3           3  Feuuw4tdZy4  Tutoriel et cours Access n° 5 : Importer des d...   \n4           4    9FuTKzmS9  Tutoriel Plongée UCPA N°3 : Comment réaliser u...   \n\n                                         description           category  \\\n0  Page Facebook: http://www.facebook.com/LeSadPa...  temoignage client   \n1  Tutoriel : Tour de Magie facile - Faire dispar...  temoignage client   \n2  Ce tutoriel présente une manière simple, rapid...  temoignage client   \n3  Cette vidéo montre comment importer un fichier...  temoignage client   \n4  Tous les séjours plongée à l'UCPA : http://bit...  temoignage client   \n\n                                      transcriptions  \n0    bonjour et bienvenue dans ce nouvel épisode ...  \n1                                                     \n2                                                     \n3    bonjour à toutes et à tous et bienvenue sur ...  \n4                                                     \n_______________________ Analyzing dataset tutoriel_data.csv ___________________________________\n   Unnamed: 0         link                                              title  \\\n0           0  UmrMz_dqvgY               Tutoriel: Comment utiliser un verre?   \n1           1   3rBnvO9CPY                                                NaN   \n2           2  XFnJusUUOi8        Réaliser une couverture de livre - Tutoriel   \n3           3  Feuuw4tdZy4  Tutoriel et cours Access n° 5 : Importer des d...   \n4           4    9FuTKzmS9  Tutoriel Plongée UCPA N°3 : Comment réaliser u...   \n\n                                         description  category  \\\n0  Page Facebook: http://www.facebook.com/LeSadPa...  tutoriel   \n1  Tutoriel : Tour de Magie facile - Faire dispar...  tutoriel   \n2  Ce tutoriel présente une manière simple, rapid...  tutoriel   \n3  Cette vidéo montre comment importer un fichier...  tutoriel   \n4  Tous les séjours plongée à l'UCPA : http://bit...  tutoriel   \n\n                                      transcriptions  \n0    bonjour et bienvenue dans ce nouvel épisode ...  \n1                                                     \n2                                                     \n3    bonjour à toutes et à tous et bienvenue sur ...  \n4                                                     \n"
     ],
     "output_type": "stream"
    }
   ],
   "source": [
    "\n",
    "import pandas as pd \n",
    "\n",
    "\n",
    "\n",
    "dataset_path = {'pent':'ppentreprise_data.csv', 'pproduit':'pproduit_data.csv', 'oemploie':'toffre_emploie_data.csv', 'pmetier':'tpresentation_metier_data.csv', 'temoignage':'ttemoignage_client_data.csv', 'tuto':'tutoriel_data.csv'}\n",
    "\n",
    "\n",
    "dfs = {}\n",
    "\n",
    "for key, path in dataset_path.items():\n",
    "    print(f'_______________________ Analyzing dataset {path} ___________________________________')\n",
    "    dfs[key] = pd.read_csv('./dataset/' + path, delimiter=';')\n",
    "    print(dfs[key].head())\n",
    "    dfs[key] = dfs[key][dfs[key]['transcriptions'] != ' ']    "
   ]
  },
  {
   "cell_type": "code",
   "execution_count": 7,
   "outputs": [
    {
     "data": {
      "text/plain": "251"
     },
     "metadata": {},
     "output_type": "execute_result",
     "execution_count": 7
    }
   ],
   "source": [
    "\n",
    "\n",
    "# clean tuto\n",
    "\n",
    "len(dfs['tuto']['transcriptions'])\n"
   ],
   "metadata": {
    "collapsed": false,
    "pycharm": {
     "name": "#%%\n",
     "is_executing": false
    }
   }
  },
  {
   "cell_type": "code",
   "execution_count": 8,
   "outputs": [
    {
     "data": {
      "text/plain": "     Unnamed: 0         link  \\\n620         620  1BP431Z4Zy4   \n623         623  _pHbrXfCD3k   \n627         627  5TMF93z1eEY   \n628         628  K7xT3dlBHKA   \n630         630  Pgasn9nNVsU   \n\n                                                 title  \\\n620  L’anisotropie – TUTORIEL BLENDER (et plus si a...   \n623                                                NaN   \n627                                                NaN   \n628                                                NaN   \n630                 Tuto chignon rapide pour les cours   \n\n                                           description  category  \\\n620  Dans ce #TUTORIEL #BLENDER, nous allons voir c...  tutoriel   \n623  Tutoriel de remplacement d'écran de la Phrozen...  tutoriel   \n627           Tutoriel pour apprendre a faire du Snooc  tutoriel   \n628  Comment dessiner une fille de dos facile : ass...  tutoriel   \n630  Hey tout le monde ! Aujourd’hui je vous fais u...  tutoriel   \n\n                                        transcriptions  \n620    un matériau et isotrope lorsque ses propriét...  \n623                                       [Musique] et  \n627    Attachez votre leash Restez bien droit Garde...  \n628    propose aujourd'hui de découvrir un accord e...  \n630    et tout le monde sait aurait lieu entre temp...  ",
      "text/html": "<div>\n<style scoped>\n    .dataframe tbody tr th:only-of-type {\n        vertical-align: middle;\n    }\n\n    .dataframe tbody tr th {\n        vertical-align: top;\n    }\n\n    .dataframe thead th {\n        text-align: right;\n    }\n</style>\n<table border=\"1\" class=\"dataframe\">\n  <thead>\n    <tr style=\"text-align: right;\">\n      <th></th>\n      <th>Unnamed: 0</th>\n      <th>link</th>\n      <th>title</th>\n      <th>description</th>\n      <th>category</th>\n      <th>transcriptions</th>\n    </tr>\n  </thead>\n  <tbody>\n    <tr>\n      <th>620</th>\n      <td>620</td>\n      <td>1BP431Z4Zy4</td>\n      <td>L’anisotropie – TUTORIEL BLENDER (et plus si a...</td>\n      <td>Dans ce #TUTORIEL #BLENDER, nous allons voir c...</td>\n      <td>tutoriel</td>\n      <td>un matériau et isotrope lorsque ses propriét...</td>\n    </tr>\n    <tr>\n      <th>623</th>\n      <td>623</td>\n      <td>_pHbrXfCD3k</td>\n      <td>NaN</td>\n      <td>Tutoriel de remplacement d'écran de la Phrozen...</td>\n      <td>tutoriel</td>\n      <td>[Musique] et</td>\n    </tr>\n    <tr>\n      <th>627</th>\n      <td>627</td>\n      <td>5TMF93z1eEY</td>\n      <td>NaN</td>\n      <td>Tutoriel pour apprendre a faire du Snooc</td>\n      <td>tutoriel</td>\n      <td>Attachez votre leash Restez bien droit Garde...</td>\n    </tr>\n    <tr>\n      <th>628</th>\n      <td>628</td>\n      <td>K7xT3dlBHKA</td>\n      <td>NaN</td>\n      <td>Comment dessiner une fille de dos facile : ass...</td>\n      <td>tutoriel</td>\n      <td>propose aujourd'hui de découvrir un accord e...</td>\n    </tr>\n    <tr>\n      <th>630</th>\n      <td>630</td>\n      <td>Pgasn9nNVsU</td>\n      <td>Tuto chignon rapide pour les cours</td>\n      <td>Hey tout le monde ! Aujourd’hui je vous fais u...</td>\n      <td>tutoriel</td>\n      <td>et tout le monde sait aurait lieu entre temp...</td>\n    </tr>\n  </tbody>\n</table>\n</div>"
     },
     "metadata": {},
     "output_type": "execute_result",
     "execution_count": 8
    }
   ],
   "source": [
    "\n",
    "dfs['tuto'].tail()\n",
    "\n",
    "\n"
   ],
   "metadata": {
    "collapsed": false,
    "pycharm": {
     "name": "#%%\n",
     "is_executing": false
    }
   }
  }
 ],
 "metadata": {
  "language_info": {
   "codemirror_mode": {
    "name": "ipython",
    "version": 2
   },
   "file_extension": ".py",
   "mimetype": "text/x-python",
   "name": "python",
   "nbconvert_exporter": "python",
   "pygments_lexer": "ipython2",
   "version": "2.7.6"
  },
  "kernelspec": {
   "name": "python3",
   "language": "python",
   "display_name": "Python 3"
  },
  "pycharm": {
   "stem_cell": {
    "cell_type": "raw",
    "source": [],
    "metadata": {
     "collapsed": false
    }
   }
  }
 },
 "nbformat": 4,
 "nbformat_minor": 0
}