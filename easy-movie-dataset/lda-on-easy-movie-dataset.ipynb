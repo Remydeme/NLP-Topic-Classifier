{
 "cells": [
  {
   "cell_type": "code",
   "execution_count": 1,
   "outputs": [],
   "source": [],
   "metadata": {
    "collapsed": false,
    "pycharm": {
     "name": "#%%\n",
     "is_executing": false
    }
   }
  },
  {
   "cell_type": "markdown",
   "source": [
    "\n",
    "In this notebook we are going to apply the LDA model on a dataset \n",
    "containing 600+ transcript edited with the easy movie framework.\n",
    "\n",
    "# Objective\n",
    "\n",
    "* Study the metadata of the videos transcripts \n",
    "* Determine K topics labels. \n",
    "* Determine the best K value for the LDA with GridSearch.\n",
    "* Train the LDA and export it to use it in the MAcOS labelling software (Sophia)."
   ],
   "metadata": {
    "collapsed": false
   }
  },
  {
   "cell_type": "markdown",
   "source": [
    "# Strategy \n",
    "\n",
    "* Cleaning the data. \n",
    "* Use grid-earch to find the best K value. \n",
    "* Determine the tag name for each topic.\n",
    "\n",
    "Note : This dataset is tiny and we don't know if it's well balance \n",
    "so the topic that we will be find may not be all the topics present in all \n",
    "easy movie videos. "
   ],
   "metadata": {
    "collapsed": false
   }
  },
  {
   "cell_type": "code",
   "execution_count": 2,
   "outputs": [],
   "source": [
    "# load the dataset \n",
    "\n",
    "import pandas as pd \n",
    "import numpy as np\n",
    "\n",
    "\n",
    "# How can we use easymovie video metadata"
   ],
   "metadata": {
    "collapsed": false,
    "pycharm": {
     "name": "#%%\n",
     "is_executing": false
    }
   }
  },
  {
   "cell_type": "code",
   "execution_count": 3,
   "outputs": [],
   "source": [
    "# load the dataset \n",
    "\n",
    "import pandas as pd \n",
    "import matplotlib.pyplot as plt\n",
    "import numpy as np\n",
    "\n",
    "\n",
    "yt_df = pd.read_csv('../yt_transcripts/youtube_publications.csv', sep=\",\")\n"
   ],
   "metadata": {
    "collapsed": false,
    "pycharm": {
     "name": "#%%\n",
     "is_executing": false
    }
   }
  },
  {
   "cell_type": "code",
   "execution_count": 4,
   "outputs": [
    {
     "data": {
      "text/plain": "   project_id    project  customer_id customer                 date  \\\n0     21545.0   Timeline          720      IAD  2019-02-05 08:39:43   \n1     22342.0        1er          720      IAD  2019-02-20 11:39:45   \n2     22427.0       Cycy          720      IAD  2019-02-21 12:32:16   \n3     22444.0  Paris 13e          720      IAD  2019-02-21 15:21:49   \n4     22448.0          2          720      IAD  2019-02-21 15:49:51   \n\n    youtube_id  \n0  zxkk2GKw71s  \n1  FL5uuhvJqVg  \n2  FufeVXBlN98  \n3  IF1oCSG8ZMM  \n4  uFlZ9v5tZYY  ",
      "text/html": "<div>\n<style scoped>\n    .dataframe tbody tr th:only-of-type {\n        vertical-align: middle;\n    }\n\n    .dataframe tbody tr th {\n        vertical-align: top;\n    }\n\n    .dataframe thead th {\n        text-align: right;\n    }\n</style>\n<table border=\"1\" class=\"dataframe\">\n  <thead>\n    <tr style=\"text-align: right;\">\n      <th></th>\n      <th>project_id</th>\n      <th>project</th>\n      <th>customer_id</th>\n      <th>customer</th>\n      <th>date</th>\n      <th>youtube_id</th>\n    </tr>\n  </thead>\n  <tbody>\n    <tr>\n      <td>0</td>\n      <td>21545.0</td>\n      <td>Timeline</td>\n      <td>720</td>\n      <td>IAD</td>\n      <td>2019-02-05 08:39:43</td>\n      <td>zxkk2GKw71s</td>\n    </tr>\n    <tr>\n      <td>1</td>\n      <td>22342.0</td>\n      <td>1er</td>\n      <td>720</td>\n      <td>IAD</td>\n      <td>2019-02-20 11:39:45</td>\n      <td>FL5uuhvJqVg</td>\n    </tr>\n    <tr>\n      <td>2</td>\n      <td>22427.0</td>\n      <td>Cycy</td>\n      <td>720</td>\n      <td>IAD</td>\n      <td>2019-02-21 12:32:16</td>\n      <td>FufeVXBlN98</td>\n    </tr>\n    <tr>\n      <td>3</td>\n      <td>22444.0</td>\n      <td>Paris 13e</td>\n      <td>720</td>\n      <td>IAD</td>\n      <td>2019-02-21 15:21:49</td>\n      <td>IF1oCSG8ZMM</td>\n    </tr>\n    <tr>\n      <td>4</td>\n      <td>22448.0</td>\n      <td>2</td>\n      <td>720</td>\n      <td>IAD</td>\n      <td>2019-02-21 15:49:51</td>\n      <td>uFlZ9v5tZYY</td>\n    </tr>\n  </tbody>\n</table>\n</div>"
     },
     "metadata": {},
     "output_type": "execute_result",
     "execution_count": 4
    }
   ],
   "source": [
    "yt_df.head()"
   ],
   "metadata": {
    "collapsed": false,
    "pycharm": {
     "name": "#%%\n",
     "is_executing": false
    }
   }
  },
  {
   "cell_type": "code",
   "execution_count": 5,
   "outputs": [
    {
     "name": "stdout",
     "text": [
      "<class 'pandas.core.frame.DataFrame'>\nRangeIndex: 1254 entries, 0 to 1253\nData columns (total 6 columns):\nproject_id     756 non-null float64\nproject        756 non-null object\ncustomer_id    1254 non-null int64\ncustomer       756 non-null object\ndate           756 non-null object\nyoutube_id     1254 non-null object\ndtypes: float64(1), int64(1), object(4)\nmemory usage: 58.9+ KB\n"
     ],
     "output_type": "stream"
    }
   ],
   "source": [
    "yt_df.info()"
   ],
   "metadata": {
    "collapsed": false,
    "pycharm": {
     "name": "#%%\n",
     "is_executing": false
    }
   }
  },
  {
   "cell_type": "markdown",
   "source": [
    "We have 6 features :\n",
    "\n",
    "project_id : Is a unique ID use to identify a video (useless in our case)\n",
    "project : Is the title of the video \n",
    "customer_id : The Unique identifier that identify a client \n",
    "customer : ___\n",
    "date : Publication or edition date (useless in our case)\n",
    "youtube_id : Unique identifier that identify the video on youtube => use to get the transcript online\n",
    "\n",
    "\n",
    "Our objectif is to classify video by topic. I think that project_id, date and youtube_id will be useless for this task.\n",
    "So we will only keep the other features. \n",
    "\n",
    "Customer Id and customer contains the same infos  so we could keep only one of the two. but customer have null \n",
    "value. "
   ],
   "metadata": {
    "collapsed": false
   }
  },
  {
   "cell_type": "code",
   "execution_count": 6,
   "outputs": [
    {
     "data": {
      "text/plain": "     project customer  customer_id\n0   Timeline      IAD          720\n1        1er      IAD          720\n2       Cycy      IAD          720\n3  Paris 13e      IAD          720\n4          2      IAD          720",
      "text/html": "<div>\n<style scoped>\n    .dataframe tbody tr th:only-of-type {\n        vertical-align: middle;\n    }\n\n    .dataframe tbody tr th {\n        vertical-align: top;\n    }\n\n    .dataframe thead th {\n        text-align: right;\n    }\n</style>\n<table border=\"1\" class=\"dataframe\">\n  <thead>\n    <tr style=\"text-align: right;\">\n      <th></th>\n      <th>project</th>\n      <th>customer</th>\n      <th>customer_id</th>\n    </tr>\n  </thead>\n  <tbody>\n    <tr>\n      <td>0</td>\n      <td>Timeline</td>\n      <td>IAD</td>\n      <td>720</td>\n    </tr>\n    <tr>\n      <td>1</td>\n      <td>1er</td>\n      <td>IAD</td>\n      <td>720</td>\n    </tr>\n    <tr>\n      <td>2</td>\n      <td>Cycy</td>\n      <td>IAD</td>\n      <td>720</td>\n    </tr>\n    <tr>\n      <td>3</td>\n      <td>Paris 13e</td>\n      <td>IAD</td>\n      <td>720</td>\n    </tr>\n    <tr>\n      <td>4</td>\n      <td>2</td>\n      <td>IAD</td>\n      <td>720</td>\n    </tr>\n  </tbody>\n</table>\n</div>"
     },
     "metadata": {},
     "output_type": "execute_result",
     "execution_count": 6
    }
   ],
   "source": [
    "df = yt_df[['project','customer', 'customer_id']]\n",
    "df.head()"
   ],
   "metadata": {
    "collapsed": false,
    "pycharm": {
     "name": "#%%\n",
     "is_executing": false
    }
   }
  },
  {
   "cell_type": "code",
   "execution_count": 7,
   "outputs": [
    {
     "data": {
      "text/plain": "            project customer\ncount           756      756\nunique          674       15\ntop     Recrutement      IAD\nfreq             13      684",
      "text/html": "<div>\n<style scoped>\n    .dataframe tbody tr th:only-of-type {\n        vertical-align: middle;\n    }\n\n    .dataframe tbody tr th {\n        vertical-align: top;\n    }\n\n    .dataframe thead th {\n        text-align: right;\n    }\n</style>\n<table border=\"1\" class=\"dataframe\">\n  <thead>\n    <tr style=\"text-align: right;\">\n      <th></th>\n      <th>project</th>\n      <th>customer</th>\n    </tr>\n  </thead>\n  <tbody>\n    <tr>\n      <td>count</td>\n      <td>756</td>\n      <td>756</td>\n    </tr>\n    <tr>\n      <td>unique</td>\n      <td>674</td>\n      <td>15</td>\n    </tr>\n    <tr>\n      <td>top</td>\n      <td>Recrutement</td>\n      <td>IAD</td>\n    </tr>\n    <tr>\n      <td>freq</td>\n      <td>13</td>\n      <td>684</td>\n    </tr>\n  </tbody>\n</table>\n</div>"
     },
     "metadata": {},
     "output_type": "execute_result",
     "execution_count": 7
    }
   ],
   "source": [
    "df[['project','customer']].describe()"
   ],
   "metadata": {
    "collapsed": false,
    "pycharm": {
     "name": "#%%\n",
     "is_executing": false
    }
   }
  },
  {
   "cell_type": "markdown",
   "source": [
    "## Customer \n",
    "\n",
    "* We have 15 unique customer in the dataset with a customer value.\n",
    "* Top customer is IAD.\n",
    "* We have a total of 756 customer almost half of the customer features is equal to Nan"
   ],
   "metadata": {
    "collapsed": false
   }
  },
  {
   "cell_type": "code",
   "execution_count": 8,
   "outputs": [
    {
     "data": {
      "text/plain": "IAD                                                            684\nISEG (Ionis Education Group)                                    19\nISG (Ionis Education Group)                                     15\nISG Programme Business & Management (Ionis Education Group)     13\nSUP'Internet (Ionis Education Group)                             8\nPlanorama                                                        3\ne-artsup (Ionis Education Group)                                 2\nIonis-STM (Ionis Education Group)                                2\nEasyMovie - Charte Pop                                           2\nEasyMovie                                                        2\nSup'Biotech (Ionis Education Group)                              2\nEpitech (Ionis Education Group)                                  1\nISG International BS (Ionis Education Group)                     1\n testeasymovie                                                   1\nESME Sudria (Ionis Education Group)                              1\nName: customer, dtype: int64"
     },
     "metadata": {},
     "output_type": "execute_result",
     "execution_count": 8
    }
   ],
   "source": [
    "import seaborn as sns \n",
    "\n",
    "df['customer'].value_counts()"
   ],
   "metadata": {
    "collapsed": false,
    "pycharm": {
     "name": "#%%\n",
     "is_executing": false
    }
   }
  },
  {
   "cell_type": "code",
   "execution_count": 9,
   "outputs": [
    {
     "data": {
      "text/plain": "IAD                                                            54.545455\nISEG (Ionis Education Group)                                    1.515152\nISG (Ionis Education Group)                                     1.196172\nISG Programme Business & Management (Ionis Education Group)     1.036683\nSUP'Internet (Ionis Education Group)                            0.637959\nPlanorama                                                       0.239234\ne-artsup (Ionis Education Group)                                0.159490\nIonis-STM (Ionis Education Group)                               0.159490\nEasyMovie - Charte Pop                                          0.159490\nEasyMovie                                                       0.159490\nSup'Biotech (Ionis Education Group)                             0.159490\nEpitech (Ionis Education Group)                                 0.079745\nISG International BS (Ionis Education Group)                    0.079745\n testeasymovie                                                  0.079745\nESME Sudria (Ionis Education Group)                             0.079745\nName: customer, dtype: float64"
     },
     "metadata": {},
     "output_type": "execute_result",
     "execution_count": 9
    }
   ],
   "source": [
    "(df['customer'].value_counts() / len(df['customer'])) * 100"
   ],
   "metadata": {
    "collapsed": false,
    "pycharm": {
     "name": "#%%\n",
     "is_executing": false
    }
   }
  },
  {
   "cell_type": "code",
   "execution_count": 10,
   "outputs": [
    {
     "data": {
      "text/plain": "25"
     },
     "metadata": {},
     "output_type": "execute_result",
     "execution_count": 10
    }
   ],
   "source": [
    "len(df['customer_id'].unique())"
   ],
   "metadata": {
    "collapsed": false,
    "pycharm": {
     "name": "#%%\n",
     "is_executing": false
    }
   }
  },
  {
   "cell_type": "markdown",
   "source": [
    "there are 10 unknow customers. So we have in total 25 unique customers. \n",
    "\n",
    "We need to study the dataset balance. Let's display the distibution of the dataset by customer_id "
   ],
   "metadata": {
    "collapsed": false
   }
  },
  {
   "cell_type": "code",
   "execution_count": 11,
   "outputs": [],
   "source": [
    "def displayFeaturesAndDescribe(data, feature, kind='bar', color=None):\n",
    "    feature_count = (df[feature].value_counts() / df.shape[0]) * 100\n",
    "    feature_dataframe = pd.DataFrame()\n",
    "    feature_dataframe[feature] = feature_count.index\n",
    "    feature_dataframe['Percentage'] = feature_count.values\n",
    "    sns.catplot(x=feature, y='Percentage', kind=kind, data=feature_dataframe, hue='Percentage', aspect=2, height=5,legend_out=True)\n",
    "    "
   ],
   "metadata": {
    "collapsed": false,
    "pycharm": {
     "name": "#%%\n",
     "is_executing": false
    }
   }
  },
  {
   "cell_type": "code",
   "execution_count": 12,
   "outputs": [
    {
     "data": {
      "text/plain": "<Figure size 873.125x360 with 1 Axes>",
      "image/png": "[encoded data removed]"
     },
     "metadata": {
      "needs_background": "light"
     },
     "output_type": "display_data"
    }
   ],
   "source": [
    "displayFeaturesAndDescribe(df, 'customer_id')"
   ],
   "metadata": {
    "collapsed": false,
    "pycharm": {
     "name": "#%%\n",
     "is_executing": false
    }
   }
  },
  {
   "cell_type": "code",
   "execution_count": 13,
   "outputs": [
    {
     "data": {
      "text/plain": "720    55.980861\n543    21.371611\n974     9.968102\n182     2.472089\n68      1.594896\n322     1.515152\n319     1.196172\n320     1.196172\n731     0.956938\n638     0.877193\n334     0.717703\n738     0.478469\n590     0.239234\n861     0.239234\n333     0.159490\n153     0.159490\n332     0.159490\n331     0.159490\n687     0.079745\n329     0.079745\n336     0.079745\n385     0.079745\n528     0.079745\n636     0.079745\n373     0.079745\nName: customer_id, dtype: float64"
     },
     "metadata": {},
     "output_type": "execute_result",
     "execution_count": 13
    }
   ],
   "source": [
    "df['customer_id'].value_counts()/df['customer_id'].shape * 100"
   ],
   "metadata": {
    "collapsed": false,
    "pycharm": {
     "name": "#%%\n",
     "is_executing": false
    }
   }
  },
  {
   "cell_type": "code",
   "execution_count": 14,
   "outputs": [
    {
     "name": "stdout",
     "text": [
      "    project customer  customer_id\n0  Timeline      IAD          720 | [   55.98086124 23400.        ]\n\n\n    project                customer  customer_id\n665     IKO  EasyMovie - Charte Pop          543 | [  21.37161085 8933.33333333]\n\n\n    project customer  customer_id\n766     NaN      NaN          974 | [   9.96810207 4166.66666667]\n\n\n    project customer  customer_id\n754     NaN      NaN          182 | [   2.47208931 1033.33333333]\n\n\n                             project   customer  customer_id\n647  Les conseils vidéo de Robert #1  EasyMovie           68 | [  1.59489633 666.66666667]\n\n\n     project                      customer  customer_id\n520  Heloise  ISEG (Ionis Education Group)          322 | [  1.51515152 633.33333333]\n\n\n                                               project  \\\n654  4 questions à Louis Lacoste (ISG Promo 2015), ...   \n\n                        customer  customer_id  \n654  ISG (Ionis Education Group)          319   | [  1.19617225 500.        ]\n\n\n                             project  \\\n648  3 Questions à Caroline Honnorat   \n\n                                              customer  customer_id  \n648  ISG Programme Business & Management (Ionis Edu...          320   | [  1.19617225 500.        ]\n\n\n    project customer  customer_id\n764     NaN      NaN          731 | [  0.9569378 400.       ]\n\n\n    project customer  customer_id\n777     NaN      NaN          638 | [  0.87719298 366.66666667]\n\n\n                                               project  \\\n651  WePlay : un tournoi de Mario Kart à SUP'Intern...   \n\n                                 customer  customer_id  \n651  SUP'Internet (Ionis Education Group)          334   | [  0.71770335 300.        ]\n\n\n    project customer  customer_id\n800     NaN      NaN          738 | [  0.4784689 200.       ]\n\n\n                                               project   customer  customer_id\n650  Customer stories: Unilever Portugal, the perfe...  Planorama          590 | [  0.23923445 100.        ]\n\n\n     project customer  customer_id\n1003     NaN      NaN          861 | [  0.23923445 100.        ]\n\n\n                            project                           customer  \\\n662  INTERVIEW IMMERSION ALTERNANCE  Ionis-STM (Ionis Education Group)   \n\n     customer_id  \n662          333   | [ 0.15948963 66.66666667]\n\n\n         project        customer  customer_id\n734  Super vidéo   testeasymovie          153 | [ 0.15948963 66.66666667]\n\n\n                                               project  \\\n657  vidéo promotionnel travaux d'étudiants e-artsu...   \n\n                             customer  customer_id  \n657  e-artsup (Ionis Education Group)          332   | [ 0.15948963 66.66666667]\n\n\n               project                             customer  customer_id\n649  Benedicte Auvinet  Sup'Biotech (Ionis Education Group)          331 | [ 0.15948963 66.66666667]\n\n\n    project customer  customer_id\n796     NaN      NaN          687 | [ 0.07974482 33.33333333]\n\n\n                                               project  \\\n653  Intégrer l'ESME Sudria après le concours CPGE ...   \n\n                                customer  customer_id  \n653  ESME Sudria (Ionis Education Group)          329   | [ 0.07974482 33.33333333]\n\n\n       project                         customer  customer_id\n736  Vidéo Hub  Epitech (Ionis Education Group)          336 | [ 0.07974482 33.33333333]\n\n\n    project customer  customer_id\n870     NaN      NaN          385 | [ 0.07974482 33.33333333]\n\n\n    project customer  customer_id\n756     NaN      NaN          528 | [ 0.07974482 33.33333333]\n\n\n    project customer  customer_id\n947     NaN      NaN          636 | [ 0.07974482 33.33333333]\n\n\n                                               project  \\\n748  4 questions à Edmond de la Panouse (Parc de Th...   \n\n                                         customer  customer_id  \n748  ISG International BS (Ionis Education Group)          373   | [ 0.07974482 33.33333333]\n\n\n"
     ],
     "output_type": "stream"
    }
   ],
   "source": [
    "dist_list = df['customer_id'].value_counts()\n",
    "for index in  dist_list.index:\n",
    "    print(f\"{df[df['customer_id'] == index].head(1)} | {dist_list[index]/df.shape *100}\\n\\n\")"
   ],
   "metadata": {
    "collapsed": false,
    "pycharm": {
     "name": "#%%\n",
     "is_executing": false
    }
   }
  },
  {
   "cell_type": "markdown",
   "source": [
    "54.6% of the video in the dataset have been made by IAD,\n",
    "21% of the other video have been made by easy movie IKO.  \n",
    "23% unknown \n",
    "2% by ISEG\n",
    "4% by ISG \n",
    "1% by supbiotech\n",
    "3% others \n",
    "\n",
    "IAD is an enterprise in the real estate sector. We can made the hypothesis that video made by this compagny \n",
    "are about real estate.\n",
    "\n",
    "The dataset is imbalanced. If our hypothesis is good. If we train a model on this dataset it will be good at\n",
    "classify real estate video and maybe video about presentations. But it will be bad on other class. \n",
    "\n",
    "Solution : \n",
    "\n",
    "* Enrich the dataset.\n",
    "* We can try to add video title to the transcription text as input to the classifier. \n",
    " \n"
   ],
   "metadata": {
    "collapsed": false
   }
  },
  {
   "cell_type": "markdown",
   "source": [
    "# Study the dataset title by customer \n",
    "\n",
    "To know if we can classify a video using it's title we need to see what kind of information the title\n",
    "contains. We will do this for each customer. \n",
    "\n",
    "### IDA"
   ],
   "metadata": {
    "collapsed": false
   }
  },
  {
   "cell_type": "code",
   "execution_count": 15,
   "outputs": [
    {
     "name": "stderr",
     "text": [
      "/Users/remy.d.w/.virtualenvs/PROROK/untitled/lib/python3.7/site-packages/ipykernel_launcher.py:3: SettingWithCopyWarning: \nA value is trying to be set on a copy of a slice from a DataFrame.\nTry using .loc[row_indexer,col_indexer] = value instead\n\nSee the caveats in the documentation: http://pandas.pydata.org/pandas-docs/stable/user_guide/indexing.html#returning-a-view-versus-a-copy\n  This is separate from the ipykernel package so we can avoid doing imports until\n"
     ],
     "output_type": "stream"
    }
   ],
   "source": [
    "substring = ['t2', 'maison', 't1', 't3', 'appartement']\n",
    "df['project'] = df['project'].str.lower()\n",
    "notn_df = df[df['project'].notnull()]"
   ],
   "metadata": {
    "collapsed": false,
    "pycharm": {
     "name": "#%%\n",
     "is_executing": false
    }
   }
  },
  {
   "cell_type": "code",
   "execution_count": 16,
   "outputs": [
    {
     "name": "stdout",
     "text": [
      "                    project customer  customer_id\n20                    test2      IAD          720\n159  appartement t2 miramas      IAD          720\n558     t2 marseille jarret      IAD          720\n638         t2 centre ville      IAD          720\n712                 projet2      IAD          720\n                                               project customer  customer_id\n34       maison 126m2 proche sarrebourg (brouderdorff)      IAD          720\n38                                 maison proche niort      IAD          720\n39   a vendre maison de village à caromb 84330 / 38...      IAD          720\n44                     epineuil (89) - maison de ville      IAD          720\n45                                   maison à surgères      IAD          720\n..                                                 ...      ...          ...\n614                       maison plain pied 4 chambres      IAD          720\n623                            maison 120 000e luzancy      IAD          720\n677            maison 167m2 7 pièces terrain de 1246m2      IAD          720\n691           maison sur allonnes de 96m2 avec terrain      IAD          720\n696                                        maison test      IAD          720\n\n[81 rows x 3 columns]\n   project customer  customer_id\n51   test1      IAD          720\n            project customer  customer_id\n68  t3 fronval 59m2      IAD          720\n                                               project customer  customer_id\n27                                appartement forgeron      IAD          720\n137             appartement 3 pièces au cros de cagnes      IAD          720\n159                             appartement t2 miramas      IAD          720\n170                                        appartement      IAD          720\n274                                 appartement luynes      IAD          720\n283                                appartement cabries      IAD          720\n305        appartement 68 m2 chateauneuf les martigues      IAD          720\n327            appartement à louer sur aix en provence      IAD          720\n355                                  appartement livry      IAD          720\n356                        appartement aix en provence      IAD          720\n368  kingersheim, rare ! appartement de standing, r...      IAD          720\n374                          appartement 3 pièces metz      IAD          720\n384                 appartement f2 metz nouvelle ville      IAD          720\n399                                 appartement crespi      IAD          720\n418                 cap d’antibes-appartement 2 pieces      IAD          720\n449             appartement 4 pièces villeneuve loubet      IAD          720\n456                      appartement 50m2 mainvilliers      IAD          720\n487                                appartement bethune      IAD          720\n498                              appartement gusse bis      IAD          720\n522                        cap horizon appartement rdc      IAD          720\n531           appartement type 4 - saint remi-barbatre      IAD          720\n538                              appartement vitrolles      IAD          720\n581                                appartement metz f4      IAD          720\n632                            appartement auneau 55m2      IAD          720\n641                     appartement f2 49 m2 maintenon      IAD          720\n693                        appartement type 3 narbonne      IAD          720\n704                                appartement allauch      IAD          720\n"
     ],
     "output_type": "stream"
    }
   ],
   "source": [
    "for sub in substring:\n",
    "    print(notn_df[notn_df['project'].str.find(sub) != -1])"
   ],
   "metadata": {
    "collapsed": false,
    "pycharm": {
     "name": "#%%\n",
     "is_executing": false
    }
   }
  },
  {
   "cell_type": "code",
   "execution_count": 17,
   "outputs": [
    {
     "name": "stdout",
     "text": [
      "5\n81\n",
      "1\n1\n27\n"
     ],
     "output_type": "stream"
    }
   ],
   "source": [
    "for sub in substring:\n",
    "    print(len(notn_df[notn_df['project'].str.find(sub) != -1]))"
   ],
   "metadata": {
    "collapsed": false,
    "pycharm": {
     "name": "#%%\n",
     "is_executing": false
    }
   }
  },
  {
   "cell_type": "markdown",
   "source": [
    "# LDA "
   ],
   "metadata": {
    "collapsed": false
   }
  },
  {
   "cell_type": "code",
   "execution_count": 18,
   "outputs": [],
   "source": [
    "yt_transcript_df = pd.read_csv('../yt_transcripts/export_dataframe.csv', sep=\"\\t\")"
   ],
   "metadata": {
    "collapsed": false,
    "pycharm": {
     "name": "#%%\n",
     "is_executing": false
    }
   }
  },
  {
   "cell_type": "code",
   "execution_count": 19,
   "outputs": [
    {
     "data": {
      "text/plain": "                                                Text\n0   je leur en sont cuits mandataires immobiliers...\n1   vous souhaitez connaître la valeur précise de...\n2   bonjour à tous pour réaliser votre projet imm...\n3   1 [Musique] [Musique] [Musique] je m [Musique...\n4               [Musique] [Musique] oh oui [Musique]",
      "text/html": "<div>\n<style scoped>\n    .dataframe tbody tr th:only-of-type {\n        vertical-align: middle;\n    }\n\n    .dataframe tbody tr th {\n        vertical-align: top;\n    }\n\n    .dataframe thead th {\n        text-align: right;\n    }\n</style>\n<table border=\"1\" class=\"dataframe\">\n  <thead>\n    <tr style=\"text-align: right;\">\n      <th></th>\n      <th>Text</th>\n    </tr>\n  </thead>\n  <tbody>\n    <tr>\n      <td>0</td>\n      <td>je leur en sont cuits mandataires immobiliers...</td>\n    </tr>\n    <tr>\n      <td>1</td>\n      <td>vous souhaitez connaître la valeur précise de...</td>\n    </tr>\n    <tr>\n      <td>2</td>\n      <td>bonjour à tous pour réaliser votre projet imm...</td>\n    </tr>\n    <tr>\n      <td>3</td>\n      <td>1 [Musique] [Musique] [Musique] je m [Musique...</td>\n    </tr>\n    <tr>\n      <td>4</td>\n      <td>[Musique] [Musique] oh oui [Musique]</td>\n    </tr>\n  </tbody>\n</table>\n</div>"
     },
     "metadata": {},
     "output_type": "execute_result",
     "execution_count": 19
    }
   ],
   "source": [
    "yt_transcript_df.head()"
   ],
   "metadata": {
    "collapsed": false,
    "pycharm": {
     "name": "#%%\n",
     "is_executing": false
    }
   }
  },
  {
   "cell_type": "code",
   "execution_count": 20,
   "outputs": [],
   "source": [
    "yt_transcript_df['Text'] = yt_transcript_df['Text'].str.replace('\\[Musique\\]', '')\n",
    "yt_transcript_df['Text'] = yt_transcript_df['Text'].str.replace('\\[Rire\\]', '')"
   ],
   "metadata": {
    "collapsed": false,
    "pycharm": {
     "name": "#%%\n",
     "is_executing": false
    }
   }
  },
  {
   "cell_type": "code",
   "execution_count": 21,
   "outputs": [
    {
     "data": {
      "text/plain": "                                                  Text\n419   bonjour je suis julien bianchi si audi movie ...\n420   pour jour je m'appelle julien bianchi je suis...\n421   est-ce que l'on peut utiliser les mouvements ...\n422   bonjour je m'appelle agathe et je suis custom...\n423   tout d'abord vous dévisser la bac du milieu e...\n424   bonjour sofia je suis alexandra et je profite...\n425   bonjour alicia je suis alexandra et je profit...\n426   votre défi pour les ressources humaines c'est...\n427   bonjour sophy je suis alexandra et je profite...\n428   bonjour monsieur 6 célia de chez ea mobile j'...",
      "text/html": "<div>\n<style scoped>\n    .dataframe tbody tr th:only-of-type {\n        vertical-align: middle;\n    }\n\n    .dataframe tbody tr th {\n        vertical-align: top;\n    }\n\n    .dataframe thead th {\n        text-align: right;\n    }\n</style>\n<table border=\"1\" class=\"dataframe\">\n  <thead>\n    <tr style=\"text-align: right;\">\n      <th></th>\n      <th>Text</th>\n    </tr>\n  </thead>\n  <tbody>\n    <tr>\n      <td>419</td>\n      <td>bonjour je suis julien bianchi si audi movie ...</td>\n    </tr>\n    <tr>\n      <td>420</td>\n      <td>pour jour je m'appelle julien bianchi je suis...</td>\n    </tr>\n    <tr>\n      <td>421</td>\n      <td>est-ce que l'on peut utiliser les mouvements ...</td>\n    </tr>\n    <tr>\n      <td>422</td>\n      <td>bonjour je m'appelle agathe et je suis custom...</td>\n    </tr>\n    <tr>\n      <td>423</td>\n      <td>tout d'abord vous dévisser la bac du milieu e...</td>\n    </tr>\n    <tr>\n      <td>424</td>\n      <td>bonjour sofia je suis alexandra et je profite...</td>\n    </tr>\n    <tr>\n      <td>425</td>\n      <td>bonjour alicia je suis alexandra et je profit...</td>\n    </tr>\n    <tr>\n      <td>426</td>\n      <td>votre défi pour les ressources humaines c'est...</td>\n    </tr>\n    <tr>\n      <td>427</td>\n      <td>bonjour sophy je suis alexandra et je profite...</td>\n    </tr>\n    <tr>\n      <td>428</td>\n      <td>bonjour monsieur 6 célia de chez ea mobile j'...</td>\n    </tr>\n  </tbody>\n</table>\n</div>"
     },
     "metadata": {},
     "output_type": "execute_result",
     "execution_count": 21
    }
   ],
   "source": [
    "yt_transcript_df.tail(10)"
   ],
   "metadata": {
    "collapsed": false,
    "pycharm": {
     "name": "#%%\n",
     "is_executing": false
    }
   }
  },
  {
   "cell_type": "markdown",
   "source": [
    "## LDA applied \n",
    "\n",
    " Before to apply the LDA we need to prepare the dataset :\n",
    " \n",
    " * tokenize \n",
    " * clean the stop words and punctuation \n",
    " * remove all unwanted words like [Musique], [Rire] present in the text.\n"
   ],
   "metadata": {
    "collapsed": false
   }
  },
  {
   "cell_type": "code",
   "execution_count": 22,
   "outputs": [],
   "source": [
    "from sklearn.decomposition  import LatentDirichletAllocation\n",
    "from sklearn.feature_extraction.text import CountVectorizer\n",
    "import numpy as np "
   ],
   "metadata": {
    "collapsed": false,
    "pycharm": {
     "name": "#%% \n",
     "is_executing": false
    }
   }
  },
  {
   "cell_type": "code",
   "execution_count": 23,
   "outputs": [
    {
     "name": "stdout",
     "text": [
      "\u001b[38;5;2m✔ Download and installation successful\u001b[0m\nYou can now load the model via spacy.load('fr_core_news_sm')\n"
     ],
     "output_type": "stream"
    }
   ],
   "source": [
    "from sklearn.base import BaseEstimator, TransformerMixin\n",
    "\n",
    "import spacy.cli\n",
    "from spacy.lang.fr import French\n",
    "spacy.cli.download(\"fr_core_news_sm\")\n",
    "spacy_nlp = spacy.load('fr_core_news_sm')\n"
   ],
   "metadata": {
    "collapsed": false,
    "pycharm": {
     "name": "#%%\n",
     "is_executing": false
    }
   }
  },
  {
   "cell_type": "code",
   "execution_count": 24,
   "outputs": [],
   "source": [
    "parser = French()\n",
    "\n",
    "stop_words = spacy.lang.fr.stop_words.STOP_WORDS\n",
    "\n",
    "punctuations = spacy.lang.fr.punctuation.LIST_PUNCT\n",
    "\n",
    "def easy_tokenizer(sentence):\n",
    "    \"\"\"\n",
    "    \n",
    "    :param sentence: the texte we want to treat with our parser \n",
    "    :return: \n",
    "    \"\"\"\n",
    "    # creating our token object \n",
    "    easy_tokens = parser(sentence)\n",
    "    \n",
    "    # lemming  and lowering. Stripping white space \n",
    "    # if the word is not a Pronoun lower the word and strip space else return the lower word. \n",
    "    # Because  spacy replace pronouns by \"-PRON-\" on lemming call. as we need the pronoun we can not do its lemmatization\n",
    "    \n",
    "    easy_tokens = [ word.lemma_.lower().strip() if word.lemma_ != \"-PRON-\" else word.lower_ for word in easy_tokens ]\n",
    "    \n",
    "    \n",
    "    # remove stop words \n",
    "    easy_tokens = [word  for word in easy_tokens if (word not in stop_words and word not in punctuations)]\n",
    "\n",
    "    \n",
    "    return easy_tokens"
   ],
   "metadata": {
    "collapsed": false,
    "pycharm": {
     "name": "#%%\n",
     "is_executing": false
    }
   }
  },
  {
   "cell_type": "code",
   "execution_count": 25,
   "outputs": [],
   "source": [
    "# Basic function to clean the text\n",
    "def clean_text(text):\n",
    "    # Removing spaces and converting text into lowercase\n",
    "    return text.strip().lower()\n",
    "\n",
    "class PrepareText(BaseEstimator, TransformerMixin):\n",
    "    \n",
    "    def __init__(self):\n",
    "        pass\n",
    "    \n",
    "    def fit(self, X):\n",
    "        \"\"\"\n",
    "        Take a dataframe as paremeter and fit to the data set è\n",
    "        :param X: \n",
    "        :return: \n",
    "        \"\"\"\n",
    "        return self\n",
    "    \n",
    "    def transform(self, X):\n",
    "        \"\"\"\n",
    "        remove stop word in the text and retore the text\n",
    "        return a data frame that contains all the text \n",
    "        :param X: \n",
    "        :return: \n",
    "        \"\"\"\n",
    "        return [clean_text(text) for text in X]\n",
    "    "
   ],
   "metadata": {
    "collapsed": false,
    "pycharm": {
     "name": "#%%\n",
     "is_executing": false
    }
   }
  },
  {
   "cell_type": "markdown",
   "source": [
    "Our  vectorizer use the tokenizer function implemented. This function use spacy to parse, tokenize\n",
    ", remove stop words and punctations from the text."
   ],
   "metadata": {
    "collapsed": false,
    "pycharm": {
     "name": "#%% md\n"
    }
   }
  },
  {
   "cell_type": "code",
   "execution_count": 26,
   "outputs": [],
   "source": [
    "easy_vectorizer = CountVectorizer(tokenizer=easy_tokenizer, ngram_range=(1,1))\n"
   ],
   "metadata": {
    "collapsed": false,
    "pycharm": {
     "name": "#%%\n",
     "is_executing": false
    }
   }
  },
  {
   "cell_type": "markdown",
   "source": [
    "We have analysed the metadata of the video transcript. We have learned that there are \n",
    "25 differents customers transcripts in the dataset. 54% of the video are from one customer\n",
    "IDA wich is a company in the real estate sector. 21% of video transcripts are from easy-movie\n",
    "and talks about promotions and presentation. 7% of the video are from educative group.  "
   ],
   "metadata": {
    "collapsed": false
   }
  },
  {
   "cell_type": "code",
   "execution_count": 27,
   "outputs": [],
   "source": [
    "\n",
    "\n",
    "from sklearn.pipeline import Pipeline\n",
    "easy_lda = LatentDirichletAllocation(n_components=5)\n",
    "X = yt_transcript_df.iloc[:, 0]\n",
    "easy_pipeline = Pipeline([('vectorizer', easy_vectorizer),(\"topic-analyser\", easy_lda)])\n",
    "easy_pipeline.fit(X=X)\n",
    "topic_analysis = easy_pipeline.transform(X=X)"
   ],
   "metadata": {
    "collapsed": false,
    "pycharm": {
     "name": "#%%\n",
     "is_executing": false
    }
   }
  },
  {
   "cell_type": "code",
   "execution_count": 28,
   "outputs": [],
   "source": [
    "def extractTopicAndLoadInDataframe(count_vect, dataFrame, lda, nb_words=5):\n",
    "    \"\"\"\n",
    "    :param cv: countVectorizer that was applied on the documents \n",
    "    :param df: the dataframe that contains the data \n",
    "    :param lda: Latent derichlet allocation trained \n",
    "    :param nb_words: number of words by topic that you want to used\n",
    "    :return: \n",
    "    \"\"\"\n",
    "    document_labels = []\n",
    "    for i, text in enumerate(dataFrame['Text']):\n",
    "        text_vectorized = count_vect.transform([text])\n",
    "        index = np.argmax(lda.transform(text_vectorized))\n",
    "        topic = lda.components_[index]\n",
    "        topic_word_index = topic.argsort()[-nb_words:] # get the 5 best word of the topic\n",
    "        features = count_vect.get_feature_names()\n",
    "        labels = []\n",
    "        for j in topic_word_index:\n",
    "            labels.append(features[j]) \n",
    "        document_labels.append(labels)\n",
    "    dataFrame['labels'] = document_labels\n",
    "        "
   ],
   "metadata": {
    "collapsed": false,
    "pycharm": {
     "name": "#%%\n",
     "is_executing": false
    }
   }
  },
  {
   "cell_type": "code",
   "execution_count": 29,
   "outputs": [],
   "source": [
    "extractTopicAndLoadInDataframe(count_vect=easy_vectorizer,dataFrame=yt_transcript_df, lda=easy_lda, nb_words=7)"
   ],
   "metadata": {
    "collapsed": false,
    "pycharm": {
     "name": "#%%\n",
     "is_executing": false
    }
   }
  },
  {
   "cell_type": "code",
   "execution_count": 30,
   "outputs": [
    {
     "data": {
      "text/plain": "                                                 Text  \\\n0    je leur en sont cuits mandataires immobiliers...   \n1    vous souhaitez connaître la valeur précise de...   \n2    bonjour à tous pour réaliser votre projet imm...   \n3                                       1    je m  on   \n4                                             oh oui    \n5                                             oh oui    \n6                                             oh oui    \n7                                             oh oui    \n8                                             oh oui    \n9    bonjour à tous je suis laitiers mininum manda...   \n10   bonjour bienvenue chez mon frère moi c'est un...   \n11   ingrid françois 6 1 j'habite le marais je tra...   \n12                                            oh oui    \n13                                            oh oui    \n14                                            oh oui    \n15   donc là on a le garage ces styles cardin pouv...   \n16   bonjour à tous je m'appelle va soliva ceci mo...   \n17   salut je m'appelle héloïse suit en cinquième ...   \n18   bonjour à tous pour ceux qui ne connaissent p...   \n19    bonjour le rang alors qu'ils étaient vis-à-v...   \n\n                                               labels  \n0   [projet, vraiment, clients, vidéos, faire, vid...  \n1           [%, vraiment, faut, eau, ans, , batterie]  \n2   [projet, vraiment, clients, vidéos, faire, vid...  \n3   [projet, vraiment, clients, vidéos, faire, vid...  \n4   [projet, vraiment, clients, vidéos, faire, vid...  \n5   [projet, vraiment, clients, vidéos, faire, vid...  \n6   [projet, vraiment, clients, vidéos, faire, vid...  \n7   [projet, vraiment, clients, vidéos, faire, vid...  \n8   [projet, vraiment, clients, vidéos, faire, vid...  \n9      [pouvoir, vraiment, culture, y, faire, faut, ]  \n10  [projet, vraiment, clients, vidéos, faire, vid...  \n11  [projet, vraiment, clients, vidéos, faire, vid...  \n12  [projet, vraiment, clients, vidéos, faire, vid...  \n13  [projet, vraiment, clients, vidéos, faire, vid...  \n14  [projet, vraiment, clients, vidéos, faire, vid...  \n15  [projet, vraiment, clients, vidéos, faire, vid...  \n16  [, communication, majeurs, enjeux, création, c...  \n17     [pouvoir, vraiment, culture, y, faire, faut, ]  \n18  [projet, vraiment, clients, vidéos, faire, vid...  \n19     [pouvoir, vraiment, culture, y, faire, faut, ]  ",
      "text/html": "<div>\n<style scoped>\n    .dataframe tbody tr th:only-of-type {\n        vertical-align: middle;\n    }\n\n    .dataframe tbody tr th {\n        vertical-align: top;\n    }\n\n    .dataframe thead th {\n        text-align: right;\n    }\n</style>\n<table border=\"1\" class=\"dataframe\">\n  <thead>\n    <tr style=\"text-align: right;\">\n      <th></th>\n      <th>Text</th>\n      <th>labels</th>\n    </tr>\n  </thead>\n  <tbody>\n    <tr>\n      <td>0</td>\n      <td>je leur en sont cuits mandataires immobiliers...</td>\n      <td>[projet, vraiment, clients, vidéos, faire, vid...</td>\n    </tr>\n    <tr>\n      <td>1</td>\n      <td>vous souhaitez connaître la valeur précise de...</td>\n      <td>[%, vraiment, faut, eau, ans, , batterie]</td>\n    </tr>\n    <tr>\n      <td>2</td>\n      <td>bonjour à tous pour réaliser votre projet imm...</td>\n      <td>[projet, vraiment, clients, vidéos, faire, vid...</td>\n    </tr>\n    <tr>\n      <td>3</td>\n      <td>1    je m  on</td>\n      <td>[projet, vraiment, clients, vidéos, faire, vid...</td>\n    </tr>\n    <tr>\n      <td>4</td>\n      <td>oh oui</td>\n      <td>[projet, vraiment, clients, vidéos, faire, vid...</td>\n    </tr>\n    <tr>\n      <td>5</td>\n      <td>oh oui</td>\n      <td>[projet, vraiment, clients, vidéos, faire, vid...</td>\n    </tr>\n    <tr>\n      <td>6</td>\n      <td>oh oui</td>\n      <td>[projet, vraiment, clients, vidéos, faire, vid...</td>\n    </tr>\n    <tr>\n      <td>7</td>\n      <td>oh oui</td>\n      <td>[projet, vraiment, clients, vidéos, faire, vid...</td>\n    </tr>\n    <tr>\n      <td>8</td>\n      <td>oh oui</td>\n      <td>[projet, vraiment, clients, vidéos, faire, vid...</td>\n    </tr>\n    <tr>\n      <td>9</td>\n      <td>bonjour à tous je suis laitiers mininum manda...</td>\n      <td>[pouvoir, vraiment, culture, y, faire, faut, ]</td>\n    </tr>\n    <tr>\n      <td>10</td>\n      <td>bonjour bienvenue chez mon frère moi c'est un...</td>\n      <td>[projet, vraiment, clients, vidéos, faire, vid...</td>\n    </tr>\n    <tr>\n      <td>11</td>\n      <td>ingrid françois 6 1 j'habite le marais je tra...</td>\n      <td>[projet, vraiment, clients, vidéos, faire, vid...</td>\n    </tr>\n    <tr>\n      <td>12</td>\n      <td>oh oui</td>\n      <td>[projet, vraiment, clients, vidéos, faire, vid...</td>\n    </tr>\n    <tr>\n      <td>13</td>\n      <td>oh oui</td>\n      <td>[projet, vraiment, clients, vidéos, faire, vid...</td>\n    </tr>\n    <tr>\n      <td>14</td>\n      <td>oh oui</td>\n      <td>[projet, vraiment, clients, vidéos, faire, vid...</td>\n    </tr>\n    <tr>\n      <td>15</td>\n      <td>donc là on a le garage ces styles cardin pouv...</td>\n      <td>[projet, vraiment, clients, vidéos, faire, vid...</td>\n    </tr>\n    <tr>\n      <td>16</td>\n      <td>bonjour à tous je m'appelle va soliva ceci mo...</td>\n      <td>[, communication, majeurs, enjeux, création, c...</td>\n    </tr>\n    <tr>\n      <td>17</td>\n      <td>salut je m'appelle héloïse suit en cinquième ...</td>\n      <td>[pouvoir, vraiment, culture, y, faire, faut, ]</td>\n    </tr>\n    <tr>\n      <td>18</td>\n      <td>bonjour à tous pour ceux qui ne connaissent p...</td>\n      <td>[projet, vraiment, clients, vidéos, faire, vid...</td>\n    </tr>\n    <tr>\n      <td>19</td>\n      <td>bonjour le rang alors qu'ils étaient vis-à-v...</td>\n      <td>[pouvoir, vraiment, culture, y, faire, faut, ]</td>\n    </tr>\n  </tbody>\n</table>\n</div>"
     },
     "metadata": {},
     "output_type": "execute_result",
     "execution_count": 30
    }
   ],
   "source": [
    "yt_transcript_df.head(20)"
   ],
   "metadata": {
    "collapsed": false,
    "pycharm": {
     "name": "#%%\n",
     "is_executing": false
    }
   }
  },
  {
   "cell_type": "code",
   "execution_count": 31,
   "outputs": [],
   "source": [
    "from sklearn.pipeline import Pipeline\n",
    "easy_lda = LatentDirichletAllocation(n_components=5)\n",
    "X = yt_transcript_df.iloc[:, 0]\n",
    "easy_pipeline = Pipeline([('vectorizer', easy_vectorizer),(\"topic-analyser\", easy_lda)])\n",
    "easy_pipeline.fit(X=X)\n",
    "topic_analysis = easy_pipeline.transform(X=X)"
   ],
   "metadata": {
    "collapsed": false,
    "pycharm": {
     "name": "#%%\n",
     "is_executing": false
    }
   }
  },
  {
   "cell_type": "code",
   "execution_count": 32,
   "outputs": [],
   "source": [
    "extractTopicAndLoadInDataframe(count_vect=easy_vectorizer,dataFrame=yt_transcript_df, lda=easy_lda, nb_words=7)"
   ],
   "metadata": {
    "collapsed": false,
    "pycharm": {
     "name": "#%%\n",
     "is_executing": false
    }
   }
  },
  {
   "cell_type": "code",
   "execution_count": 33,
   "outputs": [
    {
     "data": {
      "text/plain": "                                                 Text  \\\n0    je leur en sont cuits mandataires immobiliers...   \n1    vous souhaitez connaître la valeur précise de...   \n2    bonjour à tous pour réaliser votre projet imm...   \n3                                       1    je m  on   \n4                                             oh oui    \n5                                             oh oui    \n6                                             oh oui    \n7                                             oh oui    \n8                                             oh oui    \n9    bonjour à tous je suis laitiers mininum manda...   \n10   bonjour bienvenue chez mon frère moi c'est un...   \n11   ingrid françois 6 1 j'habite le marais je tra...   \n12                                            oh oui    \n13                                            oh oui    \n14                                            oh oui    \n15   donc là on a le garage ces styles cardin pouv...   \n16   bonjour à tous je m'appelle va soliva ceci mo...   \n17   salut je m'appelle héloïse suit en cinquième ...   \n18   bonjour à tous pour ceux qui ne connaissent p...   \n19    bonjour le rang alors qu'ils étaient vis-à-v...   \n\n                                               labels  \n0   [exemple, ans, faut, faire, batterie, vraiment, ]  \n1      [easy, movie, faire, clients, vidéos, vidéo, ]  \n2   [exemple, ans, faut, faire, batterie, vraiment, ]  \n3      [easy, movie, faire, clients, vidéos, vidéo, ]  \n4   [humaines, entreprise, vidéos, donner, faut, v...  \n5   [humaines, entreprise, vidéos, donner, faut, v...  \n6   [humaines, entreprise, vidéos, donner, faut, v...  \n7   [humaines, entreprise, vidéos, donner, faut, v...  \n8   [humaines, entreprise, vidéos, donner, faut, v...  \n9   [digital, , majeurs, enjeux, création, contenu...  \n10  [valorisent, facilite, vraiment, salariés, pro...  \n11     [easy, movie, faire, clients, vidéos, vidéo, ]  \n12  [humaines, entreprise, vidéos, donner, faut, v...  \n13  [humaines, entreprise, vidéos, donner, faut, v...  \n14  [humaines, entreprise, vidéos, donner, faut, v...  \n15  [valorisent, facilite, vraiment, salariés, pro...  \n16  [valorisent, facilite, vraiment, salariés, pro...  \n17  [humaines, entreprise, vidéos, donner, faut, v...  \n18  [exemple, ans, faut, faire, batterie, vraiment, ]  \n19  [digital, , majeurs, enjeux, création, contenu...  ",
      "text/html": "<div>\n<style scoped>\n    .dataframe tbody tr th:only-of-type {\n        vertical-align: middle;\n    }\n\n    .dataframe tbody tr th {\n        vertical-align: top;\n    }\n\n    .dataframe thead th {\n        text-align: right;\n    }\n</style>\n<table border=\"1\" class=\"dataframe\">\n  <thead>\n    <tr style=\"text-align: right;\">\n      <th></th>\n      <th>Text</th>\n      <th>labels</th>\n    </tr>\n  </thead>\n  <tbody>\n    <tr>\n      <td>0</td>\n      <td>je leur en sont cuits mandataires immobiliers...</td>\n      <td>[exemple, ans, faut, faire, batterie, vraiment, ]</td>\n    </tr>\n    <tr>\n      <td>1</td>\n      <td>vous souhaitez connaître la valeur précise de...</td>\n      <td>[easy, movie, faire, clients, vidéos, vidéo, ]</td>\n    </tr>\n    <tr>\n      <td>2</td>\n      <td>bonjour à tous pour réaliser votre projet imm...</td>\n      <td>[exemple, ans, faut, faire, batterie, vraiment, ]</td>\n    </tr>\n    <tr>\n      <td>3</td>\n      <td>1    je m  on</td>\n      <td>[easy, movie, faire, clients, vidéos, vidéo, ]</td>\n    </tr>\n    <tr>\n      <td>4</td>\n      <td>oh oui</td>\n      <td>[humaines, entreprise, vidéos, donner, faut, v...</td>\n    </tr>\n    <tr>\n      <td>5</td>\n      <td>oh oui</td>\n      <td>[humaines, entreprise, vidéos, donner, faut, v...</td>\n    </tr>\n    <tr>\n      <td>6</td>\n      <td>oh oui</td>\n      <td>[humaines, entreprise, vidéos, donner, faut, v...</td>\n    </tr>\n    <tr>\n      <td>7</td>\n      <td>oh oui</td>\n      <td>[humaines, entreprise, vidéos, donner, faut, v...</td>\n    </tr>\n    <tr>\n      <td>8</td>\n      <td>oh oui</td>\n      <td>[humaines, entreprise, vidéos, donner, faut, v...</td>\n    </tr>\n    <tr>\n      <td>9</td>\n      <td>bonjour à tous je suis laitiers mininum manda...</td>\n      <td>[digital, , majeurs, enjeux, création, contenu...</td>\n    </tr>\n    <tr>\n      <td>10</td>\n      <td>bonjour bienvenue chez mon frère moi c'est un...</td>\n      <td>[valorisent, facilite, vraiment, salariés, pro...</td>\n    </tr>\n    <tr>\n      <td>11</td>\n      <td>ingrid françois 6 1 j'habite le marais je tra...</td>\n      <td>[easy, movie, faire, clients, vidéos, vidéo, ]</td>\n    </tr>\n    <tr>\n      <td>12</td>\n      <td>oh oui</td>\n      <td>[humaines, entreprise, vidéos, donner, faut, v...</td>\n    </tr>\n    <tr>\n      <td>13</td>\n      <td>oh oui</td>\n      <td>[humaines, entreprise, vidéos, donner, faut, v...</td>\n    </tr>\n    <tr>\n      <td>14</td>\n      <td>oh oui</td>\n      <td>[humaines, entreprise, vidéos, donner, faut, v...</td>\n    </tr>\n    <tr>\n      <td>15</td>\n      <td>donc là on a le garage ces styles cardin pouv...</td>\n      <td>[valorisent, facilite, vraiment, salariés, pro...</td>\n    </tr>\n    <tr>\n      <td>16</td>\n      <td>bonjour à tous je m'appelle va soliva ceci mo...</td>\n      <td>[valorisent, facilite, vraiment, salariés, pro...</td>\n    </tr>\n    <tr>\n      <td>17</td>\n      <td>salut je m'appelle héloïse suit en cinquième ...</td>\n      <td>[humaines, entreprise, vidéos, donner, faut, v...</td>\n    </tr>\n    <tr>\n      <td>18</td>\n      <td>bonjour à tous pour ceux qui ne connaissent p...</td>\n      <td>[exemple, ans, faut, faire, batterie, vraiment, ]</td>\n    </tr>\n    <tr>\n      <td>19</td>\n      <td>bonjour le rang alors qu'ils étaient vis-à-v...</td>\n      <td>[digital, , majeurs, enjeux, création, contenu...</td>\n    </tr>\n  </tbody>\n</table>\n</div>"
     },
     "metadata": {},
     "output_type": "execute_result",
     "execution_count": 33
    }
   ],
   "source": [
    "yt_transcript_df.head(20)\n"
   ],
   "metadata": {
    "collapsed": false,
    "pycharm": {
     "name": "#%%\n",
     "is_executing": false
    }
   }
  }
 ],
 "metadata": {
  "kernelspec": {
   "display_name": "Python 3",
   "language": "python",
   "name": "python3"
  },
  "language_info": {
   "codemirror_mode": {
    "name": "ipython",
    "version": 2
   },
   "file_extension": ".py",
   "mimetype": "text/x-python",
   "name": "python",
   "nbconvert_exporter": "python",
   "pygments_lexer": "ipython2",
   "version": "2.7.6"
  },
  "pycharm": {
   "stem_cell": {
    "cell_type": "raw",
    "source": [],
    "metadata": {
     "collapsed": false
    }
   }
  }
 },
 "nbformat": 4,
 "nbformat_minor": 0
}