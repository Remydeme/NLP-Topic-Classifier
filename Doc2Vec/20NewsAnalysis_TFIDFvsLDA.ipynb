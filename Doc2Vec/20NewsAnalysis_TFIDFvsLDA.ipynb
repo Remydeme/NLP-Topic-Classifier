{
 "nbformat": 4,
 "nbformat_minor": 0,
 "metadata": {
  "colab": {
   "name": "20NewsAnalysis.ipynb",
   "provenance": [],
   "collapsed_sections": []
  },
  "kernelspec": {
   "name": "python3",
   "language": "python",
   "display_name": "Python 3"
  }
 },
 "cells": [
  {
   "cell_type": "code",
   "metadata": {
    "id": "HbLHIzOojlZT",
    "colab_type": "code",
    "outputId": "f9336232-add1-41ee-92e1-9d1e808452f3",
    "colab": {
     "base_uri": "https://localhost:8080/",
     "height": 1000
    }
   },
   "source": [
    "!pip install -U spacy\n",
    "\n",
    "# download english vocab\n",
    "!python -m spacy download en_core_web_sm"
   ],
   "execution_count": 1,
   "outputs": [
    {
     "output_type": "stream",
     "text": [
      "Collecting spacy\n",
      "\u001b[?25l  Downloading https://files.pythonhosted.org/packages/b9/05/e82c888a36f24608664b56abe737f4428410d370791f6112fb3e9b4a4a81/spacy-2.2.2-cp36-cp36m-manylinux1_x86_64.whl (10.3MB)\n",
      "\u001b[K     |████████████████████████████████| 10.3MB 2.8MB/s \n",
      "\u001b[?25hRequirement already satisfied, skipping upgrade: requests<3.0.0,>=2.13.0 in /usr/local/lib/python3.6/dist-packages (from spacy) (2.21.0)\n",
      "Requirement already satisfied, skipping upgrade: cymem<2.1.0,>=2.0.2 in /usr/local/lib/python3.6/dist-packages (from spacy) (2.0.2)\n",
      "Collecting preshed<3.1.0,>=3.0.2\n",
      "\u001b[?25l  Downloading https://files.pythonhosted.org/packages/db/6b/e07fad36913879757c90ba03d6fb7f406f7279e11dcefc105ee562de63ea/preshed-3.0.2-cp36-cp36m-manylinux1_x86_64.whl (119kB)\n",
      "\u001b[K     |████████████████████████████████| 122kB 49.9MB/s \n",
      "\u001b[?25hRequirement already satisfied, skipping upgrade: srsly<1.1.0,>=0.1.0 in /usr/local/lib/python3.6/dist-packages (from spacy) (0.2.0)\n",
      "Requirement already satisfied, skipping upgrade: murmurhash<1.1.0,>=0.28.0 in /usr/local/lib/python3.6/dist-packages (from spacy) (1.0.2)\n",
      "Collecting blis<0.5.0,>=0.4.0\n",
      "\u001b[?25l  Downloading https://files.pythonhosted.org/packages/41/19/f95c75562d18eb27219df3a3590b911e78d131b68466ad79fdf5847eaac4/blis-0.4.1-cp36-cp36m-manylinux1_x86_64.whl (3.7MB)\n",
      "\u001b[K     |████████████████████████████████| 3.7MB 34.9MB/s \n",
      "\u001b[?25hRequirement already satisfied, skipping upgrade: importlib-metadata>=0.20; python_version < \"3.8\" in /usr/local/lib/python3.6/dist-packages (from spacy) (0.23)\n",
      "Requirement already satisfied, skipping upgrade: numpy>=1.15.0 in /usr/local/lib/python3.6/dist-packages (from spacy) (1.17.4)\n",
      "Requirement already satisfied, skipping upgrade: wasabi<1.1.0,>=0.3.0 in /usr/local/lib/python3.6/dist-packages (from spacy) (0.4.0)\n",
      "Requirement already satisfied, skipping upgrade: setuptools in /usr/local/lib/python3.6/dist-packages (from spacy) (41.4.0)\n",
      "Requirement already satisfied, skipping upgrade: plac<1.2.0,>=0.9.6 in /usr/local/lib/python3.6/dist-packages (from spacy) (0.9.6)\n",
      "Collecting thinc<7.4.0,>=7.3.0\n",
      "\u001b[?25l  Downloading https://files.pythonhosted.org/packages/07/59/6bb553bc9a5f072d3cd479fc939fea0f6f682892f1f5cff98de5c9b615bb/thinc-7.3.1-cp36-cp36m-manylinux1_x86_64.whl (2.2MB)\n",
      "\u001b[K     |████████████████████████████████| 2.2MB 33.5MB/s \n",
      "\u001b[?25hRequirement already satisfied, skipping upgrade: chardet<3.1.0,>=3.0.2 in /usr/local/lib/python3.6/dist-packages (from requests<3.0.0,>=2.13.0->spacy) (3.0.4)\n",
      "Requirement already satisfied, skipping upgrade: urllib3<1.25,>=1.21.1 in /usr/local/lib/python3.6/dist-packages (from requests<3.0.0,>=2.13.0->spacy) (1.24.3)\n",
      "Requirement already satisfied, skipping upgrade: certifi>=2017.4.17 in /usr/local/lib/python3.6/dist-packages (from requests<3.0.0,>=2.13.0->spacy) (2019.9.11)\n",
      "Requirement already satisfied, skipping upgrade: idna<2.9,>=2.5 in /usr/local/lib/python3.6/dist-packages (from requests<3.0.0,>=2.13.0->spacy) (2.8)\n",
      "Requirement already satisfied, skipping upgrade: zipp>=0.5 in /usr/local/lib/python3.6/dist-packages (from importlib-metadata>=0.20; python_version < \"3.8\"->spacy) (0.6.0)\n",
      "Requirement already satisfied, skipping upgrade: tqdm<5.0.0,>=4.10.0 in /usr/local/lib/python3.6/dist-packages (from thinc<7.4.0,>=7.3.0->spacy) (4.28.1)\n",
      "Requirement already satisfied, skipping upgrade: more-itertools in /usr/local/lib/python3.6/dist-packages (from zipp>=0.5->importlib-metadata>=0.20; python_version < \"3.8\"->spacy) (7.2.0)\n",
      "Installing collected packages: preshed, blis, thinc, spacy\n",
      "  Found existing installation: preshed 2.0.1\n",
      "    Uninstalling preshed-2.0.1:\n",
      "      Successfully uninstalled preshed-2.0.1\n",
      "  Found existing installation: blis 0.2.4\n",
      "    Uninstalling blis-0.2.4:\n",
      "      Successfully uninstalled blis-0.2.4\n",
      "  Found existing installation: thinc 7.0.8\n",
      "    Uninstalling thinc-7.0.8:\n",
      "      Successfully uninstalled thinc-7.0.8\n",
      "  Found existing installation: spacy 2.1.9\n",
      "    Uninstalling spacy-2.1.9:\n",
      "      Successfully uninstalled spacy-2.1.9\n",
      "Successfully installed blis-0.4.1 preshed-3.0.2 spacy-2.2.2 thinc-7.3.1\n",
      "Collecting en_core_web_sm==2.2.5\n",
      "\u001b[?25l  Downloading https://github.com/explosion/spacy-models/releases/download/en_core_web_sm-2.2.5/en_core_web_sm-2.2.5.tar.gz (12.0MB)\n",
      "\u001b[K     |████████████████████████████████| 12.0MB 4.0MB/s \n",
      "\u001b[?25hRequirement already satisfied: spacy>=2.2.2 in /usr/local/lib/python3.6/dist-packages (from en_core_web_sm==2.2.5) (2.2.2)\n",
      "Requirement already satisfied: murmurhash<1.1.0,>=0.28.0 in /usr/local/lib/python3.6/dist-packages (from spacy>=2.2.2->en_core_web_sm==2.2.5) (1.0.2)\n",
      "Requirement already satisfied: wasabi<1.1.0,>=0.3.0 in /usr/local/lib/python3.6/dist-packages (from spacy>=2.2.2->en_core_web_sm==2.2.5) (0.4.0)\n",
      "Requirement already satisfied: preshed<3.1.0,>=3.0.2 in /usr/local/lib/python3.6/dist-packages (from spacy>=2.2.2->en_core_web_sm==2.2.5) (3.0.2)\n",
      "Requirement already satisfied: thinc<7.4.0,>=7.3.0 in /usr/local/lib/python3.6/dist-packages (from spacy>=2.2.2->en_core_web_sm==2.2.5) (7.3.1)\n",
      "Requirement already satisfied: srsly<1.1.0,>=0.1.0 in /usr/local/lib/python3.6/dist-packages (from spacy>=2.2.2->en_core_web_sm==2.2.5) (0.2.0)\n",
      "Requirement already satisfied: importlib-metadata>=0.20; python_version < \"3.8\" in /usr/local/lib/python3.6/dist-packages (from spacy>=2.2.2->en_core_web_sm==2.2.5) (0.23)\n",
      "Requirement already satisfied: plac<1.2.0,>=0.9.6 in /usr/local/lib/python3.6/dist-packages (from spacy>=2.2.2->en_core_web_sm==2.2.5) (0.9.6)\n",
      "Requirement already satisfied: cymem<2.1.0,>=2.0.2 in /usr/local/lib/python3.6/dist-packages (from spacy>=2.2.2->en_core_web_sm==2.2.5) (2.0.2)\n",
      "Requirement already satisfied: setuptools in /usr/local/lib/python3.6/dist-packages (from spacy>=2.2.2->en_core_web_sm==2.2.5) (41.4.0)\n",
      "Requirement already satisfied: blis<0.5.0,>=0.4.0 in /usr/local/lib/python3.6/dist-packages (from spacy>=2.2.2->en_core_web_sm==2.2.5) (0.4.1)\n",
      "Requirement already satisfied: requests<3.0.0,>=2.13.0 in /usr/local/lib/python3.6/dist-packages (from spacy>=2.2.2->en_core_web_sm==2.2.5) (2.21.0)\n",
      "Requirement already satisfied: numpy>=1.15.0 in /usr/local/lib/python3.6/dist-packages (from spacy>=2.2.2->en_core_web_sm==2.2.5) (1.17.4)\n",
      "Requirement already satisfied: tqdm<5.0.0,>=4.10.0 in /usr/local/lib/python3.6/dist-packages (from thinc<7.4.0,>=7.3.0->spacy>=2.2.2->en_core_web_sm==2.2.5) (4.28.1)\n",
      "Requirement already satisfied: zipp>=0.5 in /usr/local/lib/python3.6/dist-packages (from importlib-metadata>=0.20; python_version < \"3.8\"->spacy>=2.2.2->en_core_web_sm==2.2.5) (0.6.0)\n",
      "Requirement already satisfied: certifi>=2017.4.17 in /usr/local/lib/python3.6/dist-packages (from requests<3.0.0,>=2.13.0->spacy>=2.2.2->en_core_web_sm==2.2.5) (2019.9.11)\n",
      "Requirement already satisfied: urllib3<1.25,>=1.21.1 in /usr/local/lib/python3.6/dist-packages (from requests<3.0.0,>=2.13.0->spacy>=2.2.2->en_core_web_sm==2.2.5) (1.24.3)\n",
      "Requirement already satisfied: chardet<3.1.0,>=3.0.2 in /usr/local/lib/python3.6/dist-packages (from requests<3.0.0,>=2.13.0->spacy>=2.2.2->en_core_web_sm==2.2.5) (3.0.4)\n",
      "Requirement already satisfied: idna<2.9,>=2.5 in /usr/local/lib/python3.6/dist-packages (from requests<3.0.0,>=2.13.0->spacy>=2.2.2->en_core_web_sm==2.2.5) (2.8)\n",
      "Requirement already satisfied: more-itertools in /usr/local/lib/python3.6/dist-packages (from zipp>=0.5->importlib-metadata>=0.20; python_version < \"3.8\"->spacy>=2.2.2->en_core_web_sm==2.2.5) (7.2.0)\n",
      "Building wheels for collected packages: en-core-web-sm\n",
      "  Building wheel for en-core-web-sm (setup.py) ... \u001b[?25l\u001b[?25hdone\n",
      "  Created wheel for en-core-web-sm: filename=en_core_web_sm-2.2.5-cp36-none-any.whl size=12011741 sha256=6e973e11a80467871fe9c405e7c6d806214de4c1d433e9d85d890ddf7ca79937\n",
      "  Stored in directory: /tmp/pip-ephem-wheel-cache-ut9cix9b/wheels/6a/47/fb/6b5a0b8906d8e8779246c67d4658fd8a544d4a03a75520197a\n",
      "Successfully built en-core-web-sm\n",
      "Installing collected packages: en-core-web-sm\n",
      "  Found existing installation: en-core-web-sm 2.1.0\n",
      "    Uninstalling en-core-web-sm-2.1.0:\n",
      "      Successfully uninstalled en-core-web-sm-2.1.0\n",
      "Successfully installed en-core-web-sm-2.2.5\n",
      "\u001b[38;5;2m✔ Download and installation successful\u001b[0m\n",
      "You can now load the model via spacy.load('en_core_web_sm')\n"
     ],
     "name": "stdout"
    }
   ]
  },
  {
   "cell_type": "markdown",
   "metadata": {
    "id": "djkwkqH17v6E",
    "colab_type": "text"
   },
   "source": [
    "# Introduction \n",
    "\n",
    "This kernel has been made to study 4 things :\n",
    "\n",
    "* compare the precision of Doc2Vec vs TF-IDF \n",
    "\n",
    "* Determine if stemming have an impact on performance of the model. If it's improve the scores or decrease the score. We know that stemming is used to reduce the size of the vocabulary to speed the training. But if it's reduce  the vocabulary  and in the same time reduce the accuracy we need to know at what level. \n",
    "\n",
    "* Determine the size of the dataset. Size from which our model provided good results. How many words? The size of the vocabulary.\n",
    "\n",
    "* What is the best simple models that perform good on big and tiny dataset."
   ]
  },
  {
   "cell_type": "code",
   "metadata": {
    "colab_type": "code",
    "id": "FjLeutDlbFus",
    "colab": {
     "base_uri": "https://localhost:8080/",
     "height": 51
    },
    "outputId": "388d87f3-c7b4-4888-aa27-353a5ea11cce"
   },
   "source": [
    "from sklearn.datasets import fetch_20newsgroups\n",
    "newsgroups_train = fetch_20newsgroups(subset='train')\n",
    "newsgroups_test = fetch_20newsgroups(subset='test')"
   ],
   "execution_count": 2,
   "outputs": [
    {
     "output_type": "stream",
     "text": [
      "Downloading 20news dataset. This may take a few minutes.\n",
      "Downloading dataset from https://ndownloader.figshare.com/files/5975967 (14 MB)\n"
     ],
     "name": "stderr"
    }
   ]
  },
  {
   "cell_type": "markdown",
   "metadata": {
    "id": "SxCng5X5gTS1",
    "colab_type": "text"
   },
   "source": [
    "The aim of this project is to study the performance of TF-IDF VS Doc2Vec. \n",
    "We are going to use 4 modèles to compare them :\n",
    "\n",
    "* LinearSVC \n",
    "* XGboost \n",
    "* Logistic-regression \n",
    "* Naives-bayes"
   ]
  },
  {
   "cell_type": "code",
   "metadata": {
    "id": "madp-QFxgRkX",
    "colab_type": "code",
    "colab": {}
   },
   "source": [
    "import pandas as pd \n",
    "import numpy as np \n",
    "import seaborn  as sns \n",
    "import matplotlib.pyplot as plt "
   ],
   "execution_count": 0,
   "outputs": []
  },
  {
   "cell_type": "code",
   "metadata": {
    "id": "5HvSuJI1gv55",
    "colab_type": "code",
    "outputId": "246b681f-13aa-4ee2-883a-779d3eca2e7f",
    "colab": {
     "base_uri": "https://localhost:8080/",
     "height": 54
    }
   },
   "source": [
    "newsgroups_train.data[0]"
   ],
   "execution_count": 4,
   "outputs": [
    {
     "output_type": "execute_result",
     "data": {
      "text/plain": [
       "\"From: lerxst@wam.umd.edu (where's my thing)\\nSubject: WHAT car is this!?\\nNntp-Posting-Host: rac3.wam.umd.edu\\nOrganization: University of Maryland, College Park\\nLines: 15\\n\\n I was wondering if anyone out there could enlighten me on this car I saw\\nthe other day. It was a 2-door sports car, looked to be from the late 60s/\\nearly 70s. It was called a Bricklin. The doors were really small. In addition,\\nthe front bumper was separate from the rest of the body. This is \\nall I know. If anyone can tellme a model name, engine specs, years\\nof production, where this car is made, history, or whatever info you\\nhave on this funky looking car, please e-mail.\\n\\nThanks,\\n- IL\\n   ---- brought to you by your neighborhood Lerxst ----\\n\\n\\n\\n\\n\""
      ]
     },
     "metadata": {
      "tags": []
     },
     "execution_count": 4
    }
   ]
  },
  {
   "cell_type": "markdown",
   "metadata": {
    "id": "_6B9gNxY5KWj",
    "colab_type": "text"
   },
   "source": [
    "# Study the dataset \n",
    "\n",
    "## Classes"
   ]
  },
  {
   "cell_type": "markdown",
   "metadata": {
    "id": "GIUzW7HhspzY",
    "colab_type": "text"
   },
   "source": [
    "## Distrubution "
   ]
  },
  {
   "cell_type": "code",
   "metadata": {
    "id": "zBIAbGseuBDl",
    "colab_type": "code",
    "colab": {}
   },
   "source": [
    "def displayFeaturesAndDescribe(array_features, feature, kind='bar', color=None):\n",
    "    s = pd.Series(array_features)\n",
    "    feature_count = (s.value_counts() /s.shape[0]) * 100\n",
    "    feature_dataframe = pd.DataFrame()\n",
    "    feature_dataframe[feature] = feature_count.index\n",
    "    feature_dataframe['Percentage'] = feature_count.values\n",
    "    sns.catplot(x=feature, y='Percentage', kind=kind, data=feature_dataframe, hue='Percentage', aspect=2, height=5,legend_out=True)\n",
    "    "
   ],
   "execution_count": 0,
   "outputs": []
  },
  {
   "cell_type": "code",
   "metadata": {
    "id": "Lp7ZSh3nvJ2Y",
    "colab_type": "code",
    "colab": {}
   },
   "source": [
    ""
   ],
   "execution_count": 0,
   "outputs": []
  },
  {
   "cell_type": "code",
   "metadata": {
    "id": "Fap0qe4WvYIR",
    "colab_type": "code",
    "outputId": "06d7ac69-3159-40ed-bb81-0eb3dedaae50",
    "colab": {
     "base_uri": "https://localhost:8080/",
     "height": 669
    }
   },
   "source": [
    "target_df = pd.DataFrame({'target_name' : newsgroups_train.target_names,  'target_value' :np.unique(newsgroups_train.target)})\n",
    "target_df "
   ],
   "execution_count": 6,
   "outputs": [
    {
     "output_type": "execute_result",
     "data": {
      "text/html": [
       "<div>\n",
       "<style scoped>\n",
       "    .dataframe tbody tr th:only-of-type {\n",
       "        vertical-align: middle;\n",
       "    }\n",
       "\n",
       "    .dataframe tbody tr th {\n",
       "        vertical-align: top;\n",
       "    }\n",
       "\n",
       "    .dataframe thead th {\n",
       "        text-align: right;\n",
       "    }\n",
       "</style>\n",
       "<table border=\"1\" class=\"dataframe\">\n",
       "  <thead>\n",
       "    <tr style=\"text-align: right;\">\n",
       "      <th></th>\n",
       "      <th>target_name</th>\n",
       "      <th>target_value</th>\n",
       "    </tr>\n",
       "  </thead>\n",
       "  <tbody>\n",
       "    <tr>\n",
       "      <th>0</th>\n",
       "      <td>alt.atheism</td>\n",
       "      <td>0</td>\n",
       "    </tr>\n",
       "    <tr>\n",
       "      <th>1</th>\n",
       "      <td>comp.graphics</td>\n",
       "      <td>1</td>\n",
       "    </tr>\n",
       "    <tr>\n",
       "      <th>2</th>\n",
       "      <td>comp.os.ms-windows.misc</td>\n",
       "      <td>2</td>\n",
       "    </tr>\n",
       "    <tr>\n",
       "      <th>3</th>\n",
       "      <td>comp.sys.ibm.pc.hardware</td>\n",
       "      <td>3</td>\n",
       "    </tr>\n",
       "    <tr>\n",
       "      <th>4</th>\n",
       "      <td>comp.sys.mac.hardware</td>\n",
       "      <td>4</td>\n",
       "    </tr>\n",
       "    <tr>\n",
       "      <th>5</th>\n",
       "      <td>comp.windows.x</td>\n",
       "      <td>5</td>\n",
       "    </tr>\n",
       "    <tr>\n",
       "      <th>6</th>\n",
       "      <td>misc.forsale</td>\n",
       "      <td>6</td>\n",
       "    </tr>\n",
       "    <tr>\n",
       "      <th>7</th>\n",
       "      <td>rec.autos</td>\n",
       "      <td>7</td>\n",
       "    </tr>\n",
       "    <tr>\n",
       "      <th>8</th>\n",
       "      <td>rec.motorcycles</td>\n",
       "      <td>8</td>\n",
       "    </tr>\n",
       "    <tr>\n",
       "      <th>9</th>\n",
       "      <td>rec.sport.baseball</td>\n",
       "      <td>9</td>\n",
       "    </tr>\n",
       "    <tr>\n",
       "      <th>10</th>\n",
       "      <td>rec.sport.hockey</td>\n",
       "      <td>10</td>\n",
       "    </tr>\n",
       "    <tr>\n",
       "      <th>11</th>\n",
       "      <td>sci.crypt</td>\n",
       "      <td>11</td>\n",
       "    </tr>\n",
       "    <tr>\n",
       "      <th>12</th>\n",
       "      <td>sci.electronics</td>\n",
       "      <td>12</td>\n",
       "    </tr>\n",
       "    <tr>\n",
       "      <th>13</th>\n",
       "      <td>sci.med</td>\n",
       "      <td>13</td>\n",
       "    </tr>\n",
       "    <tr>\n",
       "      <th>14</th>\n",
       "      <td>sci.space</td>\n",
       "      <td>14</td>\n",
       "    </tr>\n",
       "    <tr>\n",
       "      <th>15</th>\n",
       "      <td>soc.religion.christian</td>\n",
       "      <td>15</td>\n",
       "    </tr>\n",
       "    <tr>\n",
       "      <th>16</th>\n",
       "      <td>talk.politics.guns</td>\n",
       "      <td>16</td>\n",
       "    </tr>\n",
       "    <tr>\n",
       "      <th>17</th>\n",
       "      <td>talk.politics.mideast</td>\n",
       "      <td>17</td>\n",
       "    </tr>\n",
       "    <tr>\n",
       "      <th>18</th>\n",
       "      <td>talk.politics.misc</td>\n",
       "      <td>18</td>\n",
       "    </tr>\n",
       "    <tr>\n",
       "      <th>19</th>\n",
       "      <td>talk.religion.misc</td>\n",
       "      <td>19</td>\n",
       "    </tr>\n",
       "  </tbody>\n",
       "</table>\n",
       "</div>"
      ],
      "text/plain": [
       "                 target_name  target_value\n",
       "0                alt.atheism             0\n",
       "1              comp.graphics             1\n",
       "2    comp.os.ms-windows.misc             2\n",
       "3   comp.sys.ibm.pc.hardware             3\n",
       "4      comp.sys.mac.hardware             4\n",
       "5             comp.windows.x             5\n",
       "6               misc.forsale             6\n",
       "7                  rec.autos             7\n",
       "8            rec.motorcycles             8\n",
       "9         rec.sport.baseball             9\n",
       "10          rec.sport.hockey            10\n",
       "11                 sci.crypt            11\n",
       "12           sci.electronics            12\n",
       "13                   sci.med            13\n",
       "14                 sci.space            14\n",
       "15    soc.religion.christian            15\n",
       "16        talk.politics.guns            16\n",
       "17     talk.politics.mideast            17\n",
       "18        talk.politics.misc            18\n",
       "19        talk.religion.misc            19"
      ]
     },
     "metadata": {
      "tags": []
     },
     "execution_count": 6
    }
   ]
  },
  {
   "cell_type": "code",
   "metadata": {
    "id": "zMstXkc6xohe",
    "colab_type": "code",
    "outputId": "a820dc55-e69b-42a5-b78c-85bc81be07cb",
    "colab": {
     "base_uri": "https://localhost:8080/",
     "height": 669
    }
   },
   "source": [
    "target_serie = pd.Series(newsgroups_train.target)\n",
    "target_df['distribution'] = target_serie.value_counts()/target_serie.count() * 100\n",
    "target_df"
   ],
   "execution_count": 7,
   "outputs": [
    {
     "output_type": "execute_result",
     "data": {
      "text/html": [
       "<div>\n",
       "<style scoped>\n",
       "    .dataframe tbody tr th:only-of-type {\n",
       "        vertical-align: middle;\n",
       "    }\n",
       "\n",
       "    .dataframe tbody tr th {\n",
       "        vertical-align: top;\n",
       "    }\n",
       "\n",
       "    .dataframe thead th {\n",
       "        text-align: right;\n",
       "    }\n",
       "</style>\n",
       "<table border=\"1\" class=\"dataframe\">\n",
       "  <thead>\n",
       "    <tr style=\"text-align: right;\">\n",
       "      <th></th>\n",
       "      <th>target_name</th>\n",
       "      <th>target_value</th>\n",
       "      <th>distribution</th>\n",
       "    </tr>\n",
       "  </thead>\n",
       "  <tbody>\n",
       "    <tr>\n",
       "      <th>0</th>\n",
       "      <td>alt.atheism</td>\n",
       "      <td>0</td>\n",
       "      <td>4.242531</td>\n",
       "    </tr>\n",
       "    <tr>\n",
       "      <th>1</th>\n",
       "      <td>comp.graphics</td>\n",
       "      <td>1</td>\n",
       "      <td>5.161747</td>\n",
       "    </tr>\n",
       "    <tr>\n",
       "      <th>2</th>\n",
       "      <td>comp.os.ms-windows.misc</td>\n",
       "      <td>2</td>\n",
       "      <td>5.223617</td>\n",
       "    </tr>\n",
       "    <tr>\n",
       "      <th>3</th>\n",
       "      <td>comp.sys.ibm.pc.hardware</td>\n",
       "      <td>3</td>\n",
       "      <td>5.214778</td>\n",
       "    </tr>\n",
       "    <tr>\n",
       "      <th>4</th>\n",
       "      <td>comp.sys.mac.hardware</td>\n",
       "      <td>4</td>\n",
       "      <td>5.108715</td>\n",
       "    </tr>\n",
       "    <tr>\n",
       "      <th>5</th>\n",
       "      <td>comp.windows.x</td>\n",
       "      <td>5</td>\n",
       "      <td>5.241294</td>\n",
       "    </tr>\n",
       "    <tr>\n",
       "      <th>6</th>\n",
       "      <td>misc.forsale</td>\n",
       "      <td>6</td>\n",
       "      <td>5.170585</td>\n",
       "    </tr>\n",
       "    <tr>\n",
       "      <th>7</th>\n",
       "      <td>rec.autos</td>\n",
       "      <td>7</td>\n",
       "      <td>5.250133</td>\n",
       "    </tr>\n",
       "    <tr>\n",
       "      <th>8</th>\n",
       "      <td>rec.motorcycles</td>\n",
       "      <td>8</td>\n",
       "      <td>5.285487</td>\n",
       "    </tr>\n",
       "    <tr>\n",
       "      <th>9</th>\n",
       "      <td>rec.sport.baseball</td>\n",
       "      <td>9</td>\n",
       "      <td>5.276648</td>\n",
       "    </tr>\n",
       "    <tr>\n",
       "      <th>10</th>\n",
       "      <td>rec.sport.hockey</td>\n",
       "      <td>10</td>\n",
       "      <td>5.303164</td>\n",
       "    </tr>\n",
       "    <tr>\n",
       "      <th>11</th>\n",
       "      <td>sci.crypt</td>\n",
       "      <td>11</td>\n",
       "      <td>5.258971</td>\n",
       "    </tr>\n",
       "    <tr>\n",
       "      <th>12</th>\n",
       "      <td>sci.electronics</td>\n",
       "      <td>12</td>\n",
       "      <td>5.223617</td>\n",
       "    </tr>\n",
       "    <tr>\n",
       "      <th>13</th>\n",
       "      <td>sci.med</td>\n",
       "      <td>13</td>\n",
       "      <td>5.250133</td>\n",
       "    </tr>\n",
       "    <tr>\n",
       "      <th>14</th>\n",
       "      <td>sci.space</td>\n",
       "      <td>14</td>\n",
       "      <td>5.241294</td>\n",
       "    </tr>\n",
       "    <tr>\n",
       "      <th>15</th>\n",
       "      <td>soc.religion.christian</td>\n",
       "      <td>15</td>\n",
       "      <td>5.294326</td>\n",
       "    </tr>\n",
       "    <tr>\n",
       "      <th>16</th>\n",
       "      <td>talk.politics.guns</td>\n",
       "      <td>16</td>\n",
       "      <td>4.825879</td>\n",
       "    </tr>\n",
       "    <tr>\n",
       "      <th>17</th>\n",
       "      <td>talk.politics.mideast</td>\n",
       "      <td>17</td>\n",
       "      <td>4.984974</td>\n",
       "    </tr>\n",
       "    <tr>\n",
       "      <th>18</th>\n",
       "      <td>talk.politics.misc</td>\n",
       "      <td>18</td>\n",
       "      <td>4.109952</td>\n",
       "    </tr>\n",
       "    <tr>\n",
       "      <th>19</th>\n",
       "      <td>talk.religion.misc</td>\n",
       "      <td>19</td>\n",
       "      <td>3.332155</td>\n",
       "    </tr>\n",
       "  </tbody>\n",
       "</table>\n",
       "</div>"
      ],
      "text/plain": [
       "                 target_name  target_value  distribution\n",
       "0                alt.atheism             0      4.242531\n",
       "1              comp.graphics             1      5.161747\n",
       "2    comp.os.ms-windows.misc             2      5.223617\n",
       "3   comp.sys.ibm.pc.hardware             3      5.214778\n",
       "4      comp.sys.mac.hardware             4      5.108715\n",
       "5             comp.windows.x             5      5.241294\n",
       "6               misc.forsale             6      5.170585\n",
       "7                  rec.autos             7      5.250133\n",
       "8            rec.motorcycles             8      5.285487\n",
       "9         rec.sport.baseball             9      5.276648\n",
       "10          rec.sport.hockey            10      5.303164\n",
       "11                 sci.crypt            11      5.258971\n",
       "12           sci.electronics            12      5.223617\n",
       "13                   sci.med            13      5.250133\n",
       "14                 sci.space            14      5.241294\n",
       "15    soc.religion.christian            15      5.294326\n",
       "16        talk.politics.guns            16      4.825879\n",
       "17     talk.politics.mideast            17      4.984974\n",
       "18        talk.politics.misc            18      4.109952\n",
       "19        talk.religion.misc            19      3.332155"
      ]
     },
     "metadata": {
      "tags": []
     },
     "execution_count": 7
    }
   ]
  },
  {
   "cell_type": "code",
   "metadata": {
    "id": "fBJkJvRDuDBW",
    "colab_type": "code",
    "outputId": "1eebdcc6-0467-46e0-835e-8eea96a86131",
    "colab": {
     "base_uri": "https://localhost:8080/",
     "height": 369
    }
   },
   "source": [
    "displayFeaturesAndDescribe(array_features=newsgroups_train.target, feature='labels')"
   ],
   "execution_count": 8,
   "outputs": [
    {
     "output_type": "display_data",
     "data": {
      "image/png": "[encoded data removed]",
      "text/plain": [
       "<Figure size 867.25x360 with 1 Axes>"
      ]
     },
     "metadata": {
      "tags": []
     }
    }
   ]
  },
  {
   "cell_type": "code",
   "metadata": {
    "id": "aSlsxPCczIc9",
    "colab_type": "code",
    "outputId": "5184005a-725e-4b55-d196-b6ede331fb85",
    "colab": {
     "base_uri": "https://localhost:8080/",
     "height": 170
    }
   },
   "source": [
    "target_df['distribution'].describe()"
   ],
   "execution_count": 9,
   "outputs": [
    {
     "output_type": "execute_result",
     "data": {
      "text/plain": [
       "count    20.000000\n",
       "mean      5.000000\n",
       "std       0.514865\n",
       "min       3.332155\n",
       "25%       5.077780\n",
       "50%       5.223617\n",
       "75%       5.252342\n",
       "max       5.303164\n",
       "Name: distribution, dtype: float64"
      ]
     },
     "metadata": {
      "tags": []
     },
     "execution_count": 9
    }
   ]
  },
  {
   "cell_type": "markdown",
   "metadata": {
    "id": "eol5YL79yN-7",
    "colab_type": "text"
   },
   "source": [
    "The dataset is well balanced. The percentage of each class is approximatly of 5%. Religion is represented at 3.3%."
   ]
  },
  {
   "cell_type": "markdown",
   "metadata": {
    "id": "PdXWmelBinRp",
    "colab_type": "text"
   },
   "source": [
    "# Clean the data \n",
    "\n",
    "The first step we are going to use spacy to clean the data by :\n",
    "\n",
    "* lower all the word to avoid that word like : Hello HELLO or hello are \n",
    "considered as 3 differents words.\n",
    "* removing stop words \n",
    "* removing punctuation \n",
    "* lemming \n",
    "\n",
    "\n",
    "Note : In the second part we will do the same without lemming to see the performance."
   ]
  },
  {
   "cell_type": "code",
   "metadata": {
    "id": "gSQtZTjSjhn5",
    "colab_type": "code",
    "outputId": "dfce3ea6-cde4-4495-95c0-e73be154fdc6",
    "colab": {
     "base_uri": "https://localhost:8080/",
     "height": 34
    }
   },
   "source": [
    "import spacy\n",
    "\n",
    "print('spaCy Version: %s' % (spacy.__version__))\n",
    "spacy_nlp = spacy.load('en_core_web_sm')\n",
    "stop_words = spacy.lang.en.STOP_WORDS\n",
    "punctuations = spacy.lang.punctuation.PUNCT"
   ],
   "execution_count": 10,
   "outputs": [
    {
     "output_type": "stream",
     "text": [
      "spaCy Version: 2.2.2\n"
     ],
     "name": "stdout"
    }
   ]
  },
  {
   "cell_type": "code",
   "metadata": {
    "id": "MByuTvAklBCr",
    "colab_type": "code",
    "colab": {}
   },
   "source": [
    "parse = spacy_nlp(newsgroups_train.data[0])"
   ],
   "execution_count": 0,
   "outputs": []
  },
  {
   "cell_type": "code",
   "metadata": {
    "id": "Dsfis5SRl2jK",
    "colab_type": "code",
    "outputId": "8484b887-5202-45db-f21c-89e4cf50eb58",
    "colab": {
     "base_uri": "https://localhost:8080/",
     "height": 34
    }
   },
   "source": [
    "parse.vocab.length"
   ],
   "execution_count": 12,
   "outputs": [
    {
     "output_type": "execute_result",
     "data": {
      "text/plain": [
       "572"
      ]
     },
     "metadata": {
      "tags": []
     },
     "execution_count": 12
    }
   ]
  },
  {
   "cell_type": "markdown",
   "metadata": {
    "id": "VjnJpu_smTLY",
    "colab_type": "text"
   },
   "source": [
    "Spacy parser, parse the text and apply different model on the text :\n",
    "\n",
    "* Tokenizer : Split the text in token. (base on the language)\n",
    "* NER => identify entity in the text \n",
    "* Tagger => Assign part-of-speech tags.\n",
    "* TextCat => optionnal you can add a text classifier "
   ]
  },
  {
   "cell_type": "code",
   "metadata": {
    "id": "XRRzQwLLqvDn",
    "colab_type": "code",
    "colab": {}
   },
   "source": [
    "# create a copy of the dataset \n",
    "x_train = newsgroups_train.data.copy()"
   ],
   "execution_count": 0,
   "outputs": []
  },
  {
   "cell_type": "code",
   "metadata": {
    "id": "eoe-8ovVkFv6",
    "colab_type": "code",
    "colab": {}
   },
   "source": [
    "\n",
    "def prepareText(text):\n",
    "  \"\"\"\n",
    "  This function clean the text. \n",
    "  \"\"\"\n",
    "\n",
    "  processing = spacy_nlp(text)\n",
    "  \n",
    "  # lowering words and lemming \n",
    "  # strip space \n",
    "  # don't apply lemming if the word is a pronoun because spacy convert the word in \"-PRON-\" and we need all the word \n",
    "  processing = [ word.lemma_.lower() if word.lemma_ != \"-PRON-\" else word.lower_ for word in processing ] \n",
    "\n",
    "  # remove stop words and punctuation \n",
    "\n",
    "  processing = [word  for word in processing if (word not in stop_words and punctuations)]\n",
    "\n",
    "  return processing  "
   ],
   "execution_count": 0,
   "outputs": []
  },
  {
   "cell_type": "markdown",
   "metadata": {
    "id": "kvfZXx5jsq_x",
    "colab_type": "text"
   },
   "source": [
    "We will implement the same function but without lemming. We could add a boolean variable to indicate if we do lemming or not but for performance reason I prefer to implement an other function.\n",
    "\n",
    "Let's test this one "
   ]
  },
  {
   "cell_type": "code",
   "metadata": {
    "id": "kIoD-N-EtANV",
    "colab_type": "code",
    "outputId": "7dc28442-fb12-4067-cf41-0ad882668e89",
    "colab": {
     "base_uri": "https://localhost:8080/",
     "height": 1000
    }
   },
   "source": [
    "prepareText(x_train[0])"
   ],
   "execution_count": 15,
   "outputs": [
    {
     "output_type": "execute_result",
     "data": {
      "text/plain": [
       "[':',\n",
       " 'lerxst@wam.umd.edu',\n",
       " '(',\n",
       " 'thing',\n",
       " ')',\n",
       " '\\n',\n",
       " 'subject',\n",
       " ':',\n",
       " 'car',\n",
       " '!',\n",
       " '?',\n",
       " '\\n',\n",
       " 'nntp',\n",
       " '-',\n",
       " 'post',\n",
       " '-',\n",
       " 'host',\n",
       " ':',\n",
       " 'rac3.wam.umd.edu',\n",
       " '\\n',\n",
       " 'organization',\n",
       " ':',\n",
       " 'university',\n",
       " 'maryland',\n",
       " ',',\n",
       " 'college',\n",
       " 'park',\n",
       " '\\n',\n",
       " 'lines',\n",
       " ':',\n",
       " '15',\n",
       " '\\n\\n ',\n",
       " 'wonder',\n",
       " 'enlighten',\n",
       " 'car',\n",
       " '\\n',\n",
       " 'day',\n",
       " '.',\n",
       " '2-door',\n",
       " 'sport',\n",
       " 'car',\n",
       " ',',\n",
       " 'look',\n",
       " 'late',\n",
       " '60s/',\n",
       " '\\n',\n",
       " 'early',\n",
       " '70',\n",
       " '.',\n",
       " 'bricklin',\n",
       " '.',\n",
       " 'door',\n",
       " 'small',\n",
       " '.',\n",
       " 'addition',\n",
       " ',',\n",
       " '\\n',\n",
       " 'bumper',\n",
       " 'separate',\n",
       " 'rest',\n",
       " 'body',\n",
       " '.',\n",
       " '\\n',\n",
       " 'know',\n",
       " '.',\n",
       " 'tellme',\n",
       " 'model',\n",
       " ',',\n",
       " 'engine',\n",
       " 'spec',\n",
       " ',',\n",
       " 'year',\n",
       " '\\n',\n",
       " 'production',\n",
       " ',',\n",
       " 'car',\n",
       " ',',\n",
       " 'history',\n",
       " ',',\n",
       " 'info',\n",
       " '\\n',\n",
       " 'funky',\n",
       " 'look',\n",
       " 'car',\n",
       " ',',\n",
       " 'e',\n",
       " '-',\n",
       " 'mail',\n",
       " '.',\n",
       " '\\n\\n',\n",
       " 'thanks',\n",
       " ',',\n",
       " '\\n',\n",
       " '-',\n",
       " 'il',\n",
       " '\\n   ',\n",
       " '----',\n",
       " 'bring',\n",
       " 'neighborhood',\n",
       " 'lerxst',\n",
       " '----',\n",
       " '\\n\\n\\n\\n\\n']"
      ]
     },
     "metadata": {
      "tags": []
     },
     "execution_count": 15
    }
   ]
  },
  {
   "cell_type": "code",
   "metadata": {
    "id": "9_2PzEEOvMb1",
    "colab_type": "code",
    "outputId": "f32d5ed1-6f0b-4092-e94b-4e026efb6c63",
    "colab": {
     "base_uri": "https://localhost:8080/",
     "height": 1000
    }
   },
   "source": [
    "\n",
    "for i in range(0, len(x_train)) :\n",
    "  x_train[i] = prepareText(x_train[i])\n",
    "\n",
    "x_train[0]"
   ],
   "execution_count": 16,
   "outputs": [
    {
     "output_type": "execute_result",
     "data": {
      "text/plain": [
       "[':',\n",
       " 'lerxst@wam.umd.edu',\n",
       " '(',\n",
       " 'thing',\n",
       " ')',\n",
       " '\\n',\n",
       " 'subject',\n",
       " ':',\n",
       " 'car',\n",
       " '!',\n",
       " '?',\n",
       " '\\n',\n",
       " 'nntp',\n",
       " '-',\n",
       " 'post',\n",
       " '-',\n",
       " 'host',\n",
       " ':',\n",
       " 'rac3.wam.umd.edu',\n",
       " '\\n',\n",
       " 'organization',\n",
       " ':',\n",
       " 'university',\n",
       " 'maryland',\n",
       " ',',\n",
       " 'college',\n",
       " 'park',\n",
       " '\\n',\n",
       " 'lines',\n",
       " ':',\n",
       " '15',\n",
       " '\\n\\n ',\n",
       " 'wonder',\n",
       " 'enlighten',\n",
       " 'car',\n",
       " '\\n',\n",
       " 'day',\n",
       " '.',\n",
       " '2-door',\n",
       " 'sport',\n",
       " 'car',\n",
       " ',',\n",
       " 'look',\n",
       " 'late',\n",
       " '60s/',\n",
       " '\\n',\n",
       " 'early',\n",
       " '70',\n",
       " '.',\n",
       " 'bricklin',\n",
       " '.',\n",
       " 'door',\n",
       " 'small',\n",
       " '.',\n",
       " 'addition',\n",
       " ',',\n",
       " '\\n',\n",
       " 'bumper',\n",
       " 'separate',\n",
       " 'rest',\n",
       " 'body',\n",
       " '.',\n",
       " '\\n',\n",
       " 'know',\n",
       " '.',\n",
       " 'tellme',\n",
       " 'model',\n",
       " ',',\n",
       " 'engine',\n",
       " 'spec',\n",
       " ',',\n",
       " 'year',\n",
       " '\\n',\n",
       " 'production',\n",
       " ',',\n",
       " 'car',\n",
       " ',',\n",
       " 'history',\n",
       " ',',\n",
       " 'info',\n",
       " '\\n',\n",
       " 'funky',\n",
       " 'look',\n",
       " 'car',\n",
       " ',',\n",
       " 'e',\n",
       " '-',\n",
       " 'mail',\n",
       " '.',\n",
       " '\\n\\n',\n",
       " 'thanks',\n",
       " ',',\n",
       " '\\n',\n",
       " '-',\n",
       " 'il',\n",
       " '\\n   ',\n",
       " '----',\n",
       " 'bring',\n",
       " 'neighborhood',\n",
       " 'lerxst',\n",
       " '----',\n",
       " '\\n\\n\\n\\n\\n']"
      ]
     },
     "metadata": {
      "tags": []
     },
     "execution_count": 16
    }
   ]
  },
  {
   "cell_type": "markdown",
   "metadata": {
    "id": "jBFa3RLr3WLd",
    "colab_type": "text"
   },
   "source": [
    "# TF-IDF \n",
    "\n",
    "Once our training data have been cleaned we need to apply countVectorizer to the dataset. \n",
    "\n",
    "CountVectorizer will tranform each ext to a sparse matrix that represent words frequency in the text. Then we will be able to apply TF-IDF on this sparse matrix. \n",
    "\n",
    "Tf_IDF : this algorithm use word frequency in a document and the word frequency in other document to compute a value that represent the word in the document. The more a word appear the least this value will be high. \n",
    "It's determine the more relevant word in a text. The important word. \n",
    "\n",
    "The intuition is that word that are important are not repeated frequently in a document.\n",
    "\n",
    "## CountVectorizer \n",
    "\n",
    "Here by doing ‘count_vect.fit_transform(twenty_train.data)’, we are learning the vocabulary dictionary and it returns a Document-Term matrix. [n_samples, n_features]."
   ]
  },
  {
   "cell_type": "code",
   "metadata": {
    "id": "prGMQrwb3VSq",
    "colab_type": "code",
    "colab": {}
   },
   "source": [
    "from sklearn.feature_extraction.text import CountVectorizer\n",
    "from sklearn.feature_extraction.text import TfidfTransformer\n",
    "\n",
    "count_vec = CountVectorizer()\n",
    "cv_data = count_vec.fit_transform(newsgroups_train.data)\n",
    "tfidf = TfidfTransformer()\n",
    "tfidf_data = tfidf.fit_transform(cv_data)"
   ],
   "execution_count": 0,
   "outputs": []
  },
  {
   "cell_type": "code",
   "metadata": {
    "id": "WKUG1rlmB1xd",
    "colab_type": "code",
    "outputId": "16b66c27-9cd2-4ed5-f092-4816f6d83700",
    "colab": {
     "base_uri": "https://localhost:8080/",
     "height": 34
    }
   },
   "source": [
    "tfidf_data.shape"
   ],
   "execution_count": 18,
   "outputs": [
    {
     "output_type": "execute_result",
     "data": {
      "text/plain": [
       "(11314, 130107)"
      ]
     },
     "metadata": {
      "tags": []
     },
     "execution_count": 18
    }
   ]
  },
  {
   "cell_type": "code",
   "metadata": {
    "id": "mbsTjGp5CB6V",
    "colab_type": "code",
    "outputId": "dba852fe-0303-4fbe-ac57-ffd1a18de24e",
    "colab": {
     "base_uri": "https://localhost:8080/",
     "height": 34
    }
   },
   "source": [
    "newsgroups_train.target.shape"
   ],
   "execution_count": 19,
   "outputs": [
    {
     "output_type": "execute_result",
     "data": {
      "text/plain": [
       "(11314,)"
      ]
     },
     "metadata": {
      "tags": []
     },
     "execution_count": 19
    }
   ]
  },
  {
   "cell_type": "code",
   "metadata": {
    "id": "urMtoDRpzE2M",
    "colab_type": "code",
    "colab": {}
   },
   "source": [
    "import numpy as np \n",
    "classes = np.unique(newsgroups_train.target)"
   ],
   "execution_count": 0,
   "outputs": []
  },
  {
   "cell_type": "markdown",
   "metadata": {
    "id": "kK65H_Oc45cf",
    "colab_type": "text"
   },
   "source": [
    "The different class name in the dataset are :"
   ]
  },
  {
   "cell_type": "code",
   "metadata": {
    "id": "SJloGtbn5BmB",
    "colab_type": "code",
    "outputId": "7d08d11d-27c3-4a3e-f4dc-5e471175b038",
    "colab": {
     "base_uri": "https://localhost:8080/",
     "height": 357
    }
   },
   "source": [
    "newsgroups_train.target_names"
   ],
   "execution_count": 21,
   "outputs": [
    {
     "output_type": "execute_result",
     "data": {
      "text/plain": [
       "['alt.atheism',\n",
       " 'comp.graphics',\n",
       " 'comp.os.ms-windows.misc',\n",
       " 'comp.sys.ibm.pc.hardware',\n",
       " 'comp.sys.mac.hardware',\n",
       " 'comp.windows.x',\n",
       " 'misc.forsale',\n",
       " 'rec.autos',\n",
       " 'rec.motorcycles',\n",
       " 'rec.sport.baseball',\n",
       " 'rec.sport.hockey',\n",
       " 'sci.crypt',\n",
       " 'sci.electronics',\n",
       " 'sci.med',\n",
       " 'sci.space',\n",
       " 'soc.religion.christian',\n",
       " 'talk.politics.guns',\n",
       " 'talk.politics.mideast',\n",
       " 'talk.politics.misc',\n",
       " 'talk.religion.misc']"
      ]
     },
     "metadata": {
      "tags": []
     },
     "execution_count": 21
    }
   ]
  },
  {
   "cell_type": "markdown",
   "metadata": {
    "id": "AB09rxPDEQB4",
    "colab_type": "text"
   },
   "source": [
    "Each row represent a document of dataset.\n",
    "\n",
    "#training \n",
    "\n",
    "We can now train our 4 modeles on the TF-IDF matrix now that we have a representation of all the document. We need to train our modele to predict a input text class base using the TF-IDF matrix. \n",
    "\n",
    "\n",
    "We are going to create a pipeline for each one :"
   ]
  },
  {
   "cell_type": "code",
   "metadata": {
    "id": "HfimCUDUEauV",
    "colab_type": "code",
    "colab": {}
   },
   "source": [
    "from sklearn.naive_bayes import MultinomialNB\n",
    "from sklearn.linear_model import LogisticRegression, SGDClassifier\n",
    "from sklearn.svm import LinearSVC\n",
    "import seaborn as sns \n",
    "\n"
   ],
   "execution_count": 0,
   "outputs": []
  },
  {
   "cell_type": "code",
   "metadata": {
    "id": "xVKEbY5iFIUM",
    "colab_type": "code",
    "colab": {}
   },
   "source": [
    "from sklearn.pipeline import Pipeline\n",
    "\n",
    "naives_clf = Pipeline([('vect', CountVectorizer()),\n",
    "                      ('tfidf', TfidfTransformer()),\n",
    "                      ('clf', MultinomialNB())])\n",
    "log_clf = Pipeline([('vect', CountVectorizer()),\n",
    "                    ('tfidf', TfidfTransformer()),\n",
    "                    ('clf', LogisticRegression())])\n",
    "sgd_clf = Pipeline([('vect', CountVectorizer()),\n",
    "                    ('tfidf', TfidfTransformer()),\n",
    "                    ('clf', SGDClassifier())]) \n",
    "svc_clf = Pipeline([('vect', CountVectorizer()),\n",
    "                    ('tfidf', TfidfTransformer()),\n",
    "                    ('clf', LinearSVC())])\n",
    "\n"
   ],
   "execution_count": 0,
   "outputs": []
  },
  {
   "cell_type": "markdown",
   "metadata": {
    "id": "PmOXUZaH-8QP",
    "colab_type": "text"
   },
   "source": [
    "### classification_report : \n",
    "\n",
    "Compute precision, recall, F-measure and support for each class\n",
    "\n",
    "* The precision is the ratio tp / (tp + fp) where tp is the number of true positives and fp the number of false positives. The precision is intuitively the ability of the classifier not to label as positive a sample that is negative.\n",
    "\n",
    "* The recall is the ratio tp / (tp + fn) where tp is the number of true positives and fn the number of false negatives. The recall is intuitively the ability of the classifier to find all the positive samples.\n",
    "\n",
    "* precision and recall, where an F-beta score reaches its best value at 1 and worst score at 0.\n",
    "\n",
    "* The support is the number of occurrences of each class in y_true."
   ]
  },
  {
   "cell_type": "code",
   "metadata": {
    "id": "yxoJLwlHIqlx",
    "colab_type": "code",
    "outputId": "3513c6f1-95f5-42cc-cb38-c4d38a031a21",
    "colab": {
     "base_uri": "https://localhost:8080/",
     "height": 1000
    }
   },
   "source": [
    "from sklearn.metrics import classification_report\n",
    "modeles = {\"naives\":naives_clf, \"logistic regression\": log_clf, \"SGD_classifier\":sgd_clf, \"Linear SVC\":svc_clf}\n",
    "\n",
    "\n",
    "for key in modeles:\n",
    "  modeles[key].fit(newsgroups_train.data, newsgroups_train.target)\n",
    "  predicted = modeles[key].predict(newsgroups_test.data)\n",
    "  score = classification_report(y_pred=predicted, y_true=newsgroups_test.target, labels=classes)\n",
    "  print(f\"Modele : {key} score : {score} \\n\\n\\n\")"
   ],
   "execution_count": 24,
   "outputs": [
    {
     "output_type": "stream",
     "text": [
      "Modele : naives score :               precision    recall  f1-score   support\n",
      "\n",
      "           0       0.80      0.52      0.63       319\n",
      "           1       0.81      0.65      0.72       389\n",
      "           2       0.82      0.65      0.73       394\n",
      "           3       0.67      0.78      0.72       392\n",
      "           4       0.86      0.77      0.81       385\n",
      "           5       0.89      0.75      0.82       395\n",
      "           6       0.93      0.69      0.80       390\n",
      "           7       0.85      0.92      0.88       396\n",
      "           8       0.94      0.93      0.93       398\n",
      "           9       0.92      0.90      0.91       397\n",
      "          10       0.89      0.97      0.93       399\n",
      "          11       0.59      0.97      0.74       396\n",
      "          12       0.84      0.60      0.70       393\n",
      "          13       0.92      0.74      0.82       396\n",
      "          14       0.84      0.89      0.87       394\n",
      "          15       0.44      0.98      0.61       398\n",
      "          16       0.64      0.94      0.76       364\n",
      "          17       0.93      0.91      0.92       376\n",
      "          18       0.96      0.42      0.58       310\n",
      "          19       0.97      0.14      0.24       251\n",
      "\n",
      "    accuracy                           0.77      7532\n",
      "   macro avg       0.83      0.76      0.76      7532\n",
      "weighted avg       0.82      0.77      0.77      7532\n",
      " \n",
      "\n",
      "\n",
      "\n"
     ],
     "name": "stdout"
    },
    {
     "output_type": "stream",
     "text": [
      "/usr/local/lib/python3.6/dist-packages/sklearn/linear_model/logistic.py:432: FutureWarning: Default solver will be changed to 'lbfgs' in 0.22. Specify a solver to silence this warning.\n",
      "  FutureWarning)\n",
      "/usr/local/lib/python3.6/dist-packages/sklearn/linear_model/logistic.py:469: FutureWarning: Default multi_class will be changed to 'auto' in 0.22. Specify the multi_class option to silence this warning.\n",
      "  \"this warning.\", FutureWarning)\n"
     ],
     "name": "stderr"
    },
    {
     "output_type": "stream",
     "text": [
      "Modele : logistic regression score :               precision    recall  f1-score   support\n",
      "\n",
      "           0       0.80      0.74      0.77       319\n",
      "           1       0.69      0.78      0.74       389\n",
      "           2       0.76      0.75      0.75       394\n",
      "           3       0.73      0.72      0.72       392\n",
      "           4       0.81      0.83      0.82       385\n",
      "           5       0.83      0.74      0.78       395\n",
      "           6       0.76      0.90      0.83       390\n",
      "           7       0.91      0.89      0.90       396\n",
      "           8       0.94      0.95      0.94       398\n",
      "           9       0.87      0.93      0.90       397\n",
      "          10       0.94      0.96      0.95       399\n",
      "          11       0.93      0.89      0.91       396\n",
      "          12       0.76      0.78      0.77       393\n",
      "          13       0.89      0.84      0.86       396\n",
      "          14       0.89      0.92      0.91       394\n",
      "          15       0.79      0.93      0.85       398\n",
      "          16       0.71      0.90      0.80       364\n",
      "          17       0.96      0.89      0.92       376\n",
      "          18       0.79      0.58      0.67       310\n",
      "          19       0.83      0.45      0.59       251\n",
      "\n",
      "    accuracy                           0.83      7532\n",
      "   macro avg       0.83      0.82      0.82      7532\n",
      "weighted avg       0.83      0.83      0.83      7532\n",
      " \n",
      "\n",
      "\n",
      "\n",
      "Modele : SGD_classifier score :               precision    recall  f1-score   support\n",
      "\n",
      "           0       0.82      0.77      0.79       319\n",
      "           1       0.77      0.78      0.78       389\n",
      "           2       0.76      0.73      0.74       394\n",
      "           3       0.72      0.75      0.73       392\n",
      "           4       0.83      0.86      0.84       385\n",
      "           5       0.88      0.76      0.81       395\n",
      "           6       0.84      0.91      0.87       390\n",
      "           7       0.93      0.90      0.91       396\n",
      "           8       0.95      0.95      0.95       398\n",
      "           9       0.90      0.95      0.93       397\n",
      "          10       0.96      0.98      0.97       399\n",
      "          11       0.92      0.95      0.93       396\n",
      "          12       0.82      0.79      0.80       393\n",
      "          13       0.90      0.89      0.89       396\n",
      "          14       0.90      0.94      0.92       394\n",
      "          15       0.83      0.93      0.88       398\n",
      "          16       0.75      0.91      0.83       364\n",
      "          17       0.95      0.92      0.93       376\n",
      "          18       0.87      0.61      0.71       310\n",
      "          19       0.73      0.60      0.66       251\n",
      "\n",
      "    accuracy                           0.85      7532\n",
      "   macro avg       0.85      0.85      0.85      7532\n",
      "weighted avg       0.85      0.85      0.85      7532\n",
      " \n",
      "\n",
      "\n",
      "\n",
      "Modele : Linear SVC score :               precision    recall  f1-score   support\n",
      "\n",
      "           0       0.82      0.80      0.81       319\n",
      "           1       0.76      0.80      0.78       389\n",
      "           2       0.77      0.73      0.75       394\n",
      "           3       0.71      0.76      0.74       392\n",
      "           4       0.84      0.86      0.85       385\n",
      "           5       0.87      0.76      0.81       395\n",
      "           6       0.83      0.91      0.87       390\n",
      "           7       0.92      0.91      0.91       396\n",
      "           8       0.95      0.95      0.95       398\n",
      "           9       0.92      0.95      0.93       397\n",
      "          10       0.96      0.98      0.97       399\n",
      "          11       0.93      0.94      0.93       396\n",
      "          12       0.81      0.79      0.80       393\n",
      "          13       0.90      0.87      0.88       396\n",
      "          14       0.90      0.93      0.92       394\n",
      "          15       0.84      0.93      0.88       398\n",
      "          16       0.75      0.92      0.82       364\n",
      "          17       0.97      0.89      0.93       376\n",
      "          18       0.82      0.62      0.71       310\n",
      "          19       0.75      0.61      0.68       251\n",
      "\n",
      "    accuracy                           0.85      7532\n",
      "   macro avg       0.85      0.85      0.85      7532\n",
      "weighted avg       0.85      0.85      0.85      7532\n",
      " \n",
      "\n",
      "\n",
      "\n"
     ],
     "name": "stdout"
    }
   ]
  },
  {
   "cell_type": "markdown",
   "metadata": {
    "id": "_iSy0gfJJOdL",
    "colab_type": "text"
   },
   "source": [
    "F1-score and Precision"
   ]
  },
  {
   "cell_type": "code",
   "metadata": {
    "id": "-VFCXfitJrGP",
    "colab_type": "code",
    "colab": {}
   },
   "source": [
    "naives_clf = Pipeline([('vect', CountVectorizer(stop_words='english')),\n",
    "                      ('tfidf', TfidfTransformer()),\n",
    "                      ('clf', MultinomialNB())])\n",
    "log_clf = Pipeline([('vect', CountVectorizer(stop_words='english')),\n",
    "                    ('tfidf', TfidfTransformer()),\n",
    "                    ('clf', LogisticRegression())])\n",
    "sgd_clf = Pipeline([('vect', CountVectorizer(stop_words='english')),\n",
    "                    ('tfidf', TfidfTransformer()),\n",
    "                    ('clf', SGDClassifier())]) \n",
    "svc_clf = Pipeline([('vect', CountVectorizer(stop_words='english')),\n",
    "                    ('tfidf', TfidfTransformer()),\n",
    "                    ('clf', LinearSVC())])"
   ],
   "execution_count": 0,
   "outputs": []
  },
  {
   "cell_type": "code",
   "metadata": {
    "id": "Pmbd3UfrJt6R",
    "colab_type": "code",
    "outputId": "de36d232-148e-4e03-dbe0-11f7afc1112c",
    "colab": {
     "base_uri": "https://localhost:8080/",
     "height": 1000
    }
   },
   "source": [
    "from sklearn.metrics import classification_report\n",
    "modeles = {\"naives\":naives_clf, \"logistic regression\": log_clf, \"SGD_classifier\":sgd_clf, \"Linear SVC\":svc_clf}\n",
    "\n",
    "\n",
    "for key in modeles:\n",
    "  modeles[key].fit(newsgroups_train.data, newsgroups_train.target)\n",
    "  predicted = modeles[key].predict(newsgroups_test.data)\n",
    "  score = classification_report(y_pred=predicted, y_true=newsgroups_test.target, labels=classes)\n",
    "  print(f\"Modele : {key} score : {score} \\n\\n\\n\")"
   ],
   "execution_count": 26,
   "outputs": [
    {
     "output_type": "stream",
     "text": [
      "Modele : naives score :               precision    recall  f1-score   support\n",
      "\n",
      "           0       0.80      0.69      0.74       319\n",
      "           1       0.78      0.72      0.75       389\n",
      "           2       0.79      0.72      0.75       394\n",
      "           3       0.68      0.81      0.74       392\n",
      "           4       0.86      0.81      0.84       385\n",
      "           5       0.87      0.78      0.82       395\n",
      "           6       0.87      0.80      0.83       390\n",
      "           7       0.88      0.91      0.90       396\n",
      "           8       0.93      0.96      0.95       398\n",
      "           9       0.91      0.92      0.92       397\n",
      "          10       0.88      0.98      0.93       399\n",
      "          11       0.75      0.96      0.84       396\n",
      "          12       0.84      0.65      0.74       393\n",
      "          13       0.92      0.79      0.85       396\n",
      "          14       0.82      0.94      0.88       394\n",
      "          15       0.62      0.96      0.76       398\n",
      "          16       0.66      0.95      0.78       364\n",
      "          17       0.95      0.94      0.94       376\n",
      "          18       0.94      0.52      0.67       310\n",
      "          19       0.95      0.24      0.38       251\n",
      "\n",
      "    accuracy                           0.82      7532\n",
      "   macro avg       0.84      0.80      0.80      7532\n",
      "weighted avg       0.83      0.82      0.81      7532\n",
      " \n",
      "\n",
      "\n",
      "\n"
     ],
     "name": "stdout"
    },
    {
     "output_type": "stream",
     "text": [
      "/usr/local/lib/python3.6/dist-packages/sklearn/linear_model/logistic.py:432: FutureWarning: Default solver will be changed to 'lbfgs' in 0.22. Specify a solver to silence this warning.\n",
      "  FutureWarning)\n",
      "/usr/local/lib/python3.6/dist-packages/sklearn/linear_model/logistic.py:469: FutureWarning: Default multi_class will be changed to 'auto' in 0.22. Specify the multi_class option to silence this warning.\n",
      "  \"this warning.\", FutureWarning)\n"
     ],
     "name": "stderr"
    },
    {
     "output_type": "stream",
     "text": [
      "Modele : logistic regression score :               precision    recall  f1-score   support\n",
      "\n",
      "           0       0.78      0.72      0.75       319\n",
      "           1       0.71      0.79      0.75       389\n",
      "           2       0.75      0.76      0.75       394\n",
      "           3       0.71      0.71      0.71       392\n",
      "           4       0.80      0.82      0.81       385\n",
      "           5       0.84      0.75      0.79       395\n",
      "           6       0.78      0.87      0.82       390\n",
      "           7       0.90      0.89      0.89       396\n",
      "           8       0.93      0.95      0.94       398\n",
      "           9       0.88      0.92      0.90       397\n",
      "          10       0.93      0.96      0.94       399\n",
      "          11       0.95      0.91      0.93       396\n",
      "          12       0.74      0.78      0.76       393\n",
      "          13       0.88      0.86      0.87       396\n",
      "          14       0.88      0.91      0.90       394\n",
      "          15       0.80      0.93      0.86       398\n",
      "          16       0.74      0.90      0.81       364\n",
      "          17       0.97      0.89      0.93       376\n",
      "          18       0.85      0.58      0.69       310\n",
      "          19       0.81      0.49      0.61       251\n",
      "\n",
      "    accuracy                           0.83      7532\n",
      "   macro avg       0.83      0.82      0.82      7532\n",
      "weighted avg       0.83      0.83      0.83      7532\n",
      " \n",
      "\n",
      "\n",
      "\n",
      "Modele : SGD_classifier score :               precision    recall  f1-score   support\n",
      "\n",
      "           0       0.81      0.77      0.79       319\n",
      "           1       0.76      0.79      0.78       389\n",
      "           2       0.75      0.74      0.74       394\n",
      "           3       0.72      0.74      0.73       392\n",
      "           4       0.84      0.84      0.84       385\n",
      "           5       0.86      0.76      0.81       395\n",
      "           6       0.83      0.89      0.86       390\n",
      "           7       0.92      0.89      0.91       396\n",
      "           8       0.95      0.96      0.96       398\n",
      "           9       0.90      0.95      0.92       397\n",
      "          10       0.95      0.98      0.96       399\n",
      "          11       0.93      0.95      0.94       396\n",
      "          12       0.81      0.78      0.80       393\n",
      "          13       0.91      0.88      0.90       396\n",
      "          14       0.90      0.94      0.92       394\n",
      "          15       0.84      0.93      0.88       398\n",
      "          16       0.74      0.93      0.83       364\n",
      "          17       0.96      0.91      0.93       376\n",
      "          18       0.84      0.61      0.71       310\n",
      "          19       0.76      0.59      0.66       251\n",
      "\n",
      "    accuracy                           0.85      7532\n",
      "   macro avg       0.85      0.84      0.84      7532\n",
      "weighted avg       0.85      0.85      0.85      7532\n",
      " \n",
      "\n",
      "\n",
      "\n",
      "Modele : Linear SVC score :               precision    recall  f1-score   support\n",
      "\n",
      "           0       0.83      0.78      0.80       319\n",
      "           1       0.74      0.81      0.78       389\n",
      "           2       0.77      0.74      0.75       394\n",
      "           3       0.71      0.75      0.73       392\n",
      "           4       0.82      0.85      0.84       385\n",
      "           5       0.87      0.76      0.81       395\n",
      "           6       0.83      0.89      0.86       390\n",
      "           7       0.92      0.90      0.91       396\n",
      "           8       0.96      0.96      0.96       398\n",
      "           9       0.91      0.94      0.92       397\n",
      "          10       0.96      0.98      0.97       399\n",
      "          11       0.93      0.94      0.94       396\n",
      "          12       0.79      0.77      0.78       393\n",
      "          13       0.90      0.86      0.88       396\n",
      "          14       0.90      0.93      0.91       394\n",
      "          15       0.85      0.94      0.89       398\n",
      "          16       0.75      0.91      0.82       364\n",
      "          17       0.98      0.89      0.93       376\n",
      "          18       0.85      0.62      0.72       310\n",
      "          19       0.75      0.63      0.68       251\n",
      "\n",
      "    accuracy                           0.85      7532\n",
      "   macro avg       0.85      0.84      0.84      7532\n",
      "weighted avg       0.85      0.85      0.85      7532\n",
      " \n",
      "\n",
      "\n",
      "\n"
     ],
     "name": "stdout"
    }
   ]
  },
  {
   "cell_type": "markdown",
   "metadata": {
    "id": "uaXHaXQ3KOMu",
    "colab_type": "text"
   },
   "source": [
    "### With Stemming \n",
    "\n",
    "We herit from CountVectorizer and we apply stemming to each words in the \n",
    "text. We use NLTK for the stemming with the english vocab.\n"
   ]
  },
  {
   "cell_type": "code",
   "metadata": {
    "id": "dVnu0SIRmEmY",
    "colab_type": "code",
    "outputId": "d9c531a0-0a65-49db-9ce2-b5bd76e1022d",
    "colab": {
     "base_uri": "https://localhost:8080/",
     "height": 51
    }
   },
   "source": [
    "!pip install nltk"
   ],
   "execution_count": 27,
   "outputs": [
    {
     "output_type": "stream",
     "text": [
      "Requirement already satisfied: nltk in /usr/local/lib/python3.6/dist-packages (3.2.5)\n",
      "Requirement already satisfied: six in /usr/local/lib/python3.6/dist-packages (from nltk) (1.12.0)\n"
     ],
     "name": "stdout"
    }
   ]
  },
  {
   "cell_type": "code",
   "metadata": {
    "id": "AuqOgBrZKRwD",
    "colab_type": "code",
    "outputId": "b1e2b7d5-c449-4838-ba93-d83a73722a0a",
    "colab": {
     "base_uri": "https://localhost:8080/",
     "height": 51
    }
   },
   "source": [
    "import nltk\n",
    "nltk.download('stopwords')\n",
    "from nltk.stem import SnowballStemmer\n",
    "\n",
    "stemmer = SnowballStemmer(\"english\", ignore_stopwords=True)\n",
    "\n",
    "class StemmedCountVectorizer(CountVectorizer):\n",
    "    def build_analyzer(self):\n",
    "        analyzer = super(StemmedCountVectorizer, self).build_analyzer()\n",
    "        return lambda doc: ([stemmer.stem(w) for w in analyzer(doc)])"
   ],
   "execution_count": 28,
   "outputs": [
    {
     "output_type": "stream",
     "text": [
      "[nltk_data] Downloading package stopwords to /root/nltk_data...\n",
      "[nltk_data]   Unzipping corpora/stopwords.zip.\n"
     ],
     "name": "stdout"
    }
   ]
  },
  {
   "cell_type": "code",
   "metadata": {
    "id": "HvRFPXwoKwjR",
    "colab_type": "code",
    "colab": {}
   },
   "source": [
    "naives_clf = Pipeline([('vect', StemmedCountVectorizer(stop_words='english')),\n",
    "                      ('tfidf', TfidfTransformer()),\n",
    "                      ('clf', MultinomialNB())])\n",
    "log_clf = Pipeline([('vect', StemmedCountVectorizer(stop_words='english')),\n",
    "                    ('tfidf', TfidfTransformer()),\n",
    "                    ('clf', LogisticRegression())])\n",
    "sgd_clf = Pipeline([('vect', StemmedCountVectorizer(stop_words='english')),\n",
    "                    ('tfidf', TfidfTransformer()),\n",
    "                    ('clf', SGDClassifier())]) \n",
    "svc_clf = Pipeline([('vect', StemmedCountVectorizer(stop_words='english')),\n",
    "                    ('tfidf', TfidfTransformer()),\n",
    "                    ('clf', LinearSVC())])"
   ],
   "execution_count": 0,
   "outputs": []
  },
  {
   "cell_type": "code",
   "metadata": {
    "id": "SKPWkjehK8dC",
    "colab_type": "code",
    "outputId": "f88ab9f8-4a05-4768-e443-c7b372dad608",
    "colab": {
     "base_uri": "https://localhost:8080/",
     "height": 1000
    }
   },
   "source": [
    "from sklearn.metrics import classification_report\n",
    "modeles = {\"naives\":naives_clf, \"logistic regression\": log_clf, \"SGD_classifier\":sgd_clf, \"Linear SVC\":svc_clf}\n",
    "\n",
    "\n",
    "for key in modeles:\n",
    "  modeles[key].fit(newsgroups_train.data, newsgroups_train.target)\n",
    "  predicted = modeles[key].predict(newsgroups_test.data)\n",
    "  score = classification_report(y_pred=predicted, y_true=newsgroups_test.target, labels=classes)\n",
    "  print(f\"Modele : {key} score : {score} \\n\\n\\n\")"
   ],
   "execution_count": 30,
   "outputs": [
    {
     "output_type": "stream",
     "text": [
      "Modele : naives score :               precision    recall  f1-score   support\n",
      "\n",
      "           0       0.81      0.66      0.73       319\n",
      "           1       0.78      0.72      0.75       389\n",
      "           2       0.82      0.69      0.75       394\n",
      "           3       0.69      0.80      0.74       392\n",
      "           4       0.86      0.82      0.84       385\n",
      "           5       0.86      0.79      0.83       395\n",
      "           6       0.88      0.75      0.81       390\n",
      "           7       0.87      0.93      0.90       396\n",
      "           8       0.92      0.96      0.94       398\n",
      "           9       0.93      0.92      0.92       397\n",
      "          10       0.90      0.98      0.94       399\n",
      "          11       0.71      0.97      0.82       396\n",
      "          12       0.83      0.66      0.73       393\n",
      "          13       0.92      0.79      0.85       396\n",
      "          14       0.82      0.94      0.88       394\n",
      "          15       0.60      0.97      0.74       398\n",
      "          16       0.65      0.94      0.77       364\n",
      "          17       0.92      0.94      0.93       376\n",
      "          18       0.94      0.48      0.64       310\n",
      "          19       0.95      0.22      0.35       251\n",
      "\n",
      "    accuracy                           0.81      7532\n",
      "   macro avg       0.83      0.80      0.79      7532\n",
      "weighted avg       0.83      0.81      0.80      7532\n",
      " \n",
      "\n",
      "\n",
      "\n"
     ],
     "name": "stdout"
    },
    {
     "output_type": "stream",
     "text": [
      "/usr/local/lib/python3.6/dist-packages/sklearn/linear_model/logistic.py:432: FutureWarning: Default solver will be changed to 'lbfgs' in 0.22. Specify a solver to silence this warning.\n",
      "  FutureWarning)\n",
      "/usr/local/lib/python3.6/dist-packages/sklearn/linear_model/logistic.py:469: FutureWarning: Default multi_class will be changed to 'auto' in 0.22. Specify the multi_class option to silence this warning.\n",
      "  \"this warning.\", FutureWarning)\n"
     ],
     "name": "stderr"
    },
    {
     "output_type": "stream",
     "text": [
      "Modele : logistic regression score :               precision    recall  f1-score   support\n",
      "\n",
      "           0       0.77      0.71      0.74       319\n",
      "           1       0.72      0.80      0.76       389\n",
      "           2       0.76      0.76      0.76       394\n",
      "           3       0.72      0.73      0.73       392\n",
      "           4       0.80      0.84      0.82       385\n",
      "           5       0.84      0.77      0.81       395\n",
      "           6       0.75      0.85      0.80       390\n",
      "           7       0.91      0.88      0.90       396\n",
      "           8       0.97      0.95      0.96       398\n",
      "           9       0.91      0.92      0.92       397\n",
      "          10       0.93      0.97      0.95       399\n",
      "          11       0.94      0.92      0.93       396\n",
      "          12       0.75      0.78      0.77       393\n",
      "          13       0.88      0.86      0.87       396\n",
      "          14       0.88      0.93      0.90       394\n",
      "          15       0.80      0.91      0.85       398\n",
      "          16       0.73      0.90      0.81       364\n",
      "          17       0.97      0.88      0.92       376\n",
      "          18       0.83      0.60      0.69       310\n",
      "          19       0.80      0.47      0.59       251\n",
      "\n",
      "    accuracy                           0.83      7532\n",
      "   macro avg       0.83      0.82      0.82      7532\n",
      "weighted avg       0.83      0.83      0.83      7532\n",
      " \n",
      "\n",
      "\n",
      "\n",
      "Modele : SGD_classifier score :               precision    recall  f1-score   support\n",
      "\n",
      "           0       0.83      0.76      0.79       319\n",
      "           1       0.77      0.80      0.79       389\n",
      "           2       0.76      0.72      0.74       394\n",
      "           3       0.72      0.74      0.73       392\n",
      "           4       0.82      0.86      0.84       385\n",
      "           5       0.86      0.79      0.82       395\n",
      "           6       0.81      0.89      0.85       390\n",
      "           7       0.93      0.91      0.92       396\n",
      "           8       0.96      0.96      0.96       398\n",
      "           9       0.92      0.95      0.93       397\n",
      "          10       0.94      0.97      0.96       399\n",
      "          11       0.91      0.94      0.93       396\n",
      "          12       0.82      0.77      0.79       393\n",
      "          13       0.90      0.88      0.89       396\n",
      "          14       0.90      0.93      0.92       394\n",
      "          15       0.83      0.93      0.88       398\n",
      "          16       0.75      0.93      0.83       364\n",
      "          17       0.96      0.91      0.94       376\n",
      "          18       0.87      0.62      0.72       310\n",
      "          19       0.72      0.58      0.64       251\n",
      "\n",
      "    accuracy                           0.85      7532\n",
      "   macro avg       0.85      0.84      0.84      7532\n",
      "weighted avg       0.85      0.85      0.85      7532\n",
      " \n",
      "\n",
      "\n",
      "\n",
      "Modele : Linear SVC score :               precision    recall  f1-score   support\n",
      "\n",
      "           0       0.82      0.76      0.79       319\n",
      "           1       0.76      0.81      0.79       389\n",
      "           2       0.77      0.73      0.75       394\n",
      "           3       0.73      0.74      0.73       392\n",
      "           4       0.81      0.88      0.84       385\n",
      "           5       0.86      0.78      0.82       395\n",
      "           6       0.80      0.89      0.84       390\n",
      "           7       0.92      0.92      0.92       396\n",
      "           8       0.97      0.96      0.97       398\n",
      "           9       0.92      0.95      0.93       397\n",
      "          10       0.96      0.98      0.97       399\n",
      "          11       0.93      0.94      0.93       396\n",
      "          12       0.79      0.78      0.78       393\n",
      "          13       0.91      0.87      0.89       396\n",
      "          14       0.91      0.93      0.92       394\n",
      "          15       0.84      0.92      0.88       398\n",
      "          16       0.76      0.92      0.84       364\n",
      "          17       0.97      0.89      0.93       376\n",
      "          18       0.85      0.62      0.72       310\n",
      "          19       0.72      0.63      0.68       251\n",
      "\n",
      "    accuracy                           0.85      7532\n",
      "   macro avg       0.85      0.84      0.85      7532\n",
      "weighted avg       0.85      0.85      0.85      7532\n",
      " \n",
      "\n",
      "\n",
      "\n"
     ],
     "name": "stdout"
    }
   ]
  },
  {
   "cell_type": "markdown",
   "metadata": {
    "id": "Y713xh-trmrY",
    "colab_type": "text"
   },
   "source": [
    "## Results\n",
    "\n",
    "If we compare the scores in the three cases :\n",
    "\n",
    "* The lemming don't have a big impact on the scores. We don't have a big improvement in performance.\n",
    "* Removing the stops words and the punctuations improve\n",
    "\n",
    "* classes that have lower score have most of the time lower support value \n",
    "have lower scores. This can been explained by the fact that the algortihm can train on less example of this classe so he learn less pattern to recognize this classe compare to others. Notice that when we study the dataset distribution we see that topic 19 (religion 3.3%), 0 (atheism) and 18 (politics ) was the classe with less data. And we see that on this class the model have lower performance compare to other classes where the data quantity is close to the mean (5%).\n",
    "\n",
    "### Ideas\n",
    "[Handle imbalanced dataset](https://towardsdatascience.com/methods-for-dealing-with-imbalanced-data-5b761be45a18)\n",
    "\n",
    "Resampling Techniques — Oversample minority class\n",
    "\n",
    "Note : we need to do train_test_split before. \n",
    "Oversampling before splitting the data can allow the exact same observations to be present in both the test and train sets. This can allow our model to simply memorize specific data points and cause overfitting and poor generalization to the test data.\n",
    "\n"
   ]
  },
  {
   "cell_type": "markdown",
   "metadata": {
    "id": "Nv-e78p2rfmp",
    "colab_type": "text"
   },
   "source": [
    "# Doc2Vec performance\n",
    "\n",
    "\n",
    "Now we are going to implement Doc2Vec on the same dataset."
   ]
  },
  {
   "cell_type": "code",
   "metadata": {
    "id": "xvif09SvOeyn",
    "colab_type": "code",
    "outputId": "8c5ef2d6-ab90-4dbd-dbc9-5a23a21b561b",
    "colab": {
     "base_uri": "https://localhost:8080/",
     "height": 326
    }
   },
   "source": [
    "!pip install gensim "
   ],
   "execution_count": 31,
   "outputs": [
    {
     "output_type": "stream",
     "text": [
      "Requirement already satisfied: gensim in /usr/local/lib/python3.6/dist-packages (3.6.0)\n",
      "Requirement already satisfied: six>=1.5.0 in /usr/local/lib/python3.6/dist-packages (from gensim) (1.12.0)\n",
      "Requirement already satisfied: smart-open>=1.2.1 in /usr/local/lib/python3.6/dist-packages (from gensim) (1.9.0)\n",
      "Requirement already satisfied: numpy>=1.11.3 in /usr/local/lib/python3.6/dist-packages (from gensim) (1.17.4)\n",
      "Requirement already satisfied: scipy>=0.18.1 in /usr/local/lib/python3.6/dist-packages (from gensim) (1.3.2)\n",
      "Requirement already satisfied: boto>=2.32 in /usr/local/lib/python3.6/dist-packages (from smart-open>=1.2.1->gensim) (2.49.0)\n",
      "Requirement already satisfied: boto3 in /usr/local/lib/python3.6/dist-packages (from smart-open>=1.2.1->gensim) (1.10.14)\n",
      "Requirement already satisfied: requests in /usr/local/lib/python3.6/dist-packages (from smart-open>=1.2.1->gensim) (2.21.0)\n",
      "Requirement already satisfied: s3transfer<0.3.0,>=0.2.0 in /usr/local/lib/python3.6/dist-packages (from boto3->smart-open>=1.2.1->gensim) (0.2.1)\n",
      "Requirement already satisfied: botocore<1.14.0,>=1.13.14 in /usr/local/lib/python3.6/dist-packages (from boto3->smart-open>=1.2.1->gensim) (1.13.14)\n",
      "Requirement already satisfied: jmespath<1.0.0,>=0.7.1 in /usr/local/lib/python3.6/dist-packages (from boto3->smart-open>=1.2.1->gensim) (0.9.4)\n",
      "Requirement already satisfied: urllib3<1.25,>=1.21.1 in /usr/local/lib/python3.6/dist-packages (from requests->smart-open>=1.2.1->gensim) (1.24.3)\n",
      "Requirement already satisfied: idna<2.9,>=2.5 in /usr/local/lib/python3.6/dist-packages (from requests->smart-open>=1.2.1->gensim) (2.8)\n",
      "Requirement already satisfied: certifi>=2017.4.17 in /usr/local/lib/python3.6/dist-packages (from requests->smart-open>=1.2.1->gensim) (2019.9.11)\n",
      "Requirement already satisfied: chardet<3.1.0,>=3.0.2 in /usr/local/lib/python3.6/dist-packages (from requests->smart-open>=1.2.1->gensim) (3.0.4)\n",
      "Requirement already satisfied: docutils<0.16,>=0.10 in /usr/local/lib/python3.6/dist-packages (from botocore<1.14.0,>=1.13.14->boto3->smart-open>=1.2.1->gensim) (0.15.2)\n",
      "Requirement already satisfied: python-dateutil<2.8.1,>=2.1; python_version >= \"2.7\" in /usr/local/lib/python3.6/dist-packages (from botocore<1.14.0,>=1.13.14->boto3->smart-open>=1.2.1->gensim) (2.6.1)\n"
     ],
     "name": "stdout"
    }
   ]
  },
  {
   "cell_type": "markdown",
   "metadata": {
    "id": "MbbEceO4O46g",
    "colab_type": "text"
   },
   "source": [
    "We are going to use gensim Doc2Vec. \n",
    "\n",
    "Doc2Vec technique is use to get a representation of a document words. \n",
    "A Document vector represent the text. \n",
    "\n",
    "We have already clean and tokenize the text with the prepareText function. \n",
    "Now we need to create a list of TaggedDocument.\n"
   ]
  },
  {
   "cell_type": "code",
   "metadata": {
    "id": "4UGfYGUZPJTK",
    "colab_type": "code",
    "colab": {}
   },
   "source": [
    "from gensim.models.doc2vec import TaggedDocument\n",
    "from gensim.models.doc2vec import Doc2Vec\n",
    "\n",
    "\n",
    "# create a tagged object \n",
    "\n",
    "taggedDocument = [TaggedDocument(doc, [tag]) for doc, tag in zip(x_train, newsgroups_train.target)]\n"
   ],
   "execution_count": 0,
   "outputs": []
  },
  {
   "cell_type": "markdown",
   "metadata": {
    "id": "4aXAvF6Vbfw6",
    "colab_type": "text"
   },
   "source": [
    "Note : TaggedDocument() take a string as document and a list of tag \n",
    "so : \n",
    "  * doc : String \n",
    "  * tag : [list of tag]"
   ]
  },
  {
   "cell_type": "code",
   "metadata": {
    "id": "xpXD6zQlRRBU",
    "colab_type": "code",
    "outputId": "c0d826a0-fef6-4321-98f6-dcd88de9ed82",
    "colab": {
     "base_uri": "https://localhost:8080/",
     "height": 34
    }
   },
   "source": [
    "taggedDocument[0].tags"
   ],
   "execution_count": 33,
   "outputs": [
    {
     "output_type": "execute_result",
     "data": {
      "text/plain": [
       "[7]"
      ]
     },
     "metadata": {
      "tags": []
     },
     "execution_count": 33
    }
   ]
  },
  {
   "cell_type": "code",
   "metadata": {
    "id": "KAMQcnoiRVM9",
    "colab_type": "code",
    "outputId": "17827177-254d-4342-a15c-120ba95217d4",
    "colab": {
     "base_uri": "https://localhost:8080/",
     "height": 34
    }
   },
   "source": [
    "taggedDocument[0].words[1:10]"
   ],
   "execution_count": 34,
   "outputs": [
    {
     "output_type": "execute_result",
     "data": {
      "text/plain": [
       "['lerxst@wam.umd.edu', '(', 'thing', ')', '\\n', 'subject', ':', 'car', '!']"
      ]
     },
     "metadata": {
      "tags": []
     },
     "execution_count": 34
    }
   ]
  },
  {
   "cell_type": "markdown",
   "metadata": {
    "id": "N4Hnp0ozTzj0",
    "colab_type": "text"
   },
   "source": [
    "* If dm=0, distributed bag of words (PV-DBOW) is used; if dm=1,‘distributed memory’ (PV-DM) is used.\n",
    "* vector_size : 300- dimensional feature vectors. (In the research paper they use 400) \n",
    "\n",
    "* window (int, optional) – The maximum distance between the current and predicted word within a sentence.\n",
    "\n",
    "* min_count=2, ignores all words with total frequency lower than this.\n",
    "* negative=5 , specifies how many “noise words” should be drawn.\n",
    "* hs=0 , and negative is non-zero, negative sampling will be used.\n",
    "* sample=0 , the threshold for configuring which higher-frequency words are randomly down sampled.\n",
    "* workers=cores , use these many worker threads to train the model (=faster training with multicore machines)."
   ]
  },
  {
   "cell_type": "code",
   "metadata": {
    "id": "rZElxYPETGmw",
    "colab_type": "code",
    "colab": {}
   },
   "source": [
    "import multiprocessing\n",
    "cores = multiprocessing.cpu_count()\n",
    "\n",
    "doc2vec = Doc2Vec(dm=1, vector_size=400, window=20, min_count=2, negative=5, hs=0, sample=0, workers=cores)\n",
    "\n"
   ],
   "execution_count": 0,
   "outputs": []
  },
  {
   "cell_type": "markdown",
   "metadata": {
    "id": "Ta24rL1taVGT",
    "colab_type": "text"
   },
   "source": [
    "Build a vocab from all the documents."
   ]
  },
  {
   "cell_type": "code",
   "metadata": {
    "id": "cScBfYscZng8",
    "colab_type": "code",
    "colab": {}
   },
   "source": [
    "doc2vec.build_vocab(taggedDocument)"
   ],
   "execution_count": 0,
   "outputs": []
  },
  {
   "cell_type": "code",
   "metadata": {
    "id": "IQJOAMLHaZH-",
    "colab_type": "code",
    "colab": {}
   },
   "source": [
    "from tqdm import tqdm\n",
    "\n",
    "max_epochs = 30\n",
    "\n",
    "for epoch in max_epochs:\n",
    "  doc2vec.train(taggedDocument, total_examples=len(taggedDocument), epochs=1)\n",
    "  doc2vec.alpha -= 0.0002\n",
    "  doc2vec.min_alpha = doc2vec.alpha\n"
   ],
   "execution_count": 0,
   "outputs": []
  },
  {
   "cell_type": "markdown",
   "metadata": {
    "id": "M_RYdNr7dhWY",
    "colab_type": "text"
   },
   "source": [
    "### Vec_for_learning :\n",
    "\n",
    "The inference tries to fit a later example into a frozen model, and so if you re-present the same document, it should \n",
    "wind up 'close' to the vector that the same document induced in multi-pass bulk training. But how 'close' would depend \n",
    "on a lot of things. The information in the PV paper about parameter choices is limited.\n"
   ]
  },
  {
   "cell_type": "code",
   "metadata": {
    "id": "BN8DTr3-dgaH",
    "colab_type": "code",
    "colab": {}
   },
   "source": [
    "\n",
    "def vec_for_learning(doc2vec_model, tagged_docs):\n",
    "    targets, regressors = zip(*[(doc.tags[0], doc2vec_model.infer_vector(doc.words, steps=20)) for doc in tqdm(tagged_docs)])\n",
    "    return targets, regressors"
   ],
   "execution_count": 0,
   "outputs": []
  },
  {
   "cell_type": "markdown",
   "metadata": {
    "id": "yTMQt6y1_M7w",
    "colab_type": "text"
   },
   "source": [
    " targets, regressors = zip(*[(doc.tags[0], doc2vec_model.infer_vector(doc.words, steps=20)) for doc in tagged_docs])\n",
    "\n",
    " At this line we use Zip to iter on an array of tuple that contains the tag associated to the i document and the Document vector that represent the i ème document. \n",
    "\n",
    "targets : contains the tags \n",
    "regressors : contains all the vector infered associated to a document.\n",
    "\n",
    "demonstration :\n",
    "\n",
    "array = [(1, 'a'), (2, 'b'), (3, 'c')]\n",
    "\n",
    "target, reg = zip(*array)\n",
    "\n",
    "print(target, reg)\n",
    "\n",
    "==> output :\n",
    "(1, 2, 3) ('a', 'b', 'c') "
   ]
  },
  {
   "cell_type": "markdown",
   "metadata": {
    "id": "c8dbNLeXhYa9",
    "colab_type": "text"
   },
   "source": [
    "Test have not been prepared. So we need to do the same operation that on the training data on the test data."
   ]
  },
  {
   "cell_type": "code",
   "metadata": {
    "id": "majCVHk0hn3a",
    "colab_type": "code",
    "outputId": "2232ff25-0e99-4e99-aafd-82cf9adc44e5",
    "colab": {
     "base_uri": "https://localhost:8080/",
     "height": 1000
    }
   },
   "source": [
    "\n",
    "test_data = newsgroups_test.data.copy()\n",
    "\n",
    "for i in range(0, len(test_data)) :\n",
    "  test_data[i] = prepareText(test_data[i])\n",
    "\n",
    "test_data[0]"
   ],
   "execution_count": 39,
   "outputs": [
    {
     "output_type": "execute_result",
     "data": {
      "text/plain": [
       "[':',\n",
       " 'v064mb9k@ubvmsd.cc.buffalo.edu',\n",
       " '(',\n",
       " 'neil',\n",
       " 'b.',\n",
       " 'gandler',\n",
       " ')',\n",
       " '\\n',\n",
       " 'subject',\n",
       " ':',\n",
       " 'need',\n",
       " 'info',\n",
       " '88',\n",
       " '-',\n",
       " '89',\n",
       " 'bonneville',\n",
       " '\\n',\n",
       " 'organization',\n",
       " ':',\n",
       " 'university',\n",
       " 'buffalo',\n",
       " '\\n',\n",
       " 'line',\n",
       " ':',\n",
       " '10',\n",
       " '\\n',\n",
       " 'news',\n",
       " '-',\n",
       " 'software',\n",
       " ':',\n",
       " 'vax',\n",
       " '/',\n",
       " 'vms',\n",
       " 'vnews',\n",
       " '1.41',\n",
       " '\\n',\n",
       " 'nntp',\n",
       " '-',\n",
       " 'posting',\n",
       " '-',\n",
       " 'host',\n",
       " ':',\n",
       " 'ubvmsd.cc.buffalo.edu',\n",
       " '\\n\\n\\n ',\n",
       " 'little',\n",
       " 'confused',\n",
       " 'model',\n",
       " '88',\n",
       " '-',\n",
       " '89',\n",
       " 'bonneville',\n",
       " '.',\n",
       " '\\n',\n",
       " 'hear',\n",
       " 'le',\n",
       " 'se',\n",
       " 'lse',\n",
       " 'sse',\n",
       " 'ssei',\n",
       " '.',\n",
       " 'tell',\n",
       " '\\n',\n",
       " 'difference',\n",
       " 'far',\n",
       " 'feature',\n",
       " 'performance',\n",
       " '.',\n",
       " 'curious',\n",
       " '\\n',\n",
       " 'know',\n",
       " 'book',\n",
       " 'value',\n",
       " 'prefereably',\n",
       " '89',\n",
       " 'model',\n",
       " '.',\n",
       " '\\n',\n",
       " 'book',\n",
       " 'value',\n",
       " 'usually',\n",
       " '.',\n",
       " 'word',\n",
       " '\\n',\n",
       " 'demand',\n",
       " 'time',\n",
       " 'year',\n",
       " '.',\n",
       " 'hear',\n",
       " 'mid',\n",
       " '-',\n",
       " 'spring',\n",
       " '\\n',\n",
       " 'early',\n",
       " 'summer',\n",
       " 'good',\n",
       " 'time',\n",
       " 'buy',\n",
       " '.',\n",
       " '\\n\\n\\t\\t\\t',\n",
       " 'neil',\n",
       " 'gandler',\n",
       " '\\n']"
      ]
     },
     "metadata": {
      "tags": []
     },
     "execution_count": 39
    }
   ]
  },
  {
   "cell_type": "code",
   "metadata": {
    "id": "gRx5JXqJh-G9",
    "colab_type": "code",
    "colab": {}
   },
   "source": [
    "taggedTestDocument = [TaggedDocument(doc, [tag]) for doc, tag in zip(test_data, newsgroups_test.target)]"
   ],
   "execution_count": 0,
   "outputs": []
  },
  {
   "cell_type": "markdown",
   "metadata": {
    "id": "bhnWERANCED2",
    "colab_type": "text"
   },
   "source": [
    "# Training & Testing\n",
    "\n",
    "We remove Naives bayes because we can not use it on negative input. And the Doc2Vec contains negative values."
   ]
  },
  {
   "cell_type": "code",
   "metadata": {
    "id": "6voTKPe4dq6L",
    "colab_type": "code",
    "colab": {}
   },
   "source": [
    "from sklearn.metrics import classification_report \n",
    "modeles = {\"logistic regression\": LogisticRegression(), \"SGD_classifier\": SGDClassifier(), \"Linear SVC\": LinearSVC()}"
   ],
   "execution_count": 0,
   "outputs": []
  },
  {
   "cell_type": "code",
   "metadata": {
    "id": "HXkVR259Ivno",
    "colab_type": "code",
    "outputId": "bc269952-39ba-4733-9166-6b1b7a749fde",
    "colab": {
     "base_uri": "https://localhost:8080/",
     "height": 51
    }
   },
   "source": [
    "y_train, x_train = vec_for_learning(doc2vec, taggedDocument)\n",
    "y_test, x_test = vec_for_learning(doc2vec, taggedTestDocument)\n"
   ],
   "execution_count": 42,
   "outputs": [
    {
     "output_type": "stream",
     "text": [
      "100%|██████████| 11314/11314 [05:32<00:00, 33.98it/s]\n",
      "100%|██████████| 7532/7532 [03:25<00:00, 36.62it/s]\n"
     ],
     "name": "stderr"
    }
   ]
  },
  {
   "cell_type": "code",
   "metadata": {
    "id": "GJpmlrizGHq1",
    "colab_type": "code",
    "outputId": "ffa317ce-dd1d-4fe2-a8e9-11755d01ccbf",
    "colab": {
     "base_uri": "https://localhost:8080/",
     "height": 1000
    }
   },
   "source": [
    "#testing \n",
    "for key in tqdm(modeles):\n",
    "  modeles[key].fit(x_train, y_train)  \n",
    "  \n",
    "  predicted = modeles[key].predict(x_test)\n",
    "  \n",
    "  # F1-Score & Recall & Precision \n",
    "  score = classification_report(predicted, y_test, labels=classes)\n",
    "  \n",
    "  print(f\"Modele : {key} score : {score}\")"
   ],
   "execution_count": 43,
   "outputs": [
    {
     "output_type": "stream",
     "text": [
      "\r  0%|          | 0/3 [00:00<?, ?it/s]/usr/local/lib/python3.6/dist-packages/sklearn/linear_model/logistic.py:432: FutureWarning: Default solver will be changed to 'lbfgs' in 0.22. Specify a solver to silence this warning.\n",
      "  FutureWarning)\n",
      "/usr/local/lib/python3.6/dist-packages/sklearn/linear_model/logistic.py:469: FutureWarning: Default multi_class will be changed to 'auto' in 0.22. Specify the multi_class option to silence this warning.\n",
      "  \"this warning.\", FutureWarning)\n",
      " 33%|███▎      | 1/3 [01:04<02:09, 64.79s/it]"
     ],
     "name": "stderr"
    },
    {
     "output_type": "stream",
     "text": [
      "Modele : logistic regression score :               precision    recall  f1-score   support\n",
      "\n",
      "           0       0.70      0.70      0.70       319\n",
      "           1       0.67      0.66      0.66       396\n",
      "           2       0.52      0.64      0.57       321\n",
      "           3       0.64      0.61      0.62       412\n",
      "           4       0.77      0.74      0.76       401\n",
      "           5       0.75      0.77      0.76       382\n",
      "           6       0.68      0.60      0.64       446\n",
      "           7       0.86      0.81      0.83       423\n",
      "           8       0.93      0.92      0.92       403\n",
      "           9       0.92      0.89      0.90       413\n",
      "          10       0.91      0.86      0.89       421\n",
      "          11       0.88      0.83      0.86       422\n",
      "          12       0.66      0.70      0.68       369\n",
      "          13       0.77      0.83      0.80       369\n",
      "          14       0.83      0.89      0.86       367\n",
      "          15       0.85      0.73      0.79       463\n",
      "          16       0.79      0.71      0.75       407\n",
      "          17       0.82      0.90      0.86       343\n",
      "          18       0.50      0.67      0.57       231\n",
      "          19       0.44      0.50      0.47       224\n",
      "\n",
      "    accuracy                           0.75      7532\n",
      "   macro avg       0.75      0.75      0.74      7532\n",
      "weighted avg       0.76      0.75      0.76      7532\n",
      "\n"
     ],
     "name": "stdout"
    },
    {
     "output_type": "stream",
     "text": [
      "\r 67%|██████▋   | 2/3 [01:12<00:47, 47.66s/it]"
     ],
     "name": "stderr"
    },
    {
     "output_type": "stream",
     "text": [
      "Modele : SGD_classifier score :               precision    recall  f1-score   support\n",
      "\n",
      "           0       0.68      0.65      0.66       335\n",
      "           1       0.48      0.79      0.60       236\n",
      "           2       0.54      0.52      0.53       408\n",
      "           3       0.66      0.50      0.57       517\n",
      "           4       0.74      0.76      0.75       373\n",
      "           5       0.78      0.67      0.72       461\n",
      "           6       0.64      0.57      0.61       439\n",
      "           7       0.82      0.82      0.82       396\n",
      "           8       0.90      0.88      0.89       406\n",
      "           9       0.89      0.90      0.90       394\n",
      "          10       0.84      0.98      0.91       343\n",
      "          11       0.86      0.76      0.81       448\n",
      "          12       0.73      0.51      0.60       561\n",
      "          13       0.61      0.93      0.74       261\n",
      "          14       0.73      0.95      0.83       303\n",
      "          15       0.85      0.68      0.76       495\n",
      "          16       0.68      0.72      0.70       346\n",
      "          17       0.84      0.85      0.84       375\n",
      "          18       0.53      0.59      0.56       282\n",
      "          19       0.37      0.61      0.47       153\n",
      "\n",
      "    accuracy                           0.72      7532\n",
      "   macro avg       0.71      0.73      0.71      7532\n",
      "weighted avg       0.73      0.72      0.72      7532\n",
      "\n"
     ],
     "name": "stdout"
    },
    {
     "output_type": "stream",
     "text": [
      "/usr/local/lib/python3.6/dist-packages/sklearn/svm/base.py:929: ConvergenceWarning: Liblinear failed to converge, increase the number of iterations.\n",
      "  \"the number of iterations.\", ConvergenceWarning)\n",
      "\r100%|██████████| 3/3 [01:45<00:00, 43.37s/it]"
     ],
     "name": "stderr"
    },
    {
     "output_type": "stream",
     "text": [
      "Modele : Linear SVC score :               precision    recall  f1-score   support\n",
      "\n",
      "           0       0.67      0.67      0.67       319\n",
      "           1       0.64      0.64      0.64       389\n",
      "           2       0.53      0.64      0.58       321\n",
      "           3       0.63      0.60      0.61       412\n",
      "           4       0.76      0.73      0.75       399\n",
      "           5       0.74      0.78      0.76       378\n",
      "           6       0.67      0.62      0.65       420\n",
      "           7       0.85      0.79      0.82       427\n",
      "           8       0.93      0.88      0.90       419\n",
      "           9       0.91      0.86      0.88       419\n",
      "          10       0.92      0.86      0.89       428\n",
      "          11       0.85      0.81      0.83       412\n",
      "          12       0.64      0.68      0.66       370\n",
      "          13       0.78      0.81      0.79       385\n",
      "          14       0.81      0.85      0.83       376\n",
      "          15       0.85      0.73      0.78       466\n",
      "          16       0.77      0.69      0.73       405\n",
      "          17       0.80      0.88      0.84       342\n",
      "          18       0.48      0.69      0.56       216\n",
      "          19       0.44      0.48      0.46       229\n",
      "\n",
      "    accuracy                           0.74      7532\n",
      "   macro avg       0.73      0.73      0.73      7532\n",
      "weighted avg       0.75      0.74      0.75      7532\n",
      "\n"
     ],
     "name": "stdout"
    },
    {
     "output_type": "stream",
     "text": [
      "\n"
     ],
     "name": "stderr"
    }
   ]
  },
  {
   "cell_type": "markdown",
   "metadata": {
    "id": "WktFvWop5TEo",
    "colab_type": "text"
   },
   "source": [
    "# TF-IDF vs Doc2Vec \n",
    "\n",
    "\n"
   ]
  },
  {
   "cell_type": "markdown",
   "metadata": {
    "id": "mh41Zn9m7H3y",
    "colab_type": "text"
   },
   "source": [
    "# Idea\n",
    "\n",
    "* Use grid search to search better hyper parameter.\n",
    "* increase the window size for the Doc2Vec.\n",
    "* reduce the vector_size to reduce overfitting."
   ]
  },
  {
   "cell_type": "markdown",
   "metadata": {
    "id": "BtvvK3DECTav",
    "colab_type": "text"
   },
   "source": [
    "# Size from which our model provided good results\n",
    "\n",
    "test on 4 size :\n",
    "\n",
    "* 1 millions words \n",
    "* 500k words \n",
    "* 100k words \n",
    "* 1k words \n",
    "\n",
    "The first step is to construct a function that count the number of words and create a subdataset."
   ]
  },
  {
   "cell_type": "code",
   "metadata": {
    "id": "YMNliIBHL7xi",
    "colab_type": "code",
    "outputId": "458412d3-7b93-415d-d33a-933f01114dfc",
    "colab": {
     "base_uri": "https://localhost:8080/",
     "height": 204
    }
   },
   "source": [
    "from random import randrange\n",
    "\n",
    "# we can take all the data and make a array of size 20 that contains Dataset by classe \n",
    "df = pd.DataFrame({'Text' : newsgroups_train.data, 'target' : newsgroups_train.target})\n",
    "df.head()"
   ],
   "execution_count": 45,
   "outputs": [
    {
     "output_type": "execute_result",
     "data": {
      "text/html": [
       "<div>\n",
       "<style scoped>\n",
       "    .dataframe tbody tr th:only-of-type {\n",
       "        vertical-align: middle;\n",
       "    }\n",
       "\n",
       "    .dataframe tbody tr th {\n",
       "        vertical-align: top;\n",
       "    }\n",
       "\n",
       "    .dataframe thead th {\n",
       "        text-align: right;\n",
       "    }\n",
       "</style>\n",
       "<table border=\"1\" class=\"dataframe\">\n",
       "  <thead>\n",
       "    <tr style=\"text-align: right;\">\n",
       "      <th></th>\n",
       "      <th>Text</th>\n",
       "      <th>target</th>\n",
       "    </tr>\n",
       "  </thead>\n",
       "  <tbody>\n",
       "    <tr>\n",
       "      <th>0</th>\n",
       "      <td>From: lerxst@wam.umd.edu (where's my thing)\\nS...</td>\n",
       "      <td>7</td>\n",
       "    </tr>\n",
       "    <tr>\n",
       "      <th>1</th>\n",
       "      <td>From: guykuo@carson.u.washington.edu (Guy Kuo)...</td>\n",
       "      <td>4</td>\n",
       "    </tr>\n",
       "    <tr>\n",
       "      <th>2</th>\n",
       "      <td>From: twillis@ec.ecn.purdue.edu (Thomas E Will...</td>\n",
       "      <td>4</td>\n",
       "    </tr>\n",
       "    <tr>\n",
       "      <th>3</th>\n",
       "      <td>From: jgreen@amber (Joe Green)\\nSubject: Re: W...</td>\n",
       "      <td>1</td>\n",
       "    </tr>\n",
       "    <tr>\n",
       "      <th>4</th>\n",
       "      <td>From: jcm@head-cfa.harvard.edu (Jonathan McDow...</td>\n",
       "      <td>14</td>\n",
       "    </tr>\n",
       "  </tbody>\n",
       "</table>\n",
       "</div>"
      ],
      "text/plain": [
       "                                                Text  target\n",
       "0  From: lerxst@wam.umd.edu (where's my thing)\\nS...       7\n",
       "1  From: guykuo@carson.u.washington.edu (Guy Kuo)...       4\n",
       "2  From: twillis@ec.ecn.purdue.edu (Thomas E Will...       4\n",
       "3  From: jgreen@amber (Joe Green)\\nSubject: Re: W...       1\n",
       "4  From: jcm@head-cfa.harvard.edu (Jonathan McDow...      14"
      ]
     },
     "metadata": {
      "tags": []
     },
     "execution_count": 45
    }
   ]
  },
  {
   "cell_type": "code",
   "metadata": {
    "id": "E0PVKLOsL_mS",
    "colab_type": "code",
    "colab": {
     "base_uri": "https://localhost:8080/",
     "height": 54
    },
    "outputId": "9736f0cd-90af-4dd0-e188-1cfc8b128417"
   },
   "source": [
    ""
   ],
   "execution_count": 58,
   "outputs": [
    {
     "output_type": "execute_result",
     "data": {
      "text/plain": [
       "'From: ivan@IRO.UMontreal.CA (Catalin Ivan)\\nSubject: IDE/ESDI coexistence\\nSummary: How to make IDE and ESDI controllers live together???\\nKeywords: HD, controller, IDE, ESDI, disks\\nOrganization: Universite de Montreal\\nLines: 57\\n\\nHello all,\\n\\nYou, the Net, are my last resort, or I\\'ll just change my job :-)\\nThis might be a FAQ (e.g. mixing controllers) but haven\\'t seen any.\\n\\nSys: 486/33, AMI BIOS, and your run-of-the mill multi-I/O card with\\nserials/paral/floppies and \\n\\t- IDE controller \"clone\" Gw2760-EX\\n\\t\\tthere are no jumpers affecting the HD or ctrller :-( \\n\\t- Quantum ProDrive LPS (3\" 105M type 47: 755cyl, 16hds, 17spt).\\n\\nPb: I want to bring in this (2nd hand, neat price):\\n\\t- Maxtor XT-B380E (~330M, <15ms, BIOS type 1, ctrller manages\\n\\t\\tthe real geom: 1630cyl, 8hds, 52spt)\\n\\t- Western Digital WD1007V-SE1 ESDI ctrller: no floppies.\\n\\t\\t(jumpers set IRQ 14/15, hw port addr 1F0/170,\\n\\t\\tand BIOS addr CC00/C800, and other floppy/format stuff)\\n\\nGoal: have the WD ESDI as a secondary/controller and have both disks \\nsimultaneously working. Being able to boot from the ESDI too would be \\na nice bonus but is not expected.\\n\\nUltimate goal: have room for Linux et al.\\nEx of scheme I have in mind: boot from IDE (HD or floppy) and mount\\nthe ESDI as root. Not booting from ESDI, or even from HD, is acceptable.\\n\\nI have tried numerous (all!!) combinations to no avail. They work alone,\\nor can coexist witout hang-ups but can\\'t access the ESDI or the IDE, \\ndepending on setup/jumpers.\\n\\nUseful suggestions might be:\\n- How do I tell the BIOS setup about two ctrllers (I guess the 2nd HD\\nis expected to hang off the same ctrller as the 1st).\\n- Do I need some driver to make it work?\\n- --- \" --- some new BIOS/chip for any of these cards?\\n- do I have to buy another controller to make them HDs happy? IDE\\nis cheaper; ESDI is hard to find and rather costly. I\\'m not \\nrich or I wouldnt\\' try to scavenge around, so soft slns are preferred.\\n- adapters of some sort; I can hold a soldering iron, and can change\\na chip or put a jumper!\\n\\nAlso useful:\\n- BBS or Hot-line of Western Digital.\\n- ftp archives with relevant info.\\n- expert stores in Toronto, Ontario area (that would be a miracle! haven\\'t\\nseen any really knowledgeable ppl in a while)\\n- any hints into inner workings of the system ... \\n- anything else that helped you in similar situations (prayers :-) )\\n\\nDirect or posted replies are ok.\\n\\tMany thanks,\\n\\t\\t\\tCat.\\n--\\n////// /// // / /  /  /   /   /    /     /      /      /        / \\nCatalin Ivan - email: ivan@Iro.UMontreal.CA - tel:(416) 324.8704\\n         Human-Computer   INTERACTION   Humain-Machine \\nUniversite de Montreal - Informatique et Recherche Operationelle\\n'"
      ]
     },
     "metadata": {
      "tags": []
     },
     "execution_count": 58
    }
   ]
  },
  {
   "cell_type": "code",
   "metadata": {
    "id": "28Npi_a7DezD",
    "colab_type": "code",
    "colab": {}
   },
   "source": [
    "\n",
    "\n",
    "\n",
    "def countWordAndCreateDataset(datas, tags, nwords=100000):\n",
    "  dataset = []\n",
    "  dataset_tag = []\n",
    "  word_counter = 0\n",
    "  while word_counter <= nwords:\n",
    "    for target in range(0, len(newsgroups_train.target_names) -1):\n",
    "      data = df[df['target'] == target]\n",
    "      randindex = randrange(0, len(data))\n",
    "      text = data.iloc[randindex, 0]\n",
    "      dataset.append(text)\n",
    "      dataset_tag.append(tags[target])\n",
    "      word_counter += len(data.iloc[randindex, 0].split(' '))\n",
    "  print(f\"Return a dataset of that contains {word_counter} words\")\n",
    "  return (dataset, dataset_tag)\n",
    "  \n",
    "  "
   ],
   "execution_count": 0,
   "outputs": []
  },
  {
   "cell_type": "markdown",
   "metadata": {
    "id": "4hqR2G2eK04n",
    "colab_type": "text"
   },
   "source": [
    "This selection function must create a balanced dataset."
   ]
  },
  {
   "cell_type": "code",
   "metadata": {
    "id": "EZN5Km1bVX56",
    "colab_type": "code",
    "outputId": "506ed912-bf7e-4eab-9ec6-3a90c177bd51",
    "colab": {
     "base_uri": "https://localhost:8080/",
     "height": 136
    }
   },
   "source": [
    "sizes = [10000000, 5000000, 1000000, 600000, 500000, 10000, 5000]\n",
    "dataset_dict = {}\n",
    "for size in sizes:\n",
    "  dataset_target_tuple = countWordAndCreateDataset(datas=newsgroups_train.data, tags=newsgroups_train.target, nwords=size)\n",
    "  dataset_dict[size] = dataset_target_tuple"
   ],
   "execution_count": 75,
   "outputs": [
    {
     "output_type": "stream",
     "text": [
      "Return a dataset of that contains 10002441 words\n",
      "Return a dataset of that contains 5008646 words\n",
      "Return a dataset of that contains 1004413 words\n",
      "Return a dataset of that contains 606782 words\n",
      "Return a dataset of that contains 504610 words\n",
      "Return a dataset of that contains 17386 words\n",
      "Return a dataset of that contains 10001 words\n"
     ],
     "name": "stdout"
    }
   ]
  },
  {
   "cell_type": "code",
   "metadata": {
    "id": "g8FNGcfrSBnf",
    "colab_type": "code",
    "outputId": "1ff6fe06-0f6f-46cb-baf3-df0d0de73bcd",
    "colab": {
     "base_uri": "https://localhost:8080/",
     "height": 34
    }
   },
   "source": [
    "len(dataset_dict[1000000][0])"
   ],
   "execution_count": 76,
   "outputs": [
    {
     "output_type": "execute_result",
     "data": {
      "text/plain": [
       "3154"
      ]
     },
     "metadata": {
      "tags": []
     },
     "execution_count": 76
    }
   ]
  },
  {
   "cell_type": "markdown",
   "metadata": {
    "id": "aQu8QY0zTBzu",
    "colab_type": "text"
   },
   "source": [
    "We have now 7 datasets of differents size that are well balanced. We are going to look at wich number of words in the corpus the dataset perform well."
   ]
  },
  {
   "cell_type": "markdown",
   "metadata": {
    "id": "Cm18HUnXSdpv",
    "colab_type": "text"
   },
   "source": [
    "contains our 7 datasets of differents size. Let's  clean those dataset and train TFIDF+ML_modele on them."
   ]
  },
  {
   "cell_type": "code",
   "metadata": {
    "id": "oTllFF35U0Lo",
    "colab_type": "code",
    "colab": {}
   },
   "source": [
    "from sklearn.metrics import precision_recall_fscore_support\n",
    "\n",
    "# We need to train different model for each dataset \n",
    "modeles_dict = {}\n",
    "for key in dataset_dict:\n",
    "  naives_clf = Pipeline([('vect', StemmedCountVectorizer(stop_words='english')),\n",
    "                      ('tfidf', TfidfTransformer()),\n",
    "                      ('clf', MultinomialNB())])\n",
    "  log_clf = Pipeline([('vect', StemmedCountVectorizer(stop_words='english')),\n",
    "                    ('tfidf', TfidfTransformer()),\n",
    "                    ('clf', LogisticRegression())])\n",
    "  sgd_clf = Pipeline([('vect', StemmedCountVectorizer(stop_words='english')),\n",
    "                    ('tfidf', TfidfTransformer()),\n",
    "                    ('clf', SGDClassifier())]) \n",
    "  svc_clf = Pipeline([('vect', StemmedCountVectorizer(stop_words='english')),\n",
    "                    ('tfidf', TfidfTransformer()),\n",
    "                    ('clf', LinearSVC())])\n",
    "  modeles_dict[key] =  {\"naives\":naives_clf, \"logistic regression\": log_clf, \"SGD_classifier\":sgd_clf, \"Linear SVC\":svc_clf} \n",
    "\n"
   ],
   "execution_count": 0,
   "outputs": []
  },
  {
   "cell_type": "code",
   "metadata": {
    "id": "3W3ZLgAZOl4-",
    "colab_type": "code",
    "outputId": "31b31e2a-a8a7-4f7a-d612-e9dd9fce8755",
    "colab": {
     "base_uri": "https://localhost:8080/",
     "height": 1000
    }
   },
   "source": [
    "\n",
    "for dataset_key in dataset_dict:\n",
    "  print(f\"Dataset of size : {dataset_key} \\n\\n\")\n",
    "  modeles = modeles_dict[dataset_key]\n",
    "  for key in modeles:\n",
    "    modeles[key].fit(dataset_dict[dataset_key][0], dataset_dict[dataset_key][1])\n",
    "    predicted = modeles[key].predict(newsgroups_test.data)\n",
    "    score = precision_recall_fscore_support(newsgroups_test.target, predicted, average='weighted')\n",
    "    print(f\"Modele : {key} score : {score} \\n\\n\\n\")"
   ],
   "execution_count": 80,
   "outputs": [
    {
     "output_type": "stream",
     "text": [
      "Dataset of size : 10000000 \n",
      "\n",
      "\n"
     ],
     "name": "stdout"
    },
    {
     "output_type": "stream",
     "text": [
      "/usr/local/lib/python3.6/dist-packages/sklearn/metrics/classification.py:1437: UndefinedMetricWarning: Precision and F-score are ill-defined and being set to 0.0 in labels with no predicted samples.\n",
      "  'precision', 'predicted', average, warn_for)\n"
     ],
     "name": "stderr"
    },
    {
     "output_type": "stream",
     "text": [
      "Modele : naives score : (0.003679639006511149, 0.03531598513011153, 0.006325197284488691, None) \n",
      "\n",
      "\n",
      "\n"
     ],
     "name": "stdout"
    },
    {
     "output_type": "stream",
     "text": [
      "/usr/local/lib/python3.6/dist-packages/sklearn/linear_model/logistic.py:432: FutureWarning: Default solver will be changed to 'lbfgs' in 0.22. Specify a solver to silence this warning.\n",
      "  FutureWarning)\n",
      "/usr/local/lib/python3.6/dist-packages/sklearn/linear_model/logistic.py:469: FutureWarning: Default multi_class will be changed to 'auto' in 0.22. Specify the multi_class option to silence this warning.\n",
      "  \"this warning.\", FutureWarning)\n",
      "/usr/local/lib/python3.6/dist-packages/sklearn/metrics/classification.py:1437: UndefinedMetricWarning: Precision and F-score are ill-defined and being set to 0.0 in labels with no predicted samples.\n",
      "  'precision', 'predicted', average, warn_for)\n"
     ],
     "name": "stderr"
    },
    {
     "output_type": "stream",
     "text": [
      "Modele : logistic regression score : (0.005055027040592344, 0.013011152416356878, 0.006719401213124641, None) \n",
      "\n",
      "\n",
      "\n"
     ],
     "name": "stdout"
    },
    {
     "output_type": "stream",
     "text": [
      "/usr/local/lib/python3.6/dist-packages/sklearn/metrics/classification.py:1437: UndefinedMetricWarning: Precision and F-score are ill-defined and being set to 0.0 in labels with no predicted samples.\n",
      "  'precision', 'predicted', average, warn_for)\n"
     ],
     "name": "stderr"
    },
    {
     "output_type": "stream",
     "text": [
      "Modele : SGD_classifier score : (0.004806063712149305, 0.010355815188528943, 0.006223585937198319, None) \n",
      "\n",
      "\n",
      "\n"
     ],
     "name": "stdout"
    },
    {
     "output_type": "stream",
     "text": [
      "/usr/local/lib/python3.6/dist-packages/sklearn/metrics/classification.py:1437: UndefinedMetricWarning: Precision and F-score are ill-defined and being set to 0.0 in labels with no predicted samples.\n",
      "  'precision', 'predicted', average, warn_for)\n"
     ],
     "name": "stderr"
    },
    {
     "output_type": "stream",
     "text": [
      "Modele : Linear SVC score : (0.004733352930657991, 0.009957514604354753, 0.006050860140530852, None) \n",
      "\n",
      "\n",
      "\n",
      "Dataset of size : 5000000 \n",
      "\n",
      "\n"
     ],
     "name": "stdout"
    },
    {
     "output_type": "stream",
     "text": [
      "/usr/local/lib/python3.6/dist-packages/sklearn/metrics/classification.py:1437: UndefinedMetricWarning: Precision and F-score are ill-defined and being set to 0.0 in labels with no predicted samples.\n",
      "  'precision', 'predicted', average, warn_for)\n"
     ],
     "name": "stderr"
    },
    {
     "output_type": "stream",
     "text": [
      "Modele : naives score : (0.003845346650115225, 0.04102496016994158, 0.00640586451979555, None) \n",
      "\n",
      "\n",
      "\n"
     ],
     "name": "stdout"
    },
    {
     "output_type": "stream",
     "text": [
      "/usr/local/lib/python3.6/dist-packages/sklearn/linear_model/logistic.py:432: FutureWarning: Default solver will be changed to 'lbfgs' in 0.22. Specify a solver to silence this warning.\n",
      "  FutureWarning)\n",
      "/usr/local/lib/python3.6/dist-packages/sklearn/linear_model/logistic.py:469: FutureWarning: Default multi_class will be changed to 'auto' in 0.22. Specify the multi_class option to silence this warning.\n",
      "  \"this warning.\", FutureWarning)\n",
      "/usr/local/lib/python3.6/dist-packages/sklearn/metrics/classification.py:1437: UndefinedMetricWarning: Precision and F-score are ill-defined and being set to 0.0 in labels with no predicted samples.\n",
      "  'precision', 'predicted', average, warn_for)\n"
     ],
     "name": "stderr"
    },
    {
     "output_type": "stream",
     "text": [
      "Modele : logistic regression score : (0.004960273234809992, 0.013276686139139671, 0.006553299576687189, None) \n",
      "\n",
      "\n",
      "\n"
     ],
     "name": "stdout"
    },
    {
     "output_type": "stream",
     "text": [
      "/usr/local/lib/python3.6/dist-packages/sklearn/metrics/classification.py:1437: UndefinedMetricWarning: Precision and F-score are ill-defined and being set to 0.0 in labels with no predicted samples.\n",
      "  'precision', 'predicted', average, warn_for)\n"
     ],
     "name": "stderr"
    },
    {
     "output_type": "stream",
     "text": [
      "Modele : SGD_classifier score : (0.005716874140372582, 0.011152416356877323, 0.007101134698899698, None) \n",
      "\n",
      "\n",
      "\n"
     ],
     "name": "stdout"
    },
    {
     "output_type": "stream",
     "text": [
      "/usr/local/lib/python3.6/dist-packages/sklearn/metrics/classification.py:1437: UndefinedMetricWarning: Precision and F-score are ill-defined and being set to 0.0 in labels with no predicted samples.\n",
      "  'precision', 'predicted', average, warn_for)\n"
     ],
     "name": "stderr"
    },
    {
     "output_type": "stream",
     "text": [
      "Modele : Linear SVC score : (0.0057178942791147516, 0.011019649495485926, 0.007083513861959157, None) \n",
      "\n",
      "\n",
      "\n",
      "Dataset of size : 1000000 \n",
      "\n",
      "\n"
     ],
     "name": "stdout"
    },
    {
     "output_type": "stream",
     "text": [
      "/usr/local/lib/python3.6/dist-packages/sklearn/metrics/classification.py:1437: UndefinedMetricWarning: Precision and F-score are ill-defined and being set to 0.0 in labels with no predicted samples.\n",
      "  'precision', 'predicted', average, warn_for)\n"
     ],
     "name": "stderr"
    },
    {
     "output_type": "stream",
     "text": [
      "Modele : naives score : (0.0031098968118002924, 0.04899097185342539, 0.005848534624362411, None) \n",
      "\n",
      "\n",
      "\n"
     ],
     "name": "stdout"
    },
    {
     "output_type": "stream",
     "text": [
      "/usr/local/lib/python3.6/dist-packages/sklearn/linear_model/logistic.py:432: FutureWarning: Default solver will be changed to 'lbfgs' in 0.22. Specify a solver to silence this warning.\n",
      "  FutureWarning)\n",
      "/usr/local/lib/python3.6/dist-packages/sklearn/linear_model/logistic.py:469: FutureWarning: Default multi_class will be changed to 'auto' in 0.22. Specify the multi_class option to silence this warning.\n",
      "  \"this warning.\", FutureWarning)\n",
      "/usr/local/lib/python3.6/dist-packages/sklearn/metrics/classification.py:1437: UndefinedMetricWarning: Precision and F-score are ill-defined and being set to 0.0 in labels with no predicted samples.\n",
      "  'precision', 'predicted', average, warn_for)\n"
     ],
     "name": "stderr"
    },
    {
     "output_type": "stream",
     "text": [
      "Modele : logistic regression score : (0.0051587087168055235, 0.021508231545406268, 0.006950583355280294, None) \n",
      "\n",
      "\n",
      "\n"
     ],
     "name": "stdout"
    },
    {
     "output_type": "stream",
     "text": [
      "/usr/local/lib/python3.6/dist-packages/sklearn/metrics/classification.py:1437: UndefinedMetricWarning: Precision and F-score are ill-defined and being set to 0.0 in labels with no predicted samples.\n",
      "  'precision', 'predicted', average, warn_for)\n"
     ],
     "name": "stderr"
    },
    {
     "output_type": "stream",
     "text": [
      "Modele : SGD_classifier score : (0.006602302100552179, 0.014206054168879448, 0.008285223007339124, None) \n",
      "\n",
      "\n",
      "\n"
     ],
     "name": "stdout"
    },
    {
     "output_type": "stream",
     "text": [
      "/usr/local/lib/python3.6/dist-packages/sklearn/metrics/classification.py:1437: UndefinedMetricWarning: Precision and F-score are ill-defined and being set to 0.0 in labels with no predicted samples.\n",
      "  'precision', 'predicted', average, warn_for)\n"
     ],
     "name": "stderr"
    },
    {
     "output_type": "stream",
     "text": [
      "Modele : Linear SVC score : (0.005808290092456506, 0.013542219861922463, 0.007502980525547446, None) \n",
      "\n",
      "\n",
      "\n",
      "Dataset of size : 600000 \n",
      "\n",
      "\n"
     ],
     "name": "stdout"
    },
    {
     "output_type": "stream",
     "text": [
      "/usr/local/lib/python3.6/dist-packages/sklearn/metrics/classification.py:1437: UndefinedMetricWarning: Precision and F-score are ill-defined and being set to 0.0 in labels with no predicted samples.\n",
      "  'precision', 'predicted', average, warn_for)\n"
     ],
     "name": "stderr"
    },
    {
     "output_type": "stream",
     "text": [
      "Modele : naives score : (0.0029686949111860654, 0.04992033988316516, 0.005604120383443239, None) \n",
      "\n",
      "\n",
      "\n"
     ],
     "name": "stdout"
    },
    {
     "output_type": "stream",
     "text": [
      "/usr/local/lib/python3.6/dist-packages/sklearn/linear_model/logistic.py:432: FutureWarning: Default solver will be changed to 'lbfgs' in 0.22. Specify a solver to silence this warning.\n",
      "  FutureWarning)\n",
      "/usr/local/lib/python3.6/dist-packages/sklearn/linear_model/logistic.py:469: FutureWarning: Default multi_class will be changed to 'auto' in 0.22. Specify the multi_class option to silence this warning.\n",
      "  \"this warning.\", FutureWarning)\n",
      "/usr/local/lib/python3.6/dist-packages/sklearn/metrics/classification.py:1437: UndefinedMetricWarning: Precision and F-score are ill-defined and being set to 0.0 in labels with no predicted samples.\n",
      "  'precision', 'predicted', average, warn_for)\n"
     ],
     "name": "stderr"
    },
    {
     "output_type": "stream",
     "text": [
      "Modele : logistic regression score : (0.006445185168037316, 0.02854487519915029, 0.008298987768809607, None) \n",
      "\n",
      "\n",
      "\n"
     ],
     "name": "stdout"
    },
    {
     "output_type": "stream",
     "text": [
      "/usr/local/lib/python3.6/dist-packages/sklearn/metrics/classification.py:1437: UndefinedMetricWarning: Precision and F-score are ill-defined and being set to 0.0 in labels with no predicted samples.\n",
      "  'precision', 'predicted', average, warn_for)\n"
     ],
     "name": "stderr"
    },
    {
     "output_type": "stream",
     "text": [
      "Modele : SGD_classifier score : (0.006884052452731119, 0.01659585767392459, 0.00899691799273587, None) \n",
      "\n",
      "\n",
      "\n"
     ],
     "name": "stdout"
    },
    {
     "output_type": "stream",
     "text": [
      "/usr/local/lib/python3.6/dist-packages/sklearn/metrics/classification.py:1437: UndefinedMetricWarning: Precision and F-score are ill-defined and being set to 0.0 in labels with no predicted samples.\n",
      "  'precision', 'predicted', average, warn_for)\n"
     ],
     "name": "stderr"
    },
    {
     "output_type": "stream",
     "text": [
      "Modele : Linear SVC score : (0.006962694031938071, 0.017126925119490176, 0.009102227853259448, None) \n",
      "\n",
      "\n",
      "\n",
      "Dataset of size : 500000 \n",
      "\n",
      "\n"
     ],
     "name": "stdout"
    },
    {
     "output_type": "stream",
     "text": [
      "/usr/local/lib/python3.6/dist-packages/sklearn/metrics/classification.py:1437: UndefinedMetricWarning: Precision and F-score are ill-defined and being set to 0.0 in labels with no predicted samples.\n",
      "  'precision', 'predicted', average, warn_for)\n"
     ],
     "name": "stderr"
    },
    {
     "output_type": "stream",
     "text": [
      "Modele : naives score : (0.00297698159854135, 0.050716941051513545, 0.005623854350470252, None) \n",
      "\n",
      "\n",
      "\n"
     ],
     "name": "stdout"
    },
    {
     "output_type": "stream",
     "text": [
      "/usr/local/lib/python3.6/dist-packages/sklearn/linear_model/logistic.py:432: FutureWarning: Default solver will be changed to 'lbfgs' in 0.22. Specify a solver to silence this warning.\n",
      "  FutureWarning)\n",
      "/usr/local/lib/python3.6/dist-packages/sklearn/linear_model/logistic.py:469: FutureWarning: Default multi_class will be changed to 'auto' in 0.22. Specify the multi_class option to silence this warning.\n",
      "  \"this warning.\", FutureWarning)\n",
      "/usr/local/lib/python3.6/dist-packages/sklearn/metrics/classification.py:1437: UndefinedMetricWarning: Precision and F-score are ill-defined and being set to 0.0 in labels with no predicted samples.\n",
      "  'precision', 'predicted', average, warn_for)\n"
     ],
     "name": "stderr"
    },
    {
     "output_type": "stream",
     "text": [
      "Modele : logistic regression score : (0.007196194145768004, 0.03571428571428571, 0.009317795545633004, None) \n",
      "\n",
      "\n",
      "\n"
     ],
     "name": "stdout"
    },
    {
     "output_type": "stream",
     "text": [
      "/usr/local/lib/python3.6/dist-packages/sklearn/metrics/classification.py:1437: UndefinedMetricWarning: Precision and F-score are ill-defined and being set to 0.0 in labels with no predicted samples.\n",
      "  'precision', 'predicted', average, warn_for)\n"
     ],
     "name": "stderr"
    },
    {
     "output_type": "stream",
     "text": [
      "Modele : SGD_classifier score : (0.008083918255185249, 0.016861391396707382, 0.010132112928639676, None) \n",
      "\n",
      "\n",
      "\n"
     ],
     "name": "stdout"
    },
    {
     "output_type": "stream",
     "text": [
      "/usr/local/lib/python3.6/dist-packages/sklearn/metrics/classification.py:1437: UndefinedMetricWarning: Precision and F-score are ill-defined and being set to 0.0 in labels with no predicted samples.\n",
      "  'precision', 'predicted', average, warn_for)\n"
     ],
     "name": "stderr"
    },
    {
     "output_type": "stream",
     "text": [
      "Modele : Linear SVC score : (0.007912385241462374, 0.018056293149229952, 0.01010149157835436, None) \n",
      "\n",
      "\n",
      "\n",
      "Dataset of size : 10000 \n",
      "\n",
      "\n"
     ],
     "name": "stdout"
    },
    {
     "output_type": "stream",
     "text": [
      "/usr/local/lib/python3.6/dist-packages/sklearn/metrics/classification.py:1437: UndefinedMetricWarning: Precision and F-score are ill-defined and being set to 0.0 in labels with no predicted samples.\n",
      "  'precision', 'predicted', average, warn_for)\n",
      "/usr/local/lib/python3.6/dist-packages/sklearn/linear_model/logistic.py:432: FutureWarning: Default solver will be changed to 'lbfgs' in 0.22. Specify a solver to silence this warning.\n",
      "  FutureWarning)\n",
      "/usr/local/lib/python3.6/dist-packages/sklearn/linear_model/logistic.py:469: FutureWarning: Default multi_class will be changed to 'auto' in 0.22. Specify the multi_class option to silence this warning.\n",
      "  \"this warning.\", FutureWarning)\n"
     ],
     "name": "stderr"
    },
    {
     "output_type": "stream",
     "text": [
      "Modele : naives score : (0.002612767927474745, 0.05111524163568773, 0.004971420495071309, None) \n",
      "\n",
      "\n",
      "\n"
     ],
     "name": "stdout"
    },
    {
     "output_type": "stream",
     "text": [
      "/usr/local/lib/python3.6/dist-packages/sklearn/metrics/classification.py:1437: UndefinedMetricWarning: Precision and F-score are ill-defined and being set to 0.0 in labels with no predicted samples.\n",
      "  'precision', 'predicted', average, warn_for)\n"
     ],
     "name": "stderr"
    },
    {
     "output_type": "stream",
     "text": [
      "Modele : logistic regression score : (0.002612767927474745, 0.05111524163568773, 0.004971420495071309, None) \n",
      "\n",
      "\n",
      "\n"
     ],
     "name": "stdout"
    },
    {
     "output_type": "stream",
     "text": [
      "/usr/local/lib/python3.6/dist-packages/sklearn/metrics/classification.py:1437: UndefinedMetricWarning: Precision and F-score are ill-defined and being set to 0.0 in labels with no predicted samples.\n",
      "  'precision', 'predicted', average, warn_for)\n"
     ],
     "name": "stderr"
    },
    {
     "output_type": "stream",
     "text": [
      "Modele : SGD_classifier score : (0.02254389658807906, 0.03664365374402549, 0.02532607827972115, None) \n",
      "\n",
      "\n",
      "\n"
     ],
     "name": "stdout"
    },
    {
     "output_type": "stream",
     "text": [
      "/usr/local/lib/python3.6/dist-packages/sklearn/metrics/classification.py:1437: UndefinedMetricWarning: Precision and F-score are ill-defined and being set to 0.0 in labels with no predicted samples.\n",
      "  'precision', 'predicted', average, warn_for)\n"
     ],
     "name": "stderr"
    },
    {
     "output_type": "stream",
     "text": [
      "Modele : Linear SVC score : (0.016600041493879957, 0.04607010090281466, 0.010969663729108911, None) \n",
      "\n",
      "\n",
      "\n",
      "Dataset of size : 5000 \n",
      "\n",
      "\n"
     ],
     "name": "stdout"
    },
    {
     "output_type": "stream",
     "text": [
      "/usr/local/lib/python3.6/dist-packages/sklearn/metrics/classification.py:1437: UndefinedMetricWarning: Precision and F-score are ill-defined and being set to 0.0 in labels with no predicted samples.\n",
      "  'precision', 'predicted', average, warn_for)\n",
      "/usr/local/lib/python3.6/dist-packages/sklearn/linear_model/logistic.py:432: FutureWarning: Default solver will be changed to 'lbfgs' in 0.22. Specify a solver to silence this warning.\n",
      "  FutureWarning)\n",
      "/usr/local/lib/python3.6/dist-packages/sklearn/linear_model/logistic.py:469: FutureWarning: Default multi_class will be changed to 'auto' in 0.22. Specify the multi_class option to silence this warning.\n",
      "  \"this warning.\", FutureWarning)\n"
     ],
     "name": "stderr"
    },
    {
     "output_type": "stream",
     "text": [
      "Modele : naives score : (0.002612767927474745, 0.05111524163568773, 0.004971420495071309, None) \n",
      "\n",
      "\n",
      "\n"
     ],
     "name": "stdout"
    },
    {
     "output_type": "stream",
     "text": [
      "/usr/local/lib/python3.6/dist-packages/sklearn/metrics/classification.py:1437: UndefinedMetricWarning: Precision and F-score are ill-defined and being set to 0.0 in labels with no predicted samples.\n",
      "  'precision', 'predicted', average, warn_for)\n"
     ],
     "name": "stderr"
    },
    {
     "output_type": "stream",
     "text": [
      "Modele : logistic regression score : (0.0026077126063643007, 0.050982474774296335, 0.004961641250784654, None) \n",
      "\n",
      "\n",
      "\n"
     ],
     "name": "stdout"
    },
    {
     "output_type": "stream",
     "text": [
      "/usr/local/lib/python3.6/dist-packages/sklearn/metrics/classification.py:1437: UndefinedMetricWarning: Precision and F-score are ill-defined and being set to 0.0 in labels with no predicted samples.\n",
      "  'precision', 'predicted', average, warn_for)\n"
     ],
     "name": "stderr"
    },
    {
     "output_type": "stream",
     "text": [
      "Modele : SGD_classifier score : (0.0333413111728095, 0.05496548061603824, 0.030854096646791913, None) \n",
      "\n",
      "\n",
      "\n",
      "Modele : Linear SVC score : (0.02090332851862088, 0.049522039298990975, 0.01187536380368888, None) \n",
      "\n",
      "\n",
      "\n"
     ],
     "name": "stdout"
    },
    {
     "output_type": "stream",
     "text": [
      "/usr/local/lib/python3.6/dist-packages/sklearn/metrics/classification.py:1437: UndefinedMetricWarning: Precision and F-score are ill-defined and being set to 0.0 in labels with no predicted samples.\n",
      "  'precision', 'predicted', average, warn_for)\n"
     ],
     "name": "stderr"
    }
   ]
  },
  {
   "cell_type": "markdown",
   "metadata": {
    "id": "OHUCsAn1eIYM",
    "colab_type": "text"
   },
   "source": [
    "do the same operation with Doc2Vec "
   ]
  },
  {
   "cell_type": "code",
   "metadata": {
    "id": "2NsSKZS6eIAz",
    "colab_type": "code",
    "colab": {}
   },
   "source": [
    "def prepareDataset(dataset):\n",
    "  for i in tqdm(range(0, len(dataset)-1)):\n",
    "    dataset[i] = prepareText(dataset[i])\n",
    "    \n",
    "for key in dataset_dict:\n",
    "  prepareDataset(dataset=dataset_dict[key][0])"
   ],
   "execution_count": 0,
   "outputs": []
  },
  {
   "cell_type": "markdown",
   "metadata": {
    "id": "K9kk1TonylR0",
    "colab_type": "text"
   },
   "source": [
    "# Doc2Vec Visualisation \n",
    "\n",
    "With the T-Distributed stochastic neighbor embedding  it's possible to visualize big vector. It's a reduction space technique like \n",
    "\n",
    "\n",
    "Overview\n",
    "\n",
    "t-SNE – at a high level – basically works like this:\n",
    "\n",
    "Step 1: In the high-dimensional space, create a probability distribution that dictates the relationships between various neighboring points\n",
    "\n",
    "Step 2: It then tries to recreate a low dimensional space that follows that probability distribution as best as possible.\n",
    "\n",
    "The “t” in t-SNE comes from the t-distribution, which is the distribution used in Step 2. The “S” and “N” (“stochastic” and “neighbor”) come from the fact that it uses a probability distribution across neighboring points.\n",
    "\n",
    "\n",
    "[T-SNE](https://mlexplained.com/2018/09/14/paper-dissected-visualizing-data-using-t-sne-explained/)\n"
   ]
  },
  {
   "cell_type": "markdown",
   "metadata": {
    "id": "uNKSgNL0-1sp",
    "colab_type": "text"
   },
   "source": [
    "TSNE(n_components=2, perplexity=30.0, early_exaggeration=12.0, learning_rate=200.0, n_iter=1000, n_iter_without_progress=300, min_grad_norm=1e-07, metric=’euclidean’, init=’random’, verbose=0, random_state=None, method=’barnes_hut’, angle=0.5)\n",
    "\n",
    "* n_components : int, optional (default: 2)\n",
    "Dimension of the embedded space.\n",
    "\n",
    "* perplexity : float, optional (default: 30)\n",
    "The perplexity is related to the number of nearest neighbors that is used in other manifold learning algorithms. Larger datasets usually require a larger perplexity. Consider selecting a value between 5 and 50. Different values can result in significanlty different results.\n",
    "\n",
    "* early_exaggeration : float, optional (default: 12.0)\n",
    "Controls how tight natural clusters in the original space are in the embedded space and how much space will be between them. For larger values, the space between natural clusters will be larger in the embedded space. Again, the choice of this parameter is not very critical. If the cost function increases during initial optimization, the early exaggeration factor or the learning rate might be too high.\n",
    "\n",
    "* learning_rate : float, optional (default: 200.0)\n",
    "The learning rate for t-SNE is usually in the range [10.0, 1000.0]. If the learning rate is too high, the data may look like a ‘ball’ with any point approximately equidistant from its nearest neighbours. If the learning rate is too low, most points may look compressed in a dense cloud with few outliers. If the cost function gets stuck in a bad local minimum increasing the learning rate may help.\n",
    "\n",
    "We use the T-SNE to reduce the dimensionnality of our document vector to be able to visualize in 2-D or 3-D the relation between the documents."
   ]
  },
  {
   "cell_type": "code",
   "metadata": {
    "id": "XtmYrzz07Rxb",
    "colab_type": "code",
    "colab": {}
   },
   "source": [
    "from sklearn.manifold import TSNE"
   ],
   "execution_count": 0,
   "outputs": []
  },
  {
   "cell_type": "markdown",
   "metadata": {
    "id": "KiHGvje2_0gz",
    "colab_type": "text"
   },
   "source": [
    "Prepare a dataframe that contains the text infer vector in a column and in the other column the corresponding tag."
   ]
  },
  {
   "cell_type": "code",
   "metadata": {
    "id": "BDDwPPxI_xC2",
    "colab_type": "code",
    "colab": {
     "base_uri": "https://localhost:8080/",
     "height": 204
    },
    "outputId": "e89ad00e-bcc3-4f0a-fdd9-902b2ff11e9b"
   },
   "source": [
    "doc_df = pd.DataFrame({'documents':x_train, 'tags':y_train})\n",
    "doc_df.head()"
   ],
   "execution_count": 83,
   "outputs": [
    {
     "output_type": "execute_result",
     "data": {
      "text/html": [
       "<div>\n",
       "<style scoped>\n",
       "    .dataframe tbody tr th:only-of-type {\n",
       "        vertical-align: middle;\n",
       "    }\n",
       "\n",
       "    .dataframe tbody tr th {\n",
       "        vertical-align: top;\n",
       "    }\n",
       "\n",
       "    .dataframe thead th {\n",
       "        text-align: right;\n",
       "    }\n",
       "</style>\n",
       "<table border=\"1\" class=\"dataframe\">\n",
       "  <thead>\n",
       "    <tr style=\"text-align: right;\">\n",
       "      <th></th>\n",
       "      <th>documents</th>\n",
       "      <th>tags</th>\n",
       "    </tr>\n",
       "  </thead>\n",
       "  <tbody>\n",
       "    <tr>\n",
       "      <th>0</th>\n",
       "      <td>[0.25974402, -0.44462767, 0.27609605, 0.174069...</td>\n",
       "      <td>7</td>\n",
       "    </tr>\n",
       "    <tr>\n",
       "      <th>1</th>\n",
       "      <td>[0.52929014, -0.7739814, 0.36488482, 0.4552726...</td>\n",
       "      <td>4</td>\n",
       "    </tr>\n",
       "    <tr>\n",
       "      <th>2</th>\n",
       "      <td>[0.13178977, -0.5605735, 0.9404825, 0.05190317...</td>\n",
       "      <td>4</td>\n",
       "    </tr>\n",
       "    <tr>\n",
       "      <th>3</th>\n",
       "      <td>[0.18711919, -0.72856367, 0.84138143, 0.158642...</td>\n",
       "      <td>1</td>\n",
       "    </tr>\n",
       "    <tr>\n",
       "      <th>4</th>\n",
       "      <td>[-0.057957325, -0.15033518, 0.8957132, 0.19904...</td>\n",
       "      <td>14</td>\n",
       "    </tr>\n",
       "  </tbody>\n",
       "</table>\n",
       "</div>"
      ],
      "text/plain": [
       "                                           documents  tags\n",
       "0  [0.25974402, -0.44462767, 0.27609605, 0.174069...     7\n",
       "1  [0.52929014, -0.7739814, 0.36488482, 0.4552726...     4\n",
       "2  [0.13178977, -0.5605735, 0.9404825, 0.05190317...     4\n",
       "3  [0.18711919, -0.72856367, 0.84138143, 0.158642...     1\n",
       "4  [-0.057957325, -0.15033518, 0.8957132, 0.19904...    14"
      ]
     },
     "metadata": {
      "tags": []
     },
     "execution_count": 83
    }
   ]
  },
  {
   "cell_type": "code",
   "metadata": {
    "id": "noFAcRpbBY9Q",
    "colab_type": "code",
    "colab": {}
   },
   "source": [
    "tsne = TSNE(n_components=2)"
   ],
   "execution_count": 0,
   "outputs": []
  },
  {
   "cell_type": "markdown",
   "metadata": {
    "id": "AfMzrIrTBfFT",
    "colab_type": "text"
   },
   "source": [
    "We keep the default value :\n",
    "\n",
    "* perplexity : 30  nearest neighbors use in the manifolds during the learning \n",
    "* early_exagerations : 12 : how tight the natural clusters will be in the embedding.\n"
   ]
  },
  {
   "cell_type": "code",
   "metadata": {
    "id": "7ECaqCSACGrm",
    "colab_type": "code",
    "colab": {}
   },
   "source": [
    "tags = df.iloc[:, 1].values\n",
    "X = doc2vec[tags]\n",
    "reduced_embedding = tsne.fit_transform(X)"
   ],
   "execution_count": 0,
   "outputs": []
  },
  {
   "cell_type": "code",
   "metadata": {
    "id": "mJALJgflGbf1",
    "colab_type": "code",
    "colab": {}
   },
   "source": [
    "x_values = [vector[0] for vector in reduced_embedding]\n",
    "y_values = [vector[1] for vector in reduced_embedding]\n",
    "target_names = [newsgroups_train.target_names[tag] for tag in tags]"
   ],
   "execution_count": 0,
   "outputs": []
  },
  {
   "cell_type": "markdown",
   "metadata": {
    "id": "b-PFEwLpFAa_",
    "colab_type": "text"
   },
   "source": [
    "Create tsne dataframe "
   ]
  },
  {
   "cell_type": "code",
   "metadata": {
    "id": "JBk5SSy5ELed",
    "colab_type": "code",
    "colab": {
     "base_uri": "https://localhost:8080/",
     "height": 204
    },
    "outputId": "9198abad-7208-40df-bf34-3b7447742fbd"
   },
   "source": [
    "tnse_doc_df = pd.DataFrame({'x':x_values, 'y':y_values, 'tags':target_names})\n",
    "tnse_doc_df.head()"
   ],
   "execution_count": 128,
   "outputs": [
    {
     "output_type": "execute_result",
     "data": {
      "text/html": [
       "<div>\n",
       "<style scoped>\n",
       "    .dataframe tbody tr th:only-of-type {\n",
       "        vertical-align: middle;\n",
       "    }\n",
       "\n",
       "    .dataframe tbody tr th {\n",
       "        vertical-align: top;\n",
       "    }\n",
       "\n",
       "    .dataframe thead th {\n",
       "        text-align: right;\n",
       "    }\n",
       "</style>\n",
       "<table border=\"1\" class=\"dataframe\">\n",
       "  <thead>\n",
       "    <tr style=\"text-align: right;\">\n",
       "      <th></th>\n",
       "      <th>x</th>\n",
       "      <th>y</th>\n",
       "      <th>tags</th>\n",
       "    </tr>\n",
       "  </thead>\n",
       "  <tbody>\n",
       "    <tr>\n",
       "      <th>0</th>\n",
       "      <td>-20.581985</td>\n",
       "      <td>-42.214794</td>\n",
       "      <td>rec.autos</td>\n",
       "    </tr>\n",
       "    <tr>\n",
       "      <th>1</th>\n",
       "      <td>30.827831</td>\n",
       "      <td>19.834286</td>\n",
       "      <td>comp.sys.mac.hardware</td>\n",
       "    </tr>\n",
       "    <tr>\n",
       "      <th>2</th>\n",
       "      <td>30.827831</td>\n",
       "      <td>19.834286</td>\n",
       "      <td>comp.sys.mac.hardware</td>\n",
       "    </tr>\n",
       "    <tr>\n",
       "      <th>3</th>\n",
       "      <td>46.369488</td>\n",
       "      <td>1.795493</td>\n",
       "      <td>comp.graphics</td>\n",
       "    </tr>\n",
       "    <tr>\n",
       "      <th>4</th>\n",
       "      <td>40.503090</td>\n",
       "      <td>-22.184292</td>\n",
       "      <td>sci.space</td>\n",
       "    </tr>\n",
       "  </tbody>\n",
       "</table>\n",
       "</div>"
      ],
      "text/plain": [
       "           x          y                   tags\n",
       "0 -20.581985 -42.214794              rec.autos\n",
       "1  30.827831  19.834286  comp.sys.mac.hardware\n",
       "2  30.827831  19.834286  comp.sys.mac.hardware\n",
       "3  46.369488   1.795493          comp.graphics\n",
       "4  40.503090 -22.184292              sci.space"
      ]
     },
     "metadata": {
      "tags": []
     },
     "execution_count": 128
    }
   ]
  },
  {
   "cell_type": "code",
   "metadata": {
    "id": "1Ax0AWXWEM9q",
    "colab_type": "code",
    "colab": {
     "base_uri": "https://localhost:8080/",
     "height": 626
    },
    "outputId": "c6340974-da4f-445a-8ae5-ac28be939666"
   },
   "source": [
    "import matplotlib.pyplot as plt \n",
    "\n",
    "plt.rcParams['figure.figsize']=20,10\n",
    "g = sns.scatterplot(x='x', y='y', data=tnse_doc_df, hue='tags')"
   ],
   "execution_count": 139,
   "outputs": [
    {
     "output_type": "display_data",
     "data": {
      "image/png": "[encoded data removed]",
      "text/plain": [
       "<Figure size 1440x720 with 1 Axes>"
      ]
     },
     "metadata": {
      "tags": []
     }
    }
   ]
  },
  {
   "cell_type": "markdown",
   "metadata": {
    "id": "s7zgDnPkWmpd",
    "colab_type": "text"
   },
   "source": [
    "We get 20 clusters of points that are well split.\n",
    "With this technic we can visualize our document vector and see the number of cluster build. In case we do not have a labeled dataset, but just a batch of documents. It would be possible for us to train our Doc2Vec by giving each TaggedDocument a unique tag value and thanks to this visualization technique we could determine the cluster number."
   ]
  },
  {
   "cell_type": "markdown",
   "metadata": {
    "id": "HLUYwAYf5vEA",
    "colab_type": "text"
   },
   "source": [
    "# Doc2Vec similarity\n",
    "\n",
    "We are going to use Doc2Vec similarity method to find similar document. \n",
    "\n",
    "* We can use a a word embedding to find similar Document Vector to a word.\n",
    "\n",
    "exp : word = Sport \n",
    "    - If we ask all the Document similar to \"Sport\" normaly we should get all the Document vector close to \"Sport\"."
   ]
  },
  {
   "cell_type": "code",
   "metadata": {
    "id": "MzXd8qUFyeR5",
    "colab_type": "code",
    "colab": {
     "base_uri": "https://localhost:8080/",
     "height": 241
    },
    "outputId": "678f096d-1852-4b3c-febb-42d226dab45c"
   },
   "source": [
    "doc2vec.wv.most_similar(positive='car')"
   ],
   "execution_count": 143,
   "outputs": [
    {
     "output_type": "stream",
     "text": [
      "/usr/local/lib/python3.6/dist-packages/gensim/matutils.py:737: FutureWarning: Conversion of the second argument of issubdtype from `int` to `np.signedinteger` is deprecated. In future, it will be treated as `np.int64 == np.dtype(int).type`.\n",
      "  if np.issubdtype(vec.dtype, np.int):\n"
     ],
     "name": "stderr"
    },
    {
     "output_type": "execute_result",
     "data": {
      "text/plain": [
       "[('wagon', 0.7157982587814331),\n",
       " ('ford', 0.7147356271743774),\n",
       " ('toyota', 0.6907284259796143),\n",
       " ('beretta', 0.6781566739082336),\n",
       " ('taurus', 0.6748679876327515),\n",
       " ('camry', 0.673830509185791),\n",
       " ('porsche', 0.6680368185043335),\n",
       " ('integra', 0.6591590642929077),\n",
       " ('vw', 0.6442310810089111),\n",
       " ('mazda', 0.6393378376960754)]"
      ]
     },
     "metadata": {
      "tags": []
     },
     "execution_count": 143
    }
   ]
  },
  {
   "cell_type": "code",
   "metadata": {
    "id": "hPBwk3AyR_zA",
    "colab_type": "code",
    "colab": {
     "base_uri": "https://localhost:8080/",
     "height": 241
    },
    "outputId": "325d93cd-eae5-4faf-c637-93edb0a9d78d"
   },
   "source": [
    "doc2vec.wv.most_similar(positive='jesus')"
   ],
   "execution_count": 144,
   "outputs": [
    {
     "output_type": "stream",
     "text": [
      "/usr/local/lib/python3.6/dist-packages/gensim/matutils.py:737: FutureWarning: Conversion of the second argument of issubdtype from `int` to `np.signedinteger` is deprecated. In future, it will be treated as `np.int64 == np.dtype(int).type`.\n",
      "  if np.issubdtype(vec.dtype, np.int):\n"
     ],
     "name": "stderr"
    },
    {
     "output_type": "execute_result",
     "data": {
      "text/plain": [
       "[('christ', 0.8615659475326538),\n",
       " ('resurrection', 0.7932122349739075),\n",
       " ('salvation', 0.7861751317977905),\n",
       " ('matthew', 0.7722322940826416),\n",
       " ('sin', 0.7616145610809326),\n",
       " ('apostle', 0.7610020041465759),\n",
       " ('scripture', 0.7429547905921936),\n",
       " ('worship', 0.7393432855606079),\n",
       " ('heaven', 0.7345523834228516),\n",
       " ('messiah', 0.7323994636535645)]"
      ]
     },
     "metadata": {
      "tags": []
     },
     "execution_count": 144
    }
   ]
  },
  {
   "cell_type": "code",
   "metadata": {
    "id": "oTNU11ZfSF8H",
    "colab_type": "code",
    "colab": {
     "base_uri": "https://localhost:8080/",
     "height": 241
    },
    "outputId": "23e00bc9-d0cb-4acd-9497-84957fb2c86e"
   },
   "source": [
    "doc2vec.wv.most_similar(positive='bush')"
   ],
   "execution_count": 152,
   "outputs": [
    {
     "output_type": "stream",
     "text": [
      "/usr/local/lib/python3.6/dist-packages/gensim/matutils.py:737: FutureWarning: Conversion of the second argument of issubdtype from `int` to `np.signedinteger` is deprecated. In future, it will be treated as `np.int64 == np.dtype(int).type`.\n",
      "  if np.issubdtype(vec.dtype, np.int):\n"
     ],
     "name": "stderr"
    },
    {
     "output_type": "execute_result",
     "data": {
      "text/plain": [
       "[('reagan', 0.7646929621696472),\n",
       " ('george', 0.724507212638855),\n",
       " ('democrats', 0.6913440227508545),\n",
       " ('jake', 0.6887809634208679),\n",
       " ('clinton', 0.6602706909179688),\n",
       " ('administration', 0.6527022123336792),\n",
       " ('occupied', 0.6460675597190857),\n",
       " ('livni', 0.6413756012916565),\n",
       " ('spending', 0.6074532270431519),\n",
       " ('jake@bony1.bony.com', 0.6065396070480347)]"
      ]
     },
     "metadata": {
      "tags": []
     },
     "execution_count": 152
    }
   ]
  },
  {
   "cell_type": "code",
   "metadata": {
    "id": "I06IFyrCS1dI",
    "colab_type": "code",
    "colab": {
     "base_uri": "https://localhost:8080/",
     "height": 241
    },
    "outputId": "e24ffd6f-1175-494a-d831-0e226c997007"
   },
   "source": [
    "doc2vec.wv.most_similar(positive=['car', 'speed'],  negative=['drive'])"
   ],
   "execution_count": 160,
   "outputs": [
    {
     "output_type": "stream",
     "text": [
      "/usr/local/lib/python3.6/dist-packages/gensim/matutils.py:737: FutureWarning: Conversion of the second argument of issubdtype from `int` to `np.signedinteger` is deprecated. In future, it will be treated as `np.int64 == np.dtype(int).type`.\n",
      "  if np.issubdtype(vec.dtype, np.int):\n"
     ],
     "name": "stderr"
    },
    {
     "output_type": "execute_result",
     "data": {
      "text/plain": [
       "[('beretta', 0.6104716658592224),\n",
       " ('sl2', 0.5942412614822388),\n",
       " ('performance', 0.5753982663154602),\n",
       " ('mileage', 0.5739502310752869),\n",
       " ('engine', 0.5518301725387573),\n",
       " ('sho', 0.5497897863388062),\n",
       " ('wagon', 0.5406308770179749),\n",
       " ('sedan', 0.5367171764373779),\n",
       " ('mustang', 0.5329943299293518),\n",
       " ('rear', 0.5328058004379272)]"
      ]
     },
     "metadata": {
      "tags": []
     },
     "execution_count": 160
    }
   ]
  },
  {
   "cell_type": "code",
   "metadata": {
    "id": "AhS4QSnFZIYf",
    "colab_type": "code",
    "colab": {
     "base_uri": "https://localhost:8080/",
     "height": 241
    },
    "outputId": "977d6988-5ce4-4596-afa7-77da32d5e027"
   },
   "source": [
    "doc2vec.wv.most_similar(positive=['christ', 'jesus'],  negative=['paradise'])"
   ],
   "execution_count": 166,
   "outputs": [
    {
     "output_type": "stream",
     "text": [
      "/usr/local/lib/python3.6/dist-packages/gensim/matutils.py:737: FutureWarning: Conversion of the second argument of issubdtype from `int` to `np.signedinteger` is deprecated. In future, it will be treated as `np.int64 == np.dtype(int).type`.\n",
      "  if np.issubdtype(vec.dtype, np.int):\n"
     ],
     "name": "stderr"
    },
    {
     "output_type": "execute_result",
     "data": {
      "text/plain": [
       "[('resurrection', 0.7251662015914917),\n",
       " ('sin', 0.6779489517211914),\n",
       " ('hebrews', 0.6715266704559326),\n",
       " ('apostle', 0.6623563766479492),\n",
       " ('father', 0.6547350883483887),\n",
       " ('lord', 0.6468832492828369),\n",
       " ('holy', 0.6457434892654419),\n",
       " ('salvation', 0.6364216208457947),\n",
       " ('jehovah', 0.6347487568855286),\n",
       " ('worship', 0.6333263516426086)]"
      ]
     },
     "metadata": {
      "tags": []
     },
     "execution_count": 166
    }
   ]
  },
  {
   "cell_type": "markdown",
   "metadata": {
    "id": "Hlr_xYQOWi8S",
    "colab_type": "text"
   },
   "source": [
    ""
   ]
  }
 ]
}