{
 "cells": [
  {
   "cell_type": "markdown",
   "source": [
    "[Ressource]\n",
    " https://github.com/RaRe-Technologies/gensim/blob/3c3506d51a2caf6b890de3b1b32a8b85f7566ca5/docs/notebooks/doc2vec-IMDB.ipynb\n",
    "[PV-DM]\n",
    " https://cs.stanford.edu/~quocle/paragraph_vector.pdf\n",
    "\n",
    "Doc2Vec DOcumentation:\n",
    "https://radimrehurek.com/gensim/models/doc2vec.html"
   ],
   "metadata": {
    "collapsed": false,
    "pycharm": {
     "name": "#%% md\n"
    }
   }
  },
  {
   "cell_type": "code",
   "execution_count": 2,
   "metadata": {
    "collapsed": true,
    "pycharm": {
     "is_executing": false
    }
   },
   "outputs": [
    {
     "name": "stderr",
     "text": [
      "/Users/remy.d.w/.virtualenvs/PROROK/untitled/lib/python3.7/site-packages/tqdm/std.py:648: FutureWarning: The Panel class is removed from pandas. Accessing it from the top-level namespace will also be removed in the next version\n  from pandas import Panel\n"
     ],
     "output_type": "stream"
    }
   ],
   "source": [
    "\n",
    "import pandas as pd\n",
    "import numpy as np\n",
    "from tqdm import tqdm\n",
    "tqdm.pandas(desc=\"progress-bar\") \n",
    "from gensim.models import Doc2Vec\n",
    "from sklearn import utils\n",
    "from sklearn.model_selection import train_test_split\n",
    "import gensim\n",
    "from sklearn.linear_model import LogisticRegression\n",
    "from gensim.models.doc2vec import TaggedDocument\n",
    "import re\n",
    "import seaborn as sns\n",
    "import matplotlib.pyplot as plt "
   ]
  },
  {
   "cell_type": "markdown",
   "source": [
    "# Import the dataset \n",
    "\n",
    "We will build a function that can load the dataset and return a dataframe "
   ],
   "metadata": {
    "collapsed": false
   }
  },
  {
   "cell_type": "code",
   "execution_count": 3,
   "outputs": [
    {
     "data": {
      "text/plain": "  Date received                                            Product  \\\n0    08/09/2015                                   Credit reporting   \n1    01/29/2019  Credit reporting, credit repair services, or o...   \n2    10/13/2019                                    Debt collection   \n3    08/19/2015                                           Mortgage   \n4    03/04/2016                                        Credit card   \n\n                              Sub-product  \\\n0                                     NaN   \n1                        Credit reporting   \n2                           I do not know   \n3  Conventional adjustable mortgage (ARM)   \n4                                     NaN   \n\n                                               Issue  \\\n0             Incorrect information on credit report   \n1  Problem with a credit reporting company's inve...   \n2                  Attempts to collect debt not owed   \n3           Loan servicing, payments, escrow account   \n4                                   Billing disputes   \n\n                                           Sub-issue  \\\n0                            Information is not mine   \n1  Was not notified of investigation status or re...   \n2                  Debt was result of identity theft   \n3                                                NaN   \n4                                                NaN   \n\n                        Consumer complaint narrative  \\\n0                                                NaN   \n1                                                NaN   \n2                                                NaN   \n3                                                NaN   \n4  I am dissatisfied with the current outcome of ...   \n\n                            Company public response  \\\n0  Company chooses not to provide a public response   \n1                                               NaN   \n2                                               NaN   \n3  Company chooses not to provide a public response   \n4                                               NaN   \n\n                                Company State ZIP code           Tags  \\\n0   Experian Information Solutions Inc.    NJ    08872            NaN   \n1                         EQUIFAX, INC.    NY    10801            NaN   \n2  SANTANDER CONSUMER USA HOLDINGS INC.    GA    300XX  Servicemember   \n3                 WELLS FARGO & COMPANY    CA    94526            NaN   \n4                         DISCOVER BANK    NV    891XX            NaN   \n\n  Consumer consent provided? Submitted via Date sent to company  \\\n0       Consent not provided           Web           08/09/2015   \n1       Consent not provided           Web           01/30/2019   \n2                        NaN           Web           10/13/2019   \n3       Consent not provided           Web           08/19/2015   \n4           Consent provided           Web           03/04/2016   \n\n      Company response to consumer Timely response? Consumer disputed?  \\\n0  Closed with non-monetary relief              Yes                 No   \n1  Closed with non-monetary relief              Yes                NaN   \n2          Closed with explanation              Yes                NaN   \n3          Closed with explanation              Yes                 No   \n4          Closed with explanation              Yes                Yes   \n\n   Complaint ID  \n0     1509954.0  \n1     3136759.0  \n2     3404213.0  \n3     1527601.0  \n4     1816726.0  ",
      "text/html": "<div>\n<style scoped>\n    .dataframe tbody tr th:only-of-type {\n        vertical-align: middle;\n    }\n\n    .dataframe tbody tr th {\n        vertical-align: top;\n    }\n\n    .dataframe thead th {\n        text-align: right;\n    }\n</style>\n<table border=\"1\" class=\"dataframe\">\n  <thead>\n    <tr style=\"text-align: right;\">\n      <th></th>\n      <th>Date received</th>\n      <th>Product</th>\n      <th>Sub-product</th>\n      <th>Issue</th>\n      <th>Sub-issue</th>\n      <th>Consumer complaint narrative</th>\n      <th>Company public response</th>\n      <th>Company</th>\n      <th>State</th>\n      <th>ZIP code</th>\n      <th>Tags</th>\n      <th>Consumer consent provided?</th>\n      <th>Submitted via</th>\n      <th>Date sent to company</th>\n      <th>Company response to consumer</th>\n      <th>Timely response?</th>\n      <th>Consumer disputed?</th>\n      <th>Complaint ID</th>\n    </tr>\n  </thead>\n  <tbody>\n    <tr>\n      <td>0</td>\n      <td>08/09/2015</td>\n      <td>Credit reporting</td>\n      <td>NaN</td>\n      <td>Incorrect information on credit report</td>\n      <td>Information is not mine</td>\n      <td>NaN</td>\n      <td>Company chooses not to provide a public response</td>\n      <td>Experian Information Solutions Inc.</td>\n      <td>NJ</td>\n      <td>08872</td>\n      <td>NaN</td>\n      <td>Consent not provided</td>\n      <td>Web</td>\n      <td>08/09/2015</td>\n      <td>Closed with non-monetary relief</td>\n      <td>Yes</td>\n      <td>No</td>\n      <td>1509954.0</td>\n    </tr>\n    <tr>\n      <td>1</td>\n      <td>01/29/2019</td>\n      <td>Credit reporting, credit repair services, or o...</td>\n      <td>Credit reporting</td>\n      <td>Problem with a credit reporting company's inve...</td>\n      <td>Was not notified of investigation status or re...</td>\n      <td>NaN</td>\n      <td>NaN</td>\n      <td>EQUIFAX, INC.</td>\n      <td>NY</td>\n      <td>10801</td>\n      <td>NaN</td>\n      <td>Consent not provided</td>\n      <td>Web</td>\n      <td>01/30/2019</td>\n      <td>Closed with non-monetary relief</td>\n      <td>Yes</td>\n      <td>NaN</td>\n      <td>3136759.0</td>\n    </tr>\n    <tr>\n      <td>2</td>\n      <td>10/13/2019</td>\n      <td>Debt collection</td>\n      <td>I do not know</td>\n      <td>Attempts to collect debt not owed</td>\n      <td>Debt was result of identity theft</td>\n      <td>NaN</td>\n      <td>NaN</td>\n      <td>SANTANDER CONSUMER USA HOLDINGS INC.</td>\n      <td>GA</td>\n      <td>300XX</td>\n      <td>Servicemember</td>\n      <td>NaN</td>\n      <td>Web</td>\n      <td>10/13/2019</td>\n      <td>Closed with explanation</td>\n      <td>Yes</td>\n      <td>NaN</td>\n      <td>3404213.0</td>\n    </tr>\n    <tr>\n      <td>3</td>\n      <td>08/19/2015</td>\n      <td>Mortgage</td>\n      <td>Conventional adjustable mortgage (ARM)</td>\n      <td>Loan servicing, payments, escrow account</td>\n      <td>NaN</td>\n      <td>NaN</td>\n      <td>Company chooses not to provide a public response</td>\n      <td>WELLS FARGO &amp; COMPANY</td>\n      <td>CA</td>\n      <td>94526</td>\n      <td>NaN</td>\n      <td>Consent not provided</td>\n      <td>Web</td>\n      <td>08/19/2015</td>\n      <td>Closed with explanation</td>\n      <td>Yes</td>\n      <td>No</td>\n      <td>1527601.0</td>\n    </tr>\n    <tr>\n      <td>4</td>\n      <td>03/04/2016</td>\n      <td>Credit card</td>\n      <td>NaN</td>\n      <td>Billing disputes</td>\n      <td>NaN</td>\n      <td>I am dissatisfied with the current outcome of ...</td>\n      <td>NaN</td>\n      <td>DISCOVER BANK</td>\n      <td>NV</td>\n      <td>891XX</td>\n      <td>NaN</td>\n      <td>Consent provided</td>\n      <td>Web</td>\n      <td>03/04/2016</td>\n      <td>Closed with explanation</td>\n      <td>Yes</td>\n      <td>Yes</td>\n      <td>1816726.0</td>\n    </tr>\n  </tbody>\n</table>\n</div>"
     },
     "metadata": {},
     "output_type": "execute_result",
     "execution_count": 3
    }
   ],
   "source": [
    "\n",
    "def loadData(path, delimiter=','):\n",
    "    df = pd.read_csv(path, delimiter=delimiter)\n",
    "    return df \n",
    "\n",
    "dataset_path = './data/Consumer_Complaints.csv'\n",
    "\n",
    "df = loadData(path=dataset_path)\n",
    "\n",
    "df.head()"
   ],
   "metadata": {
    "collapsed": false,
    "pycharm": {
     "name": "#%%\n",
     "is_executing": false
    }
   }
  },
  {
   "cell_type": "code",
   "execution_count": 4,
   "outputs": [
    {
     "data": {
      "text/plain": "       Complaint ID\ncount  1.537290e+05\nmean   1.965315e+06\nstd    9.727821e+05\nmin    4.800000e+01\n25%    1.160423e+06\n50%    2.165474e+06\n75%    2.820116e+06\nmax    3.427958e+06",
      "text/html": "<div>\n<style scoped>\n    .dataframe tbody tr th:only-of-type {\n        vertical-align: middle;\n    }\n\n    .dataframe tbody tr th {\n        vertical-align: top;\n    }\n\n    .dataframe thead th {\n        text-align: right;\n    }\n</style>\n<table border=\"1\" class=\"dataframe\">\n  <thead>\n    <tr style=\"text-align: right;\">\n      <th></th>\n      <th>Complaint ID</th>\n    </tr>\n  </thead>\n  <tbody>\n    <tr>\n      <td>count</td>\n      <td>1.537290e+05</td>\n    </tr>\n    <tr>\n      <td>mean</td>\n      <td>1.965315e+06</td>\n    </tr>\n    <tr>\n      <td>std</td>\n      <td>9.727821e+05</td>\n    </tr>\n    <tr>\n      <td>min</td>\n      <td>4.800000e+01</td>\n    </tr>\n    <tr>\n      <td>25%</td>\n      <td>1.160423e+06</td>\n    </tr>\n    <tr>\n      <td>50%</td>\n      <td>2.165474e+06</td>\n    </tr>\n    <tr>\n      <td>75%</td>\n      <td>2.820116e+06</td>\n    </tr>\n    <tr>\n      <td>max</td>\n      <td>3.427958e+06</td>\n    </tr>\n  </tbody>\n</table>\n</div>"
     },
     "metadata": {},
     "output_type": "execute_result",
     "execution_count": 4
    }
   ],
   "source": [
    "df.describe()"
   ],
   "metadata": {
    "collapsed": false,
    "pycharm": {
     "name": "#%%\n",
     "is_executing": false
    }
   }
  },
  {
   "cell_type": "code",
   "execution_count": 5,
   "outputs": [
    {
     "name": "stdout",
     "text": [
      "<class 'pandas.core.frame.DataFrame'>\nRangeIndex: 153733 entries, 0 to 153732\nData columns (total 18 columns):\nDate received                   153733 non-null object\nProduct                         153730 non-null object\nSub-product                     125167 non-null object\nIssue                           153730 non-null object\nSub-issue                       92521 non-null object\nConsumer complaint narrative    48704 non-null object\nCompany public response         55871 non-null object\nCompany                         153729 non-null object\nState                           151367 non-null object\nZIP code                        140081 non-null object\nTags                            20956 non-null object\nConsumer consent provided?      86392 non-null object\nSubmitted via                   153729 non-null object\nDate sent to company            153729 non-null object\nCompany response to consumer    153729 non-null object\nTimely response?                153729 non-null object\nConsumer disputed?              90170 non-null object\nComplaint ID                    153729 non-null float64\ndtypes: float64(1), object(17)\nmemory usage: 21.1+ MB\n"
     ],
     "output_type": "stream"
    }
   ],
   "source": [
    "df.info()"
   ],
   "metadata": {
    "collapsed": false,
    "pycharm": {
     "name": "#%%\n",
     "is_executing": false
    }
   }
  },
  {
   "cell_type": "markdown",
   "source": [
    "\n",
    "We are only interested by the narrative. This are message that consumer let. We will classify those narrative by product type.\n",
    "But first we need to remove all the empty narrative."
   ],
   "metadata": {
    "collapsed": false
   }
  },
  {
   "cell_type": "code",
   "execution_count": 6,
   "outputs": [],
   "source": [
    "df.rename(columns = {'Consumer complaint narrative':'narrative'}, inplace = True)\n",
    "\n",
    "df = df[pd.notnull(df['narrative'])]"
   ],
   "metadata": {
    "collapsed": false,
    "pycharm": {
     "name": "#%%\n",
     "is_executing": false
    }
   }
  },
  {
   "cell_type": "code",
   "execution_count": 7,
   "outputs": [
    {
     "data": {
      "text/plain": "                                                narrative  \\\n4       I am dissatisfied with the current outcome of ...   \n8       On XX/XX/18 an item showed up on my credit rep...   \n9       Saw on my credit report that there is a collec...   \n10      Capital one auto finacing XX/XX/2018 unknown i...   \n12      I own a small trucking company. One of my truc...   \n...                                                   ...   \n153714  I am a victim of identity theft. Several years...   \n153716  XXXX XXXX is reporting inaccurate information ...   \n153717  We submitted all our info and got preapproved....   \n153720  I received a credit alert from XXXX stating th...   \n153729  We have had several banks over the years go un...   \n\n                                  Company public response  \\\n4                                                     NaN   \n8       Company has responded to the consumer and the ...   \n9       Company believes complaint caused principally ...   \n10                                                    NaN   \n12                                                    NaN   \n...                                                   ...   \n153714  Company believes it acted appropriately as aut...   \n153716  Company believes it acted appropriately as aut...   \n153717                                                NaN   \n153720                                                NaN   \n153729                                                NaN   \n\n                                       Company State ZIP code            Tags  \\\n4                                DISCOVER BANK    NV    891XX             NaN   \n8       TRANSUNION INTERMEDIATE HOLDINGS, INC.    VA    245XX             NaN   \n9                         Cascade Capital, LLC    FL    334XX  Older American   \n10           CAPITAL ONE FINANCIAL CORPORATION    MD    212XX             NaN   \n12                  TD BANK US HOLDING COMPANY    NJ      NaN             NaN   \n...                                        ...   ...      ...             ...   \n153714  UNITED SERVICES AUTOMOBILE ASSOCIATION    TX    78746             NaN   \n153716        Equitable Acceptance Corporation    UT    840XX             NaN   \n153717                 SIERRA PACIFIC MORTGAGE    IN      NaN             NaN   \n153720                Midwest Recovery Systems    FL    349XX             NaN   \n153729                                     NaN   NaN      NaN             NaN   \n\n       Consumer consent provided? Submitted via Date sent to company  \\\n4                Consent provided           Web           03/04/2016   \n8                Consent provided           Web           03/03/2018   \n9                Consent provided           Web           01/18/2019   \n10               Consent provided           Web           12/23/2018   \n12               Consent provided           Web           04/16/2018   \n...                           ...           ...                  ...   \n153714           Consent provided           Web           08/16/2016   \n153716           Consent provided           Web           12/20/2018   \n153717           Consent provided           Web           08/31/2016   \n153720           Consent provided           Web           04/18/2018   \n153729                        NaN           NaN                  NaN   \n\n       Company response to consumer Timely response? Consumer disputed?  \\\n4           Closed with explanation              Yes                Yes   \n8           Closed with explanation              Yes                NaN   \n9           Closed with explanation              Yes                NaN   \n10          Closed with explanation              Yes                NaN   \n12      Closed with monetary relief              Yes                NaN   \n...                             ...              ...                ...   \n153714      Closed with explanation              Yes                 No   \n153716      Closed with explanation              Yes                NaN   \n153717      Closed with explanation              Yes                 No   \n153720      Closed with explanation              Yes                NaN   \n153729                          NaN              NaN                NaN   \n\n        Complaint ID  \n4          1816726.0  \n8          2831821.0  \n9          3114357.0  \n10         3108212.0  \n12         2874325.0  \n...              ...  \n153714     2063908.0  \n153716     3090158.0  \n153717     2090317.0  \n153720     2878722.0  \n153729           NaN  \n\n[48704 rows x 13 columns]",
      "text/html": "<div>\n<style scoped>\n    .dataframe tbody tr th:only-of-type {\n        vertical-align: middle;\n    }\n\n    .dataframe tbody tr th {\n        vertical-align: top;\n    }\n\n    .dataframe thead th {\n        text-align: right;\n    }\n</style>\n<table border=\"1\" class=\"dataframe\">\n  <thead>\n    <tr style=\"text-align: right;\">\n      <th></th>\n      <th>narrative</th>\n      <th>Company public response</th>\n      <th>Company</th>\n      <th>State</th>\n      <th>ZIP code</th>\n      <th>Tags</th>\n      <th>Consumer consent provided?</th>\n      <th>Submitted via</th>\n      <th>Date sent to company</th>\n      <th>Company response to consumer</th>\n      <th>Timely response?</th>\n      <th>Consumer disputed?</th>\n      <th>Complaint ID</th>\n    </tr>\n  </thead>\n  <tbody>\n    <tr>\n      <td>4</td>\n      <td>I am dissatisfied with the current outcome of ...</td>\n      <td>NaN</td>\n      <td>DISCOVER BANK</td>\n      <td>NV</td>\n      <td>891XX</td>\n      <td>NaN</td>\n      <td>Consent provided</td>\n      <td>Web</td>\n      <td>03/04/2016</td>\n      <td>Closed with explanation</td>\n      <td>Yes</td>\n      <td>Yes</td>\n      <td>1816726.0</td>\n    </tr>\n    <tr>\n      <td>8</td>\n      <td>On XX/XX/18 an item showed up on my credit rep...</td>\n      <td>Company has responded to the consumer and the ...</td>\n      <td>TRANSUNION INTERMEDIATE HOLDINGS, INC.</td>\n      <td>VA</td>\n      <td>245XX</td>\n      <td>NaN</td>\n      <td>Consent provided</td>\n      <td>Web</td>\n      <td>03/03/2018</td>\n      <td>Closed with explanation</td>\n      <td>Yes</td>\n      <td>NaN</td>\n      <td>2831821.0</td>\n    </tr>\n    <tr>\n      <td>9</td>\n      <td>Saw on my credit report that there is a collec...</td>\n      <td>Company believes complaint caused principally ...</td>\n      <td>Cascade Capital, LLC</td>\n      <td>FL</td>\n      <td>334XX</td>\n      <td>Older American</td>\n      <td>Consent provided</td>\n      <td>Web</td>\n      <td>01/18/2019</td>\n      <td>Closed with explanation</td>\n      <td>Yes</td>\n      <td>NaN</td>\n      <td>3114357.0</td>\n    </tr>\n    <tr>\n      <td>10</td>\n      <td>Capital one auto finacing XX/XX/2018 unknown i...</td>\n      <td>NaN</td>\n      <td>CAPITAL ONE FINANCIAL CORPORATION</td>\n      <td>MD</td>\n      <td>212XX</td>\n      <td>NaN</td>\n      <td>Consent provided</td>\n      <td>Web</td>\n      <td>12/23/2018</td>\n      <td>Closed with explanation</td>\n      <td>Yes</td>\n      <td>NaN</td>\n      <td>3108212.0</td>\n    </tr>\n    <tr>\n      <td>12</td>\n      <td>I own a small trucking company. One of my truc...</td>\n      <td>NaN</td>\n      <td>TD BANK US HOLDING COMPANY</td>\n      <td>NJ</td>\n      <td>NaN</td>\n      <td>NaN</td>\n      <td>Consent provided</td>\n      <td>Web</td>\n      <td>04/16/2018</td>\n      <td>Closed with monetary relief</td>\n      <td>Yes</td>\n      <td>NaN</td>\n      <td>2874325.0</td>\n    </tr>\n    <tr>\n      <td>...</td>\n      <td>...</td>\n      <td>...</td>\n      <td>...</td>\n      <td>...</td>\n      <td>...</td>\n      <td>...</td>\n      <td>...</td>\n      <td>...</td>\n      <td>...</td>\n      <td>...</td>\n      <td>...</td>\n      <td>...</td>\n      <td>...</td>\n    </tr>\n    <tr>\n      <td>153714</td>\n      <td>I am a victim of identity theft. Several years...</td>\n      <td>Company believes it acted appropriately as aut...</td>\n      <td>UNITED SERVICES AUTOMOBILE ASSOCIATION</td>\n      <td>TX</td>\n      <td>78746</td>\n      <td>NaN</td>\n      <td>Consent provided</td>\n      <td>Web</td>\n      <td>08/16/2016</td>\n      <td>Closed with explanation</td>\n      <td>Yes</td>\n      <td>No</td>\n      <td>2063908.0</td>\n    </tr>\n    <tr>\n      <td>153716</td>\n      <td>XXXX XXXX is reporting inaccurate information ...</td>\n      <td>Company believes it acted appropriately as aut...</td>\n      <td>Equitable Acceptance Corporation</td>\n      <td>UT</td>\n      <td>840XX</td>\n      <td>NaN</td>\n      <td>Consent provided</td>\n      <td>Web</td>\n      <td>12/20/2018</td>\n      <td>Closed with explanation</td>\n      <td>Yes</td>\n      <td>NaN</td>\n      <td>3090158.0</td>\n    </tr>\n    <tr>\n      <td>153717</td>\n      <td>We submitted all our info and got preapproved....</td>\n      <td>NaN</td>\n      <td>SIERRA PACIFIC MORTGAGE</td>\n      <td>IN</td>\n      <td>NaN</td>\n      <td>NaN</td>\n      <td>Consent provided</td>\n      <td>Web</td>\n      <td>08/31/2016</td>\n      <td>Closed with explanation</td>\n      <td>Yes</td>\n      <td>No</td>\n      <td>2090317.0</td>\n    </tr>\n    <tr>\n      <td>153720</td>\n      <td>I received a credit alert from XXXX stating th...</td>\n      <td>NaN</td>\n      <td>Midwest Recovery Systems</td>\n      <td>FL</td>\n      <td>349XX</td>\n      <td>NaN</td>\n      <td>Consent provided</td>\n      <td>Web</td>\n      <td>04/18/2018</td>\n      <td>Closed with explanation</td>\n      <td>Yes</td>\n      <td>NaN</td>\n      <td>2878722.0</td>\n    </tr>\n    <tr>\n      <td>153729</td>\n      <td>We have had several banks over the years go un...</td>\n      <td>NaN</td>\n      <td>NaN</td>\n      <td>NaN</td>\n      <td>NaN</td>\n      <td>NaN</td>\n      <td>NaN</td>\n      <td>NaN</td>\n      <td>NaN</td>\n      <td>NaN</td>\n      <td>NaN</td>\n      <td>NaN</td>\n      <td>NaN</td>\n    </tr>\n  </tbody>\n</table>\n<p>48704 rows × 13 columns</p>\n</div>"
     },
     "metadata": {},
     "output_type": "execute_result",
     "execution_count": 7
    }
   ],
   "source": [
    "df.iloc[:, 5:]"
   ],
   "metadata": {
    "collapsed": false,
    "pycharm": {
     "name": "#%%\n",
     "is_executing": false
    }
   }
  },
  {
   "cell_type": "code",
   "execution_count": 8,
   "outputs": [],
   "source": [
    "df_narrative = df[['narrative', 'Product']]"
   ],
   "metadata": {
    "collapsed": false,
    "pycharm": {
     "name": "#%%\n",
     "is_executing": false
    }
   }
  },
  {
   "cell_type": "code",
   "execution_count": 9,
   "outputs": [
    {
     "data": {
      "text/plain": "                                                narrative  \\\ncount                                               48704   \nunique                                              48104   \ntop     There are many mistakes appear in my report wi...   \nfreq                                                  120   \n\n                                                  Product  \ncount                                               48704  \nunique                                                 18  \ntop     Credit reporting, credit repair services, or o...  \nfreq                                                12668  ",
      "text/html": "<div>\n<style scoped>\n    .dataframe tbody tr th:only-of-type {\n        vertical-align: middle;\n    }\n\n    .dataframe tbody tr th {\n        vertical-align: top;\n    }\n\n    .dataframe thead th {\n        text-align: right;\n    }\n</style>\n<table border=\"1\" class=\"dataframe\">\n  <thead>\n    <tr style=\"text-align: right;\">\n      <th></th>\n      <th>narrative</th>\n      <th>Product</th>\n    </tr>\n  </thead>\n  <tbody>\n    <tr>\n      <td>count</td>\n      <td>48704</td>\n      <td>48704</td>\n    </tr>\n    <tr>\n      <td>unique</td>\n      <td>48104</td>\n      <td>18</td>\n    </tr>\n    <tr>\n      <td>top</td>\n      <td>There are many mistakes appear in my report wi...</td>\n      <td>Credit reporting, credit repair services, or o...</td>\n    </tr>\n    <tr>\n      <td>freq</td>\n      <td>120</td>\n      <td>12668</td>\n    </tr>\n  </tbody>\n</table>\n</div>"
     },
     "metadata": {},
     "output_type": "execute_result",
     "execution_count": 9
    }
   ],
   "source": [
    "df_narrative.describe()"
   ],
   "metadata": {
    "collapsed": false,
    "pycharm": {
     "name": "#%%\n",
     "is_executing": false
    }
   }
  },
  {
   "cell_type": "markdown",
   "source": [
    "\n",
    "We can see that there are 18 different product type and  48704 narrative."
   ],
   "metadata": {
    "collapsed": false
   }
  },
  {
   "cell_type": "code",
   "execution_count": 10,
   "outputs": [
    {
     "data": {
      "text/plain": "<Figure size 432x288 with 1 Axes>",
      "image/png": "[encoded data removed]"
     },
     "metadata": {
      "needs_background": "light"
     },
     "output_type": "display_data"
    }
   ],
   "source": [
    "cnt_product = df[\"Product\"].value_counts()\n",
    "\n",
    "sns.barplot(cnt_product.index, cnt_product.values)\n",
    "plt.ylabel('Number of Occurrences', fontsize=12)\n",
    "plt.xlabel('Product', fontsize=12)\n",
    "plt.xticks(rotation=90)\n",
    "plt.show();"
   ],
   "metadata": {
    "collapsed": false,
    "pycharm": {
     "name": "#%%\n",
     "is_executing": false
    }
   }
  },
  {
   "cell_type": "markdown",
   "source": [
    "# Data cleaning \n",
    "\n",
    "First step we are going to tokenize the data. And next we are going to remove all the stop word and do lemming. \n",
    "We just need to take the code that we have implemented in the LDA kernel."
   ],
   "metadata": {
    "collapsed": false
   }
  },
  {
   "cell_type": "code",
   "execution_count": 11,
   "outputs": [
    {
     "name": "stdout",
     "text": [
      "\u001b[38;5;2m✔ Download and installation successful\u001b[0m\nYou can now load the model via spacy.load('fr_core_news_sm')\n"
     ],
     "output_type": "stream"
    }
   ],
   "source": [
    "from sklearn.base import BaseEstimator, TransformerMixin\n",
    "\n",
    "import spacy.cli\n",
    "from spacy.lang.fr import French\n",
    "spacy.cli.download(\"fr_core_news_sm\")\n",
    "spacy_nlp = spacy.load('fr_core_news_sm')"
   ],
   "metadata": {
    "collapsed": false,
    "pycharm": {
     "name": "#%%\n",
     "is_executing": false
    }
   }
  },
  {
   "cell_type": "code",
   "execution_count": 12,
   "outputs": [],
   "source": [
    "parser = French()\n",
    "\n",
    "tokenizer = French()\n",
    "\n",
    "stop_words = spacy.lang.fr.STOP_WORDS\n",
    "\n",
    "punctuations = spacy.lang.fr.punctuation.LIST_PUNCT\n",
    "\n",
    "def easy_tokenizer(sentence):\n",
    "    \"\"\"\n",
    "    \n",
    "    :param sentence: the texte we want to treat with our parser \n",
    "    :return: \n",
    "    \"\"\"\n",
    "    # creating our token object \n",
    "    easy_tokens = parser(sentence)\n",
    "    \n",
    "    # lemming  and lowering. Stripping white space \n",
    "    # if the word is not a Pronoun lower the word and strip space else return the lower word. \n",
    "    # Because  spacy replace pronouns by \"-PRON-\" on lemming call. as we need the pronoun we can not do its lemmatization\n",
    "    \n",
    "    easy_tokens = [ word.lemma_.lower().strip() if word.lemma_ != \"-PRON-\" else word.lower() for word in easy_tokens ]\n",
    "    \n",
    "    # remove stop words \n",
    "    easy_tokens = [word  for word in easy_tokens if (word not in stop_words and word not in punctuations)]\n",
    "\n",
    "    \n",
    "    return easy_tokens"
   ],
   "metadata": {
    "collapsed": false,
    "pycharm": {
     "name": "#%%\n",
     "is_executing": false
    }
   }
  },
  {
   "cell_type": "code",
   "execution_count": 13,
   "outputs": [
    {
     "name": "stdout",
     "text": [
      "OK\n"
     ],
     "output_type": "stream"
    }
   ],
   "source": [
    "train, test = train_test_split(df, random_state=42, test_size=0.3)\n",
    "print(\"OK\")"
   ],
   "metadata": {
    "collapsed": false,
    "pycharm": {
     "name": "#%%\n",
     "is_executing": false
    }
   }
  },
  {
   "cell_type": "code",
   "execution_count": 14,
   "outputs": [],
   "source": [
    "e_tokenizer_lambda = lambda d : TaggedDocument(words=easy_tokenizer(d['narrative']), tags=[d.Product])\n",
    "train_tagged = train.apply(e_tokenizer_lambda, axis=1)\n",
    "test_tagged = test.apply(e_tokenizer_lambda, axis=1)"
   ],
   "metadata": {
    "collapsed": false,
    "pycharm": {
     "name": "#%%\n",
     "is_executing": false
    }
   }
  },
  {
   "cell_type": "code",
   "execution_count": 15,
   "outputs": [
    {
     "data": {
      "text/plain": "array([TaggedDocument(words=['opened', 'new', 'bank', 'of', 'america', 'credit', 'card', 'in', 'xx', '/', 'xx', '/', 'xxxx', 'in', 'one', 'day', 'to', 'the', 'other', 'two', 'weeks', 'later', 'they', 'just', 'closed', 'it', 'down', '.', 'and', 'when', 'called', 'them', 'they', 'told', 'that', 'have', 'very', 'good', 'credit', 'they', 'just', 'want', 'should', 'go', 'down', 'to', 'branch', 'with', 'my', 'license', '.', 'went', 'down', 'to', 'fax', 'the', 'documents', 'that', 'they', 'needed', 'and', 'still', 'they', \"don'\", 't', 'want', 'to', 'open', 'up', 'the', 'card', '.', \"that'\", 's', 'real', 'discrimination', 'have', 'good', 'relationship', 'with', 'all', 'the', 'banks', 'and', 'they', 'should', 'open', 'the', 'account', 'soon'], tags=['Credit card or prepaid card']),\n       TaggedDocument(words=['equifax', \"'\", 's', 'hacked', 'system', 'compromised', 'my', 'personal', 'identifying', 'information', '.', \"'\", 've', 'had', 'to', 'spend', 'countless', 'hours', 'to', 'ensure', 'am', 'protected', 'since', 'so', 'much', 'of', 'my', 'information', 'was', 'reportedly', 'compromised', '.', 'not', 'only', 'does', 'this', 'include', 'educating', 'myself', 'fully', 'of', 'the', 'situation', 'but', 'also', 'placing', 'freezes', 'my', 'credit', 'signing', 'up', 'for', 'credit', 'monitoring', 'pulling', 'my', 'reports', 'and', 'analyzing', 'anomalies', 'and', 'many', 'hours', 'learning', 'how', 'to', 'fully', 'protect', 'myself', '(', 'and', \"'\", 'm', 'sure', \"'\", 'll', 'spend', 'many', 'more', 'hours', 'fighting', 'the', 'inevitable', 'attempts', 'at', 'my', 'identity', 'being', 'used', ')', '.'], tags=['Credit reporting, credit repair services, or other personal consumer reports']),\n       TaggedDocument(words=['there', 'are', 'serious', 'issues', 'with', 'the', 'loan', 'documentation', '.', 'the', 'note', 'is', 'not', 'the', 'original', '.', 'am', 'requesting', 'copy', 'of', 'the', 'original', 'note', 'all', 'assignments', 'and', 'the', 'other', 'documentation', 'listed', '.'], tags=['Mortgage']),\n       TaggedDocument(words=['xxxx', '/', 'xxxx/15', 'disputed', 'an', 'incorrect', 'electronic', 'funds', 'transfer', 'with', 'discover', 'card', 'for', 'image', 'dental', '(', '{', '$', '600.00', '}', ')', '.', 'since', 'this', 'time', 'only', 'temporary', 'credit', 'was', 'issued', 'and', 'again', 'the', '(', '{', '$', '600.00', '}', ')', 'appears', 'my', 'account', '.', 'was', 'told', 'by', 'discover', 'card', 'they', 'do', 'not', 'offer', 'permanent', 'credit', 'for', 'incorrect', 'fund', 'transfers', '.', 'they', 'only', 'ask', 'the', 'merchant', 'to', 'provide', 'credit', 'to', 'my', 'account', '.'], tags=['Credit card']),\n       TaggedDocument(words=['good', 'afternoon', 're', 'barclaycard', '', 'xxxx', '', 'xxxx', '', 'xxxx', '', 'xxxx', '', 'xxxx', '', 'act', 'ending', 'in', '', 'xxxx', '', 'xxxx', '', 'xxxx', '', 'xxxx', '', 'xxxx', '', 'xxxx', '', 'xxxx', '', 'xxxx', '', 'xxxx', '', 'xxxx', 'fl', '', 'xxxx', '', 'the', 'account', 'information', 'reporting', 'all', 'credit', 'reports', 'is', 'incorrect', '.', 'my', 'name', 'is', '', 'xxxx', '', 'xxxx', 'and', 'my', 'sons', 'name', 'is', '', 'xxxx', '', 'xxxx', '', 'xxxx', '.', 'barclaycard', 'has', 'been', 'reporting', 'this', 'account', 'incorrectly', '.', \"'\", 'm', '', 'xxxx', '', 'xxxx', '', 'not', '', 'xxxx', '', 'xxxx', '', 'xxxx', '.', 'have', 'requested', 'they', 'delete', 'this', 'account', 'from', 'my', 'credit', 'report', 'and', 'for', 'the', 'past', 'year', \"'\", 've', 'had', 'no', 'success', '.', 'they', 'keep', 'replying', 'with', 'letters', 'advising', 'information', 'is', 'correct', '.', 'kindly', 'ask', 'you', 'to', 'please', 'help', 'remove', 'this', 'erroneous', 'information', 'off', 'my', 'credit', 'reports', 'since', 'this', 'has', 'now', 'begun', 'to', 'affect', '.', '', 'thank', 'you', 'in', 'advance', 'for', 'all', 'your', 'help', 'resolving', 'this', 'matter', '.', '', 'kind', '', 'regards', '', 'xxxx', '', 'xxxx'], tags=['Credit reporting, credit repair services, or other personal consumer reports']),\n       TaggedDocument(words=['ace', 'cash', 'express', 'email', 'stating', 'that', 'was', 'approved', 'for', '3,000', '-', '10,000', 'dollar', 'loan', 'name', 'xxxx', 'xxxx', 'xxxx', 'loan', 'code', 'was', 'xxxx', 'xxxx', 'wanted', 'to', 'give', 'him', 'my', 'bank', 'login', 'info', 'and', 'password', 'refused', 'he', 'hung', 'up', '.'], tags=['Payday loan, title loan, or personal loan']),\n       TaggedDocument(words=['need', 'to', 'dispute', 'few', 'trans', '.', 'am', 'not', 'aware', 'how', 'to', 'the', 'website', '.', 'please', 'out', '.'], tags=['Credit card']),\n       TaggedDocument(words=['in', 'xx', '/', 'xx', '/', 'xxxx', 'xxxx', 'xxxx', 'xxxx', 'card', 'number', 'xxxx', 'xxxx', 'xxxx', 'xxxx', 'wrongfully', 'marked', 'payment', '30', 'days', 'late', '.', 'when', 'dispute', 'the', 'for', 'the', 'record', 'to', 'be', 'corrected', 'they', 'continuously', 'switch', 'the', 'month', 'disputed', 'between', 'xx', '/', 'xx', '/', 'xxxx', 'and', 'xx', '/', 'xx', '/', 'xxxx', '.', 'this', 'makes', 'the', 'claim', 'new', 'over', 'and', 'over', 'again', 'and', 'has', 'been', 'going', 'for', 'over', '7', 'months', '.'], tags=['Credit reporting, credit repair services, or other personal consumer reports']),\n       TaggedDocument(words=['entered', 'in', 'loan', 'modification', 'program', 'xx', '/', 'xx', '/', 'xxxx', '.', 'was', 'only', '9', 'months', 'behind', 'in', 'mortgage', '.', 'am', 'currently', 'selling', 'my', 'home', '.', 'the', 'partial', 'claim', 'amount', 'is', '{', '$', '66000.00', '}', 'due', 'by', 'xx', '/', 'xx', '/', 'xxxx', '.', 'if', 'am', 'paying', 'off', 'the', 'loan', 'at', 'the', 'end', 'of', 'this', 'month', 'why', 'does', 'the', 'amount', 'remain', 'the', 'same', '?', \"i'\", 've', 'only', 'been', 'in', 'the', 'modification', 'for', 'xxxx', 'this', 'xxxx', '.'], tags=['Mortgage'])],\n      dtype=object)"
     },
     "metadata": {},
     "output_type": "execute_result",
     "execution_count": 15
    }
   ],
   "source": [
    "\n",
    "train_tagged.values[1:10]"
   ],
   "metadata": {
    "collapsed": false,
    "pycharm": {
     "name": "#%%\n",
     "is_executing": false
    }
   }
  },
  {
   "cell_type": "markdown",
   "source": [
    "The apply function apply the \"e_tokenizer_lambda\"  to each narrative row. Each row is now a TaggedDocument. \n",
    "Each narrative is matched with is corresponding product type."
   ],
   "metadata": {
    "collapsed": false
   }
  },
  {
   "cell_type": "markdown",
   "source": [
    "\n",
    "# Build the vocabulary \n",
    "\n",
    "We are going to build two model. One that use the PV-DM algorithm and the other the PV-CBOW algorithm. Le and Mikolov \n",
    "notes that combining a paragraph vector from Distributed Bag of Words (DBOW) and Distributed Memory (DM)\n",
    "improves performance. We will concatenate the output of the two models.\n",
    "\n",
    "* If dm=0, distributed bag of words (PV-DBOW) is used; if dm=1,‘distributed memory’ (PV-DM) is used.\n",
    "* 300- dimensional feature vectors. (In the research paper they use 400) \n",
    "* min_count=2, ignores all words with total frequency lower than this.\n",
    "* negative=5 , specifies how many “noise words” should be drawn.\n",
    "* hs=0 , and negative is non-zero, negative sampling will be used.\n",
    "* sample=0 , the threshold for configuring which higher-frequency words are randomly down sampled.\n",
    "* workers=cores , use these many worker threads to train the model (=faster training with multicore machines)."
   ],
   "metadata": {
    "collapsed": false,
    "pycharm": {
     "name": "#%% md\n"
    }
   }
  },
  {
   "cell_type": "code",
   "execution_count": 16,
   "outputs": [
    {
     "name": "stderr",
     "text": [
      "\r  0%|          | 0/34092 [00:00<?, ?it/s]",
      "\r100%|██████████| 34092/34092 [00:00<00:00, 1163465.30it/s]",
      "\n"
     ],
     "output_type": "stream"
    }
   ],
   "source": [
    "import multiprocessing\n",
    "cores = multiprocessing.cpu_count()\n",
    "\n",
    "\n",
    "model_dbow = Doc2Vec(dm=0, vector_size=300, negative=5, hs=0, min_count=2, sample = 0, workers=cores)\n",
    "model_dbow.build_vocab([x for x in tqdm(train_tagged.values)])"
   ],
   "metadata": {
    "collapsed": false,
    "pycharm": {
     "name": "#%%\n",
     "is_executing": false
    }
   }
  },
  {
   "cell_type": "code",
   "execution_count": 17,
   "outputs": [
    {
     "name": "stderr",
     "text": [
      "\r  0%|          | 0/34092 [00:00<?, ?it/s]",
      "\r100%|██████████| 34092/34092 [00:00<00:00, 950505.94it/s]",
      "\n"
     ],
     "output_type": "stream"
    }
   ],
   "source": [
    "model_dm = Doc2Vec(dm=1, vector_size=300, negative=5, hs=0, min_count=2, sample = 0, workers=cores)\n",
    "model_dm.build_vocab([x for x in tqdm(train_tagged.values)])\n"
   ],
   "metadata": {
    "collapsed": false,
    "pycharm": {
     "name": "#%%\n",
     "is_executing": false
    }
   }
  },
  {
   "cell_type": "markdown",
   "source": [
    "We arre going to train the two model on 20 epochs.\n",
    "the learning rate will be decrease of 0.2% each epoch."
   ],
   "metadata": {
    "collapsed": false,
    "pycharm": {
     "name": "#%% md\n"
    }
   }
  },
  {
   "cell_type": "markdown",
   "source": [
    "## PV-CBOW"
   ],
   "metadata": {
    "collapsed": false,
    "pycharm": {
     "name": "#%% md\n"
    }
   }
  },
  {
   "cell_type": "code",
   "execution_count": 18,
   "outputs": [
    {
     "name": "stderr",
     "text": [
      "\r  0%|          | 0/34092 [00:00<?, ?it/s]",
      "\r100%|██████████| 34092/34092 [00:00<00:00, 1544025.61it/s]",
      "\n",
      "\r  0%|          | 0/34092 [00:00<?, ?it/s]",
      "\r100%|██████████| 34092/34092 [00:00<00:00, 2260281.87it/s]",
      "\n",
      "\r  0%|          | 0/34092 [00:00<?, ?it/s]",
      "\r100%|██████████| 34092/34092 [00:00<00:00, 2505294.90it/s]",
      "\n",
      "\r  0%|          | 0/34092 [00:00<?, ?it/s]",
      "\r100%|██████████| 34092/34092 [00:00<00:00, 2522130.91it/s]",
      "\n",
      "\r  0%|          | 0/34092 [00:00<?, ?it/s]",
      "\r100%|██████████| 34092/34092 [00:00<00:00, 2377734.74it/s]",
      "\n",
      "\r  0%|          | 0/34092 [00:00<?, ?it/s]",
      "\r100%|██████████| 34092/34092 [00:00<00:00, 2435319.37it/s]",
      "\n",
      "\r  0%|          | 0/34092 [00:00<?, ?it/s]",
      "\r100%|██████████| 34092/34092 [00:00<00:00, 2613257.28it/s]",
      "\n",
      "\r  0%|          | 0/34092 [00:00<?, ?it/s]",
      "\r100%|██████████| 34092/34092 [00:00<00:00, 2699290.44it/s]",
      "\n",
      "\r  0%|          | 0/34092 [00:00<?, ?it/s]",
      "\r100%|██████████| 34092/34092 [00:00<00:00, 2694153.78it/s]",
      "\n",
      "\r  0%|          | 0/34092 [00:00<?, ?it/s]",
      "\r100%|██████████| 34092/34092 [00:00<00:00, 2660171.75it/s]",
      "\n",
      "\r  0%|          | 0/34092 [00:00<?, ?it/s]",
      "\r100%|██████████| 34092/34092 [00:00<00:00, 2667018.78it/s]",
      "\n",
      "\r  0%|          | 0/34092 [00:00<?, ?it/s]",
      "\r100%|██████████| 34092/34092 [00:00<00:00, 2653556.74it/s]",
      "\n",
      "\r  0%|          | 0/34092 [00:00<?, ?it/s]",
      "\r100%|██████████| 34092/34092 [00:00<00:00, 2674351.24it/s]",
      "\n",
      "\r  0%|          | 0/34092 [00:00<?, ?it/s]",
      "\r100%|██████████| 34092/34092 [00:00<00:00, 2674501.30it/s]",
      "\n",
      "\r  0%|          | 0/34092 [00:00<?, ?it/s]",
      "\r100%|██████████| 34092/34092 [00:00<00:00, 1606979.07it/s]",
      "\n",
      "\r  0%|          | 0/34092 [00:00<?, ?it/s]",
      "\r100%|██████████| 34092/34092 [00:00<00:00, 2696134.93it/s]",
      "\n",
      "\r  0%|          | 0/34092 [00:00<?, ?it/s]",
      "\r100%|██████████| 34092/34092 [00:00<00:00, 2561207.45it/s]",
      "\n",
      "\r  0%|          | 0/34092 [00:00<?, ?it/s]",
      "\r100%|██████████| 34092/34092 [00:00<00:00, 2600094.77it/s]",
      "\n",
      "\r  0%|          | 0/34092 [00:00<?, ?it/s]",
      "\r100%|██████████| 34092/34092 [00:00<00:00, 2527614.58it/s]",
      "\n",
      "\r  0%|          | 0/34092 [00:00<?, ?it/s]",
      "\r100%|██████████| 34092/34092 [00:00<00:00, 2516006.76it/s]",
      "\n",
      "\r  0%|          | 0/34092 [00:00<?, ?it/s]",
      "\r100%|██████████| 34092/34092 [00:00<00:00, 2519597.76it/s]",
      "\n",
      "\r  0%|          | 0/34092 [00:00<?, ?it/s]",
      "\r100%|██████████| 34092/34092 [00:00<00:00, 2449335.59it/s]",
      "\n",
      "\r  0%|          | 0/34092 [00:00<?, ?it/s]",
      "\r100%|██████████| 34092/34092 [00:00<00:00, 2527614.58it/s]",
      "\n",
      "\r  0%|          | 0/34092 [00:00<?, ?it/s]",
      "\r100%|██████████| 34092/34092 [00:00<00:00, 2776062.67it/s]",
      "\n",
      "\r  0%|          | 0/34092 [00:00<?, ?it/s]",
      "\r100%|██████████| 34092/34092 [00:00<00:00, 2524401.74it/s]",
      "\n",
      "\r  0%|          | 0/34092 [00:00<?, ?it/s]",
      "\r100%|██████████| 34092/34092 [00:00<00:00, 2461351.44it/s]",
      "\n",
      "\r  0%|          | 0/34092 [00:00<?, ?it/s]",
      "\r100%|██████████| 34092/34092 [00:00<00:00, 2598063.37it/s]",
      "\n",
      "\r  0%|          | 0/34092 [00:00<?, ?it/s]",
      "\r100%|██████████| 34092/34092 [00:00<00:00, 2499033.75it/s]",
      "\n",
      "\r  0%|          | 0/34092 [00:00<?, ?it/s]",
      "\r100%|██████████| 34092/34092 [00:00<00:00, 2328977.18it/s]",
      "\n",
      "\r  0%|          | 0/34092 [00:00<?, ?it/s]",
      "\r100%|██████████| 34092/34092 [00:00<00:00, 1379914.04it/s]",
      "\n"
     ],
     "output_type": "stream"
    },
    {
     "name": "stdout",
     "text": [
      "CPU times: user 6min 58s, sys: 11.7 s, total: 7min 10s\nWall time: 2min 30s\n"
     ],
     "output_type": "stream"
    }
   ],
   "source": [
    "%%time\n",
    "for epoch in range(30):\n",
    "    model_dbow.train(utils.shuffle([x for x in tqdm(train_tagged.values)]), total_examples=len(train_tagged.values), epochs=1)\n",
    "    model_dbow.alpha -= 0.002\n",
    "    model_dbow.min_alpha = model_dbow.alpha\n"
   ],
   "metadata": {
    "collapsed": false,
    "pycharm": {
     "name": "#%%\n",
     "is_executing": false
    }
   }
  },
  {
   "cell_type": "markdown",
   "source": [
    "## PV-DM"
   ],
   "metadata": {
    "collapsed": false
   }
  },
  {
   "cell_type": "code",
   "execution_count": 19,
   "outputs": [
    {
     "name": "stderr",
     "text": [
      "\r  0%|          | 0/34092 [00:00<?, ?it/s]",
      "\r100%|██████████| 34092/34092 [00:00<00:00, 1984624.73it/s]",
      "\n",
      "\r  0%|          | 0/34092 [00:00<?, ?it/s]",
      "\r100%|██████████| 34092/34092 [00:00<00:00, 2608014.37it/s]",
      "\n",
      "\r  0%|          | 0/34092 [00:00<?, ?it/s]",
      "\r100%|██████████| 34092/34092 [00:00<00:00, 1964934.48it/s]",
      "\n",
      "\r  0%|          | 0/34092 [00:00<?, ?it/s]",
      "\r100%|██████████| 34092/34092 [00:00<00:00, 1194737.95it/s]",
      "\n",
      "\r  0%|          | 0/34092 [00:00<?, ?it/s]",
      "\r100%|██████████| 34092/34092 [00:00<00:00, 1365980.57it/s]",
      "\n",
      "\r  0%|          | 0/34092 [00:00<?, ?it/s]",
      "\r100%|██████████| 34092/34092 [00:00<00:00, 1981983.92it/s]",
      "\n",
      "\r  0%|          | 0/34092 [00:00<?, ?it/s]",
      "\r100%|██████████| 34092/34092 [00:00<00:00, 2609346.93it/s]",
      "\n",
      "\r  0%|          | 0/34092 [00:00<?, ?it/s]",
      "\r100%|██████████| 34092/34092 [00:00<00:00, 2361985.03it/s]",
      "\n",
      "\r  0%|          | 0/34092 [00:00<?, ?it/s]",
      "\r100%|██████████| 34092/34092 [00:00<00:00, 2529805.78it/s]",
      "\n",
      "\r  0%|          | 0/34092 [00:00<?, ?it/s]",
      "\r100%|██████████| 34092/34092 [00:00<00:00, 2320925.37it/s]",
      "\n",
      "\r  0%|          | 0/34092 [00:00<?, ?it/s]",
      "\r100%|██████████| 34092/34092 [00:00<00:00, 2147126.93it/s]",
      "\n",
      "\r  0%|          | 0/34092 [00:00<?, ?it/s]",
      "\r100%|██████████| 34092/34092 [00:00<00:00, 2333614.23it/s]",
      "\n",
      "\r  0%|          | 0/34092 [00:00<?, ?it/s]",
      "\r100%|██████████| 34092/34092 [00:00<00:00, 2516582.40it/s]",
      "\n",
      "\r  0%|          | 0/34092 [00:00<?, ?it/s]",
      "\r100%|██████████| 34092/34092 [00:00<00:00, 2017754.55it/s]",
      "\n",
      "\r  0%|          | 0/34092 [00:00<?, ?it/s]",
      "\r100%|██████████| 34092/34092 [00:00<00:00, 2657847.81it/s]",
      "\n",
      "\r  0%|          | 0/34092 [00:00<?, ?it/s]",
      "\r100%|██████████| 34092/34092 [00:00<00:00, 2614786.45it/s]",
      "\n",
      "\r  0%|          | 0/34092 [00:00<?, ?it/s]",
      "\r100%|██████████| 34092/34092 [00:00<00:00, 2716107.81it/s]",
      "\n",
      "\r  0%|          | 0/34092 [00:00<?, ?it/s]",
      "\r100%|██████████| 34092/34092 [00:00<00:00, 2603645.52it/s]",
      "\n",
      "\r  0%|          | 0/34092 [00:00<?, ?it/s]",
      "\r100%|██████████| 34092/34092 [00:00<00:00, 2498859.06it/s]",
      "\n",
      "\r  0%|          | 0/34092 [00:00<?, ?it/s]",
      "\r100%|██████████| 34092/34092 [00:00<00:00, 2430806.83it/s]",
      "\n",
      "\r  0%|          | 0/34092 [00:00<?, ?it/s]",
      "\r100%|██████████| 34092/34092 [00:00<00:00, 2574302.60it/s]",
      "\n",
      "\r  0%|          | 0/34092 [00:00<?, ?it/s]",
      "\r100%|██████████| 34092/34092 [00:00<00:00, 2497244.36it/s]",
      "\n",
      "\r  0%|          | 0/34092 [00:00<?, ?it/s]",
      "\r100%|██████████| 34092/34092 [00:00<00:00, 2711215.41it/s]",
      "\n",
      "\r  0%|          | 0/34092 [00:00<?, ?it/s]",
      "\r100%|██████████| 34092/34092 [00:00<00:00, 2697355.54it/s]",
      "\n",
      "\r  0%|          | 0/34092 [00:00<?, ?it/s]",
      "\r100%|██████████| 34092/34092 [00:00<00:00, 2690757.07it/s]",
      "\n",
      "\r  0%|          | 0/34092 [00:00<?, ?it/s]",
      "\r100%|██████████| 34092/34092 [00:00<00:00, 2040443.10it/s]",
      "\n",
      "\r  0%|          | 0/34092 [00:00<?, ?it/s]",
      "\r100%|██████████| 34092/34092 [00:00<00:00, 2446151.16it/s]",
      "\n",
      "\r  0%|          | 0/34092 [00:00<?, ?it/s]",
      "\r100%|██████████| 34092/34092 [00:00<00:00, 2336970.47it/s]",
      "\n",
      "\r  0%|          | 0/34092 [00:00<?, ?it/s]",
      "\r100%|██████████| 34092/34092 [00:00<00:00, 2516538.11it/s]",
      "\n",
      "\r  0%|          | 0/34092 [00:00<?, ?it/s]",
      "\r100%|██████████| 34092/34092 [00:00<00:00, 2611443.71it/s]",
      "\n"
     ],
     "output_type": "stream"
    }
   ],
   "source": [
    "for epoch in range(30):\n",
    "    model_dm.train(utils.shuffle([x for x in tqdm(train_tagged.values)]), total_examples=len(train_tagged.values), epochs=1)\n",
    "    model_dm.alpha -= 0.002\n",
    "    model_dm.min_alpha = model_dbow.alpha\n"
   ],
   "metadata": {
    "collapsed": false,
    "pycharm": {
     "name": "#%%\n",
     "is_executing": false
    }
   }
  },
  {
   "cell_type": "markdown",
   "source": [
    "Let's check the result after training we are going to check the most similar words to \n",
    "'hope' a word that is contains in the vocabulary.\n",
    "\n",
    "Note: If the word is not present in the vocab. The function return an exception.\n",
    "\n",
    "Info : \n",
    "Infer_vector : function looks for a DocVector that closer to the Document in parameter "
   ],
   "metadata": {
    "collapsed": false,
    "pycharm": {
     "name": "#%% md\n"
    }
   }
  },
  {
   "cell_type": "code",
   "execution_count": 20,
   "outputs": [],
   "source": [
    "vec = model_dm.infer_vector(doc_words=train_tagged.values[4].words, steps=20, alpha=0.025)"
   ],
   "metadata": {
    "collapsed": false,
    "pycharm": {
     "name": "#%%\n",
     "is_executing": false
    }
   }
  },
  {
   "cell_type": "markdown",
   "source": [
    "The result is pretty good. The most closer word to 'hope' is 'pray'. "
   ],
   "metadata": {
    "collapsed": false
   }
  },
  {
   "cell_type": "code",
   "execution_count": 21,
   "outputs": [
    {
     "name": "stderr",
     "text": [
      "/Users/remy.d.w/.virtualenvs/PROROK/untitled/lib/python3.7/site-packages/ipykernel_launcher.py:2: DeprecationWarning: Call to deprecated `most_similar` (Method will be removed in 4.0.0, use self.wv.most_similar() instead).\n  \n"
     ],
     "output_type": "stream"
    },
    {
     "data": {
      "text/plain": "[('appreciate', 0.762397050857544),\n ('hopefully', 0.7430069446563721),\n ('pray', 0.7394447326660156),\n ('imagine', 0.7271996736526489),\n ('remind', 0.726472020149231),\n ('shame', 0.7203212380409241),\n ('guys', 0.6975152492523193),\n ('urge', 0.6968690156936646),\n ('cooperation', 0.6944521069526672),\n ('claimant', 0.6938045024871826)]"
     },
     "metadata": {},
     "output_type": "execute_result",
     "execution_count": 21
    }
   ],
   "source": [
    "model_dm.most_similar(positive='hope', topn=10) # ten most similar "
   ],
   "metadata": {
    "collapsed": false,
    "pycharm": {
     "name": "#%%\n",
     "is_executing": false
    }
   }
  },
  {
   "cell_type": "markdown",
   "source": [
    "  Get the trained document vector, and most similar document to the tag \"Credit reporting\""
   ],
   "metadata": {
    "collapsed": false
   }
  },
  {
   "cell_type": "code",
   "execution_count": 22,
   "outputs": [
    {
     "traceback": [
      "\u001b[0;31m---------------------------------------------------------------------------\u001b[0m",
      "\u001b[0;31mTypeError\u001b[0m                                 Traceback (most recent call last)",
      "\u001b[0;32m<ipython-input-22-1f7e45497a82>\u001b[0m in \u001b[0;36m<module>\u001b[0;34m()\u001b[0m\n\u001b[1;32m      1\u001b[0m \u001b[0;34m\u001b[0m\u001b[0m\n\u001b[0;32m----> 2\u001b[0;31m \u001b[0mmodel_dm\u001b[0m\u001b[0;34m.\u001b[0m\u001b[0mdocvecs\u001b[0m\u001b[0;34m.\u001b[0m\u001b[0mmost_similar\u001b[0m\u001b[0;34m(\u001b[0m\u001b[0mpositive\u001b[0m\u001b[0;34m=\u001b[0m\u001b[0;34m'Credit reporting'\u001b[0m\u001b[0;34m,\u001b[0m \u001b[0mnegative\u001b[0m\u001b[0;34m=\u001b[0m\u001b[0;34m'Checking or savings account'\u001b[0m\u001b[0;34m,\u001b[0m \u001b[0mtopn\u001b[0m\u001b[0;34m=\u001b[0m\u001b[0;36m10\u001b[0m\u001b[0;34m)\u001b[0m\u001b[0;34m\u001b[0m\u001b[0;34m\u001b[0m\u001b[0m\n\u001b[0m\u001b[1;32m      3\u001b[0m \u001b[0;34m\u001b[0m\u001b[0m\n",
      "\u001b[0;32m/Users/remy.d.w/.virtualenvs/PROROK/untitled/lib/python3.7/site-packages/gensim/models/keyedvectors.py\u001b[0m in \u001b[0;36mmost_similar\u001b[0;34m(self, positive, negative, topn, clip_start, clip_end, indexer)\u001b[0m\n\u001b[1;32m   1713\u001b[0m             \u001b[0;32mif\u001b[0m \u001b[0misinstance\u001b[0m\u001b[0;34m(\u001b[0m\u001b[0mdoc\u001b[0m\u001b[0;34m,\u001b[0m \u001b[0mndarray\u001b[0m\u001b[0;34m)\u001b[0m\u001b[0;34m:\u001b[0m\u001b[0;34m\u001b[0m\u001b[0;34m\u001b[0m\u001b[0m\n\u001b[1;32m   1714\u001b[0m                 \u001b[0mmean\u001b[0m\u001b[0;34m.\u001b[0m\u001b[0mappend\u001b[0m\u001b[0;34m(\u001b[0m\u001b[0mweight\u001b[0m \u001b[0;34m*\u001b[0m \u001b[0mdoc\u001b[0m\u001b[0;34m)\u001b[0m\u001b[0;34m\u001b[0m\u001b[0;34m\u001b[0m\u001b[0m\n\u001b[0;32m-> 1715\u001b[0;31m             \u001b[0;32melif\u001b[0m \u001b[0mdoc\u001b[0m \u001b[0;32min\u001b[0m \u001b[0mself\u001b[0m\u001b[0;34m.\u001b[0m\u001b[0mdoctags\u001b[0m \u001b[0;32mor\u001b[0m \u001b[0mdoc\u001b[0m \u001b[0;34m<\u001b[0m \u001b[0mself\u001b[0m\u001b[0;34m.\u001b[0m\u001b[0mcount\u001b[0m\u001b[0;34m:\u001b[0m\u001b[0;34m\u001b[0m\u001b[0;34m\u001b[0m\u001b[0m\n\u001b[0m\u001b[1;32m   1716\u001b[0m                 \u001b[0mmean\u001b[0m\u001b[0;34m.\u001b[0m\u001b[0mappend\u001b[0m\u001b[0;34m(\u001b[0m\u001b[0mweight\u001b[0m \u001b[0;34m*\u001b[0m \u001b[0mself\u001b[0m\u001b[0;34m.\u001b[0m\u001b[0mvectors_docs_norm\u001b[0m\u001b[0;34m[\u001b[0m\u001b[0mself\u001b[0m\u001b[0;34m.\u001b[0m\u001b[0m_int_index\u001b[0m\u001b[0;34m(\u001b[0m\u001b[0mdoc\u001b[0m\u001b[0;34m,\u001b[0m \u001b[0mself\u001b[0m\u001b[0;34m.\u001b[0m\u001b[0mdoctags\u001b[0m\u001b[0;34m,\u001b[0m \u001b[0mself\u001b[0m\u001b[0;34m.\u001b[0m\u001b[0mmax_rawint\u001b[0m\u001b[0;34m)\u001b[0m\u001b[0;34m]\u001b[0m\u001b[0;34m)\u001b[0m\u001b[0;34m\u001b[0m\u001b[0;34m\u001b[0m\u001b[0m\n\u001b[1;32m   1717\u001b[0m                 \u001b[0mall_docs\u001b[0m\u001b[0;34m.\u001b[0m\u001b[0madd\u001b[0m\u001b[0;34m(\u001b[0m\u001b[0mself\u001b[0m\u001b[0;34m.\u001b[0m\u001b[0m_int_index\u001b[0m\u001b[0;34m(\u001b[0m\u001b[0mdoc\u001b[0m\u001b[0;34m,\u001b[0m \u001b[0mself\u001b[0m\u001b[0;34m.\u001b[0m\u001b[0mdoctags\u001b[0m\u001b[0;34m,\u001b[0m \u001b[0mself\u001b[0m\u001b[0;34m.\u001b[0m\u001b[0mmax_rawint\u001b[0m\u001b[0;34m)\u001b[0m\u001b[0;34m)\u001b[0m\u001b[0;34m\u001b[0m\u001b[0;34m\u001b[0m\u001b[0m\n",
      "\u001b[0;31mTypeError\u001b[0m: '<' not supported between instances of 'str' and 'int'"
     ],
     "ename": "TypeError",
     "evalue": "'<' not supported between instances of 'str' and 'int'",
     "output_type": "error"
    }
   ],
   "source": [
    "model_dm.docvecs.most_similar(positive='Credit reporting', negative='Checking or savings account', topn=10)"
   ],
   "metadata": {
    "collapsed": false,
    "pycharm": {
     "name": "#%%\n",
     "is_executing": false
    }
   }
  },
  {
   "cell_type": "code",
   "execution_count": null,
   "outputs": [],
   "source": [
    "# concatenate the model\n",
    "\n",
    "from gensim.test.test_doc2vec import ConcatenatedDoc2Vec\n",
    "model = ConcatenatedDoc2Vec([model_dbow, model_dm])"
   ],
   "metadata": {
    "collapsed": false,
    "pycharm": {
     "name": "#%%\n",
     "is_executing": false
    }
   }
  },
  {
   "cell_type": "code",
   "execution_count": null,
   "outputs": [],
   "source": [
    "out = model_dm.docvecs.count\n",
    "out "
   ],
   "metadata": {
    "collapsed": false,
    "pycharm": {
     "name": "#%%\n",
     "is_executing": false
    }
   }
  },
  {
   "cell_type": "markdown",
   "source": [
    "\n",
    "# Trainning \n",
    "\n",
    "We will train 4 differents machine learning algorithm to predict the output :\n",
    "\n",
    "* Logistic regression \n",
    "* Linear-SVC\n",
    "* Naives-Bayes\n",
    "* XGBoost"
   ],
   "metadata": {
    "collapsed": false
   }
  },
  {
   "cell_type": "markdown",
   "source": [
    "Vec_for_learning :\n",
    "The inference tries to fit a later example into a frozen model, and so if you re-present the same document, it should \n",
    "wind up 'close' to the vector that the same document induced in multi-pass bulk training. But how 'close' would depend \n",
    "on a lot of things. The information in the PV paper about parameter choices is limited."
   ],
   "metadata": {
    "collapsed": false
   }
  },
  {
   "cell_type": "code",
   "execution_count": null,
   "outputs": [],
   "source": [
    "def vec_for_learning(doc2vec_model, tagged_docs):\n",
    "    sents = tagged_docs.values\n",
    "    targets, regressors = zip(*[(doc.tags[0], doc2vec_model.infer_vector(doc.words, steps=20)) for doc in sents])\n",
    "    return targets, regressors\n",
    "\n",
    "\n",
    "## Logistic regression "
   ],
   "metadata": {
    "collapsed": false,
    "pycharm": {
     "name": "#%%\n",
     "is_executing": false
    }
   }
  },
  {
   "cell_type": "code",
   "execution_count": null,
   "outputs": [],
   "source": [
    "from sklearn.linear_model import LogisticRegression\n",
    "from sklearn.metrics import accuracy_score\n",
    "from sklearn.metrics import f1_score\n",
    "log_reg = LogisticRegression()\n",
    "\n",
    "y_train, X_train = vec_for_learning(model, train_tagged)\n",
    "y_test, X_test = vec_for_learning(model, test_tagged)"
   ],
   "metadata": {
    "collapsed": false,
    "pycharm": {
     "name": "#%% \n",
     "is_executing": false
    }
   }
  },
  {
   "cell_type": "code",
   "execution_count": null,
   "outputs": [],
   "source": [
    "log_reg.fit(X_train, y_train)\n",
    "y_pred = log_reg.predict(X_test)\n",
    "print('Testing accuracy %s' % accuracy_score(y_test, y_pred))\n",
    "print('Testing F1 score: {}'.format(f1_score(y_test, y_pred, average='weighted')))\n"
   ],
   "metadata": {
    "collapsed": false,
    "pycharm": {
     "name": "#%%\n",
     "is_executing": false
    }
   }
  }
 ],
 "metadata": {
  "kernelspec": {
   "display_name": "Python 3",
   "language": "python",
   "name": "python3"
  },
  "language_info": {
   "codemirror_mode": {
    "name": "ipython",
    "version": 2
   },
   "file_extension": ".py",
   "mimetype": "text/x-python",
   "name": "python",
   "nbconvert_exporter": "python",
   "pygments_lexer": "ipython2",
   "version": "2.7.6"
  },
  "pycharm": {
   "stem_cell": {
    "cell_type": "raw",
    "source": [],
    "metadata": {
     "collapsed": false
    }
   }
  }
 },
 "nbformat": 4,
 "nbformat_minor": 0
}