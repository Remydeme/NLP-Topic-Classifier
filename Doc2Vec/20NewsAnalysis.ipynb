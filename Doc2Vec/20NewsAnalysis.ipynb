{
 "nbformat": 4,
 "nbformat_minor": 0,
 "metadata": {
  "colab": {
   "name": "20NewsAnalysis.ipynb",
   "provenance": [],
   "collapsed_sections": []
  },
  "kernelspec": {
   "name": "python3",
   "language": "python",
   "display_name": "Python 3"
  }
 },
 "cells": [
  {
   "cell_type": "code",
   "metadata": {
    "id": "HbLHIzOojlZT",
    "colab_type": "code",
    "outputId": "ef7f0d2b-9797-4bd7-acdc-70a74cd6da0f",
    "colab": {
     "base_uri": "https://localhost:8080/",
     "height": 768
    }
   },
   "source": [
    "!pip install -U spacy\n",
    "\n",
    "# download english vocab\n",
    "!python -m spacy download en_core_web_sm"
   ],
   "execution_count": 48,
   "outputs": [
    {
     "output_type": "stream",
     "text": [
      "Requirement already up-to-date: spacy in /usr/local/lib/python3.6/dist-packages (2.2.2)\n",
      "Requirement already satisfied, skipping upgrade: murmurhash<1.1.0,>=0.28.0 in /usr/local/lib/python3.6/dist-packages (from spacy) (1.0.2)\n",
      "Requirement already satisfied, skipping upgrade: importlib-metadata>=0.20; python_version < \"3.8\" in /usr/local/lib/python3.6/dist-packages (from spacy) (0.23)\n",
      "Requirement already satisfied, skipping upgrade: wasabi<1.1.0,>=0.3.0 in /usr/local/lib/python3.6/dist-packages (from spacy) (0.4.0)\n",
      "Requirement already satisfied, skipping upgrade: thinc<7.4.0,>=7.3.0 in /usr/local/lib/python3.6/dist-packages (from spacy) (7.3.1)\n",
      "Requirement already satisfied, skipping upgrade: setuptools in /usr/local/lib/python3.6/dist-packages (from spacy) (41.4.0)\n",
      "Requirement already satisfied, skipping upgrade: srsly<1.1.0,>=0.1.0 in /usr/local/lib/python3.6/dist-packages (from spacy) (0.2.0)\n",
      "Requirement already satisfied, skipping upgrade: numpy>=1.15.0 in /usr/local/lib/python3.6/dist-packages (from spacy) (1.17.4)\n",
      "Requirement already satisfied, skipping upgrade: cymem<2.1.0,>=2.0.2 in /usr/local/lib/python3.6/dist-packages (from spacy) (2.0.2)\n",
      "Requirement already satisfied, skipping upgrade: blis<0.5.0,>=0.4.0 in /usr/local/lib/python3.6/dist-packages (from spacy) (0.4.1)\n",
      "Requirement already satisfied, skipping upgrade: plac<1.2.0,>=0.9.6 in /usr/local/lib/python3.6/dist-packages (from spacy) (0.9.6)\n",
      "Requirement already satisfied, skipping upgrade: requests<3.0.0,>=2.13.0 in /usr/local/lib/python3.6/dist-packages (from spacy) (2.21.0)\n",
      "Requirement already satisfied, skipping upgrade: preshed<3.1.0,>=3.0.2 in /usr/local/lib/python3.6/dist-packages (from spacy) (3.0.2)\n",
      "Requirement already satisfied, skipping upgrade: zipp>=0.5 in /usr/local/lib/python3.6/dist-packages (from importlib-metadata>=0.20; python_version < \"3.8\"->spacy) (0.6.0)\n",
      "Requirement already satisfied, skipping upgrade: tqdm<5.0.0,>=4.10.0 in /usr/local/lib/python3.6/dist-packages (from thinc<7.4.0,>=7.3.0->spacy) (4.28.1)\n",
      "Requirement already satisfied, skipping upgrade: urllib3<1.25,>=1.21.1 in /usr/local/lib/python3.6/dist-packages (from requests<3.0.0,>=2.13.0->spacy) (1.24.3)\n",
      "Requirement already satisfied, skipping upgrade: certifi>=2017.4.17 in /usr/local/lib/python3.6/dist-packages (from requests<3.0.0,>=2.13.0->spacy) (2019.9.11)\n",
      "Requirement already satisfied, skipping upgrade: chardet<3.1.0,>=3.0.2 in /usr/local/lib/python3.6/dist-packages (from requests<3.0.0,>=2.13.0->spacy) (3.0.4)\n",
      "Requirement already satisfied, skipping upgrade: idna<2.9,>=2.5 in /usr/local/lib/python3.6/dist-packages (from requests<3.0.0,>=2.13.0->spacy) (2.8)\n",
      "Requirement already satisfied, skipping upgrade: more-itertools in /usr/local/lib/python3.6/dist-packages (from zipp>=0.5->importlib-metadata>=0.20; python_version < \"3.8\"->spacy) (7.2.0)\n",
      "Requirement already satisfied: en_core_web_sm==2.2.0 from https://github.com/explosion/spacy-models/releases/download/en_core_web_sm-2.2.0/en_core_web_sm-2.2.0.tar.gz#egg=en_core_web_sm==2.2.0 in /usr/local/lib/python3.6/dist-packages (2.2.0)\n",
      "Requirement already satisfied: spacy>=2.2.0 in /usr/local/lib/python3.6/dist-packages (from en_core_web_sm==2.2.0) (2.2.2)\n",
      "Requirement already satisfied: requests<3.0.0,>=2.13.0 in /usr/local/lib/python3.6/dist-packages (from spacy>=2.2.0->en_core_web_sm==2.2.0) (2.21.0)\n",
      "Requirement already satisfied: plac<1.2.0,>=0.9.6 in /usr/local/lib/python3.6/dist-packages (from spacy>=2.2.0->en_core_web_sm==2.2.0) (0.9.6)\n",
      "Requirement already satisfied: wasabi<1.1.0,>=0.3.0 in /usr/local/lib/python3.6/dist-packages (from spacy>=2.2.0->en_core_web_sm==2.2.0) (0.4.0)\n",
      "Requirement already satisfied: cymem<2.1.0,>=2.0.2 in /usr/local/lib/python3.6/dist-packages (from spacy>=2.2.0->en_core_web_sm==2.2.0) (2.0.2)\n",
      "Requirement already satisfied: importlib-metadata>=0.20; python_version < \"3.8\" in /usr/local/lib/python3.6/dist-packages (from spacy>=2.2.0->en_core_web_sm==2.2.0) (0.23)\n",
      "Requirement already satisfied: srsly<1.1.0,>=0.1.0 in /usr/local/lib/python3.6/dist-packages (from spacy>=2.2.0->en_core_web_sm==2.2.0) (0.2.0)\n",
      "Requirement already satisfied: blis<0.5.0,>=0.4.0 in /usr/local/lib/python3.6/dist-packages (from spacy>=2.2.0->en_core_web_sm==2.2.0) (0.4.1)\n",
      "Requirement already satisfied: thinc<7.4.0,>=7.3.0 in /usr/local/lib/python3.6/dist-packages (from spacy>=2.2.0->en_core_web_sm==2.2.0) (7.3.1)\n",
      "Requirement already satisfied: setuptools in /usr/local/lib/python3.6/dist-packages (from spacy>=2.2.0->en_core_web_sm==2.2.0) (41.4.0)\n",
      "Requirement already satisfied: numpy>=1.15.0 in /usr/local/lib/python3.6/dist-packages (from spacy>=2.2.0->en_core_web_sm==2.2.0) (1.17.4)\n",
      "Requirement already satisfied: preshed<3.1.0,>=3.0.2 in /usr/local/lib/python3.6/dist-packages (from spacy>=2.2.0->en_core_web_sm==2.2.0) (3.0.2)\n",
      "Requirement already satisfied: murmurhash<1.1.0,>=0.28.0 in /usr/local/lib/python3.6/dist-packages (from spacy>=2.2.0->en_core_web_sm==2.2.0) (1.0.2)\n",
      "Requirement already satisfied: certifi>=2017.4.17 in /usr/local/lib/python3.6/dist-packages (from requests<3.0.0,>=2.13.0->spacy>=2.2.0->en_core_web_sm==2.2.0) (2019.9.11)\n",
      "Requirement already satisfied: chardet<3.1.0,>=3.0.2 in /usr/local/lib/python3.6/dist-packages (from requests<3.0.0,>=2.13.0->spacy>=2.2.0->en_core_web_sm==2.2.0) (3.0.4)\n",
      "Requirement already satisfied: urllib3<1.25,>=1.21.1 in /usr/local/lib/python3.6/dist-packages (from requests<3.0.0,>=2.13.0->spacy>=2.2.0->en_core_web_sm==2.2.0) (1.24.3)\n",
      "Requirement already satisfied: idna<2.9,>=2.5 in /usr/local/lib/python3.6/dist-packages (from requests<3.0.0,>=2.13.0->spacy>=2.2.0->en_core_web_sm==2.2.0) (2.8)\n",
      "Requirement already satisfied: zipp>=0.5 in /usr/local/lib/python3.6/dist-packages (from importlib-metadata>=0.20; python_version < \"3.8\"->spacy>=2.2.0->en_core_web_sm==2.2.0) (0.6.0)\n",
      "Requirement already satisfied: tqdm<5.0.0,>=4.10.0 in /usr/local/lib/python3.6/dist-packages (from thinc<7.4.0,>=7.3.0->spacy>=2.2.0->en_core_web_sm==2.2.0) (4.28.1)\n",
      "Requirement already satisfied: more-itertools in /usr/local/lib/python3.6/dist-packages (from zipp>=0.5->importlib-metadata>=0.20; python_version < \"3.8\"->spacy>=2.2.0->en_core_web_sm==2.2.0) (7.2.0)\n",
      "\u001b[38;5;2m✔ Download and installation successful\u001b[0m\n",
      "You can now load the model via spacy.load('en_core_web_sm')\n"
     ],
     "name": "stdout"
    }
   ]
  },
  {
   "cell_type": "markdown",
   "metadata": {
    "id": "djkwkqH17v6E",
    "colab_type": "text"
   },
   "source": [
    "# Introduction \n",
    "\n",
    "This kernel has been made to study 4 things :\n",
    "\n",
    "* compare the precision of Doc2Vec vs TF-IDF \n",
    "\n",
    "* Determine if stemming have an impact on performance of the model. If it's improve the scores or decrease the score. We know that stemming is used to reduce the size of the vocabulary to speed the training. But if it's reduce  the vocabulary  and in the same time reduce the accuracy we need to know at what level. \n",
    "\n",
    "* Determine the size of the dataset. Size from which our model provided good results. How many words? The size of the vocabulary.\n",
    "\n",
    "* What is the best simple models that perform good on big and tiny dataset."
   ]
  },
  {
   "cell_type": "code",
   "metadata": {
    "colab_type": "code",
    "id": "FjLeutDlbFus",
    "colab": {}
   },
   "source": [
    "from sklearn.datasets import fetch_20newsgroups\n",
    "newsgroups_train = fetch_20newsgroups(subset='train')\n",
    "newsgroups_test = fetch_20newsgroups(subset='test')"
   ],
   "execution_count": 0,
   "outputs": []
  },
  {
   "cell_type": "markdown",
   "metadata": {
    "id": "SxCng5X5gTS1",
    "colab_type": "text"
   },
   "source": [
    "The aim of this project is to study the performance of TF-IDF VS Doc2Vec. \n",
    "We are going to use 4 modèles to compare them :\n",
    "\n",
    "* LinearSVC \n",
    "* XGboost \n",
    "* Logistic-regression \n",
    "* Naives-bayes"
   ]
  },
  {
   "cell_type": "code",
   "metadata": {
    "id": "madp-QFxgRkX",
    "colab_type": "code",
    "colab": {}
   },
   "source": [
    "import pandas as pd \n",
    "import numpy as np \n",
    "import seaborn  as sns \n",
    "import matplotlib.pyplot as plt "
   ],
   "execution_count": 0,
   "outputs": []
  },
  {
   "cell_type": "code",
   "metadata": {
    "id": "5HvSuJI1gv55",
    "colab_type": "code",
    "outputId": "22868894-ecfe-4017-db1c-9815abae7808",
    "colab": {
     "base_uri": "https://localhost:8080/",
     "height": 54
    }
   },
   "source": [
    "newsgroups_train.data[0]"
   ],
   "execution_count": 51,
   "outputs": [
    {
     "output_type": "execute_result",
     "data": {
      "text/plain": [
       "\"From: lerxst@wam.umd.edu (where's my thing)\\nSubject: WHAT car is this!?\\nNntp-Posting-Host: rac3.wam.umd.edu\\nOrganization: University of Maryland, College Park\\nLines: 15\\n\\n I was wondering if anyone out there could enlighten me on this car I saw\\nthe other day. It was a 2-door sports car, looked to be from the late 60s/\\nearly 70s. It was called a Bricklin. The doors were really small. In addition,\\nthe front bumper was separate from the rest of the body. This is \\nall I know. If anyone can tellme a model name, engine specs, years\\nof production, where this car is made, history, or whatever info you\\nhave on this funky looking car, please e-mail.\\n\\nThanks,\\n- IL\\n   ---- brought to you by your neighborhood Lerxst ----\\n\\n\\n\\n\\n\""
      ]
     },
     "metadata": {
      "tags": []
     },
     "execution_count": 51
    }
   ]
  },
  {
   "cell_type": "markdown",
   "metadata": {
    "id": "_6B9gNxY5KWj",
    "colab_type": "text"
   },
   "source": [
    "# Study the dataset \n",
    "\n",
    "## Classes"
   ]
  },
  {
   "cell_type": "markdown",
   "metadata": {
    "id": "GIUzW7HhspzY",
    "colab_type": "text"
   },
   "source": [
    "## Distrubution "
   ]
  },
  {
   "cell_type": "code",
   "metadata": {
    "id": "zBIAbGseuBDl",
    "colab_type": "code",
    "colab": {}
   },
   "source": [
    "def displayFeaturesAndDescribe(array_features, feature, kind='bar', color=None):\n",
    "    s = pd.Series(array_features)\n",
    "    feature_count = (s.value_counts() /s.shape[0]) * 100\n",
    "    feature_dataframe = pd.DataFrame()\n",
    "    feature_dataframe[feature] = feature_count.index\n",
    "    feature_dataframe['Percentage'] = feature_count.values\n",
    "    sns.catplot(x=feature, y='Percentage', kind=kind, data=feature_dataframe, hue='Percentage', aspect=2, height=5,legend_out=True)\n",
    "    "
   ],
   "execution_count": 0,
   "outputs": []
  },
  {
   "cell_type": "code",
   "metadata": {
    "id": "Lp7ZSh3nvJ2Y",
    "colab_type": "code",
    "colab": {}
   },
   "source": [
    ""
   ],
   "execution_count": 0,
   "outputs": []
  },
  {
   "cell_type": "code",
   "metadata": {
    "id": "Fap0qe4WvYIR",
    "colab_type": "code",
    "colab": {
     "base_uri": "https://localhost:8080/",
     "height": 669
    },
    "outputId": "7fa913ca-5de0-4ffa-91ed-44bac84aa435"
   },
   "source": [
    "target_df = pd.DataFrame({'target_name' : newsgroups_train.target_names,  'target_value' :np.unique(newsgroups_train.target)})\n",
    "target_df "
   ],
   "execution_count": 53,
   "outputs": [
    {
     "output_type": "execute_result",
     "data": {
      "text/html": [
       "<div>\n",
       "<style scoped>\n",
       "    .dataframe tbody tr th:only-of-type {\n",
       "        vertical-align: middle;\n",
       "    }\n",
       "\n",
       "    .dataframe tbody tr th {\n",
       "        vertical-align: top;\n",
       "    }\n",
       "\n",
       "    .dataframe thead th {\n",
       "        text-align: right;\n",
       "    }\n",
       "</style>\n",
       "<table border=\"1\" class=\"dataframe\">\n",
       "  <thead>\n",
       "    <tr style=\"text-align: right;\">\n",
       "      <th></th>\n",
       "      <th>target_name</th>\n",
       "      <th>target_value</th>\n",
       "    </tr>\n",
       "  </thead>\n",
       "  <tbody>\n",
       "    <tr>\n",
       "      <th>0</th>\n",
       "      <td>alt.atheism</td>\n",
       "      <td>0</td>\n",
       "    </tr>\n",
       "    <tr>\n",
       "      <th>1</th>\n",
       "      <td>comp.graphics</td>\n",
       "      <td>1</td>\n",
       "    </tr>\n",
       "    <tr>\n",
       "      <th>2</th>\n",
       "      <td>comp.os.ms-windows.misc</td>\n",
       "      <td>2</td>\n",
       "    </tr>\n",
       "    <tr>\n",
       "      <th>3</th>\n",
       "      <td>comp.sys.ibm.pc.hardware</td>\n",
       "      <td>3</td>\n",
       "    </tr>\n",
       "    <tr>\n",
       "      <th>4</th>\n",
       "      <td>comp.sys.mac.hardware</td>\n",
       "      <td>4</td>\n",
       "    </tr>\n",
       "    <tr>\n",
       "      <th>5</th>\n",
       "      <td>comp.windows.x</td>\n",
       "      <td>5</td>\n",
       "    </tr>\n",
       "    <tr>\n",
       "      <th>6</th>\n",
       "      <td>misc.forsale</td>\n",
       "      <td>6</td>\n",
       "    </tr>\n",
       "    <tr>\n",
       "      <th>7</th>\n",
       "      <td>rec.autos</td>\n",
       "      <td>7</td>\n",
       "    </tr>\n",
       "    <tr>\n",
       "      <th>8</th>\n",
       "      <td>rec.motorcycles</td>\n",
       "      <td>8</td>\n",
       "    </tr>\n",
       "    <tr>\n",
       "      <th>9</th>\n",
       "      <td>rec.sport.baseball</td>\n",
       "      <td>9</td>\n",
       "    </tr>\n",
       "    <tr>\n",
       "      <th>10</th>\n",
       "      <td>rec.sport.hockey</td>\n",
       "      <td>10</td>\n",
       "    </tr>\n",
       "    <tr>\n",
       "      <th>11</th>\n",
       "      <td>sci.crypt</td>\n",
       "      <td>11</td>\n",
       "    </tr>\n",
       "    <tr>\n",
       "      <th>12</th>\n",
       "      <td>sci.electronics</td>\n",
       "      <td>12</td>\n",
       "    </tr>\n",
       "    <tr>\n",
       "      <th>13</th>\n",
       "      <td>sci.med</td>\n",
       "      <td>13</td>\n",
       "    </tr>\n",
       "    <tr>\n",
       "      <th>14</th>\n",
       "      <td>sci.space</td>\n",
       "      <td>14</td>\n",
       "    </tr>\n",
       "    <tr>\n",
       "      <th>15</th>\n",
       "      <td>soc.religion.christian</td>\n",
       "      <td>15</td>\n",
       "    </tr>\n",
       "    <tr>\n",
       "      <th>16</th>\n",
       "      <td>talk.politics.guns</td>\n",
       "      <td>16</td>\n",
       "    </tr>\n",
       "    <tr>\n",
       "      <th>17</th>\n",
       "      <td>talk.politics.mideast</td>\n",
       "      <td>17</td>\n",
       "    </tr>\n",
       "    <tr>\n",
       "      <th>18</th>\n",
       "      <td>talk.politics.misc</td>\n",
       "      <td>18</td>\n",
       "    </tr>\n",
       "    <tr>\n",
       "      <th>19</th>\n",
       "      <td>talk.religion.misc</td>\n",
       "      <td>19</td>\n",
       "    </tr>\n",
       "  </tbody>\n",
       "</table>\n",
       "</div>"
      ],
      "text/plain": [
       "                 target_name  target_value\n",
       "0                alt.atheism             0\n",
       "1              comp.graphics             1\n",
       "2    comp.os.ms-windows.misc             2\n",
       "3   comp.sys.ibm.pc.hardware             3\n",
       "4      comp.sys.mac.hardware             4\n",
       "5             comp.windows.x             5\n",
       "6               misc.forsale             6\n",
       "7                  rec.autos             7\n",
       "8            rec.motorcycles             8\n",
       "9         rec.sport.baseball             9\n",
       "10          rec.sport.hockey            10\n",
       "11                 sci.crypt            11\n",
       "12           sci.electronics            12\n",
       "13                   sci.med            13\n",
       "14                 sci.space            14\n",
       "15    soc.religion.christian            15\n",
       "16        talk.politics.guns            16\n",
       "17     talk.politics.mideast            17\n",
       "18        talk.politics.misc            18\n",
       "19        talk.religion.misc            19"
      ]
     },
     "metadata": {
      "tags": []
     },
     "execution_count": 53
    }
   ]
  },
  {
   "cell_type": "code",
   "metadata": {
    "id": "zMstXkc6xohe",
    "colab_type": "code",
    "colab": {
     "base_uri": "https://localhost:8080/",
     "height": 669
    },
    "outputId": "9ec38fe9-8b14-48b6-9890-92a5a333008d"
   },
   "source": [
    "target_serie = pd.Series(newsgroups_train.target)\n",
    "target_df['distribution'] = target_serie.value_counts()/target_serie.count() * 100\n",
    "target_df"
   ],
   "execution_count": 54,
   "outputs": [
    {
     "output_type": "execute_result",
     "data": {
      "text/html": [
       "<div>\n",
       "<style scoped>\n",
       "    .dataframe tbody tr th:only-of-type {\n",
       "        vertical-align: middle;\n",
       "    }\n",
       "\n",
       "    .dataframe tbody tr th {\n",
       "        vertical-align: top;\n",
       "    }\n",
       "\n",
       "    .dataframe thead th {\n",
       "        text-align: right;\n",
       "    }\n",
       "</style>\n",
       "<table border=\"1\" class=\"dataframe\">\n",
       "  <thead>\n",
       "    <tr style=\"text-align: right;\">\n",
       "      <th></th>\n",
       "      <th>target_name</th>\n",
       "      <th>target_value</th>\n",
       "      <th>distribution</th>\n",
       "    </tr>\n",
       "  </thead>\n",
       "  <tbody>\n",
       "    <tr>\n",
       "      <th>0</th>\n",
       "      <td>alt.atheism</td>\n",
       "      <td>0</td>\n",
       "      <td>4.242531</td>\n",
       "    </tr>\n",
       "    <tr>\n",
       "      <th>1</th>\n",
       "      <td>comp.graphics</td>\n",
       "      <td>1</td>\n",
       "      <td>5.161747</td>\n",
       "    </tr>\n",
       "    <tr>\n",
       "      <th>2</th>\n",
       "      <td>comp.os.ms-windows.misc</td>\n",
       "      <td>2</td>\n",
       "      <td>5.223617</td>\n",
       "    </tr>\n",
       "    <tr>\n",
       "      <th>3</th>\n",
       "      <td>comp.sys.ibm.pc.hardware</td>\n",
       "      <td>3</td>\n",
       "      <td>5.214778</td>\n",
       "    </tr>\n",
       "    <tr>\n",
       "      <th>4</th>\n",
       "      <td>comp.sys.mac.hardware</td>\n",
       "      <td>4</td>\n",
       "      <td>5.108715</td>\n",
       "    </tr>\n",
       "    <tr>\n",
       "      <th>5</th>\n",
       "      <td>comp.windows.x</td>\n",
       "      <td>5</td>\n",
       "      <td>5.241294</td>\n",
       "    </tr>\n",
       "    <tr>\n",
       "      <th>6</th>\n",
       "      <td>misc.forsale</td>\n",
       "      <td>6</td>\n",
       "      <td>5.170585</td>\n",
       "    </tr>\n",
       "    <tr>\n",
       "      <th>7</th>\n",
       "      <td>rec.autos</td>\n",
       "      <td>7</td>\n",
       "      <td>5.250133</td>\n",
       "    </tr>\n",
       "    <tr>\n",
       "      <th>8</th>\n",
       "      <td>rec.motorcycles</td>\n",
       "      <td>8</td>\n",
       "      <td>5.285487</td>\n",
       "    </tr>\n",
       "    <tr>\n",
       "      <th>9</th>\n",
       "      <td>rec.sport.baseball</td>\n",
       "      <td>9</td>\n",
       "      <td>5.276648</td>\n",
       "    </tr>\n",
       "    <tr>\n",
       "      <th>10</th>\n",
       "      <td>rec.sport.hockey</td>\n",
       "      <td>10</td>\n",
       "      <td>5.303164</td>\n",
       "    </tr>\n",
       "    <tr>\n",
       "      <th>11</th>\n",
       "      <td>sci.crypt</td>\n",
       "      <td>11</td>\n",
       "      <td>5.258971</td>\n",
       "    </tr>\n",
       "    <tr>\n",
       "      <th>12</th>\n",
       "      <td>sci.electronics</td>\n",
       "      <td>12</td>\n",
       "      <td>5.223617</td>\n",
       "    </tr>\n",
       "    <tr>\n",
       "      <th>13</th>\n",
       "      <td>sci.med</td>\n",
       "      <td>13</td>\n",
       "      <td>5.250133</td>\n",
       "    </tr>\n",
       "    <tr>\n",
       "      <th>14</th>\n",
       "      <td>sci.space</td>\n",
       "      <td>14</td>\n",
       "      <td>5.241294</td>\n",
       "    </tr>\n",
       "    <tr>\n",
       "      <th>15</th>\n",
       "      <td>soc.religion.christian</td>\n",
       "      <td>15</td>\n",
       "      <td>5.294326</td>\n",
       "    </tr>\n",
       "    <tr>\n",
       "      <th>16</th>\n",
       "      <td>talk.politics.guns</td>\n",
       "      <td>16</td>\n",
       "      <td>4.825879</td>\n",
       "    </tr>\n",
       "    <tr>\n",
       "      <th>17</th>\n",
       "      <td>talk.politics.mideast</td>\n",
       "      <td>17</td>\n",
       "      <td>4.984974</td>\n",
       "    </tr>\n",
       "    <tr>\n",
       "      <th>18</th>\n",
       "      <td>talk.politics.misc</td>\n",
       "      <td>18</td>\n",
       "      <td>4.109952</td>\n",
       "    </tr>\n",
       "    <tr>\n",
       "      <th>19</th>\n",
       "      <td>talk.religion.misc</td>\n",
       "      <td>19</td>\n",
       "      <td>3.332155</td>\n",
       "    </tr>\n",
       "  </tbody>\n",
       "</table>\n",
       "</div>"
      ],
      "text/plain": [
       "                 target_name  target_value  distribution\n",
       "0                alt.atheism             0      4.242531\n",
       "1              comp.graphics             1      5.161747\n",
       "2    comp.os.ms-windows.misc             2      5.223617\n",
       "3   comp.sys.ibm.pc.hardware             3      5.214778\n",
       "4      comp.sys.mac.hardware             4      5.108715\n",
       "5             comp.windows.x             5      5.241294\n",
       "6               misc.forsale             6      5.170585\n",
       "7                  rec.autos             7      5.250133\n",
       "8            rec.motorcycles             8      5.285487\n",
       "9         rec.sport.baseball             9      5.276648\n",
       "10          rec.sport.hockey            10      5.303164\n",
       "11                 sci.crypt            11      5.258971\n",
       "12           sci.electronics            12      5.223617\n",
       "13                   sci.med            13      5.250133\n",
       "14                 sci.space            14      5.241294\n",
       "15    soc.religion.christian            15      5.294326\n",
       "16        talk.politics.guns            16      4.825879\n",
       "17     talk.politics.mideast            17      4.984974\n",
       "18        talk.politics.misc            18      4.109952\n",
       "19        talk.religion.misc            19      3.332155"
      ]
     },
     "metadata": {
      "tags": []
     },
     "execution_count": 54
    }
   ]
  },
  {
   "cell_type": "code",
   "metadata": {
    "id": "fBJkJvRDuDBW",
    "colab_type": "code",
    "colab": {
     "base_uri": "https://localhost:8080/",
     "height": 369
    },
    "outputId": "a36a0ea6-6cde-48a8-ae9b-54402ce12a21"
   },
   "source": [
    "displayFeaturesAndDescribe(array_features=newsgroups_train.target, feature='labels')"
   ],
   "execution_count": 55,
   "outputs": [
    {
     "output_type": "display_data",
     "data": {
      "image/png": "[encoded data removed]",
      "text/plain": [
       "<Figure size 867.25x360 with 1 Axes>"
      ]
     },
     "metadata": {
      "tags": []
     }
    }
   ]
  },
  {
   "cell_type": "code",
   "metadata": {
    "id": "aSlsxPCczIc9",
    "colab_type": "code",
    "colab": {
     "base_uri": "https://localhost:8080/",
     "height": 170
    },
    "outputId": "e32db63a-78ed-4e78-b9fc-de6ab7e751fc"
   },
   "source": [
    "target_df['distribution'].describe()"
   ],
   "execution_count": 56,
   "outputs": [
    {
     "output_type": "execute_result",
     "data": {
      "text/plain": [
       "count    20.000000\n",
       "mean      5.000000\n",
       "std       0.514865\n",
       "min       3.332155\n",
       "25%       5.077780\n",
       "50%       5.223617\n",
       "75%       5.252342\n",
       "max       5.303164\n",
       "Name: distribution, dtype: float64"
      ]
     },
     "metadata": {
      "tags": []
     },
     "execution_count": 56
    }
   ]
  },
  {
   "cell_type": "markdown",
   "metadata": {
    "id": "eol5YL79yN-7",
    "colab_type": "text"
   },
   "source": [
    "The dataset is well balanced. The percentage of each class is approximatly of 5%. Religion is represented at 3.3%."
   ]
  },
  {
   "cell_type": "markdown",
   "metadata": {
    "id": "PdXWmelBinRp",
    "colab_type": "text"
   },
   "source": [
    "# Clean the data \n",
    "\n",
    "The first step we are going to use spacy to clean the data by :\n",
    "\n",
    "* lower all the word to avoid that word like : Hello HELLO or hello are \n",
    "considered as 3 differents words.\n",
    "* removing stop words \n",
    "* removing punctuation \n",
    "* lemming \n",
    "\n",
    "\n",
    "Note : In the second part we will do the same without lemming to see the performance."
   ]
  },
  {
   "cell_type": "code",
   "metadata": {
    "id": "gSQtZTjSjhn5",
    "colab_type": "code",
    "outputId": "801589bd-d463-480e-ab7c-8f43dd8cb29a",
    "colab": {
     "base_uri": "https://localhost:8080/",
     "height": 34
    }
   },
   "source": [
    "import spacy\n",
    "\n",
    "print('spaCy Version: %s' % (spacy.__version__))\n",
    "spacy_nlp = spacy.load('en_core_web_sm')\n",
    "stop_words = spacy.lang.en.STOP_WORDS\n",
    "punctuations = spacy.lang.punctuation.PUNCT"
   ],
   "execution_count": 57,
   "outputs": [
    {
     "output_type": "stream",
     "text": [
      "spaCy Version: 2.2.2\n"
     ],
     "name": "stdout"
    }
   ]
  },
  {
   "cell_type": "code",
   "metadata": {
    "id": "MByuTvAklBCr",
    "colab_type": "code",
    "colab": {}
   },
   "source": [
    "parse = spacy_nlp(newsgroups_train.data[0])"
   ],
   "execution_count": 0,
   "outputs": []
  },
  {
   "cell_type": "code",
   "metadata": {
    "id": "Dsfis5SRl2jK",
    "colab_type": "code",
    "outputId": "77670a6b-66a4-4048-ace7-d00995eb079c",
    "colab": {
     "base_uri": "https://localhost:8080/",
     "height": 34
    }
   },
   "source": [
    "parse.vocab.length"
   ],
   "execution_count": 59,
   "outputs": [
    {
     "output_type": "execute_result",
     "data": {
      "text/plain": [
       "572"
      ]
     },
     "metadata": {
      "tags": []
     },
     "execution_count": 59
    }
   ]
  },
  {
   "cell_type": "markdown",
   "metadata": {
    "id": "VjnJpu_smTLY",
    "colab_type": "text"
   },
   "source": [
    "Spacy parser, parse the text and apply different model on the text :\n",
    "\n",
    "* Tokenizer : Split the text in token. (base on the language)\n",
    "* NER => identify entity in the text \n",
    "* Tagger => Assign part-of-speech tags.\n",
    "* TextCat => optionnal you can add a text classifier "
   ]
  },
  {
   "cell_type": "code",
   "metadata": {
    "id": "XRRzQwLLqvDn",
    "colab_type": "code",
    "colab": {}
   },
   "source": [
    "# create a copy of the dataset \n",
    "x_train = newsgroups_train.data.copy()"
   ],
   "execution_count": 0,
   "outputs": []
  },
  {
   "cell_type": "code",
   "metadata": {
    "id": "eoe-8ovVkFv6",
    "colab_type": "code",
    "colab": {}
   },
   "source": [
    "\n",
    "def prepareText(text):\n",
    "  \"\"\"\n",
    "  This function clean the text. \n",
    "  \"\"\"\n",
    "\n",
    "  processing = spacy_nlp(text)\n",
    "  \n",
    "  # lowering words and lemming \n",
    "  # strip space \n",
    "  # don't apply lemming if the word is a pronoun because spacy convert the word in \"-PRON-\" and we need all the word \n",
    "  processing = [ word.lemma_.lower() if word.lemma_ != \"-PRON-\" else word.lower_ for word in processing ] \n",
    "\n",
    "  # remove stop words and punctuation \n",
    "\n",
    "  processing = [word  for word in processing if (word not in stop_words and punctuations)]\n",
    "\n",
    "  return processing  "
   ],
   "execution_count": 0,
   "outputs": []
  },
  {
   "cell_type": "markdown",
   "metadata": {
    "id": "kvfZXx5jsq_x",
    "colab_type": "text"
   },
   "source": [
    "We will implement the same function but without lemming. We could add a boolean variable to indicate if we do lemming or not but for performance reason I prefer to implement an other function.\n",
    "\n",
    "Let's test this one "
   ]
  },
  {
   "cell_type": "code",
   "metadata": {
    "id": "kIoD-N-EtANV",
    "colab_type": "code",
    "outputId": "bc214fd9-9f5e-4bf7-9506-63237833b70b",
    "colab": {
     "base_uri": "https://localhost:8080/",
     "height": 1000
    }
   },
   "source": [
    "prepareText(x_train[0])"
   ],
   "execution_count": 62,
   "outputs": [
    {
     "output_type": "execute_result",
     "data": {
      "text/plain": [
       "[':',\n",
       " 'lerxst@wam.umd.edu',\n",
       " '(',\n",
       " 'thing',\n",
       " ')',\n",
       " '\\n',\n",
       " 'subject',\n",
       " ':',\n",
       " 'car',\n",
       " '!',\n",
       " '?',\n",
       " '\\n',\n",
       " 'nntp',\n",
       " '-',\n",
       " 'posting',\n",
       " '-',\n",
       " 'host',\n",
       " ':',\n",
       " 'rac3.wam.umd.edu',\n",
       " '\\n',\n",
       " 'organization',\n",
       " ':',\n",
       " 'university',\n",
       " 'maryland',\n",
       " ',',\n",
       " 'college',\n",
       " 'park',\n",
       " '\\n',\n",
       " 'line',\n",
       " ':',\n",
       " '15',\n",
       " '\\n\\n ',\n",
       " 'wonder',\n",
       " 'enlighten',\n",
       " 'car',\n",
       " '\\n',\n",
       " 'day',\n",
       " '.',\n",
       " '2-door',\n",
       " 'sport',\n",
       " 'car',\n",
       " ',',\n",
       " 'look',\n",
       " 'late',\n",
       " '60s/',\n",
       " '\\n',\n",
       " 'early',\n",
       " '70',\n",
       " '.',\n",
       " 'bricklin',\n",
       " '.',\n",
       " 'door',\n",
       " 'small',\n",
       " '.',\n",
       " 'addition',\n",
       " ',',\n",
       " '\\n',\n",
       " 'bumper',\n",
       " 'separate',\n",
       " 'rest',\n",
       " 'body',\n",
       " '.',\n",
       " '\\n',\n",
       " 'know',\n",
       " '.',\n",
       " 'tellme',\n",
       " 'model',\n",
       " ',',\n",
       " 'engine',\n",
       " 'spec',\n",
       " ',',\n",
       " 'year',\n",
       " '\\n',\n",
       " 'production',\n",
       " ',',\n",
       " 'car',\n",
       " ',',\n",
       " 'history',\n",
       " ',',\n",
       " 'info',\n",
       " '\\n',\n",
       " 'funky',\n",
       " 'look',\n",
       " 'car',\n",
       " ',',\n",
       " 'e',\n",
       " '-',\n",
       " 'mail',\n",
       " '.',\n",
       " '\\n\\n',\n",
       " 'thank',\n",
       " ',',\n",
       " '\\n',\n",
       " '-',\n",
       " 'il',\n",
       " '\\n   ',\n",
       " '----',\n",
       " 'bring',\n",
       " 'neighborhood',\n",
       " 'lerxst',\n",
       " '----',\n",
       " '\\n\\n\\n\\n\\n']"
      ]
     },
     "metadata": {
      "tags": []
     },
     "execution_count": 62
    }
   ]
  },
  {
   "cell_type": "code",
   "metadata": {
    "id": "9_2PzEEOvMb1",
    "colab_type": "code",
    "outputId": "1c3dcc1d-8165-483d-ca52-2539f0af9011",
    "colab": {
     "base_uri": "https://localhost:8080/",
     "height": 1000
    }
   },
   "source": [
    "\n",
    "for i in range(0, len(x_train)) :\n",
    "  x_train[i] = prepareText(x_train[i])\n",
    "\n",
    "x_train[0]"
   ],
   "execution_count": 63,
   "outputs": [
    {
     "output_type": "execute_result",
     "data": {
      "text/plain": [
       "[':',\n",
       " 'lerxst@wam.umd.edu',\n",
       " '(',\n",
       " 'thing',\n",
       " ')',\n",
       " '\\n',\n",
       " 'subject',\n",
       " ':',\n",
       " 'car',\n",
       " '!',\n",
       " '?',\n",
       " '\\n',\n",
       " 'nntp',\n",
       " '-',\n",
       " 'posting',\n",
       " '-',\n",
       " 'host',\n",
       " ':',\n",
       " 'rac3.wam.umd.edu',\n",
       " '\\n',\n",
       " 'organization',\n",
       " ':',\n",
       " 'university',\n",
       " 'maryland',\n",
       " ',',\n",
       " 'college',\n",
       " 'park',\n",
       " '\\n',\n",
       " 'line',\n",
       " ':',\n",
       " '15',\n",
       " '\\n\\n ',\n",
       " 'wonder',\n",
       " 'enlighten',\n",
       " 'car',\n",
       " '\\n',\n",
       " 'day',\n",
       " '.',\n",
       " '2-door',\n",
       " 'sport',\n",
       " 'car',\n",
       " ',',\n",
       " 'look',\n",
       " 'late',\n",
       " '60s/',\n",
       " '\\n',\n",
       " 'early',\n",
       " '70',\n",
       " '.',\n",
       " 'bricklin',\n",
       " '.',\n",
       " 'door',\n",
       " 'small',\n",
       " '.',\n",
       " 'addition',\n",
       " ',',\n",
       " '\\n',\n",
       " 'bumper',\n",
       " 'separate',\n",
       " 'rest',\n",
       " 'body',\n",
       " '.',\n",
       " '\\n',\n",
       " 'know',\n",
       " '.',\n",
       " 'tellme',\n",
       " 'model',\n",
       " ',',\n",
       " 'engine',\n",
       " 'spec',\n",
       " ',',\n",
       " 'year',\n",
       " '\\n',\n",
       " 'production',\n",
       " ',',\n",
       " 'car',\n",
       " ',',\n",
       " 'history',\n",
       " ',',\n",
       " 'info',\n",
       " '\\n',\n",
       " 'funky',\n",
       " 'look',\n",
       " 'car',\n",
       " ',',\n",
       " 'e',\n",
       " '-',\n",
       " 'mail',\n",
       " '.',\n",
       " '\\n\\n',\n",
       " 'thank',\n",
       " ',',\n",
       " '\\n',\n",
       " '-',\n",
       " 'il',\n",
       " '\\n   ',\n",
       " '----',\n",
       " 'bring',\n",
       " 'neighborhood',\n",
       " 'lerxst',\n",
       " '----',\n",
       " '\\n\\n\\n\\n\\n']"
      ]
     },
     "metadata": {
      "tags": []
     },
     "execution_count": 63
    }
   ]
  },
  {
   "cell_type": "markdown",
   "metadata": {
    "id": "jBFa3RLr3WLd",
    "colab_type": "text"
   },
   "source": [
    "# TF-IDF \n",
    "\n",
    "Once our training data have been cleaned we need to apply countVectorizer to the dataset. \n",
    "\n",
    "CountVectorizer will tranform each ext to a sparse matrix that represent words frequency in the text. Then we will be able to apply TF-IDF on this sparse matrix. \n",
    "\n",
    "Tf_IDF : this algorithm use word frequency in a document and the word frequency in other document to compute a value that represent the word in the document. The more a word appear the least this value will be high. \n",
    "It's determine the more relevant word in a text. The important word. \n",
    "\n",
    "The intuition is that word that are important are not repeated frequently in a document.\n",
    "\n",
    "## CountVectorizer \n",
    "\n",
    "Here by doing ‘count_vect.fit_transform(twenty_train.data)’, we are learning the vocabulary dictionary and it returns a Document-Term matrix. [n_samples, n_features]."
   ]
  },
  {
   "cell_type": "code",
   "metadata": {
    "id": "prGMQrwb3VSq",
    "colab_type": "code",
    "colab": {}
   },
   "source": [
    "from sklearn.feature_extraction.text import CountVectorizer\n",
    "from sklearn.feature_extraction.text import TfidfTransformer\n",
    "\n",
    "count_vec = CountVectorizer()\n",
    "cv_data = count_vec.fit_transform(newsgroups_train.data)\n",
    "tfidf = TfidfTransformer()\n",
    "tfidf_data = tfidf.fit_transform(cv_data)"
   ],
   "execution_count": 0,
   "outputs": []
  },
  {
   "cell_type": "code",
   "metadata": {
    "id": "WKUG1rlmB1xd",
    "colab_type": "code",
    "outputId": "89322ab8-5045-4f70-d74f-7b1c08716ed2",
    "colab": {
     "base_uri": "https://localhost:8080/",
     "height": 34
    }
   },
   "source": [
    "tfidf_data.shape"
   ],
   "execution_count": 65,
   "outputs": [
    {
     "output_type": "execute_result",
     "data": {
      "text/plain": [
       "(11314, 130107)"
      ]
     },
     "metadata": {
      "tags": []
     },
     "execution_count": 65
    }
   ]
  },
  {
   "cell_type": "code",
   "metadata": {
    "id": "mbsTjGp5CB6V",
    "colab_type": "code",
    "outputId": "587138cd-3dce-41f3-d70f-dd950312c2d4",
    "colab": {
     "base_uri": "https://localhost:8080/",
     "height": 34
    }
   },
   "source": [
    "newsgroups_train.target.shape"
   ],
   "execution_count": 66,
   "outputs": [
    {
     "output_type": "execute_result",
     "data": {
      "text/plain": [
       "(11314,)"
      ]
     },
     "metadata": {
      "tags": []
     },
     "execution_count": 66
    }
   ]
  },
  {
   "cell_type": "code",
   "metadata": {
    "id": "urMtoDRpzE2M",
    "colab_type": "code",
    "colab": {}
   },
   "source": [
    "import numpy as np \n",
    "classes = np.unique(newsgroups_train.target)"
   ],
   "execution_count": 0,
   "outputs": []
  },
  {
   "cell_type": "markdown",
   "metadata": {
    "id": "kK65H_Oc45cf",
    "colab_type": "text"
   },
   "source": [
    "The different class name in the dataset are :"
   ]
  },
  {
   "cell_type": "code",
   "metadata": {
    "id": "SJloGtbn5BmB",
    "colab_type": "code",
    "outputId": "bb581449-9efe-4824-8028-62b4170bb5d9",
    "colab": {
     "base_uri": "https://localhost:8080/",
     "height": 357
    }
   },
   "source": [
    "newsgroups_train.target_names"
   ],
   "execution_count": 68,
   "outputs": [
    {
     "output_type": "execute_result",
     "data": {
      "text/plain": [
       "['alt.atheism',\n",
       " 'comp.graphics',\n",
       " 'comp.os.ms-windows.misc',\n",
       " 'comp.sys.ibm.pc.hardware',\n",
       " 'comp.sys.mac.hardware',\n",
       " 'comp.windows.x',\n",
       " 'misc.forsale',\n",
       " 'rec.autos',\n",
       " 'rec.motorcycles',\n",
       " 'rec.sport.baseball',\n",
       " 'rec.sport.hockey',\n",
       " 'sci.crypt',\n",
       " 'sci.electronics',\n",
       " 'sci.med',\n",
       " 'sci.space',\n",
       " 'soc.religion.christian',\n",
       " 'talk.politics.guns',\n",
       " 'talk.politics.mideast',\n",
       " 'talk.politics.misc',\n",
       " 'talk.religion.misc']"
      ]
     },
     "metadata": {
      "tags": []
     },
     "execution_count": 68
    }
   ]
  },
  {
   "cell_type": "markdown",
   "metadata": {
    "id": "AB09rxPDEQB4",
    "colab_type": "text"
   },
   "source": [
    "Each row represent a document of dataset.\n",
    "\n",
    "#training \n",
    "\n",
    "We can now train our 4 modeles on the TF-IDF matrix now that we have a representation of all the document. We need to train our modele to predict a input text class base using the TF-IDF matrix. \n",
    "\n",
    "\n",
    "We are going to create a pipeline for each one :"
   ]
  },
  {
   "cell_type": "code",
   "metadata": {
    "id": "HfimCUDUEauV",
    "colab_type": "code",
    "colab": {}
   },
   "source": [
    "from sklearn.naive_bayes import MultinomialNB\n",
    "from sklearn.linear_model import LogisticRegression, SGDClassifier\n",
    "from sklearn.svm import LinearSVC\n",
    "import seaborn as sns \n",
    "\n"
   ],
   "execution_count": 0,
   "outputs": []
  },
  {
   "cell_type": "code",
   "metadata": {
    "id": "xVKEbY5iFIUM",
    "colab_type": "code",
    "colab": {}
   },
   "source": [
    "from sklearn.pipeline import Pipeline\n",
    "\n",
    "naives_clf = Pipeline([('vect', CountVectorizer()),\n",
    "                      ('tfidf', TfidfTransformer()),\n",
    "                      ('clf', MultinomialNB())])\n",
    "log_clf = Pipeline([('vect', CountVectorizer()),\n",
    "                    ('tfidf', TfidfTransformer()),\n",
    "                    ('clf', LogisticRegression())])\n",
    "sgd_clf = Pipeline([('vect', CountVectorizer()),\n",
    "                    ('tfidf', TfidfTransformer()),\n",
    "                    ('clf', SGDClassifier())]) \n",
    "svc_clf = Pipeline([('vect', CountVectorizer()),\n",
    "                    ('tfidf', TfidfTransformer()),\n",
    "                    ('clf', LinearSVC())])\n",
    "\n"
   ],
   "execution_count": 0,
   "outputs": []
  },
  {
   "cell_type": "markdown",
   "metadata": {
    "id": "PmOXUZaH-8QP",
    "colab_type": "text"
   },
   "source": [
    "### classification_report : \n",
    "\n",
    "Compute precision, recall, F-measure and support for each class\n",
    "\n",
    "* The precision is the ratio tp / (tp + fp) where tp is the number of true positives and fp the number of false positives. The precision is intuitively the ability of the classifier not to label as positive a sample that is negative.\n",
    "\n",
    "* The recall is the ratio tp / (tp + fn) where tp is the number of true positives and fn the number of false negatives. The recall is intuitively the ability of the classifier to find all the positive samples.\n",
    "\n",
    "* precision and recall, where an F-beta score reaches its best value at 1 and worst score at 0.\n",
    "\n",
    "* The support is the number of occurrences of each class in y_true."
   ]
  },
  {
   "cell_type": "code",
   "metadata": {
    "id": "yxoJLwlHIqlx",
    "colab_type": "code",
    "outputId": "5a8c1e89-59d0-4993-d57d-f690cde754e4",
    "colab": {
     "base_uri": "https://localhost:8080/",
     "height": 1000
    }
   },
   "source": [
    "from sklearn.metrics import classification_report\n",
    "modeles = {\"naives\":naives_clf, \"logistic regression\": log_clf, \"SGD_classifier\":sgd_clf, \"Linear SVC\":svc_clf}\n",
    "\n",
    "\n",
    "for key in modeles:\n",
    "  modeles[key].fit(newsgroups_train.data, newsgroups_train.target)\n",
    "  predicted = modeles[key].predict(newsgroups_test.data)\n",
    "  score = classification_report(y_pred=predicted, y_true=newsgroups_test.target, labels=classes)\n",
    "  print(f\"Modele : {key} score : {score} \\n\\n\\n\")"
   ],
   "execution_count": 71,
   "outputs": [
    {
     "output_type": "stream",
     "text": [
      "Modele : naives score :               precision    recall  f1-score   support\n",
      "\n",
      "           0       0.80      0.52      0.63       319\n",
      "           1       0.81      0.65      0.72       389\n",
      "           2       0.82      0.65      0.73       394\n",
      "           3       0.67      0.78      0.72       392\n",
      "           4       0.86      0.77      0.81       385\n",
      "           5       0.89      0.75      0.82       395\n",
      "           6       0.93      0.69      0.80       390\n",
      "           7       0.85      0.92      0.88       396\n",
      "           8       0.94      0.93      0.93       398\n",
      "           9       0.92      0.90      0.91       397\n",
      "          10       0.89      0.97      0.93       399\n",
      "          11       0.59      0.97      0.74       396\n",
      "          12       0.84      0.60      0.70       393\n",
      "          13       0.92      0.74      0.82       396\n",
      "          14       0.84      0.89      0.87       394\n",
      "          15       0.44      0.98      0.61       398\n",
      "          16       0.64      0.94      0.76       364\n",
      "          17       0.93      0.91      0.92       376\n",
      "          18       0.96      0.42      0.58       310\n",
      "          19       0.97      0.14      0.24       251\n",
      "\n",
      "    accuracy                           0.77      7532\n",
      "   macro avg       0.83      0.76      0.76      7532\n",
      "weighted avg       0.82      0.77      0.77      7532\n",
      " \n",
      "\n",
      "\n",
      "\n"
     ],
     "name": "stdout"
    },
    {
     "output_type": "stream",
     "text": [
      "/usr/local/lib/python3.6/dist-packages/sklearn/linear_model/logistic.py:432: FutureWarning: Default solver will be changed to 'lbfgs' in 0.22. Specify a solver to silence this warning.\n",
      "  FutureWarning)\n",
      "/usr/local/lib/python3.6/dist-packages/sklearn/linear_model/logistic.py:469: FutureWarning: Default multi_class will be changed to 'auto' in 0.22. Specify the multi_class option to silence this warning.\n",
      "  \"this warning.\", FutureWarning)\n"
     ],
     "name": "stderr"
    },
    {
     "output_type": "stream",
     "text": [
      "Modele : logistic regression score :               precision    recall  f1-score   support\n",
      "\n",
      "           0       0.80      0.74      0.77       319\n",
      "           1       0.69      0.78      0.74       389\n",
      "           2       0.76      0.75      0.75       394\n",
      "           3       0.73      0.72      0.72       392\n",
      "           4       0.81      0.83      0.82       385\n",
      "           5       0.83      0.74      0.78       395\n",
      "           6       0.76      0.90      0.83       390\n",
      "           7       0.91      0.89      0.90       396\n",
      "           8       0.94      0.95      0.94       398\n",
      "           9       0.87      0.93      0.90       397\n",
      "          10       0.94      0.96      0.95       399\n",
      "          11       0.93      0.89      0.91       396\n",
      "          12       0.76      0.78      0.77       393\n",
      "          13       0.89      0.84      0.86       396\n",
      "          14       0.89      0.92      0.91       394\n",
      "          15       0.79      0.93      0.85       398\n",
      "          16       0.71      0.90      0.80       364\n",
      "          17       0.96      0.89      0.92       376\n",
      "          18       0.79      0.58      0.67       310\n",
      "          19       0.83      0.45      0.59       251\n",
      "\n",
      "    accuracy                           0.83      7532\n",
      "   macro avg       0.83      0.82      0.82      7532\n",
      "weighted avg       0.83      0.83      0.83      7532\n",
      " \n",
      "\n",
      "\n",
      "\n",
      "Modele : SGD_classifier score :               precision    recall  f1-score   support\n",
      "\n",
      "           0       0.82      0.77      0.79       319\n",
      "           1       0.78      0.79      0.78       389\n",
      "           2       0.75      0.74      0.74       394\n",
      "           3       0.72      0.76      0.74       392\n",
      "           4       0.84      0.85      0.84       385\n",
      "           5       0.88      0.76      0.82       395\n",
      "           6       0.83      0.91      0.87       390\n",
      "           7       0.93      0.90      0.92       396\n",
      "           8       0.95      0.95      0.95       398\n",
      "           9       0.92      0.95      0.93       397\n",
      "          10       0.95      0.98      0.97       399\n",
      "          11       0.91      0.95      0.93       396\n",
      "          12       0.83      0.79      0.81       393\n",
      "          13       0.89      0.89      0.89       396\n",
      "          14       0.89      0.94      0.92       394\n",
      "          15       0.82      0.93      0.87       398\n",
      "          16       0.74      0.93      0.82       364\n",
      "          17       0.96      0.91      0.94       376\n",
      "          18       0.88      0.61      0.72       310\n",
      "          19       0.76      0.57      0.65       251\n",
      "\n",
      "    accuracy                           0.85      7532\n",
      "   macro avg       0.85      0.84      0.85      7532\n",
      "weighted avg       0.85      0.85      0.85      7532\n",
      " \n",
      "\n",
      "\n",
      "\n",
      "Modele : Linear SVC score :               precision    recall  f1-score   support\n",
      "\n",
      "           0       0.82      0.80      0.81       319\n",
      "           1       0.76      0.80      0.78       389\n",
      "           2       0.77      0.73      0.75       394\n",
      "           3       0.71      0.76      0.74       392\n",
      "           4       0.84      0.86      0.85       385\n",
      "           5       0.87      0.76      0.81       395\n",
      "           6       0.83      0.91      0.87       390\n",
      "           7       0.92      0.91      0.91       396\n",
      "           8       0.95      0.95      0.95       398\n",
      "           9       0.92      0.95      0.93       397\n",
      "          10       0.96      0.98      0.97       399\n",
      "          11       0.93      0.94      0.93       396\n",
      "          12       0.81      0.79      0.80       393\n",
      "          13       0.90      0.87      0.88       396\n",
      "          14       0.90      0.93      0.92       394\n",
      "          15       0.84      0.93      0.88       398\n",
      "          16       0.75      0.92      0.82       364\n",
      "          17       0.97      0.89      0.93       376\n",
      "          18       0.82      0.62      0.71       310\n",
      "          19       0.75      0.61      0.68       251\n",
      "\n",
      "    accuracy                           0.85      7532\n",
      "   macro avg       0.85      0.85      0.85      7532\n",
      "weighted avg       0.85      0.85      0.85      7532\n",
      " \n",
      "\n",
      "\n",
      "\n"
     ],
     "name": "stdout"
    }
   ]
  },
  {
   "cell_type": "markdown",
   "metadata": {
    "id": "_iSy0gfJJOdL",
    "colab_type": "text"
   },
   "source": [
    "F1-score and Precision"
   ]
  },
  {
   "cell_type": "code",
   "metadata": {
    "id": "-VFCXfitJrGP",
    "colab_type": "code",
    "colab": {}
   },
   "source": [
    "naives_clf = Pipeline([('vect', CountVectorizer(stop_words='english')),\n",
    "                      ('tfidf', TfidfTransformer()),\n",
    "                      ('clf', MultinomialNB())])\n",
    "log_clf = Pipeline([('vect', CountVectorizer(stop_words='english')),\n",
    "                    ('tfidf', TfidfTransformer()),\n",
    "                    ('clf', LogisticRegression())])\n",
    "sgd_clf = Pipeline([('vect', CountVectorizer(stop_words='english')),\n",
    "                    ('tfidf', TfidfTransformer()),\n",
    "                    ('clf', SGDClassifier())]) \n",
    "svc_clf = Pipeline([('vect', CountVectorizer(stop_words='english')),\n",
    "                    ('tfidf', TfidfTransformer()),\n",
    "                    ('clf', LinearSVC())])"
   ],
   "execution_count": 0,
   "outputs": []
  },
  {
   "cell_type": "code",
   "metadata": {
    "id": "Pmbd3UfrJt6R",
    "colab_type": "code",
    "outputId": "ad5d19ce-ae7b-412d-c4fd-4e914c9eb527",
    "colab": {
     "base_uri": "https://localhost:8080/",
     "height": 1000
    }
   },
   "source": [
    "from sklearn.metrics import classification_report\n",
    "modeles = {\"naives\":naives_clf, \"logistic regression\": log_clf, \"SGD_classifier\":sgd_clf, \"Linear SVC\":svc_clf}\n",
    "\n",
    "\n",
    "for key in modeles:\n",
    "  modeles[key].fit(newsgroups_train.data, newsgroups_train.target)\n",
    "  predicted = modeles[key].predict(newsgroups_test.data)\n",
    "  score = classification_report(y_pred=predicted, y_true=newsgroups_test.target, labels=classes)\n",
    "  print(f\"Modele : {key} score : {score} \\n\\n\\n\")"
   ],
   "execution_count": 73,
   "outputs": [
    {
     "output_type": "stream",
     "text": [
      "Modele : naives score :               precision    recall  f1-score   support\n",
      "\n",
      "           0       0.80      0.69      0.74       319\n",
      "           1       0.78      0.72      0.75       389\n",
      "           2       0.79      0.72      0.75       394\n",
      "           3       0.68      0.81      0.74       392\n",
      "           4       0.86      0.81      0.84       385\n",
      "           5       0.87      0.78      0.82       395\n",
      "           6       0.87      0.80      0.83       390\n",
      "           7       0.88      0.91      0.90       396\n",
      "           8       0.93      0.96      0.95       398\n",
      "           9       0.91      0.92      0.92       397\n",
      "          10       0.88      0.98      0.93       399\n",
      "          11       0.75      0.96      0.84       396\n",
      "          12       0.84      0.65      0.74       393\n",
      "          13       0.92      0.79      0.85       396\n",
      "          14       0.82      0.94      0.88       394\n",
      "          15       0.62      0.96      0.76       398\n",
      "          16       0.66      0.95      0.78       364\n",
      "          17       0.95      0.94      0.94       376\n",
      "          18       0.94      0.52      0.67       310\n",
      "          19       0.95      0.24      0.38       251\n",
      "\n",
      "    accuracy                           0.82      7532\n",
      "   macro avg       0.84      0.80      0.80      7532\n",
      "weighted avg       0.83      0.82      0.81      7532\n",
      " \n",
      "\n",
      "\n",
      "\n"
     ],
     "name": "stdout"
    },
    {
     "output_type": "stream",
     "text": [
      "/usr/local/lib/python3.6/dist-packages/sklearn/linear_model/logistic.py:432: FutureWarning: Default solver will be changed to 'lbfgs' in 0.22. Specify a solver to silence this warning.\n",
      "  FutureWarning)\n",
      "/usr/local/lib/python3.6/dist-packages/sklearn/linear_model/logistic.py:469: FutureWarning: Default multi_class will be changed to 'auto' in 0.22. Specify the multi_class option to silence this warning.\n",
      "  \"this warning.\", FutureWarning)\n"
     ],
     "name": "stderr"
    },
    {
     "output_type": "stream",
     "text": [
      "Modele : logistic regression score :               precision    recall  f1-score   support\n",
      "\n",
      "           0       0.78      0.72      0.75       319\n",
      "           1       0.71      0.79      0.75       389\n",
      "           2       0.75      0.76      0.75       394\n",
      "           3       0.71      0.71      0.71       392\n",
      "           4       0.80      0.82      0.81       385\n",
      "           5       0.84      0.75      0.79       395\n",
      "           6       0.78      0.87      0.82       390\n",
      "           7       0.90      0.89      0.89       396\n",
      "           8       0.93      0.95      0.94       398\n",
      "           9       0.88      0.92      0.90       397\n",
      "          10       0.93      0.96      0.94       399\n",
      "          11       0.95      0.91      0.93       396\n",
      "          12       0.74      0.78      0.76       393\n",
      "          13       0.88      0.86      0.87       396\n",
      "          14       0.88      0.91      0.90       394\n",
      "          15       0.80      0.93      0.86       398\n",
      "          16       0.74      0.90      0.81       364\n",
      "          17       0.97      0.89      0.93       376\n",
      "          18       0.85      0.58      0.69       310\n",
      "          19       0.81      0.49      0.61       251\n",
      "\n",
      "    accuracy                           0.83      7532\n",
      "   macro avg       0.83      0.82      0.82      7532\n",
      "weighted avg       0.83      0.83      0.83      7532\n",
      " \n",
      "\n",
      "\n",
      "\n",
      "Modele : SGD_classifier score :               precision    recall  f1-score   support\n",
      "\n",
      "           0       0.81      0.77      0.79       319\n",
      "           1       0.75      0.80      0.78       389\n",
      "           2       0.76      0.74      0.75       394\n",
      "           3       0.72      0.73      0.72       392\n",
      "           4       0.83      0.85      0.84       385\n",
      "           5       0.87      0.77      0.82       395\n",
      "           6       0.82      0.90      0.86       390\n",
      "           7       0.92      0.90      0.91       396\n",
      "           8       0.95      0.96      0.96       398\n",
      "           9       0.91      0.94      0.93       397\n",
      "          10       0.95      0.98      0.96       399\n",
      "          11       0.93      0.95      0.94       396\n",
      "          12       0.81      0.78      0.80       393\n",
      "          13       0.91      0.88      0.89       396\n",
      "          14       0.90      0.94      0.92       394\n",
      "          15       0.84      0.93      0.89       398\n",
      "          16       0.73      0.93      0.82       364\n",
      "          17       0.96      0.90      0.93       376\n",
      "          18       0.84      0.61      0.70       310\n",
      "          19       0.77      0.60      0.68       251\n",
      "\n",
      "    accuracy                           0.85      7532\n",
      "   macro avg       0.85      0.84      0.84      7532\n",
      "weighted avg       0.85      0.85      0.85      7532\n",
      " \n",
      "\n",
      "\n",
      "\n",
      "Modele : Linear SVC score :               precision    recall  f1-score   support\n",
      "\n",
      "           0       0.83      0.78      0.80       319\n",
      "           1       0.74      0.81      0.78       389\n",
      "           2       0.77      0.74      0.75       394\n",
      "           3       0.71      0.75      0.73       392\n",
      "           4       0.82      0.85      0.84       385\n",
      "           5       0.87      0.76      0.81       395\n",
      "           6       0.83      0.89      0.86       390\n",
      "           7       0.92      0.90      0.91       396\n",
      "           8       0.96      0.96      0.96       398\n",
      "           9       0.91      0.94      0.92       397\n",
      "          10       0.96      0.98      0.97       399\n",
      "          11       0.93      0.94      0.94       396\n",
      "          12       0.79      0.77      0.78       393\n",
      "          13       0.90      0.86      0.88       396\n",
      "          14       0.90      0.93      0.91       394\n",
      "          15       0.85      0.94      0.89       398\n",
      "          16       0.75      0.91      0.82       364\n",
      "          17       0.98      0.89      0.93       376\n",
      "          18       0.85      0.62      0.72       310\n",
      "          19       0.75      0.63      0.68       251\n",
      "\n",
      "    accuracy                           0.85      7532\n",
      "   macro avg       0.85      0.84      0.84      7532\n",
      "weighted avg       0.85      0.85      0.85      7532\n",
      " \n",
      "\n",
      "\n",
      "\n"
     ],
     "name": "stdout"
    }
   ]
  },
  {
   "cell_type": "markdown",
   "metadata": {
    "id": "uaXHaXQ3KOMu",
    "colab_type": "text"
   },
   "source": [
    "### With Stemming \n",
    "\n",
    "We herit from CountVectorizer and we apply stemming to each words in the \n",
    "text. We use NLTK for the stemming with the english vocab.\n"
   ]
  },
  {
   "cell_type": "code",
   "metadata": {
    "id": "dVnu0SIRmEmY",
    "colab_type": "code",
    "outputId": "52835326-5262-48dd-fda2-d1370cf07a1b",
    "colab": {
     "base_uri": "https://localhost:8080/",
     "height": 51
    }
   },
   "source": [
    "!pip install nltk"
   ],
   "execution_count": 74,
   "outputs": [
    {
     "output_type": "stream",
     "text": [
      "Requirement already satisfied: nltk in /usr/local/lib/python3.6/dist-packages (3.2.5)\n",
      "Requirement already satisfied: six in /usr/local/lib/python3.6/dist-packages (from nltk) (1.12.0)\n"
     ],
     "name": "stdout"
    }
   ]
  },
  {
   "cell_type": "code",
   "metadata": {
    "id": "AuqOgBrZKRwD",
    "colab_type": "code",
    "outputId": "711667d6-56c3-4093-c333-e4976f5cf881",
    "colab": {
     "base_uri": "https://localhost:8080/",
     "height": 51
    }
   },
   "source": [
    "import nltk\n",
    "nltk.download('stopwords')\n",
    "from nltk.stem import SnowballStemmer\n",
    "\n",
    "stemmer = SnowballStemmer(\"english\", ignore_stopwords=True)\n",
    "\n",
    "class StemmedCountVectorizer(CountVectorizer):\n",
    "    def build_analyzer(self):\n",
    "        analyzer = super(StemmedCountVectorizer, self).build_analyzer()\n",
    "        return lambda doc: ([stemmer.stem(w) for w in analyzer(doc)])"
   ],
   "execution_count": 75,
   "outputs": [
    {
     "output_type": "stream",
     "text": [
      "[nltk_data] Downloading package stopwords to /root/nltk_data...\n",
      "[nltk_data]   Unzipping corpora/stopwords.zip.\n"
     ],
     "name": "stdout"
    }
   ]
  },
  {
   "cell_type": "code",
   "metadata": {
    "id": "HvRFPXwoKwjR",
    "colab_type": "code",
    "colab": {}
   },
   "source": [
    "naives_clf = Pipeline([('vect', StemmedCountVectorizer(stop_words='english')),\n",
    "                      ('tfidf', TfidfTransformer()),\n",
    "                      ('clf', MultinomialNB())])\n",
    "log_clf = Pipeline([('vect', StemmedCountVectorizer(stop_words='english')),\n",
    "                    ('tfidf', TfidfTransformer()),\n",
    "                    ('clf', LogisticRegression())])\n",
    "sgd_clf = Pipeline([('vect', StemmedCountVectorizer(stop_words='english')),\n",
    "                    ('tfidf', TfidfTransformer()),\n",
    "                    ('clf', SGDClassifier())]) \n",
    "svc_clf = Pipeline([('vect', StemmedCountVectorizer(stop_words='english')),\n",
    "                    ('tfidf', TfidfTransformer()),\n",
    "                    ('clf', LinearSVC())])"
   ],
   "execution_count": 0,
   "outputs": []
  },
  {
   "cell_type": "code",
   "metadata": {
    "id": "SKPWkjehK8dC",
    "colab_type": "code",
    "outputId": "f2974e0d-b942-4c7c-bdcf-c21d9ca21921",
    "colab": {
     "base_uri": "https://localhost:8080/",
     "height": 1000
    }
   },
   "source": [
    "from sklearn.metrics import classification_report\n",
    "modeles = {\"naives\":naives_clf, \"logistic regression\": log_clf, \"SGD_classifier\":sgd_clf, \"Linear SVC\":svc_clf}\n",
    "\n",
    "\n",
    "for key in modeles:\n",
    "  modeles[key].fit(newsgroups_train.data, newsgroups_train.target)\n",
    "  predicted = modeles[key].predict(newsgroups_test.data)\n",
    "  score = classification_report(y_pred=predicted, y_true=newsgroups_test.target, labels=classes)\n",
    "  print(f\"Modele : {key} score : {score} \\n\\n\\n\")"
   ],
   "execution_count": 77,
   "outputs": [
    {
     "output_type": "stream",
     "text": [
      "Modele : naives score :               precision    recall  f1-score   support\n",
      "\n",
      "           0       0.81      0.66      0.73       319\n",
      "           1       0.78      0.72      0.75       389\n",
      "           2       0.82      0.69      0.75       394\n",
      "           3       0.69      0.80      0.74       392\n",
      "           4       0.86      0.82      0.84       385\n",
      "           5       0.86      0.79      0.83       395\n",
      "           6       0.88      0.75      0.81       390\n",
      "           7       0.87      0.93      0.90       396\n",
      "           8       0.92      0.96      0.94       398\n",
      "           9       0.93      0.92      0.92       397\n",
      "          10       0.90      0.98      0.94       399\n",
      "          11       0.71      0.97      0.82       396\n",
      "          12       0.83      0.66      0.73       393\n",
      "          13       0.92      0.79      0.85       396\n",
      "          14       0.82      0.94      0.88       394\n",
      "          15       0.60      0.97      0.74       398\n",
      "          16       0.65      0.94      0.77       364\n",
      "          17       0.92      0.94      0.93       376\n",
      "          18       0.94      0.48      0.64       310\n",
      "          19       0.95      0.22      0.35       251\n",
      "\n",
      "    accuracy                           0.81      7532\n",
      "   macro avg       0.83      0.80      0.79      7532\n",
      "weighted avg       0.83      0.81      0.80      7532\n",
      " \n",
      "\n",
      "\n",
      "\n"
     ],
     "name": "stdout"
    },
    {
     "output_type": "stream",
     "text": [
      "/usr/local/lib/python3.6/dist-packages/sklearn/linear_model/logistic.py:432: FutureWarning: Default solver will be changed to 'lbfgs' in 0.22. Specify a solver to silence this warning.\n",
      "  FutureWarning)\n",
      "/usr/local/lib/python3.6/dist-packages/sklearn/linear_model/logistic.py:469: FutureWarning: Default multi_class will be changed to 'auto' in 0.22. Specify the multi_class option to silence this warning.\n",
      "  \"this warning.\", FutureWarning)\n"
     ],
     "name": "stderr"
    },
    {
     "output_type": "stream",
     "text": [
      "Modele : logistic regression score :               precision    recall  f1-score   support\n",
      "\n",
      "           0       0.77      0.71      0.74       319\n",
      "           1       0.72      0.80      0.76       389\n",
      "           2       0.76      0.76      0.76       394\n",
      "           3       0.72      0.73      0.73       392\n",
      "           4       0.80      0.84      0.82       385\n",
      "           5       0.84      0.77      0.81       395\n",
      "           6       0.75      0.85      0.80       390\n",
      "           7       0.91      0.88      0.90       396\n",
      "           8       0.97      0.95      0.96       398\n",
      "           9       0.91      0.92      0.92       397\n",
      "          10       0.93      0.97      0.95       399\n",
      "          11       0.94      0.92      0.93       396\n",
      "          12       0.75      0.78      0.77       393\n",
      "          13       0.88      0.86      0.87       396\n",
      "          14       0.88      0.93      0.90       394\n",
      "          15       0.80      0.91      0.85       398\n",
      "          16       0.73      0.90      0.81       364\n",
      "          17       0.97      0.88      0.92       376\n",
      "          18       0.83      0.60      0.69       310\n",
      "          19       0.80      0.47      0.59       251\n",
      "\n",
      "    accuracy                           0.83      7532\n",
      "   macro avg       0.83      0.82      0.82      7532\n",
      "weighted avg       0.83      0.83      0.83      7532\n",
      " \n",
      "\n",
      "\n",
      "\n",
      "Modele : SGD_classifier score :               precision    recall  f1-score   support\n",
      "\n",
      "           0       0.83      0.76      0.79       319\n",
      "           1       0.78      0.80      0.79       389\n",
      "           2       0.76      0.73      0.74       394\n",
      "           3       0.73      0.74      0.74       392\n",
      "           4       0.82      0.85      0.84       385\n",
      "           5       0.87      0.79      0.83       395\n",
      "           6       0.81      0.89      0.85       390\n",
      "           7       0.92      0.90      0.91       396\n",
      "           8       0.96      0.96      0.96       398\n",
      "           9       0.91      0.95      0.93       397\n",
      "          10       0.93      0.98      0.95       399\n",
      "          11       0.92      0.94      0.93       396\n",
      "          12       0.80      0.77      0.79       393\n",
      "          13       0.89      0.89      0.89       396\n",
      "          14       0.90      0.93      0.92       394\n",
      "          15       0.83      0.92      0.87       398\n",
      "          16       0.74      0.93      0.82       364\n",
      "          17       0.96      0.90      0.93       376\n",
      "          18       0.87      0.61      0.72       310\n",
      "          19       0.73      0.59      0.65       251\n",
      "\n",
      "    accuracy                           0.85      7532\n",
      "   macro avg       0.85      0.84      0.84      7532\n",
      "weighted avg       0.85      0.85      0.85      7532\n",
      " \n",
      "\n",
      "\n",
      "\n",
      "Modele : Linear SVC score :               precision    recall  f1-score   support\n",
      "\n",
      "           0       0.82      0.76      0.79       319\n",
      "           1       0.76      0.81      0.79       389\n",
      "           2       0.77      0.73      0.75       394\n",
      "           3       0.73      0.74      0.73       392\n",
      "           4       0.81      0.88      0.84       385\n",
      "           5       0.86      0.78      0.82       395\n",
      "           6       0.80      0.89      0.84       390\n",
      "           7       0.92      0.92      0.92       396\n",
      "           8       0.97      0.96      0.97       398\n",
      "           9       0.92      0.95      0.93       397\n",
      "          10       0.96      0.98      0.97       399\n",
      "          11       0.93      0.94      0.93       396\n",
      "          12       0.79      0.78      0.78       393\n",
      "          13       0.91      0.87      0.89       396\n",
      "          14       0.91      0.93      0.92       394\n",
      "          15       0.84      0.92      0.88       398\n",
      "          16       0.76      0.92      0.84       364\n",
      "          17       0.97      0.89      0.93       376\n",
      "          18       0.85      0.62      0.72       310\n",
      "          19       0.72      0.63      0.68       251\n",
      "\n",
      "    accuracy                           0.85      7532\n",
      "   macro avg       0.85      0.84      0.85      7532\n",
      "weighted avg       0.85      0.85      0.85      7532\n",
      " \n",
      "\n",
      "\n",
      "\n"
     ],
     "name": "stdout"
    }
   ]
  },
  {
   "cell_type": "markdown",
   "metadata": {
    "id": "Y713xh-trmrY",
    "colab_type": "text"
   },
   "source": [
    "## Results\n",
    "\n",
    "If we compare the scores in the three cases :\n",
    "\n",
    "* The lemming don't have a big impact on the scores. We don't have a big improvement in performance.\n",
    "* Removing the stops words and the punctuations improve\n",
    "\n",
    "* classes that have lower score have most of the time lower support value \n",
    "have lower scores. This can been explained by the fact that the algortihm can train on less example of this classe so he learn less pattern to recognize this classe compare to others. Notice that when we study the dataset distribution we see that topic 19 (religion 3.3%), 0 (atheism) and 18 (politics ) was the classe with less data. And we see that on this class the model have lower performance compare to other classes where the data quantity is close to the mean (5%).\n",
    "\n",
    "### Ideas\n",
    "[Handle imbalanced dataset](https://towardsdatascience.com/methods-for-dealing-with-imbalanced-data-5b761be45a18)\n",
    "\n",
    "Resampling Techniques — Oversample minority class\n",
    "\n",
    "Note : we need to do train_test_split before. \n",
    "Oversampling before splitting the data can allow the exact same observations to be present in both the test and train sets. This can allow our model to simply memorize specific data points and cause overfitting and poor generalization to the test data.\n",
    "\n"
   ]
  },
  {
   "cell_type": "markdown",
   "metadata": {
    "id": "Nv-e78p2rfmp",
    "colab_type": "text"
   },
   "source": [
    "# Doc2Vec performance\n",
    "\n",
    "\n",
    "Now we are going to implement Doc2Vec on the same dataset."
   ]
  },
  {
   "cell_type": "code",
   "metadata": {
    "id": "xvif09SvOeyn",
    "colab_type": "code",
    "outputId": "a88fb56b-2034-4d2e-ed82-574998454216",
    "colab": {
     "base_uri": "https://localhost:8080/",
     "height": 306
    }
   },
   "source": [
    "!pip install gensim "
   ],
   "execution_count": 78,
   "outputs": [
    {
     "output_type": "stream",
     "text": [
      "Requirement already satisfied: gensim in /usr/local/lib/python3.6/dist-packages (3.6.0)\n",
      "Requirement already satisfied: scipy>=0.18.1 in /usr/local/lib/python3.6/dist-packages (from gensim) (1.3.2)\n",
      "Requirement already satisfied: smart-open>=1.2.1 in /usr/local/lib/python3.6/dist-packages (from gensim) (1.9.0)\n",
      "Requirement already satisfied: numpy>=1.11.3 in /usr/local/lib/python3.6/dist-packages (from gensim) (1.17.4)\n",
      "Requirement already satisfied: six>=1.5.0 in /usr/local/lib/python3.6/dist-packages (from gensim) (1.12.0)\n",
      "Requirement already satisfied: boto>=2.32 in /usr/local/lib/python3.6/dist-packages (from smart-open>=1.2.1->gensim) (2.49.0)\n",
      "Requirement already satisfied: requests in /usr/local/lib/python3.6/dist-packages (from smart-open>=1.2.1->gensim) (2.21.0)\n",
      "Requirement already satisfied: boto3 in /usr/local/lib/python3.6/dist-packages (from smart-open>=1.2.1->gensim) (1.10.14)\n",
      "Requirement already satisfied: certifi>=2017.4.17 in /usr/local/lib/python3.6/dist-packages (from requests->smart-open>=1.2.1->gensim) (2019.9.11)\n",
      "Requirement already satisfied: chardet<3.1.0,>=3.0.2 in /usr/local/lib/python3.6/dist-packages (from requests->smart-open>=1.2.1->gensim) (3.0.4)\n",
      "Requirement already satisfied: urllib3<1.25,>=1.21.1 in /usr/local/lib/python3.6/dist-packages (from requests->smart-open>=1.2.1->gensim) (1.24.3)\n",
      "Requirement already satisfied: idna<2.9,>=2.5 in /usr/local/lib/python3.6/dist-packages (from requests->smart-open>=1.2.1->gensim) (2.8)\n",
      "Requirement already satisfied: s3transfer<0.3.0,>=0.2.0 in /usr/local/lib/python3.6/dist-packages (from boto3->smart-open>=1.2.1->gensim) (0.2.1)\n",
      "Requirement already satisfied: jmespath<1.0.0,>=0.7.1 in /usr/local/lib/python3.6/dist-packages (from boto3->smart-open>=1.2.1->gensim) (0.9.4)\n",
      "Requirement already satisfied: botocore<1.14.0,>=1.13.14 in /usr/local/lib/python3.6/dist-packages (from boto3->smart-open>=1.2.1->gensim) (1.13.14)\n",
      "Requirement already satisfied: docutils<0.16,>=0.10 in /usr/local/lib/python3.6/dist-packages (from botocore<1.14.0,>=1.13.14->boto3->smart-open>=1.2.1->gensim) (0.15.2)\n",
      "Requirement already satisfied: python-dateutil<2.8.1,>=2.1; python_version >= \"2.7\" in /usr/local/lib/python3.6/dist-packages (from botocore<1.14.0,>=1.13.14->boto3->smart-open>=1.2.1->gensim) (2.6.1)\n"
     ],
     "name": "stdout"
    }
   ]
  },
  {
   "cell_type": "markdown",
   "metadata": {
    "id": "MbbEceO4O46g",
    "colab_type": "text"
   },
   "source": [
    "We are going to use gensim Doc2Vec. \n",
    "\n",
    "Doc2Vec technique is use to get a representation of a document words. \n",
    "A Document vector represent the text. \n",
    "\n",
    "We have already clean and tokenize the text with the prepareText function. \n",
    "Now we need to create a list of TaggedDocument.\n"
   ]
  },
  {
   "cell_type": "code",
   "metadata": {
    "id": "4UGfYGUZPJTK",
    "colab_type": "code",
    "colab": {}
   },
   "source": [
    "from gensim.models.doc2vec import TaggedDocument\n",
    "from gensim.models.doc2vec import Doc2Vec\n",
    "\n",
    "\n",
    "# create a tagged object \n",
    "\n",
    "taggedDocument = [TaggedDocument(doc, [tag]) for doc, tag in zip(x_train, newsgroups_train.target)]\n"
   ],
   "execution_count": 0,
   "outputs": []
  },
  {
   "cell_type": "markdown",
   "metadata": {
    "id": "4aXAvF6Vbfw6",
    "colab_type": "text"
   },
   "source": [
    "Note : TaggedDocument() take a string as document and a list of tag \n",
    "so : \n",
    "  * doc : String \n",
    "  * tag : [list of tag]"
   ]
  },
  {
   "cell_type": "code",
   "metadata": {
    "id": "xpXD6zQlRRBU",
    "colab_type": "code",
    "outputId": "feb35d26-dfc1-4ee1-bef0-863f8c7f5cac",
    "colab": {
     "base_uri": "https://localhost:8080/",
     "height": 34
    }
   },
   "source": [
    "taggedDocument[0].tags"
   ],
   "execution_count": 80,
   "outputs": [
    {
     "output_type": "execute_result",
     "data": {
      "text/plain": [
       "[7]"
      ]
     },
     "metadata": {
      "tags": []
     },
     "execution_count": 80
    }
   ]
  },
  {
   "cell_type": "code",
   "metadata": {
    "id": "KAMQcnoiRVM9",
    "colab_type": "code",
    "outputId": "698a0816-5bd4-4d87-f682-7bee4bba7c4a",
    "colab": {
     "base_uri": "https://localhost:8080/",
     "height": 34
    }
   },
   "source": [
    "taggedDocument[0].words[1:10]"
   ],
   "execution_count": 81,
   "outputs": [
    {
     "output_type": "execute_result",
     "data": {
      "text/plain": [
       "['lerxst@wam.umd.edu', '(', 'thing', ')', '\\n', 'subject', ':', 'car', '!']"
      ]
     },
     "metadata": {
      "tags": []
     },
     "execution_count": 81
    }
   ]
  },
  {
   "cell_type": "markdown",
   "metadata": {
    "id": "N4Hnp0ozTzj0",
    "colab_type": "text"
   },
   "source": [
    "* If dm=0, distributed bag of words (PV-DBOW) is used; if dm=1,‘distributed memory’ (PV-DM) is used.\n",
    "* vector_size : 300- dimensional feature vectors. (In the research paper they use 400) \n",
    "\n",
    "* window (int, optional) – The maximum distance between the current and predicted word within a sentence.\n",
    "\n",
    "* min_count=2, ignores all words with total frequency lower than this.\n",
    "* negative=5 , specifies how many “noise words” should be drawn.\n",
    "* hs=0 , and negative is non-zero, negative sampling will be used.\n",
    "* sample=0 , the threshold for configuring which higher-frequency words are randomly down sampled.\n",
    "* workers=cores , use these many worker threads to train the model (=faster training with multicore machines)."
   ]
  },
  {
   "cell_type": "code",
   "metadata": {
    "id": "rZElxYPETGmw",
    "colab_type": "code",
    "colab": {}
   },
   "source": [
    "import multiprocessing\n",
    "cores = multiprocessing.cpu_count()\n",
    "\n",
    "doc2vec = Doc2Vec(dm=1, vector_size=400, window=20, min_count=2, negative=5, hs=0, sample=0, workers=cores)\n",
    "\n"
   ],
   "execution_count": 0,
   "outputs": []
  },
  {
   "cell_type": "markdown",
   "metadata": {
    "id": "Ta24rL1taVGT",
    "colab_type": "text"
   },
   "source": [
    "Build a vocab from all the documents."
   ]
  },
  {
   "cell_type": "code",
   "metadata": {
    "id": "cScBfYscZng8",
    "colab_type": "code",
    "colab": {}
   },
   "source": [
    "doc2vec.build_vocab(taggedDocument)"
   ],
   "execution_count": 0,
   "outputs": []
  },
  {
   "cell_type": "code",
   "metadata": {
    "id": "IQJOAMLHaZH-",
    "colab_type": "code",
    "colab": {}
   },
   "source": [
    "from tqdm import tqdm\n",
    "\n",
    "doc2vec.train(taggedDocument, total_examples=len(taggedDocument), epochs=10)"
   ],
   "execution_count": 0,
   "outputs": []
  },
  {
   "cell_type": "markdown",
   "metadata": {
    "id": "M_RYdNr7dhWY",
    "colab_type": "text"
   },
   "source": [
    "### Vec_for_learning :\n",
    "\n",
    "The inference tries to fit a later example into a frozen model, and so if you re-present the same document, it should \n",
    "wind up 'close' to the vector that the same document induced in multi-pass bulk training. But how 'close' would depend \n",
    "on a lot of things. The information in the PV paper about parameter choices is limited.\n"
   ]
  },
  {
   "cell_type": "code",
   "metadata": {
    "id": "BN8DTr3-dgaH",
    "colab_type": "code",
    "colab": {}
   },
   "source": [
    "\n",
    "def vec_for_learning(doc2vec_model, tagged_docs):\n",
    "    targets, regressors = zip(*[(doc.tags[0], doc2vec_model.infer_vector(doc.words, steps=20)) for doc in tqdm(tagged_docs)])\n",
    "    return targets, regressors"
   ],
   "execution_count": 0,
   "outputs": []
  },
  {
   "cell_type": "markdown",
   "metadata": {
    "id": "yTMQt6y1_M7w",
    "colab_type": "text"
   },
   "source": [
    " targets, regressors = zip(*[(doc.tags[0], doc2vec_model.infer_vector(doc.words, steps=20)) for doc in tagged_docs])\n",
    "\n",
    " At this line we use Zip to iter on an array of tuple that contains the tag associated to the i document and the Document vector that represent the i ème document. \n",
    "\n",
    "targets : contains the tags \n",
    "regressors : contains all the vector infered associated to a document.\n",
    "\n",
    "demonstration :\n",
    "\n",
    "array = [(1, 'a'), (2, 'b'), (3, 'c')]\n",
    "\n",
    "target, reg = zip(*array)\n",
    "\n",
    "print(target, reg)\n",
    "\n",
    "==> output :\n",
    "(1, 2, 3) ('a', 'b', 'c') "
   ]
  },
  {
   "cell_type": "markdown",
   "metadata": {
    "id": "c8dbNLeXhYa9",
    "colab_type": "text"
   },
   "source": [
    "Test have not been prepared. So we need to do the same operation that on the training data on the test data."
   ]
  },
  {
   "cell_type": "code",
   "metadata": {
    "id": "majCVHk0hn3a",
    "colab_type": "code",
    "outputId": "78c596c2-7fd6-40e8-86ce-7a3ba368c992",
    "colab": {
     "base_uri": "https://localhost:8080/",
     "height": 1000
    }
   },
   "source": [
    "\n",
    "test_data = newsgroups_test.data.copy()\n",
    "\n",
    "for i in range(0, len(test_data)) :\n",
    "  test_data[i] = prepareText(test_data[i])\n",
    "\n",
    "test_data[0]"
   ],
   "execution_count": 86,
   "outputs": [
    {
     "output_type": "execute_result",
     "data": {
      "text/plain": [
       "[':',\n",
       " 'v064mb9k@ubvmsd.cc.buffalo.edu',\n",
       " '(',\n",
       " 'neil',\n",
       " 'b.',\n",
       " 'gandler',\n",
       " ')',\n",
       " '\\n',\n",
       " 'subject',\n",
       " ':',\n",
       " 'need',\n",
       " 'info',\n",
       " '88',\n",
       " '-',\n",
       " '89',\n",
       " 'bonneville',\n",
       " '\\n',\n",
       " 'organization',\n",
       " ':',\n",
       " 'university',\n",
       " 'buffalo',\n",
       " '\\n',\n",
       " 'line',\n",
       " ':',\n",
       " '10',\n",
       " '\\n',\n",
       " 'news',\n",
       " '-',\n",
       " 'software',\n",
       " ':',\n",
       " 'vax',\n",
       " '/',\n",
       " 'vms',\n",
       " 'vnews',\n",
       " '1.41',\n",
       " '\\n',\n",
       " 'nntp',\n",
       " '-',\n",
       " 'posting',\n",
       " '-',\n",
       " 'host',\n",
       " ':',\n",
       " 'ubvmsd.cc.buffalo.edu',\n",
       " '\\n\\n\\n ',\n",
       " 'little',\n",
       " 'confused',\n",
       " 'model',\n",
       " '88',\n",
       " '-',\n",
       " '89',\n",
       " 'bonneville',\n",
       " '.',\n",
       " '\\n',\n",
       " 'hear',\n",
       " 'le',\n",
       " 'se',\n",
       " 'lse',\n",
       " 'sse',\n",
       " 'ssei',\n",
       " '.',\n",
       " 'tell',\n",
       " '\\n',\n",
       " 'difference',\n",
       " 'far',\n",
       " 'feature',\n",
       " 'performance',\n",
       " '.',\n",
       " 'curious',\n",
       " '\\n',\n",
       " 'know',\n",
       " 'book',\n",
       " 'value',\n",
       " 'prefereably',\n",
       " '89',\n",
       " 'model',\n",
       " '.',\n",
       " '\\n',\n",
       " 'book',\n",
       " 'value',\n",
       " 'usually',\n",
       " '.',\n",
       " 'word',\n",
       " '\\n',\n",
       " 'demand',\n",
       " 'time',\n",
       " 'year',\n",
       " '.',\n",
       " 'hear',\n",
       " 'mid',\n",
       " '-',\n",
       " 'spring',\n",
       " '\\n',\n",
       " 'early',\n",
       " 'summer',\n",
       " 'good',\n",
       " 'time',\n",
       " 'buy',\n",
       " '.',\n",
       " '\\n\\n\\t\\t\\t',\n",
       " 'neil',\n",
       " 'gandler',\n",
       " '\\n']"
      ]
     },
     "metadata": {
      "tags": []
     },
     "execution_count": 86
    }
   ]
  },
  {
   "cell_type": "code",
   "metadata": {
    "id": "gRx5JXqJh-G9",
    "colab_type": "code",
    "colab": {}
   },
   "source": [
    "taggedTestDocument = [TaggedDocument(doc, [tag]) for doc, tag in zip(test_data, newsgroups_test.target)]"
   ],
   "execution_count": 0,
   "outputs": []
  },
  {
   "cell_type": "markdown",
   "metadata": {
    "id": "bhnWERANCED2",
    "colab_type": "text"
   },
   "source": [
    "# Training & Testing\n",
    "\n",
    "We remove Naives bayes because we can not use it on negative input. And the Doc2Vec contains negative values."
   ]
  },
  {
   "cell_type": "code",
   "metadata": {
    "id": "6voTKPe4dq6L",
    "colab_type": "code",
    "colab": {}
   },
   "source": [
    "from sklearn.metrics import classification_report \n",
    "modeles = {\"logistic regression\": LogisticRegression(), \"SGD_classifier\": SGDClassifier(), \"Linear SVC\": LinearSVC()}"
   ],
   "execution_count": 0,
   "outputs": []
  },
  {
   "cell_type": "code",
   "metadata": {
    "id": "HXkVR259Ivno",
    "colab_type": "code",
    "outputId": "593aa1d3-4f94-44b0-a653-be6ebd267c51",
    "colab": {
     "base_uri": "https://localhost:8080/",
     "height": 51
    }
   },
   "source": [
    "y_train, x_train = vec_for_learning(doc2vec, taggedDocument)\n",
    "y_test, x_test = vec_for_learning(doc2vec, taggedTestDocument)\n"
   ],
   "execution_count": 89,
   "outputs": [
    {
     "output_type": "stream",
     "text": [
      "100%|██████████| 11314/11314 [05:39<00:00, 33.34it/s]\n",
      "100%|██████████| 7532/7532 [03:40<00:00, 34.16it/s]\n"
     ],
     "name": "stderr"
    }
   ]
  },
  {
   "cell_type": "code",
   "metadata": {
    "id": "GJpmlrizGHq1",
    "colab_type": "code",
    "outputId": "674f7bcd-c0d6-4af0-e407-07d70e01070e",
    "colab": {
     "base_uri": "https://localhost:8080/",
     "height": 1000
    }
   },
   "source": [
    "#testing \n",
    "for key in tqdm(modeles):\n",
    "  modeles[key].fit(x_train, y_train)  \n",
    "  \n",
    "  predicted = modeles[key].predict(x_test)\n",
    "  \n",
    "  # F1-Score & Recall & Precision \n",
    "  score = classification_report(predicted, y_test, labels=classes)\n",
    "  \n",
    "  print(f\"Modele : {key} score : {score}\")"
   ],
   "execution_count": 90,
   "outputs": [
    {
     "output_type": "stream",
     "text": [
      "\r  0%|          | 0/3 [00:00<?, ?it/s]/usr/local/lib/python3.6/dist-packages/sklearn/linear_model/logistic.py:432: FutureWarning: Default solver will be changed to 'lbfgs' in 0.22. Specify a solver to silence this warning.\n",
      "  FutureWarning)\n",
      "/usr/local/lib/python3.6/dist-packages/sklearn/linear_model/logistic.py:469: FutureWarning: Default multi_class will be changed to 'auto' in 0.22. Specify the multi_class option to silence this warning.\n",
      "  \"this warning.\", FutureWarning)\n",
      " 33%|███▎      | 1/3 [01:04<02:08, 64.26s/it]"
     ],
     "name": "stderr"
    },
    {
     "output_type": "stream",
     "text": [
      "Modele : logistic regression score :               precision    recall  f1-score   support\n",
      "\n",
      "           0       0.72      0.66      0.69       346\n",
      "           1       0.67      0.66      0.67       395\n",
      "           2       0.57      0.62      0.59       359\n",
      "           3       0.67      0.61      0.64       429\n",
      "           4       0.78      0.80      0.79       374\n",
      "           5       0.74      0.76      0.75       386\n",
      "           6       0.68      0.58      0.63       458\n",
      "           7       0.85      0.83      0.84       405\n",
      "           8       0.92      0.92      0.92       400\n",
      "           9       0.92      0.88      0.90       416\n",
      "          10       0.92      0.92      0.92       402\n",
      "          11       0.87      0.83      0.85       415\n",
      "          12       0.65      0.71      0.68       362\n",
      "          13       0.76      0.83      0.80       362\n",
      "          14       0.85      0.86      0.85       390\n",
      "          15       0.85      0.76      0.80       447\n",
      "          16       0.79      0.72      0.75       399\n",
      "          17       0.83      0.89      0.86       353\n",
      "          18       0.47      0.68      0.56       217\n",
      "          19       0.48      0.55      0.51       217\n",
      "\n",
      "    accuracy                           0.76      7532\n",
      "   macro avg       0.75      0.75      0.75      7532\n",
      "weighted avg       0.76      0.76      0.76      7532\n",
      "\n"
     ],
     "name": "stdout"
    },
    {
     "output_type": "stream",
     "text": [
      "\r 67%|██████▋   | 2/3 [01:12<00:47, 47.45s/it]"
     ],
     "name": "stderr"
    },
    {
     "output_type": "stream",
     "text": [
      "Modele : SGD_classifier score :               precision    recall  f1-score   support\n",
      "\n",
      "           0       0.55      0.80      0.65       219\n",
      "           1       0.70      0.49      0.58       561\n",
      "           2       0.51      0.59      0.54       340\n",
      "           3       0.51      0.70      0.59       286\n",
      "           4       0.75      0.77      0.76       377\n",
      "           5       0.75      0.65      0.69       457\n",
      "           6       0.47      0.79      0.59       233\n",
      "           7       0.82      0.75      0.79       432\n",
      "           8       0.95      0.76      0.84       497\n",
      "           9       0.84      0.91      0.87       369\n",
      "          10       0.93      0.80      0.86       463\n",
      "          11       0.85      0.82      0.84       411\n",
      "          12       0.58      0.70      0.63       322\n",
      "          13       0.76      0.78      0.77       387\n",
      "          14       0.86      0.78      0.82       433\n",
      "          15       0.78      0.84      0.81       370\n",
      "          16       0.78      0.65      0.71       438\n",
      "          17       0.76      0.95      0.85       303\n",
      "          18       0.61      0.41      0.49       462\n",
      "          19       0.43      0.63      0.51       172\n",
      "\n",
      "    accuracy                           0.72      7532\n",
      "   macro avg       0.71      0.73      0.71      7532\n",
      "weighted avg       0.74      0.72      0.72      7532\n",
      "\n"
     ],
     "name": "stdout"
    },
    {
     "output_type": "stream",
     "text": [
      "/usr/local/lib/python3.6/dist-packages/sklearn/svm/base.py:929: ConvergenceWarning: Liblinear failed to converge, increase the number of iterations.\n",
      "  \"the number of iterations.\", ConvergenceWarning)\n",
      "\r100%|██████████| 3/3 [01:42<00:00, 42.31s/it]"
     ],
     "name": "stderr"
    },
    {
     "output_type": "stream",
     "text": [
      "Modele : Linear SVC score :               precision    recall  f1-score   support\n",
      "\n",
      "           0       0.69      0.64      0.67       343\n",
      "           1       0.64      0.68      0.66       365\n",
      "           2       0.55      0.60      0.58       360\n",
      "           3       0.64      0.57      0.60       438\n",
      "           4       0.78      0.78      0.78       389\n",
      "           5       0.73      0.75      0.74       384\n",
      "           6       0.67      0.59      0.63       444\n",
      "           7       0.83      0.82      0.83       399\n",
      "           8       0.92      0.88      0.90       418\n",
      "           9       0.90      0.86      0.88       417\n",
      "          10       0.93      0.89      0.91       414\n",
      "          11       0.86      0.82      0.84       419\n",
      "          12       0.63      0.69      0.66       357\n",
      "          13       0.76      0.83      0.79       365\n",
      "          14       0.85      0.84      0.84       396\n",
      "          15       0.83      0.76      0.80       436\n",
      "          16       0.78      0.69      0.73       409\n",
      "          17       0.80      0.88      0.84       345\n",
      "          18       0.48      0.68      0.56       218\n",
      "          19       0.48      0.56      0.51       216\n",
      "\n",
      "    accuracy                           0.75      7532\n",
      "   macro avg       0.74      0.74      0.74      7532\n",
      "weighted avg       0.75      0.75      0.75      7532\n",
      "\n"
     ],
     "name": "stdout"
    },
    {
     "output_type": "stream",
     "text": [
      "\n"
     ],
     "name": "stderr"
    }
   ]
  },
  {
   "cell_type": "markdown",
   "metadata": {
    "id": "WktFvWop5TEo",
    "colab_type": "text"
   },
   "source": [
    "# TF-IDF vs Doc2Vec \n",
    "\n",
    "\n"
   ]
  },
  {
   "cell_type": "markdown",
   "metadata": {
    "id": "mh41Zn9m7H3y",
    "colab_type": "text"
   },
   "source": [
    "# Idea\n",
    "\n",
    "* Use grid search to search better hyper parameter.\n",
    "* increase the window size for the Doc2Vec.\n",
    "* reduce the vector_size to reduce overfitting."
   ]
  },
  {
   "cell_type": "markdown",
   "metadata": {
    "id": "BtvvK3DECTav",
    "colab_type": "text"
   },
   "source": [
    "# Size from which our model provided good results\n",
    "\n",
    "test on 4 size :\n",
    "\n",
    "* 1 millions words \n",
    "* 500k words \n",
    "* 100k words \n",
    "* 1k words \n",
    "\n",
    "The first step is to construct a function that count the number of words and create a subdataset."
   ]
  },
  {
   "cell_type": "code",
   "metadata": {
    "id": "7umSeUwcKgPs",
    "colab_type": "code",
    "colab": {
     "base_uri": "https://localhost:8080/",
     "height": 187
    },
    "outputId": "c1f8d049-9213-4bf9-f375-5a4614756709"
   },
   "source": [
    "for i in range(10):\n",
    "  rand = randrange(0, 1000)\n",
    "  print(rand)"
   ],
   "execution_count": 103,
   "outputs": [
    {
     "output_type": "stream",
     "text": [
      "82\n",
      "172\n",
      "134\n",
      "600\n",
      "952\n",
      "326\n",
      "362\n",
      "425\n",
      "12\n",
      "346\n"
     ],
     "name": "stdout"
    }
   ]
  },
  {
   "cell_type": "code",
   "metadata": {
    "id": "YMNliIBHL7xi",
    "colab_type": "code",
    "colab": {
     "base_uri": "https://localhost:8080/",
     "height": 204
    },
    "outputId": "706de85e-2bce-4dd9-934f-c4926fea1f3d"
   },
   "source": [
    "from random import randrange\n",
    "\n",
    "# we can take all the data and make a array of size 20 that contains Dataset by classe \n",
    "df = pd.DataFrame({'Text' : newsgroups_train.data, 'target' : newsgroups_train.target})\n",
    "df.head()"
   ],
   "execution_count": 105,
   "outputs": [
    {
     "output_type": "execute_result",
     "data": {
      "text/html": [
       "<div>\n",
       "<style scoped>\n",
       "    .dataframe tbody tr th:only-of-type {\n",
       "        vertical-align: middle;\n",
       "    }\n",
       "\n",
       "    .dataframe tbody tr th {\n",
       "        vertical-align: top;\n",
       "    }\n",
       "\n",
       "    .dataframe thead th {\n",
       "        text-align: right;\n",
       "    }\n",
       "</style>\n",
       "<table border=\"1\" class=\"dataframe\">\n",
       "  <thead>\n",
       "    <tr style=\"text-align: right;\">\n",
       "      <th></th>\n",
       "      <th>Text</th>\n",
       "      <th>target</th>\n",
       "    </tr>\n",
       "  </thead>\n",
       "  <tbody>\n",
       "    <tr>\n",
       "      <th>0</th>\n",
       "      <td>From: lerxst@wam.umd.edu (where's my thing)\\nS...</td>\n",
       "      <td>7</td>\n",
       "    </tr>\n",
       "    <tr>\n",
       "      <th>1</th>\n",
       "      <td>From: guykuo@carson.u.washington.edu (Guy Kuo)...</td>\n",
       "      <td>4</td>\n",
       "    </tr>\n",
       "    <tr>\n",
       "      <th>2</th>\n",
       "      <td>From: twillis@ec.ecn.purdue.edu (Thomas E Will...</td>\n",
       "      <td>4</td>\n",
       "    </tr>\n",
       "    <tr>\n",
       "      <th>3</th>\n",
       "      <td>From: jgreen@amber (Joe Green)\\nSubject: Re: W...</td>\n",
       "      <td>1</td>\n",
       "    </tr>\n",
       "    <tr>\n",
       "      <th>4</th>\n",
       "      <td>From: jcm@head-cfa.harvard.edu (Jonathan McDow...</td>\n",
       "      <td>14</td>\n",
       "    </tr>\n",
       "  </tbody>\n",
       "</table>\n",
       "</div>"
      ],
      "text/plain": [
       "                                                Text  target\n",
       "0  From: lerxst@wam.umd.edu (where's my thing)\\nS...       7\n",
       "1  From: guykuo@carson.u.washington.edu (Guy Kuo)...       4\n",
       "2  From: twillis@ec.ecn.purdue.edu (Thomas E Will...       4\n",
       "3  From: jgreen@amber (Joe Green)\\nSubject: Re: W...       1\n",
       "4  From: jcm@head-cfa.harvard.edu (Jonathan McDow...      14"
      ]
     },
     "metadata": {
      "tags": []
     },
     "execution_count": 105
    }
   ]
  },
  {
   "cell_type": "code",
   "metadata": {
    "id": "E0PVKLOsL_mS",
    "colab_type": "code",
    "colab": {}
   },
   "source": [
    ""
   ],
   "execution_count": 0,
   "outputs": []
  },
  {
   "cell_type": "code",
   "metadata": {
    "id": "28Npi_a7DezD",
    "colab_type": "code",
    "colab": {}
   },
   "source": [
    "\n",
    "\n",
    "\n",
    "def countWordAndCreateDataset(datas, tags, nwords=100000):\n",
    "  dataset = [ ]\n",
    "  dataset_tag = []\n",
    "  word_counter = 0\n",
    "  while word_counter <= nwords:\n",
    "    for target in range(0, len(newsgroups_train.target_names) -1):\n",
    "      data = df[df['target'] == target]\n",
    "      randindex = randrange(0, len(data))\n",
    "      dataset.append(datas[randindex])\n",
    "      dataset_tag.append(tags[target])\n",
    "      word_counter += len(datas[randindex].split(' '))\n",
    "  print(f\"Return a dataset of that contains {word_counter} words\")\n",
    "  return (dataset, dataset_tag)\n",
    "  \n",
    "  "
   ],
   "execution_count": 0,
   "outputs": []
  },
  {
   "cell_type": "markdown",
   "metadata": {
    "id": "4hqR2G2eK04n",
    "colab_type": "text"
   },
   "source": [
    "This selection function must create a balanced dataset."
   ]
  },
  {
   "cell_type": "code",
   "metadata": {
    "id": "EZN5Km1bVX56",
    "colab_type": "code",
    "outputId": "e83b7ad5-1f43-4869-b147-de26f068d242",
    "colab": {
     "base_uri": "https://localhost:8080/",
     "height": 136
    }
   },
   "source": [
    "sizes = [10000000, 5000000, 1000000, 600000, 500000, 10000, 5000]\n",
    "dataset_dict = {}\n",
    "for size in sizes:\n",
    "  dataset_target_tuple = countWordAndCreateDataset(datas=newsgroups_train.data, tags=newsgroups_train.target, nwords=size)\n",
    "  dataset_dict[size] = dataset_target_tuple"
   ],
   "execution_count": 107,
   "outputs": [
    {
     "output_type": "stream",
     "text": [
      "Return a dataset of that contains 10001390 words\n",
      "Return a dataset of that contains 5003730 words\n",
      "Return a dataset of that contains 1005048 words\n",
      "Return a dataset of that contains 602152 words\n",
      "Return a dataset of that contains 503654 words\n",
      "Return a dataset of that contains 12423 words\n",
      "Return a dataset of that contains 6345 words\n"
     ],
     "name": "stdout"
    }
   ]
  },
  {
   "cell_type": "code",
   "metadata": {
    "id": "g8FNGcfrSBnf",
    "colab_type": "code",
    "colab": {
     "base_uri": "https://localhost:8080/",
     "height": 34
    },
    "outputId": "03234f61-7405-44f9-9f21-b02be47fd4a4"
   },
   "source": [
    "len(dataset_dict[1000000][0])"
   ],
   "execution_count": 108,
   "outputs": [
    {
     "output_type": "execute_result",
     "data": {
      "text/plain": [
       "3553"
      ]
     },
     "metadata": {
      "tags": []
     },
     "execution_count": 108
    }
   ]
  },
  {
   "cell_type": "markdown",
   "metadata": {
    "id": "aQu8QY0zTBzu",
    "colab_type": "text"
   },
   "source": [
    "We have now 7 datasets of differents size that are well balanced. We are going to look at wich number of words in the corpus the dataset perform well."
   ]
  },
  {
   "cell_type": "markdown",
   "metadata": {
    "id": "Cm18HUnXSdpv",
    "colab_type": "text"
   },
   "source": [
    "contains our 7 datasets of differents size. Let's  clean those dataset and train TFIDF+ML_modele on them."
   ]
  },
  {
   "cell_type": "code",
   "metadata": {
    "id": "oTllFF35U0Lo",
    "colab_type": "code",
    "colab": {}
   },
   "source": [
    "from sklearn.metrics import precision_recall_fscore_support\n",
    "\n",
    "# We need to train different model for each dataset \n",
    "modeles_dict = {}\n",
    "for key in dataset_dict:\n",
    "  modeles_dict[key] =  {\"naives\":naives_clf, \"logistic regression\": log_clf, \"SGD_classifier\":sgd_clf, \"Linear SVC\":svc_clf} \n",
    "\n"
   ],
   "execution_count": 0,
   "outputs": []
  },
  {
   "cell_type": "code",
   "metadata": {
    "id": "3W3ZLgAZOl4-",
    "colab_type": "code",
    "colab": {
     "base_uri": "https://localhost:8080/",
     "height": 442
    },
    "outputId": "b10af5b1-12d5-48fb-d063-3a6ac84c85be"
   },
   "source": [
    "\n",
    "for dataset_key in dataset_dict:\n",
    "  print(f\"Dataset of size : {dataset_key} \\n\\n\")\n",
    "  modeles = modeles_dict[dataset_key]\n",
    "  for key in modeles:\n",
    "    modeles[key].fit(dataset_dict[dataset_key][0], dataset_dict[dataset_key][1])\n",
    "    predicted = modeles[key].predict(newsgroups_test.data)\n",
    "    score = precision_recall_fscore_support(newsgroups_test.target, predicted, average='weighted')\n",
    "    print(f\"Modele : {key} score : {score} \\n\\n\\n\")"
   ],
   "execution_count": 0,
   "outputs": [
    {
     "output_type": "stream",
     "text": [
      "Dataset of size : 10000000 \n",
      "\n",
      "\n"
     ],
     "name": "stdout"
    },
    {
     "output_type": "stream",
     "text": [
      "/usr/local/lib/python3.6/dist-packages/sklearn/metrics/classification.py:1437: UndefinedMetricWarning: Precision and F-score are ill-defined and being set to 0.0 in labels with no predicted samples.\n",
      "  'precision', 'predicted', average, warn_for)\n"
     ],
     "name": "stderr"
    },
    {
     "output_type": "stream",
     "text": [
      "Modele : naives score : (0.009995144526211973, 0.05111524163568773, 0.005239470962763271, None) \n",
      "\n",
      "\n",
      "\n"
     ],
     "name": "stdout"
    },
    {
     "output_type": "stream",
     "text": [
      "/usr/local/lib/python3.6/dist-packages/sklearn/linear_model/logistic.py:432: FutureWarning: Default solver will be changed to 'lbfgs' in 0.22. Specify a solver to silence this warning.\n",
      "  FutureWarning)\n",
      "/usr/local/lib/python3.6/dist-packages/sklearn/linear_model/logistic.py:469: FutureWarning: Default multi_class will be changed to 'auto' in 0.22. Specify the multi_class option to silence this warning.\n",
      "  \"this warning.\", FutureWarning)\n",
      "/usr/local/lib/python3.6/dist-packages/sklearn/metrics/classification.py:1437: UndefinedMetricWarning: Precision and F-score are ill-defined and being set to 0.0 in labels with no predicted samples.\n",
      "  'precision', 'predicted', average, warn_for)\n"
     ],
     "name": "stderr"
    },
    {
     "output_type": "stream",
     "text": [
      "Modele : logistic regression score : (0.002615893663397551, 0.05111524163568773, 0.004977078409140055, None) \n",
      "\n",
      "\n",
      "\n"
     ],
     "name": "stdout"
    },
    {
     "output_type": "stream",
     "text": [
      "/usr/local/lib/python3.6/dist-packages/sklearn/metrics/classification.py:1437: UndefinedMetricWarning: Precision and F-score are ill-defined and being set to 0.0 in labels with no predicted samples.\n",
      "  'precision', 'predicted', average, warn_for)\n"
     ],
     "name": "stderr"
    },
    {
     "output_type": "stream",
     "text": [
      "Modele : SGD_classifier score : (0.03543332023909441, 0.05616038236856081, 0.029820277692959234, None) \n",
      "\n",
      "\n",
      "\n"
     ],
     "name": "stdout"
    }
   ]
  },
  {
   "cell_type": "markdown",
   "metadata": {
    "id": "OHUCsAn1eIYM",
    "colab_type": "text"
   },
   "source": [
    "do the same operation with Doc2Vec "
   ]
  },
  {
   "cell_type": "code",
   "metadata": {
    "id": "2NsSKZS6eIAz",
    "colab_type": "code",
    "colab": {
     "base_uri": "https://localhost:8080/",
     "height": 136
    },
    "outputId": "3ae516e8-5238-41dd-ea99-8161d993c368"
   },
   "source": [
    "def prepareDataset(dataset):\n",
    "  for i in tqdm(range(0, len(dataset)-1)):\n",
    "    dataset[i] = prepareText(dataset[i])\n",
    "    \n",
    "for key in dataset_dict:\n",
    "  prepareDataset(dataset=dataset_dict[key][0])"
   ],
   "execution_count": 95,
   "outputs": [
    {
     "output_type": "stream",
     "text": [
      "100%|██████████| 11312/11312 [13:07<00:00, 14.36it/s]\n",
      "100%|██████████| 11312/11312 [13:04<00:00, 14.43it/s]\n",
      "100%|██████████| 3286/3286 [03:40<00:00,  4.08it/s]\n",
      "100%|██████████| 1949/1949 [02:12<00:00, 14.68it/s]\n",
      "100%|██████████| 1584/1584 [01:49<00:00, 14.43it/s]\n",
      "100%|██████████| 35/35 [00:02<00:00, 15.08it/s]\n",
      "100%|██████████| 17/17 [00:01<00:00, 14.42it/s]\n"
     ],
     "name": "stderr"
    }
   ]
  },
  {
   "cell_type": "markdown",
   "metadata": {
    "id": "HLUYwAYf5vEA",
    "colab_type": "text"
   },
   "source": [
    "# Doc2Vec similarity\n",
    "\n",
    "We are going to use Doc2Vec similarity method to find similar document. \n",
    "\n",
    "* We can use a a word embedding to find similar Document Vector to a word.\n",
    "\n",
    "exp : word = Sport \n",
    "    - If we ask all the Document similar to \"Sport\" normaly we should get all the Document vector close to \"Sport\"."
   ]
  }
 ]
}